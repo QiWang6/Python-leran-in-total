{
 "cells": [
  {
   "cell_type": "code",
   "execution_count": 15,
   "id": "9bb5810a",
   "metadata": {},
   "outputs": [],
   "source": [
    "import numpy as np"
   ]
  },
  {
   "cell_type": "code",
   "execution_count": 16,
   "id": "28db08ad",
   "metadata": {},
   "outputs": [
    {
     "data": {
      "text/plain": [
       "array([ 5., 17.,  3., 26., 31.,  0.,  0.])"
      ]
     },
     "execution_count": 16,
     "metadata": {},
     "output_type": "execute_result"
    }
   ],
   "source": [
    "arr1 = np.array([5, 17, 3, 26, 31])\n",
    "arr2 = np.zeros(2)\n",
    "np.concatenate([arr1, arr2])"
   ]
  },
  {
   "cell_type": "code",
   "execution_count": 17,
   "id": "039a6ee8",
   "metadata": {},
   "outputs": [
    {
     "data": {
      "text/plain": [
       "array([ 5., 17.,  3., 26., 31.,  0.,  0.,  1.,  1.,  1.])"
      ]
     },
     "execution_count": 17,
     "metadata": {},
     "output_type": "execute_result"
    }
   ],
   "source": [
    "arr3 = np.ones(3)\n",
    "np.concatenate([arr1, arr2, arr3])"
   ]
  },
  {
   "cell_type": "code",
   "execution_count": 18,
   "id": "24e34bb8",
   "metadata": {},
   "outputs": [
    {
     "name": "stdout",
     "output_type": "stream",
     "text": [
      "[3, 5, 17, 26, 31]\n"
     ]
    }
   ],
   "source": [
    "list1 = [5, 17, 3, 26, 31]\n",
    "sorted_list1 = sorted(list1)\n",
    "print(sorted_list1)"
   ]
  },
  {
   "cell_type": "code",
   "execution_count": 19,
   "id": "081ed5b6",
   "metadata": {},
   "outputs": [
    {
     "name": "stdout",
     "output_type": "stream",
     "text": [
      "[3, 5, 17, 26, 31]\n"
     ]
    }
   ],
   "source": [
    "list1.sort()\n",
    "print(list1)"
   ]
  },
  {
   "cell_type": "code",
   "execution_count": 20,
   "id": "9098b9fe",
   "metadata": {},
   "outputs": [
    {
     "name": "stdout",
     "output_type": "stream",
     "text": [
      "[ 3  5 17 26 31]\n",
      "[ 5 17  3 26 31]\n"
     ]
    }
   ],
   "source": [
    "print(np.sort(arr1))\n",
    "print(arr1)"
   ]
  },
  {
   "cell_type": "code",
   "execution_count": 21,
   "id": "93c9cdaa",
   "metadata": {},
   "outputs": [
    {
     "name": "stdout",
     "output_type": "stream",
     "text": [
      "None\n",
      "[ 3  5 17 26 31]\n"
     ]
    }
   ],
   "source": [
    "print(arr1.sort())\n",
    "print(arr1)"
   ]
  },
  {
   "cell_type": "code",
   "execution_count": 22,
   "id": "2fa57b42",
   "metadata": {},
   "outputs": [
    {
     "data": {
      "text/plain": [
       "np.int64(3)"
      ]
     },
     "execution_count": 22,
     "metadata": {},
     "output_type": "execute_result"
    }
   ],
   "source": [
    "arr1[0]"
   ]
  },
  {
   "cell_type": "code",
   "execution_count": 32,
   "id": "f1e16b21-2db1-475b-a187-cac857c84b40",
   "metadata": {},
   "outputs": [
    {
     "data": {
      "text/plain": [
       "array([ 3,  5, 17, 26, 31])"
      ]
     },
     "execution_count": 32,
     "metadata": {},
     "output_type": "execute_result"
    }
   ],
   "source": [
    "arr1"
   ]
  },
  {
   "cell_type": "code",
   "execution_count": 36,
   "id": "41ebb429",
   "metadata": {},
   "outputs": [
    {
     "data": {
      "text/plain": [
       "np.int64(26)"
      ]
     },
     "execution_count": 36,
     "metadata": {},
     "output_type": "execute_result"
    }
   ],
   "source": [
    "arr1[-2]"
   ]
  },
  {
   "cell_type": "code",
   "execution_count": 24,
   "id": "c4551b7a",
   "metadata": {},
   "outputs": [
    {
     "data": {
      "text/plain": [
       "array([ 5, 17, 26])"
      ]
     },
     "execution_count": 24,
     "metadata": {},
     "output_type": "execute_result"
    }
   ],
   "source": [
    "arr1[1:4]"
   ]
  },
  {
   "cell_type": "code",
   "execution_count": 37,
   "id": "2c3ae36a",
   "metadata": {},
   "outputs": [
    {
     "name": "stdout",
     "output_type": "stream",
     "text": [
      "[ 7.  8.  9. 10. 11.]\n",
      "[5. 6. 7. 8. 9.]\n",
      "[ 6.  7.  8.  9. 10.]\n",
      "[ 6.  7.  8.  9. 10.]\n"
     ]
    }
   ],
   "source": [
    "arr4 = np.array([6, 7, 8, 9, 10])\n",
    "arr5 = np.ones(5)\n",
    "print(arr4 + arr5)\n",
    "print(arr4 - arr5)\n",
    "print(arr4 * arr5)\n",
    "print(arr4 / arr5)"
   ]
  },
  {
   "cell_type": "code",
   "execution_count": 26,
   "id": "240d033d",
   "metadata": {},
   "outputs": [
    {
     "data": {
      "text/plain": [
       "array([18, 21, 24, 27, 30])"
      ]
     },
     "execution_count": 26,
     "metadata": {},
     "output_type": "execute_result"
    }
   ],
   "source": [
    "arr4 * 3"
   ]
  },
  {
   "cell_type": "code",
   "execution_count": 27,
   "id": "4ac49be2",
   "metadata": {},
   "outputs": [
    {
     "name": "stdout",
     "output_type": "stream",
     "text": [
      "10\n",
      "6\n",
      "40\n",
      "8.0\n"
     ]
    }
   ],
   "source": [
    "print(arr4.max())\n",
    "print(arr4.min())\n",
    "print(arr4.sum())\n",
    "print(arr4.mean())"
   ]
  },
  {
   "cell_type": "code",
   "execution_count": 28,
   "id": "e95c8e27",
   "metadata": {},
   "outputs": [
    {
     "name": "stdout",
     "output_type": "stream",
     "text": [
      "[False False  True  True  True  True]\n",
      "[-22   3  65   9  11   7]\n"
     ]
    }
   ],
   "source": [
    "arr = np.array([-22, 3, 65, 9, 11, 7])\n",
    "print(arr > 6)\n",
    "print(arr)"
   ]
  },
  {
   "cell_type": "code",
   "execution_count": null,
   "id": "0ffb4ef9",
   "metadata": {},
   "outputs": [],
   "source": []
  }
 ],
 "metadata": {
  "kernelspec": {
   "display_name": "Python 3 (ipykernel)",
   "language": "python",
   "name": "python3"
  },
  "language_info": {
   "codemirror_mode": {
    "name": "ipython",
    "version": 3
   },
   "file_extension": ".py",
   "mimetype": "text/x-python",
   "name": "python",
   "nbconvert_exporter": "python",
   "pygments_lexer": "ipython3",
   "version": "3.12.2"
  }
 },
 "nbformat": 4,
 "nbformat_minor": 5
}
