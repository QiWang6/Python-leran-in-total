{
 "cells": [
  {
   "cell_type": "markdown",
   "id": "a3599e8a-c2cb-4907-83b1-e42ac488b055",
   "metadata": {},
   "source": [
    "## 这是一个标题\n",
    "**加粗这些文字**\n",
    "\n",
    "[This is a link](https://chatgpt.com/c/6725fa7c-8988-8003-adfb-20f5de41016d)\n",
    "\n",
    "这是一个数学公式（单独占一行）: $$x^2 + y^4 = 1$$\n",
    "\n",
    "这是另一个公式（同一行）: $y = ax + b$  \n",
    "加 $x + y$  \n",
    "减 $x - y$  \n",
    "乘 $x \\times y$  \n",
    "除 $x \\div y$\n",
    "$$x^3$$ \n",
    "$$H_2O$$\n",
    "$$S_{input}$$\n",
    "$$\\sum(x^2 + y^2)$$\n",
    "$$\\sqrt[3]x$$\n",
    "$$\\sqrt[3]{a^2}$$\n",
    "$$\\sqrt[3]a^2m^2$$\n",
    "$$\\sqrt[3]{a^2m^2}$$\n",
    "$$\\frac{x+y}{x-y}$$"
   ]
  },
  {
   "cell_type": "markdown",
   "id": "7cb01031-739a-48c2-b660-29571d2d6762",
   "metadata": {},
   "source": [
    "# 1**fett**\n",
    "## 2*grtg*\n",
    "### 3~~wefkheruifi~~\n",
    "#### 4\n",
    "##### 5\n",
    "###### 6\n",
    "- 我是列表第一项\n",
    "- 我是列表第二项\n",
    "- 我是列表第三项\n",
    "1. first\n",
    "2. second\n",
    "3. third\n",
    "![Los Angeles](https://upload.wikimedia.org/wikipedia/commons/thumb/6/69/Los_Angeles_with_Mount_Baldy.jpg/1920px-Los_Angeles_with_Mount_Baldy.jpg)"
   ]
  },
  {
   "cell_type": "code",
   "execution_count": 1,
   "id": "0146e6c5-0755-49e5-ba5b-046e58b0f4de",
   "metadata": {},
   "outputs": [],
   "source": [
    "import numpy as np"
   ]
  },
  {
   "cell_type": "code",
   "execution_count": 2,
   "id": "0b05082c-2589-4a7f-9be1-89b6db97fa28",
   "metadata": {},
   "outputs": [
    {
     "data": {
      "text/plain": [
       "array([1, 2, 3])"
      ]
     },
     "execution_count": 2,
     "metadata": {},
     "output_type": "execute_result"
    }
   ],
   "source": [
    "arr1 = np.array([1,2,3])\n",
    "arr1"
   ]
  },
  {
   "cell_type": "code",
   "execution_count": 3,
   "id": "77b78141-1f83-4873-a7d2-5d69dfd788d1",
   "metadata": {},
   "outputs": [
    {
     "data": {
      "text/plain": [
       "array([[1, 2, 3],\n",
       "       [4, 5, 6]])"
      ]
     },
     "execution_count": 3,
     "metadata": {},
     "output_type": "execute_result"
    }
   ],
   "source": [
    "arr2 = np.array([[1,2,3], [4,5,6]])\n",
    "arr2"
   ]
  },
  {
   "cell_type": "code",
   "execution_count": 4,
   "id": "1e4dea33-5e1c-48be-bc21-cca43e325846",
   "metadata": {},
   "outputs": [
    {
     "data": {
      "text/plain": [
       "array(['Hello', 'True', '3.14'], dtype='<U32')"
      ]
     },
     "execution_count": 4,
     "metadata": {},
     "output_type": "execute_result"
    }
   ],
   "source": [
    "np.array([\"Hello\", True, 3.14])"
   ]
  },
  {
   "cell_type": "markdown",
   "id": "49c1e70b-b70f-4e19-8180-88a57c33e9bf",
   "metadata": {},
   "source": [
    "#### ndim可以传出数组的维度"
   ]
  },
  {
   "cell_type": "code",
   "execution_count": 7,
   "id": "ef34bd4b-d44e-4f6d-9303-86d32cc626cb",
   "metadata": {},
   "outputs": [
    {
     "name": "stdout",
     "output_type": "stream",
     "text": [
      "1\n",
      "2\n"
     ]
    }
   ],
   "source": [
    "print(arr1.ndim)\n",
    "print(arr2.ndim)"
   ]
  },
  {
   "cell_type": "markdown",
   "id": "f7a1057f-eabe-4698-9da3-b40603a21b85",
   "metadata": {},
   "source": [
    "#### shape返回各个维度的元素的个数"
   ]
  },
  {
   "cell_type": "code",
   "execution_count": 8,
   "id": "98b564b2-3376-4e85-935d-49be94824203",
   "metadata": {},
   "outputs": [
    {
     "name": "stdout",
     "output_type": "stream",
     "text": [
      "(2, 3)\n",
      "(2, 3)\n"
     ]
    }
   ],
   "source": [
    "print(arr2.shape)\n",
    "print(arr2.shape)"
   ]
  },
  {
   "cell_type": "markdown",
   "id": "8d2ee28a-369c-4e89-b493-71de68a5a65e",
   "metadata": {},
   "source": [
    "#### 创建元素为数字序列的数组\n",
    "##### (起始值，结束值，步长)"
   ]
  },
  {
   "cell_type": "code",
   "execution_count": 11,
   "id": "89397054-b0d6-4e2f-a25b-0b4204d22be7",
   "metadata": {},
   "outputs": [
    {
     "data": {
      "text/plain": [
       "array([5, 7, 9])"
      ]
     },
     "execution_count": 11,
     "metadata": {},
     "output_type": "execute_result"
    }
   ],
   "source": [
    "np.arange(5, 10, 2)"
   ]
  },
  {
   "cell_type": "code",
   "execution_count": null,
   "id": "0f46af80-dd2a-4feb-b9f9-7ec12b7f644e",
   "metadata": {},
   "outputs": [],
   "source": []
  }
 ],
 "metadata": {
  "kernelspec": {
   "display_name": "Python 3 (ipykernel)",
   "language": "python",
   "name": "python3"
  },
  "language_info": {
   "codemirror_mode": {
    "name": "ipython",
    "version": 3
   },
   "file_extension": ".py",
   "mimetype": "text/x-python",
   "name": "python",
   "nbconvert_exporter": "python",
   "pygments_lexer": "ipython3",
   "version": "3.12.2"
  }
 },
 "nbformat": 4,
 "nbformat_minor": 5
}
