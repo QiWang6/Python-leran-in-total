{
 "cells": [
  {
   "cell_type": "markdown",
   "id": "7af71559-c77b-4b9b-9463-436acc1f89b5",
   "metadata": {},
   "source": [
    "# Ksigma CTRA without control-input u"
   ]
  },
  {
   "cell_type": "markdown",
   "id": "5ef42f78-523b-4ccd-9aa8-9216f0e3360c",
   "metadata": {},
   "source": [
    "Hier haben wir einen erweiterten Kalman-Filter (EKF) basierend auf dem CTRA-Modell [1] entwickelt und ihn in der Ksigma-Algorithmus zur Berechnung des PL (Protection Level) angewendet."
   ]
  },
  {
   "cell_type": "markdown",
   "id": "b0b53a5a-f431-4c27-8aac-f96b9f8e2641",
   "metadata": {},
   "source": [
    "## Datenvorverarbeitung"
   ]
  },
  {
   "cell_type": "code",
   "execution_count": 1,
   "id": "d7409e05-b94f-4d4e-9ef0-a91b6143e9d8",
   "metadata": {},
   "outputs": [],
   "source": [
    "%matplotlib widget\n",
    "import numpy as np\n",
    "from sympy import symbols, Matrix, sin, cos, init_printing\n",
    "import sympy as sp\n",
    "import ast\n",
    "import matplotlib.pylab as plt\n",
    "import matplotlib.gridspec as gridspec\n",
    "import pandas as pd\n",
    "from bagpy import bagreader\n",
    "from numpy import array"
   ]
  },
  {
   "cell_type": "code",
   "execution_count": 2,
   "id": "c4e27859-f171-40ba-a0ee-67fee15f5370",
   "metadata": {},
   "outputs": [
    {
     "name": "stdout",
     "output_type": "stream",
     "text": [
      "[INFO]  Data folder ./Klitten/loc_results_2023-11-01-12-53-52_0 already exists. Not creating.\n",
      "[INFO]  Data folder ./Klitten/recordedData_sensors_locpc_2023-11-01-12-53-52_0 already exists. Not creating.\n"
     ]
    }
   ],
   "source": [
    "# import data from recording at Klitten FVZ\n",
    "results_file = \"./Klitten/loc_results_2023-11-01-12-53-52_0.bag\"\n",
    "sensor_file = \"./Klitten/recordedData_sensors_locpc_2023-11-01-12-53-52_0.bag\"\n",
    "\n",
    "result_reader = bagreader(results_file)\n",
    "sensor_reader = bagreader(sensor_file)\n",
    "\n",
    "\n",
    "# Thius function extracts the sensordata into CSV-files\n",
    "map_path = result_reader.message_by_topic(topic=\"/odometry/filtered/map\")\n",
    "# odom_path = result_reader.message_by_topic(topic=\"/odometry/filtered/odom\")\n",
    "# gps_odometry_path  = result_reader.message_by_topic(topic=\"/odometry/gps\")\n",
    "imu_oem = sensor_reader.message_by_topic(topic=\"/localization_pc/can0/decoded/imu\")\n",
    "# speed_oem = sensor_reader.message_by_topic(topic=\"/localization_pc/can0/decoded/speed\")\n",
    "# steeringAngle_oem = sensor_reader.message_by_topic(topic=\"/localization_pc/can0/decoded/steeringAngle\")\n",
    "# gnss_oem = sensor_reader.message_by_topic(topic=\"/localization_pc/can0/decoded/gnss\")\n",
    "# imu_anavs = sensor_reader.message_by_topic(topic=\"/localization_pc/sensor/anavs/imu\")\n",
    "# navsat_anavs = sensor_reader.message_by_topic(topic=\"/localization_pc/sensor/anavs/navsat\")\n",
    "\n",
    "\n",
    "# You can then use Pandas to read the files.\n",
    "df_map_path = pd.read_csv(map_path)  \n",
    "# df_odom_path = pd.read_csv(odom_path)  \n",
    "# df_gps_path = pd.read_csv(gps_odometry_path)\n",
    "# df_speed = pd.read_csv(speed_oem)\n",
    "df_imu = pd.read_csv(imu_oem)\n",
    "\n",
    "# 我写的\n",
    "# df_imu_anavs = pd.read_csv(imu_anavs)\n",
    "# df_navsat_anvas = pd.read_csv(navsat_anavs)"
   ]
  },
  {
   "cell_type": "markdown",
   "id": "344c72f5-6a71-4721-8513-68955fe9707e",
   "metadata": {},
   "source": [
    "Die Zeitdaten von `header.stamp.secs` sollen verschoben werden, sodass sie ab 0 Sekunden beginnen."
   ]
  },
  {
   "cell_type": "code",
   "execution_count": 3,
   "id": "d44ad4a7-faff-4eea-b567-eacb33c299cd",
   "metadata": {},
   "outputs": [],
   "source": [
    "df_map_path['header.stamp.secs'] = df_map_path['header.stamp.secs'] - df_map_path['header.stamp.secs'].iloc[0]\n",
    "df_imu['header.stamp.secs'] = df_imu['header.stamp.secs'] - df_imu['header.stamp.secs'].iloc[0]"
   ]
  },
  {
   "cell_type": "markdown",
   "id": "8eaae507-2794-4f14-af43-3ff6fab47684",
   "metadata": {},
   "source": [
    "Die Anzeigeformatierung für DataFrame einstellen"
   ]
  },
  {
   "cell_type": "code",
   "execution_count": 4,
   "id": "e7228a6e-78be-48c4-ab4a-61a4bd8d64e5",
   "metadata": {},
   "outputs": [],
   "source": [
    "pd.set_option('display.max_rows', None)\n",
    "pd.set_option('display.max_columns', None)\n",
    "# pd.set_option('display.max_colwidth', None)\n",
    "pd.set_option('display.max_colwidth', 20)"
   ]
  },
  {
   "cell_type": "markdown",
   "id": "2326b391-d32d-4b3e-9c1d-fe8d1a386ebb",
   "metadata": {},
   "source": [
    "Eine neue Spalte `secs.nsecs` zwischen `header.stamp.secs` und `header.stamp.nsecs` einfügen, sodass der Zeitstempel in Sekunden mit Dezimalstellen dargestellt wird."
   ]
  },
  {
   "cell_type": "code",
   "execution_count": 5,
   "id": "d57e885a-1ed0-482b-a91e-b3aeb8a15204",
   "metadata": {},
   "outputs": [],
   "source": [
    "# 计算新列\n",
    "df_imu['secs.nsecs'] = df_imu['header.stamp.secs'] + df_imu['header.stamp.nsecs'] * 1e-9\n",
    "df_imu['secs.nsecs'] = df_imu['secs.nsecs'].round(9)\n",
    "# 调整列的位置，将 'secs.nsecs' 放到 'header.stamp.nsecs' 后面\n",
    "columns = df_imu.columns.tolist()\n",
    "index = columns.index('header.stamp.nsecs') + 1  # 获取目标列的索引并加1\n",
    "columns.insert(index, columns.pop(columns.index('secs.nsecs')))  # 移动 secs.nsecs 列\n",
    "\n",
    "# 重新排列列顺序\n",
    "df_imu = df_imu[columns]"
   ]
  },
  {
   "cell_type": "code",
   "execution_count": 6,
   "id": "beda8c9e-5213-412d-a9b1-6f36db60c274",
   "metadata": {},
   "outputs": [],
   "source": [
    "# 计算新列\n",
    "df_map_path['secs.nsecs'] = df_map_path['header.stamp.secs'] + df_map_path['header.stamp.nsecs'] * 1e-9\n",
    "df_map_path['secs.nsecs'] = df_map_path['secs.nsecs'].round(9)\n",
    "# 调整列的位置，将 'secs.nsecs' 放到 'header.stamp.nsecs' 后面\n",
    "columns = df_map_path.columns.tolist()\n",
    "index = columns.index('header.stamp.nsecs') + 1  # 获取目标列的索引并加1\n",
    "columns.insert(index, columns.pop(columns.index('secs.nsecs')))  # 移动 secs.nsecs 列\n",
    "\n",
    "# 重新排列列顺序\n",
    "df_map_path = df_map_path[columns]"
   ]
  },
  {
   "cell_type": "markdown",
   "id": "4c0d2831-2ee0-45e5-9e8e-16d3882f539a",
   "metadata": {},
   "source": [
    "## System Design"
   ]
  },
  {
   "cell_type": "markdown",
   "id": "0a120719-07f2-4042-ba69-1585b7a45385",
   "metadata": {},
   "source": [
    "### Zustand des Modells\n",
    "Das CTRA-Modell (*Constant Turn Rate and Acceleration*) erweitert das CTRV-Modell, indem es die Beschleunigung $a = \\dot{v}$ in den Zustandsraum integriert. Es wird häufig verwendet, um Fahrzeugbewegungen in Szenarien mit gleichmäßiger Beschleunigung und Drehbewegung zu modellieren.\n",
    "\n",
    "Der Zustandsvektor wird definiert als:\n",
    "\n",
    "$$\n",
    "\\mathbf{X}_{CTRA} =\n",
    "\\begin{bmatrix}\n",
    "x & y & \\vartheta & v & a & \\omega\n",
    "\\end{bmatrix}^\\mathsf{T}\n",
    "$$\n",
    "\n",
    "- $(x, y)$: Position des Fahrzeugs im globalen Koordinatensystem,\n",
    "- $\\theta$: Orientierung (Fahrtrichtung),\n",
    "- $v$: Geschwindigkeit,\n",
    "- $a$: Lineare Beschleunigung,\n",
    "- $\\omega$: Winkelgeschwindigkeit (Drehrate).\n",
    "\n",
    "## Zustandsübergangsgleichung\n",
    "\n",
    "Die Zustandsaktualisierung erfolgt wie folgt:\n",
    "\n",
    "$$\n",
    "\\mathbf{X}_{k+1} =\n",
    "\\mathbf{X}_k +\n",
    "\\begin{bmatrix}\n",
    "g_x(\\mathbf{x}_k, T_k) \\\\\n",
    "g_y(\\mathbf{x}_k, T_k) \\\\\n",
    "\\omega_k T_k \\\\\n",
    "a_k T_k \\\\\n",
    "0 \\\\\n",
    "0\n",
    "\\end{bmatrix}\n",
    "$$\n",
    "\n",
    "### Positionsaktualisierungsfunktionen\n",
    "\n",
    "Die Funktionen $g_x$ und $g_y$ werden wie folgt berechnet:\n",
    "\n",
    "$$\n",
    "g_x = \\frac{a \\left[\\cos(\\vartheta_k + \\omega T_k) - \\cos(\\vartheta_k)\\right]}{\\omega^2} + \\frac{\\left(v_k + a T_k\\right) \\sin(\\vartheta_k + \\omega T_k) - v_k \\sin(\\vartheta_k)}{\\omega}\n",
    "$$\n",
    "\n",
    "$$\n",
    "g_y = \\frac{a \\left[\\sin(\\vartheta_k + \\omega T_k) - \\sin(\\vartheta_k)\\right]}{\\omega^2} - \\frac{\\left(v_k + a T_k\\right) \\cos(\\vartheta_k + \\omega T_k) - v_k \\cos(\\vartheta_k)}{\\omega}\n",
    "$$\n",
    "\n",
    "### Erklärung\n",
    "\n",
    "1. Das Modell kombiniert die Winkelgeschwindigkeit $\\omega$ und die Beschleunigung $a$, um die Dynamik eines Fahrzeugs insbesondere in Kurven präzise zu beschreiben.\n",
    "2. Die Funktionen $g_x$ und $g_y$ berücksichtigen die nichtlinearen Effekte, die durch das Zusammenspiel von linearer Beschleunigung und Winkelgeschwindigkeit entstehen.\n"
   ]
  },
  {
   "cell_type": "markdown",
   "id": "be763168-a725-472e-9b1a-c422eb0b7b9d",
   "metadata": {},
   "source": [
    "#### Die für die Zustansmatrix (X) erforderlichen Daten aus den Sensordaten extrahieren."
   ]
  },
  {
   "cell_type": "code",
   "execution_count": 9,
   "id": "b7ddb579-6cb0-4038-8e14-16186b125516",
   "metadata": {},
   "outputs": [],
   "source": [
    "# z, cov_z = func_z(k, dt_step)   \n",
    "\n",
    "def func_z(k, dt_step):\n",
    "    t = k * dt_step\n",
    "\n",
    "    # 从 df_map_path['secs.nsecs'] 中找到与 t 值最接近的值的 index\n",
    "    idx1                   = (df_map_path['secs.nsecs'] - t).abs().idxmin()\n",
    "    \n",
    "    # 获取该 index 对应的测量值\n",
    "    x                      = df_map_path.loc[idx1, 'pose.pose.position.x']\n",
    "    y                      = df_map_path.loc[idx1, 'pose.pose.position.y']\n",
    "    theta                  = df_map_path.loc[idx1, 'pose.pose.orientation.z']\n",
    "    v                      = df_map_path.loc[idx1, 'twist.twist.linear.x']\n",
    "\n",
    "    # 获取该 index 对应的测量值的协方差\n",
    "    cov_pose_str           = df_map_path.loc[idx1, 'pose.covariance']\n",
    "    cov_pose_parsed_matrix = ast.literal_eval(cov_pose_str)\n",
    "    cov_pose_matrix        = np.array(cov_pose_parsed_matrix).reshape(6, 6)\n",
    "    cov_pose               = cov_pose_matrix[0:3, 0:3]  # cov_x, cov_y, cov_xy und cov_theta sind drinnen \n",
    "\n",
    "    cov_v_str              = df_map_path.loc[idx1, 'twist.covariance']\n",
    "    cov_v_parsed_matrix    = ast.literal_eval(cov_v_str)\n",
    "    cov_v                  = cov_v_parsed_matrix[0]\n",
    "\n",
    "    # 从 df_imu['secs.nsecs'] 中找到与 t 值最接近的 index\n",
    "    idx2                   = (df_imu['secs.nsecs'] - t).abs().idxmin()\n",
    "\n",
    "    # 获取该 index 对应的测量值及其协方差\n",
    "    a                      = df_imu.loc[idx2, 'linear_acceleration.x']\n",
    "    omega                  = df_imu.loc[idx2, 'angular_velocity.z']\n",
    "    cov_a                  = df_imu.loc[idx2, 'linear_acceleration_covariance_0']\n",
    "    cov_omega              = df_imu.loc[idx2, 'angular_velocity_covariance_8']\n",
    "\n",
    "    # 构建测量矩阵 z 及其方差矩阵 cov_z\n",
    "    z                      = Matrix([x, y, theta, v, a, omega])\n",
    "    cov_z                  = np.zeros((6, 6))  # 创建5x5的零矩阵\n",
    "    cov_z[:3, :3]          = cov_pose\n",
    "    cov_z[3, 3]            = cov_v\n",
    "    cov_z[4, 4]            = cov_a\n",
    "    cov_z[5, 5]            = cov_omega\n",
    "\n",
    "    return z, cov_z\n",
    "    \n",
    "# k = 10000\n",
    "# dt_step = 0.1\n",
    "# z, cov_z = func_z(k, dt_step)   "
   ]
  },
  {
   "cell_type": "code",
   "execution_count": 48,
   "id": "161b6841-2570-4050-8359-6c36a46f6d1d",
   "metadata": {},
   "outputs": [],
   "source": [
    "# Test\n",
    "k = 600\n",
    "dt_step = 0.1\n",
    "z, cov_z = func_z(k, dt_step)"
   ]
  },
  {
   "cell_type": "code",
   "execution_count": 49,
   "id": "f1bf87b0-ae65-423e-b6d9-2072811255ba",
   "metadata": {},
   "outputs": [
    {
     "data": {
      "text/latex": [
       "$\\displaystyle \\left[\\begin{matrix}61.9647821808584\\\\-9.86474053466978\\\\-0.118685464204131\\\\2.34803237658143\\\\1.53125\\\\0.0017453292519943\\end{matrix}\\right]$"
      ],
      "text/plain": [
       "Matrix([\n",
       "[  61.9647821808584],\n",
       "[ -9.86474053466978],\n",
       "[-0.118685464204131],\n",
       "[  2.34803237658143],\n",
       "[           1.53125],\n",
       "[0.0017453292519943]])"
      ]
     },
     "execution_count": 49,
     "metadata": {},
     "output_type": "execute_result"
    }
   ],
   "source": [
    "z"
   ]
  },
  {
   "cell_type": "code",
   "execution_count": 50,
   "id": "fc699a73-7260-47db-9de2-e378e941fe56",
   "metadata": {},
   "outputs": [
    {
     "data": {
      "text/plain": [
       "array([[1.57787388e-03, 1.30951857e-05, 0.00000000e+00, 0.00000000e+00,\n",
       "        0.00000000e+00, 0.00000000e+00],\n",
       "       [1.30951857e-05, 1.62936466e-03, 0.00000000e+00, 0.00000000e+00,\n",
       "        0.00000000e+00, 0.00000000e+00],\n",
       "       [0.00000000e+00, 0.00000000e+00, 4.86829724e-07, 0.00000000e+00,\n",
       "        0.00000000e+00, 0.00000000e+00],\n",
       "       [0.00000000e+00, 0.00000000e+00, 0.00000000e+00, 3.64802367e-03,\n",
       "        0.00000000e+00, 0.00000000e+00],\n",
       "       [0.00000000e+00, 0.00000000e+00, 0.00000000e+00, 0.00000000e+00,\n",
       "        2.82000000e-04, 0.00000000e+00],\n",
       "       [0.00000000e+00, 0.00000000e+00, 0.00000000e+00, 0.00000000e+00,\n",
       "        0.00000000e+00, 8.93000000e-04]])"
      ]
     },
     "execution_count": 50,
     "metadata": {},
     "output_type": "execute_result"
    }
   ],
   "source": [
    "cov_z"
   ]
  },
  {
   "cell_type": "markdown",
   "id": "da03e952-4a43-4caf-b17e-e865f96bb9d2",
   "metadata": {},
   "source": [
    "### Prädiktion"
   ]
  },
  {
   "cell_type": "code",
   "execution_count": null,
   "id": "174b075a-f66d-46c1-ab22-a835d87bed52",
   "metadata": {
    "scrolled": true
   },
   "outputs": [],
   "source": [
    "df_map_path.head()"
   ]
  },
  {
   "cell_type": "markdown",
   "id": "cd0bea9f-2243-4775-8ba9-878675551a1e",
   "metadata": {},
   "source": [
    "### Definition von Φₛ\n",
    "\n",
    "Φₛ ist die Intensität des Sensorsrauschens pro Zeiteinheit, also die Leistungsdichtespektrum. Es spiegelt die statistischen Eigenschaften des Rauschens wider und hängt mit dem Abtastprozess des Sensors zusammen, nicht jedoch mit der Aktualisierungsrate des Filters.\n",
    "\n",
    "Formel:\n",
    "$$\n",
    "\\Phi_s = \\frac{\\sigma^2}{\\Delta t_s}\n",
    "$$\n",
    "\n",
    "Wobei:\n",
    "- **σ²**: Die Varianz der gemessenen Sensordaten.\n",
    "- **Δtₛ**: Der Abtastintervall des Sensors.\n",
    "\n",
    "Daher ist es bei der Berechnung von **Φₛ** notwendig, das Abtastintervall des Sensors **Δtₛ** zu verwenden.\n"
   ]
  },
  {
   "cell_type": "code",
   "execution_count": 36,
   "id": "123980c6-79d7-4b32-a717-feb7576fc1d1",
   "metadata": {},
   "outputs": [],
   "source": [
    "# PSD = power spectral density\n",
    "def PSD_a():\n",
    "    Varianz_a = np.var(df_imu['linear_acceleration.x'])\n",
    "    f_a = 50  # Hz\n",
    "    Phi_a =  Varianz_a / (1 / f_a)\n",
    "    print(\"Varianz_a:\", Varianz_a)\n",
    "    print(\"Phi_a:\",Phi_a)    \n",
    "    return Phi_a\n",
    "\n",
    "# Der mit dieser Methode berechnete Phi_a ist zu groß.\n",
    "# Try discret white noise instead\n",
    "# PSD_a() "
   ]
  },
  {
   "cell_type": "code",
   "execution_count": 37,
   "id": "6a5a95b7-ddbc-427e-b715-ddf372c697fd",
   "metadata": {},
   "outputs": [],
   "source": [
    "# PSD = power spectral density\n",
    "def PSD_omega():\n",
    "    Varianz_omega = np.var(df_imu[\"angular_velocity.z\"])\n",
    "    f_omega = 50  # Hz\n",
    "    Phi_omega =  Varianz_omega / (1 / f_omega)\n",
    "    print(\"Varianz_omega:\", Varianz_omega)\n",
    "    print(\"Phi_omega:\",Phi_omega)    \n",
    "    return Phi_omega\n",
    "\n",
    "# Der mit dieser Methode berechnete Phi_omega ist zu groß.\n",
    "# PSD_omega() "
   ]
  },
  {
   "cell_type": "code",
   "execution_count": 22,
   "id": "642088d2-69a8-44a0-9c86-040882e6b63f",
   "metadata": {},
   "outputs": [],
   "source": [
    "# v = df_map_path[\"twist.twist.linear.x\"] \n",
    "# v_max = v.abs().max()\n",
    "# v_max"
   ]
  },
  {
   "cell_type": "markdown",
   "id": "9d93f86f-1c84-411d-afde-36383859cc80",
   "metadata": {},
   "source": [
    "Prozessgeräusch Q"
   ]
  },
  {
   "cell_type": "code",
   "execution_count": 45,
   "id": "c2c0f6cb-82ef-4448-bae6-cfcaf4eee526",
   "metadata": {},
   "outputs": [],
   "source": [
    "def Q_evaluated(X, dt, Phi): \n",
    "    x, y, theta, v, a, omega, time = symbols('x y theta v a omega T')\n",
    "    Phi_v, Phi_omega            = symbols('Phi_v Phi_omega')\n",
    "    t                           = symbols('t')\n",
    "    Zustandsmatrix              = Matrix([x, y, theta, v, a, omega])  # Zustandsmatrix\n",
    "    \n",
    "    subs_Q = {x:         float(X[0, 0]), \n",
    "              y:         float(X[1, 0]), \n",
    "              theta:     float(X[2, 0]), \n",
    "              v:         float(X[3, 0]), \n",
    "              omega:     float(X[4, 0]), \n",
    "              time:      float(dt),\n",
    "              Phi_v:     float(Phi[0]),\n",
    "              Phi_omega: float(Phi[1])}\n",
    "    \n",
    "    if subs_Q[omega] != 0:\n",
    "        f_x = Matrix(\n",
    "            [x + a/omega**2 * (cos(theta + omega*time) - cos(theta)) + ((v + a*time) * sin(theta + omega*time) - v*sin(theta))/omega, \n",
    "             y + a/omega**2 * (sin(theta + omega*time) - sin(theta)) - ((v + a*time) * cos(theta + omega*time) - v*cos(theta))/omega,  \n",
    "             theta + omega*time,\n",
    "             v + a*time,\n",
    "             a,\n",
    "             omega])\n",
    "    else:\n",
    "        f_x = Matrix(\n",
    "            [x + (v*time + 0.5*a*time**2) * cos(theta),\n",
    "             y + (v*time + 0.5*a*time**2) * sin(theta),\n",
    "             theta,\n",
    "             v + a*time,\n",
    "             a,\n",
    "             omega])\n",
    "        \n",
    "    F = f_x.jacobian(Zustandsmatrix) \n",
    "    Qc  = Matrix([[0, 0, 0, 0, 0, 0],\n",
    "                  [0, 0, 0, 0, 0, 0],\n",
    "                  [0, 0, 0, 0, 0, 0],\n",
    "                  [0, 0, 0, 0, 0, 0],\n",
    "                  [0, 0, 0, 0, Phi_a, 0],\n",
    "                  [0, 0, 0, 0, 0, Phi_omega]])\n",
    "    Q   = sp.integrate(F * Qc * F.T, (t, 0, time))\n",
    "    \n",
    "    Q_evaluated = np.array(Q.subs(subs_Q)).astype(float)\n",
    "    return Q_evaluated"
   ]
  },
  {
   "cell_type": "code",
   "execution_count": 46,
   "id": "7a3cdebc-ee28-4e70-ae68-15b0c7d97c58",
   "metadata": {},
   "outputs": [],
   "source": [
    "# Test für Q_evaluated\n",
    "# k = 1200\n",
    "# dt_step = 0.1\n",
    "# z, cov_z = func_z(k, dt_step)\n",
    "# Phi_a = PSD_a()\n",
    "# Phi_omega = PSD_omega()\n",
    "# Phi = np.array([Phi_a, Phi_omega])  # Phi_v, Phi_omega\n",
    "# Q_evaluated(X=z, dt=dt_step, Phi=Phi)"
   ]
  },
  {
   "cell_type": "code",
   "execution_count": 51,
   "id": "ff912b8b-19a3-4cbb-a14a-36e9f7b41cf5",
   "metadata": {},
   "outputs": [
    {
     "data": {
      "text/plain": [
       "array([[4.34027778e-04, 2.60416667e-03, 1.04166667e-02, 2.08333333e-02,\n",
       "        1.00000000e-01, 1.00000000e-01],\n",
       "       [2.60416667e-03, 1.56250000e-02, 6.25000000e-02, 1.25000000e-01,\n",
       "        1.00000000e-01, 1.00000000e-01],\n",
       "       [1.04166667e-02, 6.25000000e-02, 2.50000000e-01, 5.00000000e-01,\n",
       "        1.00000000e-01, 1.00000000e-01],\n",
       "       [2.08333333e-02, 1.25000000e-01, 5.00000000e-01, 1.00000000e+00,\n",
       "        1.00000000e-01, 1.00000000e-01],\n",
       "       [1.00000000e-01, 1.00000000e-01, 1.00000000e-01, 1.00000000e-01,\n",
       "        1.00000000e-01, 1.00000000e-01],\n",
       "       [1.00000000e-01, 1.00000000e-01, 1.00000000e-01, 1.00000000e-01,\n",
       "        1.00000000e-01, 1.00000000e-01]])"
      ]
     },
     "execution_count": 51,
     "metadata": {},
     "output_type": "execute_result"
    }
   ],
   "source": [
    "from filterpy.common import Q_discrete_white_noise\n",
    "def Q_dwn_CTRA(dt):\n",
    "    Q = np.ones((6, 6)) * 0.1\n",
    "    Q[0:4, 0:4] = Q_discrete_white_noise(4, dt=dt, var=1)\n",
    "    return Q\n",
    "Q = Q_dwn_CTRA(dt=0.5)\n",
    "Q"
   ]
  },
  {
   "cell_type": "code",
   "execution_count": 57,
   "id": "782dfa09-ed69-4a97-8ae1-129b7a9e52c4",
   "metadata": {},
   "outputs": [],
   "source": [
    "from sympy import symbols, Matrix, sin, cos, init_printing\n",
    "from numpy import array\n",
    "# x, y, theta, v, omega, time = symbols('x y theta v omega t')\n",
    "\n",
    "# Jacobian Matrix berechnen\n",
    "def F_J_evaluated(X, dt): \n",
    "    x, y, theta, v, a, omega, time = symbols('x y theta v a omega t')\n",
    "    subs_FJ = {x:     float(X[0, 0]), \n",
    "               y:     float(X[1, 0]), \n",
    "               theta: float(X[2, 0]), \n",
    "               v:     float(X[3, 0]),\n",
    "               a:     float(X[4, 0]),\n",
    "               omega: float(X[5, 0]), \n",
    "               time:  float(dt)}\n",
    "    if subs_FJ[omega] != 0:\n",
    "        f_x = Matrix(\n",
    "            [x + a/omega**2 * (cos(theta + omega*time) - cos(theta)) + ((v + a*time) * sin(theta + omega*time) - v*sin(theta))/omega, \n",
    "             y + a/omega**2 * (sin(theta + omega*time) - sin(theta)) - ((v + a*time) * cos(theta + omega*time) - v*cos(theta))/omega,  \n",
    "             theta + omega*time,\n",
    "             v + a*time,\n",
    "             a,\n",
    "             omega])\n",
    "    else:\n",
    "        f_x = Matrix(\n",
    "            [x + (v*time + 0.5*a*time**2) * cos(theta),\n",
    "             y + (v*time + 0.5*a*time**2) * sin(theta),\n",
    "             theta,\n",
    "             v + a*time,\n",
    "             a,\n",
    "             omega])\n",
    "    F_J = f_x.jacobian(Matrix([x, y, theta, v, a, omega])) \n",
    "    F_J_evaluated = array(F_J.subs(subs_FJ)).astype(float)\n",
    "    return F_J_evaluated\n",
    "\n",
    "def driving(X, dt):\n",
    "    heading_angle = X[2, 0]\n",
    "    velocity      = X[3, 0]\n",
    "    a             = X[4, 0]\n",
    "    yaw_rate      = X[5, 0]\n",
    "    \n",
    "    if yaw_rate != 0:\n",
    "        # radius        = velocity/yaw_rate  # R = v / ω\n",
    "        beta          = yaw_rate * dt\n",
    "        dX = np.array([\n",
    "            [(velocity*dt + 0.5*a*dt**2) * cos(heading_angle)],\n",
    "            [(velocity*dt + 0.5*a*dt**2) * sin(heading_angle)],\n",
    "            [beta],\n",
    "            [a*dt],\n",
    "            [0],\n",
    "            [0]\n",
    "        ])\n",
    "    else:\n",
    "        dX = np.array([\n",
    "            [velocity * dt * cos(heading_angle)],\n",
    "            [velocity * dt * sin(heading_angle)],\n",
    "            [0],\n",
    "            [0],\n",
    "            [0]\n",
    "        ])\n",
    "\n",
    "    return X + dX\n",
    "\n",
    "def predict(X, P, dt):\n",
    "    predict_X = driving(X=X, dt=dt)\n",
    "    F = F_J_evaluated(X, dt)\n",
    "    # Q = Q_evaluated(X=X, dt=dt_step, Phi=np.array([1, 1]))\n",
    "    predict_P = F @ P @ F.T  + Q# 这里还需要构建一个噪声矩阵 Q\n",
    "    return predict_X, predict_P\n"
   ]
  },
  {
   "cell_type": "markdown",
   "id": "07577b97-c63b-44dc-ba6f-27b5b9a61913",
   "metadata": {},
   "source": [
    "#### Test"
   ]
  },
  {
   "cell_type": "code",
   "execution_count": 58,
   "id": "cf5dc7bb-43a4-4e12-b303-f96d2dc3e7c3",
   "metadata": {},
   "outputs": [
    {
     "data": {
      "text/latex": [
       "$\\displaystyle \\left[\\begin{matrix}-718.647669197636\\\\902.570417298716\\\\-0.045517796070872\\\\7.66703025784201\\\\0.0625\\\\0.0050614548307835\\end{matrix}\\right]$"
      ],
      "text/plain": [
       "Matrix([\n",
       "[ -718.647669197636],\n",
       "[  902.570417298716],\n",
       "[-0.045517796070872],\n",
       "[  7.66703025784201],\n",
       "[            0.0625],\n",
       "[0.0050614548307835]])"
      ]
     },
     "execution_count": 58,
     "metadata": {},
     "output_type": "execute_result"
    }
   ],
   "source": [
    "# Test\n",
    "k = 10000\n",
    "dt_step = 0.1\n",
    "z, cov_z = func_z(k, dt_step) \n",
    "predict_X, predict_P = predict(X=z, P=cov_z, dt = dt_step)\n",
    "predict_X"
   ]
  },
  {
   "cell_type": "markdown",
   "id": "9b90521c-6190-438b-a469-07d3ff3131c5",
   "metadata": {},
   "source": [
    "### Update"
   ]
  },
  {
   "cell_type": "markdown",
   "id": "36dddd06-de80-4c67-a929-d56f178188b7",
   "metadata": {},
   "source": [
    "1. Wenn Sensoren *v* und *ω* direkt messen können, wird empfohlen, den Messwertvektor *z* auf \n",
    "   \\\\([x, y, \\theta, v, \\omega]^T\\\\) zu erweitern und gleichzeitig die Beobachtungsmatrix *H* in eine \n",
    "   \\\\(5 \\times 5\\\\)-Einheitsmatrix zu ändern.\n",
    "\n",
    "2. Wenn die Sensoren *v* und *ω* nicht genau messen können oder die Messwerte stark verrauscht sind, \n",
    "   kann die ursprüngliche \\\\(3 \\times 5\\\\)-Beobachtungsmatrix beibehalten werden. \n",
    "   In diesem Fall werden *v* und *ω* indirekt über die Kovarianzausbreitung aktualisiert."
   ]
  },
  {
   "cell_type": "code",
   "execution_count": 64,
   "id": "b3175c97-a03b-4c88-aee7-10f348f47e14",
   "metadata": {},
   "outputs": [
    {
     "data": {
      "text/latex": [
       "$\\displaystyle \\left[\\begin{matrix}1 & 0 & 0 & 0 & 0 & 0\\\\0 & 1 & 0 & 0 & 0 & 0\\\\0 & 0 & 1 & 0 & 0 & 0\\\\0 & 0 & 0 & 1 & 0 & 0\\\\0 & 0 & 0 & 0 & 1 & 0\\\\0 & 0 & 0 & 0 & 0 & 1\\end{matrix}\\right]$"
      ],
      "text/plain": [
       "Matrix([\n",
       "[1, 0, 0, 0, 0, 0],\n",
       "[0, 1, 0, 0, 0, 0],\n",
       "[0, 0, 1, 0, 0, 0],\n",
       "[0, 0, 0, 1, 0, 0],\n",
       "[0, 0, 0, 0, 1, 0],\n",
       "[0, 0, 0, 0, 0, 1]])"
      ]
     },
     "execution_count": 64,
     "metadata": {},
     "output_type": "execute_result"
    }
   ],
   "source": [
    "# H = Matrix([[1, 0, 0, 0, 0], \n",
    "#             [0, 1, 0, 0, 0],\n",
    "#             [0, 0, 1, 0, 0]])\n",
    "\n",
    "H = Matrix([[1, 0, 0, 0, 0, 0], \n",
    "            [0, 1, 0, 0, 0, 0],\n",
    "            [0, 0, 1, 0, 0, 0],\n",
    "            [0, 0, 0, 1, 0, 0], \n",
    "            [0, 0, 0, 0, 1, 0],\n",
    "            [0, 0, 0, 0, 0, 1]])\n",
    "H"
   ]
  },
  {
   "cell_type": "code",
   "execution_count": 66,
   "id": "3d62e4b5-9f24-4004-b529-4af30f4f98f0",
   "metadata": {},
   "outputs": [
    {
     "data": {
      "text/latex": [
       "$\\displaystyle \\left[\\begin{matrix}-719.532704419294\\\\902.613922866116\\\\-0.0463798539463329\\\\7.67038056116766\\\\0.03125\\\\0.0047123889803846\\end{matrix}\\right]$"
      ],
      "text/plain": [
       "Matrix([\n",
       "[  -719.532704419294],\n",
       "[   902.613922866116],\n",
       "[-0.0463798539463329],\n",
       "[   7.67038056116766],\n",
       "[            0.03125],\n",
       "[ 0.0047123889803846]])"
      ]
     },
     "execution_count": 66,
     "metadata": {},
     "output_type": "execute_result"
    }
   ],
   "source": [
    "def h_x(X):\n",
    "    \"\"\"convert prediction to measurement\"\"\"\n",
    "    h_x = H @ X\n",
    "    return h_x\n",
    "    \n",
    "# Test\n",
    "k = 10000\n",
    "dt_step = 0.1\n",
    "z, cov_z = func_z(k-1, dt_step) \n",
    "predict_X, predict_P = predict(X=z, P=cov_z, dt = dt_step)\n",
    "hx = h_x(predict_X)\n",
    "z, cov_z = func_z(k, dt_step) \n",
    "hx"
   ]
  },
  {
   "cell_type": "code",
   "execution_count": 67,
   "id": "5e456ec8-616b-4e7e-bebf-8a2f1affaa68",
   "metadata": {},
   "outputs": [
    {
     "data": {
      "text/latex": [
       "$\\displaystyle \\left[\\begin{matrix}0.119456238038993\\\\-0.00824570563577254\\\\0.00035591239238264\\\\-0.00960030332564621\\\\0.03125\\\\0.0003490658503989\\end{matrix}\\right]$"
      ],
      "text/plain": [
       "Matrix([\n",
       "[   0.119456238038993],\n",
       "[-0.00824570563577254],\n",
       "[ 0.00035591239238264],\n",
       "[-0.00960030332564621],\n",
       "[             0.03125],\n",
       "[  0.0003490658503989]])"
      ]
     },
     "execution_count": 67,
     "metadata": {},
     "output_type": "execute_result"
    }
   ],
   "source": [
    "# Roger R Labbe Jr. Kalman_and_Bayesian_Filters_in_Python.\n",
    "def residual(z, hx):\n",
    "    \"\"\" compute residual (a-b) between measurements containing \n",
    "    [x, y, theta, v, omega]. theta is normalized to [-pi, pi)\"\"\"\n",
    "    y = z - hx\n",
    "    y[2] = y[2] % (2 * np.pi)    # force in range [0, 2*pi)\n",
    "    if y[2] > np.pi:             # move to [-pi, pi)\n",
    "        y[2] -= 2 * np.pi\n",
    "    return y\n",
    "y = residual(z, hx)\n",
    "y"
   ]
  },
  {
   "cell_type": "code",
   "execution_count": null,
   "id": "0d6e3642-6598-4730-9cdf-c6eac0073e65",
   "metadata": {},
   "outputs": [],
   "source": [
    "# 这个函数可以不要了，因为 cov_z 就是 R\n",
    "# Measurement Noise Matrix\n",
    "# def R_matrix(k, dt_step):\n",
    "#     z, cov_z          = func_z(k, dt_step)                    # func_z用来获取测量值和每次更新阶段时刻k所需的最新状态矩阵 X 的噪声协方差\n",
    "#     cov_x             = cov_z[0]\n",
    "#     cov_y             = cov_z[1]\n",
    "#     cov_xy            = cov_z[2]\n",
    "#     cov_theta         = cov_z[3]\n",
    "#     \n",
    "#     # Measurement Noise Matrix，在不重新定义整个 EKF 实例 的情况下，动态更新测量噪声协方差矩阵 R。直接在循环中动态修改 ekf.R 即可，而无需重新实例化扩展卡尔曼滤波器。这种方式既高效又灵活。\n",
    "#     diagonal_elements = [cov_x, cov_y, cov_theta]             # 对角元素\n",
    "#     R                 = np.diag(diagonal_elements)\n",
    "#     R[0, 1]           = cov_xy\n",
    "#     R[1, 0]           = cov_xy\n",
    "#     return R"
   ]
  },
  {
   "cell_type": "code",
   "execution_count": 70,
   "id": "4b3c6dba-78d3-44bf-9680-a20f5fcabf69",
   "metadata": {},
   "outputs": [],
   "source": [
    "def update(X, P, k, dt_step):\n",
    "    X_p      = X\n",
    "    P_p      = P\n",
    "    \n",
    "    # calculate residual y\n",
    "    z, cov_z = func_z(k, dt_step)\n",
    "    hx       = h_x(X_p)\n",
    "    y        = residual(z, hx)\n",
    "\n",
    "    # Kalman Gain Matrix\n",
    "    R        = cov_z\n",
    "    S        = H @ P_p @ H.T + R  # 残差协方差\n",
    "    K        = P_p @ H.T @ S.inv()  # 卡尔曼增益矩阵\n",
    "\n",
    "    X_update = X_p + K @ y\n",
    "    I        = np.eye(6)  # 后期这个 5 可以设置为一个名为 dim 的变量，就不用单独来到这里修改了  \n",
    "    P_update = (I - K @ H) @ P_p\n",
    "    \n",
    "    return X_update, P_update"
   ]
  },
  {
   "cell_type": "code",
   "execution_count": 77,
   "id": "f15b6153-5cbd-425a-8a97-5f36493795bb",
   "metadata": {},
   "outputs": [],
   "source": [
    "# Test\n",
    "k = 200\n",
    "dt_step = 0.5\n",
    "X, P = func_z(k-1, dt_step) \n",
    "predict_X, predict_P = predict(X, P, dt=dt_step)\n",
    "X_update, P_update = update(X=predict_X, P=predict_P, k=k, dt_step=dt_step)\n",
    "z, cov_z = func_z(k, dt_step)"
   ]
  },
  {
   "cell_type": "code",
   "execution_count": null,
   "id": "dda15f01-fd0d-418b-8d47-ad37319752f0",
   "metadata": {},
   "outputs": [],
   "source": [
    "\"\"\"def update(X, P, k, dt_step):\n",
    "    X_p      = X\n",
    "    P_p      = P\n",
    "    \n",
    "    # calculate residual y\n",
    "    z, cov_z = func_z(k, dt_step)\n",
    "    hx       = h_x(X_p)\n",
    "    y        = residual(z, hx)\n",
    "\n",
    "    # Kalman Gain Matrix\n",
    "    R        = cov_z\n",
    "    S        = H @ P_p @ H.T + R  # 残差协方差\n",
    "    K        = P_p @ H.T @ S.inv()  # 卡尔曼增益矩阵\n",
    "\n",
    "    X_update = X_p + K @ y\n",
    "    I        = np.eye(5)  # 后期这个 5 可以设置为一个名为 dim 的变量，就不用单独来到这里修改了  \n",
    "    P_update = (I - K @ H) @ P_p\n",
    "\n",
    "    intermediate_vars = {\n",
    "        \"X_p\": X_p,\n",
    "        \"P_p\": P_p,\n",
    "        \"z\": z,\n",
    "        \"cov_z\": cov_z,\n",
    "        \"hx\": hx,\n",
    "        \"y\": y,\n",
    "        \"R\": R,\n",
    "        \"S\": S,\n",
    "        \"K\": K,\n",
    "        \"X_update\": X_update,\n",
    "        \"I\": I,\n",
    "        \"P_update\": P_update\n",
    "    }\n",
    "    intermediate_series = pd.Series(intermediate_vars)\n",
    "    \n",
    "    return X_update, P_update, intermediate_series\"\"\""
   ]
  },
  {
   "cell_type": "code",
   "execution_count": null,
   "id": "99437660-287b-4b1d-b094-452a2f707eaa",
   "metadata": {},
   "outputs": [],
   "source": [
    "# Test\n",
    "# k = 810\n",
    "# dt_step = 0.5\n",
    "# X, P = func_z(k-1, dt_step) \n",
    "# predict_X, predict_P = predict(X, P, dt=dt_step)\n",
    "# X_update, P_update, intermediate_series = update(X=predict_X, P=predict_P, k=k, dt_step=dt_step)\n",
    "# z, cov_z = func_z(k, dt_step)\n",
    "# intermediate_series[\"z\"]"
   ]
  },
  {
   "cell_type": "markdown",
   "id": "f535c7cd-f934-46a7-ae22-18f2e8258168",
   "metadata": {},
   "source": [
    "## run_CTRV_EKF"
   ]
  },
  {
   "cell_type": "code",
   "execution_count": 82,
   "id": "987b387f-05cc-40ed-9165-2e7778ed5928",
   "metadata": {},
   "outputs": [],
   "source": [
    "def ksigma(df_EKF_update):\n",
    "    # 定义计算 PL_ksigma_posH 的函数\n",
    "    def calculate_PL_ksigma_posH(P):\n",
    "        P = np.array(P, dtype=float)\n",
    "        sigma_E = P[0, 0]\n",
    "        sigma_N = P[1, 1]\n",
    "        sigma_EN = P[0, 1]\n",
    "        sigma_H = np.sqrt((sigma_E**2 + sigma_N**2) / 2) + np.sqrt(((sigma_E**2 + sigma_N**2) / 2)**2 + sigma_EN**2)\n",
    "        K_posH = 6\n",
    "        PL_ksigma_posH = K_posH * sigma_H\n",
    "        return PL_ksigma_posH\n",
    "    # 对 df_EKF_update['P'] 的每一行应用函数，生成新列 df_EKF_update['PL_ksigma_posH']\n",
    "    df_EKF_update['PL_ksigma_posH'] = df_EKF_update['P'].apply(calculate_PL_ksigma_posH)\n",
    "    return df_EKF_update"
   ]
  },
  {
   "cell_type": "code",
   "execution_count": 85,
   "id": "17bcf2be-c501-4ac5-a438-c2a48fb804b4",
   "metadata": {
    "editable": true,
    "slideshow": {
     "slide_type": ""
    },
    "tags": []
   },
   "outputs": [],
   "source": [
    "import os\n",
    "from filterpy.stats import plot_covariance_ellipse\n",
    "def run_CTRV_EKF(dt_step      = 0.5,             # secs, dt不可以直接指定固定值，而是要根据测量数据的时间戳进行决定，或者确定一个dt，截取传感器数据中与之时刻最接近的数据\n",
    "                 dt_track     = 0.1,\n",
    "                 sim_duration = 20):\n",
    "    plt.clf()                                    # 清除上一次运行所绘图像\n",
    "    z_0, cov_z0  = func_z(k=0, dt_step=dt_step)\n",
    "    X            = z_0.copy()                    # X_0\n",
    "    P            = cov_z0.copy()                 # P_0, 之后也可以给P_0写一个函数，这里先这么着吧\n",
    "    # u, cov_u     = func_u(k=0, dt_step=dt_step)  # u_0, cov_u0\n",
    "    track        = []                            # 用于记录汽车的运行轨迹\n",
    "    k            = 0                             # timestep for prediction and update\n",
    "    sim_X        = z_0.copy()\n",
    "    step         = int(dt_step / dt_track)                            \n",
    "    ellipse_step = 20 * step\n",
    "    track_step   = int(sim_duration / dt_track)\n",
    "\n",
    "    # 初始化用于存储更新数据的列表\n",
    "    update_data = []\n",
    "\n",
    "    # k_met = False                                # 第一次的Kovarianz太大，可以不画椭圆\n",
    "                                                 # 但是对于不含u的CTRV而言是否需要k_met还需斟酌\n",
    "    for i in range(track_step):\n",
    "            \n",
    "        # driving(X, u, dt)\n",
    "        sim_X = driving(sim_X, dt_track)                          # simulate the driving model of the car\n",
    "        track.append(sim_X)                                       # 这里并不多余，因为要绘制汽车运行的轨迹图，当 ω ≠ 0 时，两次更新点之间的轨迹并不是一条直线，所以需要适当的增加一些轨迹点使轨迹图看起来平滑\n",
    "\n",
    "        # 判断是否需要设置 k_met 为 True\n",
    "        # if not k_met and k <= 10:\n",
    "        #     k_met = True\n",
    "        \n",
    "        if i % step == 0:\n",
    "            k         = k + 1\n",
    "            X, P = predict(X, P, dt=dt_step)  # predict\n",
    "\n",
    "            if i % ellipse_step == 0:\n",
    "            # if i % ellipse_step == 0 and k >= 10:\n",
    "                plot_covariance_ellipse(\n",
    "                    (X[0,0], X[1,0]), P[0:6, 0:6], \n",
    "                    std=1, facecolor='k', alpha=0.3)                 # 设置predict阶段的协方差椭圆的颜色为黑色，透明度为 0.3（范围是 0 到 1）\n",
    "\n",
    "            X, P = update(X=X, P=P, k=k, dt_step=dt_step)  # update\n",
    "            P = np.array(P.tolist(), dtype=float)  # from \"type: <class 'sympy.matrices.dense.MutableDenseMatrix'>\" to \"type: <class 'numpy.ndarray'>\"\n",
    "            \n",
    "            if i % ellipse_step == 0:\n",
    "            # if i % ellipse_step == 0 and k >= 10:\n",
    "                plot_covariance_ellipse(\n",
    "                    (X[0,0], X[1,0]), P[0:6, 0:6], \n",
    "                     std=1, facecolor='g', alpha=0.8)\n",
    "\n",
    "            # 将当前的时间、k值、X和P保存到 update_data 中\n",
    "            update_data.append({  \n",
    "                \"time/s\": k * dt_step,\n",
    "                \"time step k\": k,\n",
    "                \"X\": X.tolist(),  # 转为列表格式存储\n",
    "                \"P\": P.tolist()   # 转为列表格式存储\n",
    "            })\n",
    "            \n",
    "            sim_X = X\n",
    "            track.append(sim_X)    \n",
    "        if i == track_step - 1:  # testcode, should be deleted after testing\n",
    "            print(f'Pu_{k}:{P}:')\n",
    "\n",
    "    # 创建 DataFrame\n",
    "    df_EKF_update = pd.DataFrame(update_data)\n",
    "    df_ksigma = ksigma(df_EKF_update)\n",
    "        \n",
    "    track = np.array(track)  # 假设 track 是您的轨迹数据\n",
    "    plt.plot(track[:, 0], track[:, 1], color='k', lw=2)\n",
    "    plt.axis('equal')\n",
    "    plt.grid(True)\n",
    "\n",
    "    # 设置动态标题\n",
    "    title_text = f\"Klitten EKF\\nsim_duration = {sim_duration}, dt_step = {dt_step}, dt_track = {dt_track}\"\n",
    "    plt.title(title_text)\n",
    "\n",
    "    # 动态生成文件夹路径\n",
    "    save_dir = \"C:/Users/wq138/OneDrive - mailbox.tu-dresden.de/Diplomarbeit/sim_Ergebnisse/\"\n",
    "    os.makedirs(save_dir, exist_ok=True)\n",
    "\n",
    "    # 生成基础文件名\n",
    "    base_name = f\"Klitten_EKF_sim_duration={sim_duration}_dt_step={dt_step}_dt_track={dt_track}\"\n",
    "    file_extension = \".png\"\n",
    "\n",
    "    # 初始化计数器为 1\n",
    "    counter = 1\n",
    "    save_path = os.path.join(save_dir, f\"{base_name}({counter}){file_extension}\")\n",
    "\n",
    "    # 检查文件是否已存在，如果存在递增计数器\n",
    "    while os.path.exists(save_path):\n",
    "        counter += 1\n",
    "        save_path = os.path.join(save_dir, f\"{base_name}({counter}){file_extension}\")\n",
    "\n",
    "    # 保存图片\n",
    "    plt.savefig(save_path, dpi=300, bbox_inches='tight')\n",
    "    plt.show()\n",
    "    print(f\"Chart has been saved in: {save_path}\")\n",
    "\n",
    "    return df_ksigma\n",
    "# 图像大小还需要调整，貌似每次都会被上一次的数据覆盖\n"
   ]
  },
  {
   "cell_type": "code",
   "execution_count": 89,
   "id": "5ab50114-2fd3-464f-9b40-e67d9463aabc",
   "metadata": {},
   "outputs": [
    {
     "name": "stdout",
     "output_type": "stream",
     "text": [
      "Pu_2400:[[ 1.56897214e-03  3.46730652e-04  2.35593716e-07 -7.49465523e-04\n",
      "  -2.62806672e-06 -2.65291102e-06]\n",
      " [ 3.46730652e-04  9.44389207e-04  3.33314978e-07 -8.17838842e-04\n",
      "  -1.07680284e-06 -1.05642094e-06]\n",
      " [ 2.35593716e-07  3.33314980e-07  4.76407608e-07  5.92210423e-07\n",
      "  -6.90763685e-10 -6.90321200e-10]\n",
      " [-7.49465523e-04 -8.17838842e-04  5.92210406e-07  1.25019999e-03\n",
      "   2.32716499e-06  2.32290898e-06]\n",
      " [-2.62806672e-06 -1.07680283e-06 -6.90758919e-10  2.32716500e-06\n",
      "   2.14333225e-04  2.14318769e-04]\n",
      " [-2.65291102e-06 -1.05642094e-06 -6.90311475e-10  2.32290900e-06\n",
      "   2.14318769e-04  2.14364912e-04]]:\n"
     ]
    },
    {
     "data": {
      "application/vnd.jupyter.widget-view+json": {
       "model_id": "76fa2f1195a545d68a88e135c7b7d66e",
       "version_major": 2,
       "version_minor": 0
      },
      "image/png": "[encoded data removed]",
      "text/html": [
       "\n",
       "            <div style=\"display: inline-block;\">\n",
       "                <div class=\"jupyter-widgets widget-label\" style=\"text-align: center;\">\n",
       "                    Figure 1\n",
       "                </div>\n",
       "                <img src='data:image/png;base64,iVBORw0KGgoAAAANSUhEUgAAAoAAAAHgCAYAAAA10dzkAAAAOXRFWHRTb2Z0d2FyZQBNYXRwbG90bGliIHZlcnNpb24zLjkuMiwgaHR0cHM6Ly9tYXRwbG90bGliLm9yZy8hTgPZAAAACXBIWXMAAA9hAAAPYQGoP6dpAAB9pklEQVR4nO3dd1QUVxsG8GdpS5PeRBGx94ZKMBZsoGKMscUWNRpN0ZjEGowFNJbYErsxX9QUS6JRkxgs2BsaG/beC02pS11gvj82jKy7NIXdhXl+53Bk7r0z885lWF/uzNyRCYIggIiIiIgkw0jfARARERGRbjEBJCIiIpIYJoBEREREEsMEkIiIiEhimAASERERSQwTQCIiIiKJYQJIREREJDFMAImIiIgkhgkgERERkcQwASQiIiKSGCaARERERBLDBJCIiIhIYpgAEhEREUkME0AiMkjBwcGQyWRqZVWrVsWwYcP0ExARUTnCBJCIdGb9+vWQyWQ4c+aMWnliYiJatmwJc3Nz7N69u8jbu3r1KoKDg3H//n2NupUrV2L9+vWvGfGrO3ToEGQyWb5fmzdvFttWrVoV3bt319jGL7/8AmNjY3Tp0gXp6ekAkO/23NzcdHZsRFT2meg7ACKStqSkJPj7++PixYvYvn07unTpkm/bGzduwMjoxd+tV69eRUhICPz8/FC1alW1titXroSTk5PeRwzHjh2LFi1aaJT7+voWuN6GDRswbNgwdOrUCTt27IC5ublY17lzZwwZMkStvYWFRckETESSwASQiPQmOTkZAQEBiIiIwLZt29C1a9cC28vlch1FVnLatGmDPn36FGudzZs3Y+jQoejQoQP+/PNPteQPAGrVqoXBgweXZJhEJDG8BExEeqFQKNClSxecO3cOf/zxBwIDAwtdJ+89gOvXr0ffvn0BAO3btxcvhR46dAhVq1bFlStXcPjwYbHcz89P3E5CQgI+//xzeHh4QC6Xo0aNGvjmm2+Qk5Mjtrl//z5kMhkWLlyINWvWoHr16pDL5WjRogVOnz5don2R1++//47BgwfDz88Pf/31l0byR0RUEjgCSEQ6l5KSgq5du+L06dPYunWr1vvfCtO2bVuMHTsWS5cuxZQpU1C3bl0AQN26dfHdd9/h008/hbW1Nb766isAgKurKwAgNTUV7dq1w5MnT/Dhhx+iSpUqOHHiBIKCghAZGYnvvvtObT8bN25EcnIyPvzwQ8hkMsyfPx+9evXC3bt3YWpqWmicycnJePbsmUa5o6OjxkMuf/zxBwYNGoS2bdvi77//zveybnp6usY2K1SoUCZHSIlITwQiIh1Zt26dAEDw9PQUTE1NhR07duTbdsaMGcLLH1Genp7C0KFDxeUtW7YIAISDBw9qrF+/fn2hXbt2GuWzZs0SrKyshJs3b6qVf/nll4KxsbHw8OFDQRAE4d69ewIAwdHRUYiLixPb/fnnnwIA4e+//y7wWA8ePCgAyPcrMjJS7bjc3d0FExMTwc/PT0hJScl3u/ltb926dQXGQ0SUF0cAiUjnoqOjYW5uDg8PD53ve8uWLWjTpg3s7e3VRtE6deqEefPm4ciRIxg0aJBY/u6778Le3l5cbtOmDQDg7t27Rdrf9OnTxXXycnBwUFuOi4tDVlYWKleuXOgDHW+//TbGjBmjVla/fv0ixUNEBPASMBHpwffff49x48ahS5cuOHr0KGrXrq2zfd+6dQsXL16Es7Oz1vqYmBi15SpVqqgt5yaD8fHxRdpfw4YN0alTp0LbdezYEVWqVMGqVavg4OCAJUuW5Nu2cuXKRdomEVF+mAASkc7Vq1cPoaGh6NixIzp37ozjx4/rbDQwJycHnTt3xqRJk7TW16pVS23Z2NhYaztBEEo8tuXLlyM+Ph5Lly6Fvb09goODS3wfREQAE0Ai0pOWLVtix44dCAwMROfOnXH06NF8R+Xy8/JDFEWpq169OhQKhUGOoBkZGeHnn39GYmIiQkJC4ODggLFjx+o7LCIqhzgNDBHpTceOHbFp0ybcvn0bXbp0QVJSUrHWt7KyAqCa1kVbnbbyfv36ITw8HHv27NGoS0hIQFZWVrFiKGmmpqbYunUr3nzzTXz++ef45Zdf9BoPEZVPHAEkIr1655138MMPP2D48OHo0aMHdu/eXeS575o0aQJjY2N88803SExMhFwuR4cOHeDi4gJvb2+sWrUKX3/9NWrUqAEXFxd06NABEydOxF9//YXu3btj2LBh8Pb2RkpKCi5duoStW7fi/v37cHJyKrHjO3r0qPgat7waNWqERo0aaV3H0tIS//zzD9q1a4fhw4fD1tYWPXr0KLGYiIiYABKR3r3//vuIi4vDhAkT0LdvX2zfvr1I67m5uWH16tWYO3cuRowYgezsbBw8eBAuLi6YPn06Hjx4gPnz5yM5ORnt2rVDhw4dYGlpicOHD2POnDnYsmULfv75Z9jY2KBWrVoICQmBra1tiR7b0qVLtZbPmDEj3wQQAGxtbbFnzx60bt0a7777Lnbt2qU2mTUR0euQCaVxJzMRERERGSzeA0hEREQkMUwAiYiIiCSGCSARERGRxDABJCIiIpIYJoBEREREEsMEkIiIiEhimAASERERSQwTwHJu2LBhqFq1qr7DAAAEBwcX+O5WfapatSqGDRum7zCoiAz5XKKSVd5+N6tWrYru3bvrOwwiJoAkHSdOnEBwcLDW98OWF7Nnz0aPHj3g6uoKmUyG4OBgre22bduGd999F9WqVYOlpSVq166N8ePH59s3f/31F5o1awZzc3NUqVIFM2bM0PrO3ISEBIwaNQrOzs6wsrJC+/btce7cuRI8wvzNmTMHO3bsKJVtX716FcHBwbh//36pbF8fnjx5gn79+sHOzg42NjZ4++23cffu3SKt6+fnB5lMpvHVpUuXUo769X4WUvgMKI7XOQcAVX+2bt0alpaWcHNzw9ixY6FQKNTaHDp0SOu5IpPJcPLkyZI+JCoGvgqunPvhhx+Qk5Oj7zAMwokTJxASEoJhw4bBzs5Ore7GjRswMir7fw9NnToVbm5uaNq0Kfbs2ZNvu1GjRsHd3R2DBw9GlSpVcOnSJSxfvhyhoaE4d+4cLCwsxLa7du1Cz5494efnh2XLluHSpUv4+uuvERMTg1WrVontcnJyEBgYiAsXLmDixIlwcnLCypUr4efnh7Nnz6JmzZqleuxz5sxBnz590LNnzxLf9tWrVxESEgI/Pz+DGVF/HQqFAu3bt0diYiKmTJkCU1NTfPvtt2jXrh0iIiLg6OhY6DYqV66MuXPnqpW5u7uXVsii1/lZFPQZIDWvew5ERESgY8eOqFu3LhYvXozHjx9j4cKFuHXrFnbt2qXRfuzYsWjRooVaWY0aNUr0mKh4mACWc6ampvoOodSkpKTAysqqRLYll8tLZDv6du/ePVStWhXPnj2Ds7Nzvu22bt2q8V5Zb29vDB06FBs2bMAHH3wglk+YMAGNGjXC3r17YWKi+siwsbHBnDlz8Nlnn6FOnTriNk+cOIEtW7agT58+AIB+/fqhVq1amDFjBjZu3FjCR0uvauXKlbh16xb+/fdf8T/lrl27okGDBli0aBHmzJlT6DZsbW0xePDg0g5Vb3JycpCZmQlzc3N9h1IqXvccmDJlCuzt7XHo0CHY2NgAUF3eHjlyJPbu3Qt/f3+19m3atBE/F8gwlP0hDwlLTk7G559/jqpVq0Iul8PFxQWdO3dWu+T28j2A9+/fh0wmw8KFC7FixQrxEqC/vz8ePXoEQRAwa9YsVK5cGRYWFnj77bcRFxdX7NiOHTuGFi1awNzcHNWrV8f333+v0SY3lvXr12vUvXz5Mveer6tXr2LgwIGwt7dH69atAQAXL17EsGHDUK1aNZibm8PNzQ3Dhw/H8+fP1dafOHEiAMDLy0u8BJF7GUnbfUZ3795F37594eDgAEtLS7zxxhv4559/1NrkXt74/fffMXv2bFSuXBnm5ubo2LEjbt++Xex+e11FHRF5OfkDgHfeeQcAcO3aNbHs6tWruHr1KkaNGiUmfwDwySefQBAEbN26VSzbunUrXF1d0atXL7HM2dkZ/fr1w59//omMjIxiHo1KUc4lmUyGlJQU/PTTT+LPtjj3jW3evBne3t6oUKECbGxs0LBhQyxZsgQAsH79evTt2xcA0L59e3H7hw4dEtfftWsX2rRpAysrK1SoUAGBgYG4cuWK2j6GDRsGa2tr3L17FwEBAbCysoK7uztmzpwJXb+SfevWrWjRooXaiEydOnXQsWNH/P7770XeTlZWlsYlv1clCAK+/vprVK5cGZaWlmjfvr1GHxblZ5Gfwj4DZDIZxowZgw0bNqB+/fqQy+XYvXs3AGDhwoVo1aoVHB0dYWFhAW9vb7VzP69ff/0VLVu2hKWlJezt7dG2bVvs3bu3wNh++uknmJiYiPHpwuucA0lJSQgLC8PgwYPF5A8AhgwZAmtr63zXT05O1nrrCOkHRwDLsI8++ghbt27FmDFjUK9ePTx//hzHjh3DtWvX0KxZswLX3bBhAzIzM/Hpp58iLi4O8+fPR79+/dChQwccOnQIkydPxu3bt7Fs2TJMmDABa9euLXJcly5dgr+/P5ydnREcHIysrCzMmDEDrq6ur3vI6Nu3L2rWrIk5c+aI/2mGhYXh7t27eP/99+Hm5oYrV65gzZo1uHLlCk6ePAmZTIZevXrh5s2b2LRpE7799ls4OTkBQL6jZNHR0WjVqhVSU1MxduxYODo64qeffkKPHj2wdetWMVnKNW/ePBgZGWHChAlITEzE/PnzMWjQIJw6darA41EqlUhMTCzSsTs4OJTqZeqoqCgAEPsGAM6fPw8AaN68uVpbd3d3VK5cWazPbdusWTONGFu2bIk1a9bg5s2baNiwYbFiKuq59Msvv+CDDz5Ay5YtMWrUKABA9erVi7SPsLAwDBgwAB07dsQ333wDQJUEHz9+HJ999hnatm2LsWPHYunSpZgyZQrq1q0LAOK/v/zyC4YOHYqAgAB88803SE1NxapVq9C6dWucP39eLSnPzs5Gly5d8MYbb2D+/PnYvXu3eD/lzJkzC4xToVAgPT290OMxNTWFra1tvvU5OTm4ePEihg8frlHXsmVL7N27F8nJyahQoUKB+7l58yasrKyQmZkJV1dXjBw5EtOnT3/lqw7Tp0/H119/jW7duqFbt244d+4c/P39kZmZKbYp7GdRkKJ8Bhw4cAC///47xowZAycnJ/Fnt2TJEvTo0QODBg1CZmYmNm/ejL59+2Lnzp0IDAwU1w8JCUFwcDBatWqFmTNnwszMDKdOncKBAwc0RsRyrVmzBh999BGmTJmCr7/+usBjMJRz4NKlS8jKytL4XDAzM0OTJk3UPhdyvf/++1AoFDA2NkabNm2wYMECjfVJxwQqs2xtbYXRo0cX2Gbo0KGCp6enuHzv3j0BgODs7CwkJCSI5UFBQQIAoXHjxoJSqRTLBwwYIJiZmQnp6elFjqtnz56Cubm58ODBA7Hs6tWrgrGxsZD3lMuNZd26dRrbACDMmDFDXJ4xY4YAQBgwYIBG29TUVI2yTZs2CQCEI0eOiGULFiwQAAj37t3TaO/p6SkMHTpUXP78888FAMLRo0fFsuTkZMHLy0uoWrWqkJ2dLQiCIBw8eFAAINStW1fIyMgQ2y5ZskQAIFy6dEljX3nlrl+UL21x5yc2NlajDwszYsQIwdjYWLh586ZYlttnDx8+1GjfokUL4Y033hCXrayshOHDh2u0++effwQAwu7du4scS66inku5+8/7Myyqzz77TLCxsRGysrLybbNlyxYBgHDw4EG18uTkZMHOzk4YOXKkWnlUVJRga2urVj506FABgPDpp5+KZTk5OUJgYKBgZmYmxMbGFhhn7vqFfbVr167A7eSeGzNnztSoW7FihQBAuH79eoHbGD58uBAcHCz88ccfws8//yz06NFDACD069evwPXyExMTI5iZmQmBgYFCTk6OWD5lyhQBgNrPNb+fRVEU9BkAQDAyMhKuXLmiUffyZ0xmZqbQoEEDoUOHDmLZrVu3BCMjI+Gdd94RPx9y5T0mT09PITAwUBAE1eeETCYTZs2aVaT4DeUcyP0Z5P18zdW3b1/Bzc1NXD5+/LjQu3dv4ccffxT+/PNPYe7cuYKjo6Ngbm4unDt3rkjHTaWDI4BlmJ2dHU6dOoWnT58W++brvn37qv2F6OPjAwAYPHiw2qU+Hx8fbNq0CU+ePEG1atUK3W52djb27NmDnj17okqVKmJ53bp1ERAQgNDQ0GLF+bKPPvpIoyzvAwvp6elQKBR44403AADnzp1DmzZtir2f0NBQtGzZUrzMDADW1tYYNWoUgoKCcPXqVTRo0ECse//992FmZiYu5+7z7t27au1e1rhxY4SFhRUpJjc3t+IeRpFt3LgRP/74IyZNmqT2sEZaWhoA7fdImpubIykpSa1tfu3ybquoSvtcymVnZ4eUlBSEhYUV+ynWsLAwJCQkYMCAAXj27JlYbmxsDB8fHxw8eFBjnTFjxojf5152/Oeff7Bv3z70798/331NmjSpSPfc2dvbF1hf2M80b5v8/Pjjj2rL7733HkaNGoUffvgBX3zxhfj7V1T79u0Tr0jknd7n888/L9L9iCWlXbt2qFevnkZ53s+Y+Ph4ZGdno02bNti0aZNYvmPHDuTk5GD69Okao+DapiyaP38+Jk+ejPnz5xf50q+hnAOFrZ933VatWqFVq1bico8ePdCnTx80atQIQUFB4mV20j0mgGXY/PnzMXToUHh4eMDb2xvdunXDkCFDipSo5f0PFYCYDHp4eGgtj4+PL1JMsbGxSEtL0/rEZ+3atV/7P20vLy+Nsri4OISEhGDz5s2IiYlRqyvq5dWXPXjwQEyK88q91PTgwQO1xO7l/sz9AC6s3+zt7dGpU6dXirGkHD16FCNGjEBAQABmz56tVpf7H5+2+/fS09PV/mO0sLDIt13ebRVVaZ9LuT755BP8/vvv6Nq1KypVqgR/f3/069evSMngrVu3AAAdOnTQWp/3/igAMDIy0vj9rFWrFgAUOq1JvXr1tCYnxVXYzzRvm+IYP348fvjhB+zbt6/YCeCDBw8AQONn7ezsXGgyU5K0fb4AwM6dO/H1118jIiJCrd/yJnZ37tyBkZFRkX5Ghw8fxj///IPJkycX674/QzkHivO5oE2NGjXw9ttvY9u2bcjOzoaxsXGRY6eSwwSwDOvXrx/atGmD7du3Y+/evViwYAG++eYbbNu2DV27di1w3fx+4fIrF0rhJvX8JvLNzs7Odx1tHyz9+vXDiRMnMHHiRDRp0gTW1tbIyclBly5ddDYFzqv2W2ZmZpEfsnF2di7xD8oLFy6gR48eaNCgAbZu3ao2+gsAFStWBABERkZq/HEQGRmJli1bqrWNjIzU2EdumS6mCHkVLi4uiIiIwJ49e7Br1y7s2rUL69atw5AhQ/DTTz8VuG7u+fXLL79oHaF9uT9fR2JiYpFGUc3MzODg4JBvvYODA+RyeYn/rHLPj1d5aMxQaPt8OXr0KHr06IG2bdti5cqVqFixIkxNTbFu3bpXfrK9fv36SEhIwC+//IIPP/ww38TzZYZyDuT9XNC2flHOHw8PD2RmZiIlJUXjDyXSDSaAZVzFihXxySef4JNPPkFMTAyaNWuG2bNnF5oAlhZnZ2dYWFiIIyN53bhxQ2059y/7lydlzR0NKIr4+Hjs378fISEhmD59uliubf/FeXOEp6enRrwAcP36dbG+JJw4cQLt27cvUtvcKV5Kyp07d9ClSxe4uLggNDQU1tbWGm2aNGkCADhz5oxasvf06VM8fvxYfOAit+3Ro0eRk5Ojdgns1KlTsLS0FEe6iqo45xJQvJ/vy8zMzPDWW2/hrbfeQk5ODj755BN8//33mDZtGmrUqJHvtnMfNHFxcSnSSG5OTg7u3r2r1hc3b94EUPgT3J999lmhCSmguoxZ0FOxRkZGaNiwIc6cOaNRd+rUKVSrVq3QB0C0yZ1AuKDph/KT+/t069YttRHS2NhYjVH01/k5v8q6f/zxB8zNzbFnzx61S57r1q1Ta1e9enXk5OTg6tWr4u9NfpycnLB161a0bt0aHTt2xLFjx4qUNBnKOdCgQQOYmJjgzJkz6Nevn1iemZmJiIgItbL83L17F+bm5lo/d0g3mACWUdnZ2VAoFGr38bm4uMDd3f2Vp9soCcbGxggICMCOHTvw8OFD8dLotWvXNCYmtrGxgZOTE44cOYLPP/9cLF+5cmWx9gdojrR99913Gm1z5wwsylsAunXrhu+++w7h4eHw9fUFoJp3cM2aNahatWqJXIYB9HcPYFRUFPz9/WFkZIQ9e/bk+592/fr1UadOHaxZswYffvih2N+rVq2CTCZTm9erT58+2Lp1K7Zt2yaWP3v2DFu2bMFbb71V7LkWi3MuAaqf76u84eH58+dqk94aGRmhUaNGAF5c4srv3AkICBDnRGzfvr3GE7CxsbEafbt8+XIsXboUgOq8Xb58OUxNTdGxY8cC4yyp+78A1c/qyy+/xJkzZ8QnMW/cuIEDBw5gwoQJam2vX78OS0tLsf+TkpIgl8vVfp7Cf1O4AKo+Ka5OnTrB1NQUy5Ytg7+/v5iove7vcUmsa2xsDJlMpnZl4v79+xpvnenZsycmT56MmTNnYuvWrWp/BAmCoJF8Vq5cGfv27UObNm3QuXNnHDlypNDJlw3lHLC1tUWnTp3w66+/Ytq0aWKy+Msvv0ChUIhT9QDafwcuXLiAv/76C127di0XE/CXVUwAy6jk5GRUrlwZffr0QePGjWFtbY19+/bh9OnTWLRokV5jCwkJwe7du9GmTRt88sknyMrKwrJly1C/fn1cvHhRre0HH3yAefPm4YMPPkDz5s1x5MgRcUSkKGxsbNC2bVvMnz8fSqUSlSpVwt69e3Hv3j2Ntt7e3gCAr776Cv3794epqSneeustrZNJf/nll9i0aRO6du2KsWPHwsHBAT/99BPu3buHP/74o8Q+tEr6HsBffvkFDx48QGpqKgDgyJEj4n/M7733njjS0qVLF9y9exeTJk3CsWPHcOzYMXEbrq6u6Ny5s7i8YMEC9OjRA/7+/ujfvz8uX76M5cuX44MPPlCbfqNPnz5444038P777+Pq1avim0Cys7MREhKiFuewYcPE/ixo5Ks455K3tzf27duHxYsXw93dHV5eXlrv43zZBx98gLi4OHTo0AGVK1fGgwcPsGzZMjRp0kQ8viZNmsDY2BjffPMNEhMTIZfL0aFDB7i4uGDVqlV477330KxZM/Tv3x/Ozs54+PAh/vnnH7z55ptYvny5uC9zc3Ps3r0bQ4cOhY+PD3bt2oV//vkHU6ZMKXTkrKTu/wJU9z3+8MMPCAwMxIQJE2BqaorFixfD1dUV48ePV2tbt25dtRGlc+fOYcCAARgwYABq1KiBtLQ0bN++HcePH8eoUaM0pqCSyWSFjkg5OztjwoQJmDt3Lrp3745u3brh/Pnz2LVrl9q0REDBP4vCFOczIFdgYCAWL16MLl26YODAgYiJicGKFStQo0YNtXOwRo0a+OqrrzBr1iy0adMGvXr1glwux+nTp+Hu7q7x1pTcdfbu3Qs/Pz8EBATgwIEDBV4ONZRzAFC9drJVq1Zo164dRo0ahcePH2PRokXw9/dXu3/23XffhYWFBVq1agUXFxdcvXoVa9asgaWlJebNm1cix0KvSJ+PINOry8jIECZOnCg0btxYqFChgmBlZSU0btxYWLlypVq7/KaBWbBggVq73OlItmzZola+bt06AYBw+vTpYsV3+PBhwdvbWzAzMxOqVasmrF69WpzKJa/U1FRhxIgRgq2trVChQgWhX79+QkxMTL7TwGibKuPx48fCO++8I9jZ2Qm2trZC3759hadPn2qdBmXWrFlCpUqVBCMjI7XpIF6eBkYQBOHOnTtCnz59BDs7O8Hc3Fxo2bKlsHPnziL1W0FT3JSmdu3a5Ts1RN5pM/Jrg3ymkNi+fbvQpEkTQS6XC5UrVxamTp0qZGZmarSLi4sTRowYITg6OgqWlpZCu3bttJ47vXv3FiwsLIT4+PhCj6mo59L169eFtm3bChYWFhpThxRk69atgr+/v+Di4iKYmZkJVapUET788EMhMjJSrd0PP/wgVKtWTZyCJm9/Hjx4UAgICBBsbW0Fc3NzoXr16sKwYcOEM2fOiG2GDh0qWFlZCXfu3BH8/f0FS0tLwdXVVZgxY4bGtCG68OjRI6FPnz6CjY2NYG1tLXTv3l24deuWRruXz4m7d+8Kffv2FapWrSqYm5sLlpaWgre3t7B69Wq16U4EQTVNDgChf//+hcaTnZ0thISECBUrVhQsLCwEPz8/4fLly1p/Nwv6WRQmv88AAPlOq/Xjjz8KNWvWFORyuVCnTh1h3bp1Ws9BQRCEtWvXCk2bNhXkcrlgb28vtGvXTggLCxPr804Dk+vUqVNChQoVhLZt22qd1qq0vOo5kOvo0aNCq1atBHNzc8HZ2VkYPXq0kJSUpNZmyZIlQsuWLQUHBwfBxMREqFixojB48GCt+yHdkgmCjqegJyLJc3V1xZAhQ7BgwQJ9h6Izw4YNw9atW0vszRllQWhoKLp3744LFy4UexJwIipdvPhORDp15coVpKWlYfLkyfoOhUrZwYMH0b9/fyZ/RAaI9wBSkSkUikJHL0pjqhIqX+rXr682gXRpyc7ORmxsbIFtrK2t+RRiKdLVCC8/m4iKjwkgFdnChQs1buZ/WUlPVUL0qh49elTo/GozZsxAcHCwbgKiUsPPJqLi4z2AVGR3794V5/rKT+vWrcVXCRHpU3p6utrTzdpUq1atSG/OIcPGzyai4mMCSERERCQxfAiEiIiISGJ4D+BryMnJwdOnT1GhQoXXej0RERER6Y4gCEhOToa7u7tk30bCBPA1PH36VHwBOhEREZUtjx49QuXKlfUdhl4wAXwNue8/fPToUYGv7ymPlEol9u7dC39/f433n1LJY3/rFvtbt9jfusX+Vr3T2sPDQ/x/XIqYAL6G3Mu+NjY2kkwALS0tYWNjI9kPEF1if+sW+1u32N+6xf5+Qcq3b0nzwjcRERGRhDEBJCIiIpIYJoBEREREEsMEkIiIiEhimAASERERSQwTQCIiIiKJYQJIREREJDFMAImIiIgkhgkgERERkcQwASQiIiKSGCaARERERBLDBJCIiIhIYpgAEhEREUkME0AiIiIiiWECSERERCQxTACJiIiIJMYgE8AjR47grbfegru7O2QyGXbs2KFWP2zYMMhkMrWvLl26qLWJi4vDoEGDYGNjAzs7O4wYMQIKhUKtzcWLF9GmTRuYm5vDw8MD8+fPL+1DIyIiItI7g0wAU1JS0LhxY6xYsSLfNl26dEFkZKT4tWnTJrX6QYMG4cqVKwgLC8POnTtx5MgRjBo1SqxPSkqCv78/PD09cfbsWSxYsADBwcFYs2ZNqR0XERERkSEw0XcA2nTt2hVdu3YtsI1cLoebm5vWumvXrmH37t04ffo0mjdvDgBYtmwZunXrhoULF8Ld3R0bNmxAZmYm1q5dCzMzM9SvXx8RERFYvHixWqJIREREVN4Y5AhgURw6dAguLi6oXbs2Pv74Yzx//lysCw8Ph52dnZj8AUCnTp1gZGSEU6dOiW3atm0LMzMzsU1AQABu3LiB+Ph43R0IERERkY4Z5AhgYbp06YJevXrBy8sLd+7cwZQpU9C1a1eEh4fD2NgYUVFRcHFxUVvHxMQEDg4OiIqKAgBERUXBy8tLrY2rq6tYZ29vr7HfjIwMZGRkiMtJSUkAAKVSCaVSWaLHaOhyj1dqx60v7G/dYn/rFvtbt9jf0j72XGUyAezfv7/4fcOGDdGoUSNUr14dhw4dQseOHUttv3PnzkVISIhG+d69e2FpaVlq+zVkYWFh+g5BUtjfusX+1i32t25Jub9TU1P1HYLelckE8GXVqlWDk5MTbt++jY4dO8LNzQ0xMTFqbbKyshAXFyfeN+jm5obo6Gi1NrnL+d1bGBQUhHHjxonLSUlJ8PDwgL+/P2xsbErykAyeUqlEWFgYOnfuDFNTU32HU+6xv3WL/a1b7G/dYn+/uIInZeUiAXz8+DGeP3+OihUrAgB8fX2RkJCAs2fPwtvbGwBw4MAB5OTkwMfHR2zz1VdfQalUir8AYWFhqF27ttbLv4DqwRO5XK5RbmpqKtlfIikfuz6wv3WL/a1b7G/dknJ/S/W48zLIh0AUCgUiIiIQEREBALh37x4iIiLw8OFDKBQKTJw4ESdPnsT9+/exf/9+vP3226hRowYCAgIAAHXr1kWXLl0wcuRI/Pvvvzh+/DjGjBmD/v37w93dHQAwcOBAmJmZYcSIEbhy5Qp+++03LFmyRG2Ej4iIiKg8MsgE8MyZM2jatCmaNm0KABg3bhyaNm2K6dOnw9jYGBcvXkSPHj1Qq1YtjBgxAt7e3jh69Kja6NyGDRtQp04ddOzYEd26dUPr1q3V5viztbXF3r17ce/ePXh7e2P8+PGYPn06p4AhIiKics8gLwH7+flBEIR86/fs2VPoNhwcHLBx48YC2zRq1AhHjx4tdnxEREREZZlBjgASERERUelhAkhEREQkMUwAiYiIiCSGCSARERGRxDABJCIiIpIYJoBEREREEsMEkIiIiEhimAASERERSQwTQCIiIiKJYQJIREREJDFMAImIiIgkhgkgERERkcQwASQiIiKSGCaARERERBLDBJCIiIhIYpgAEhEREUkME0AiIiIiiWECSERERCQxTACJiIiIJIYJIBEREZHEMAEkIiIikhgmgEREREQSwwSQiIiISGKYABIRERFJDBNAIiIiIolhAkhEREQkMUwAiYiIiCSGCSARERGRxDABJCIiIpIYJoBEREREEsMEkIiIiEhimAASERERSQwTQCIiIiKJYQJIBiMmXgFZ+xDI2ocgJl6h73CIiIjKLRN9B0DSdS8yHtUGLhWX724cq8doiIiIpMMgRwCPHDmCt956C+7u7pDJZNixY4dYp1QqMXnyZDRs2BBWVlZwd3fHkCFD8PTpU7VtVK1aFTKZTO1r3rx5am0uXryINm3awNzcHB4eHpg/f74uDo/y8e+l28Djk0DkOVy9H4OYeAVHAomIiEqBQY4ApqSkoHHjxhg+fDh69eqlVpeamopz585h2rRpaNy4MeLj4/HZZ5+hR48eOHPmjFrbmTNnYuTIkeJyhQoVxO+TkpLg7++PTp06YfXq1bh06RKGDx8OOzs7jBo1qnQPUOLuRcYjNV2Jx7GJQOIj4M5eAED/gGCxTfs3jwM+nwIAhIMz9BEmERFRuWWQCWDXrl3RtWtXrXW2trYICwtTK1u+fDlatmyJhw8fokqVKmJ5hQoV4ObmpnU7GzZsQGZmJtauXQszMzPUr18fERERWLx4MRPAUiZe9j37A5D8RHujtOdAdiZgbKa7wIiIiCTCIC8BF1diYiJkMhns7OzUyufNmwdHR0c0bdoUCxYsQFZWllgXHh6Otm3bwszsRYIREBCAGzduID4+XlehS1dyZP7JXy5ZuTg9iYiIDI5BjgAWR3p6OiZPnowBAwbAxsZGLB87diyaNWsGBwcHnDhxAkFBQYiMjMTixYsBAFFRUfDy8lLblqurq1hnb2+vsa+MjAxkZGSIy0lJSQBU9yUqlcoSPzZDlnu8xTnu2IQUAMCXHW0wb1qwWp1Z8/eReWadWpmFuVmx91FevUp/06tjf+sW+1u32N/SPvZcZToBVCqV6NevHwRBwKpVq9Tqxo0bJ37fqFEjmJmZ4cMPP8TcuXMhl8tfaX9z585FSEiIRvnevXthaWn5Stss616+HF8U86aNU1v++eef8emnnyIzT9mgQYPQt28jAEBoaOjrhFiuvEp/06tjf+sW+1u3pNzfqamp+g5B78psApib/D148AAHDhxQG/3TxsfHB1lZWbh//z5q164NNzc3REdHq7XJXc7vvsGgoCC1xDIpKQkeHh7w9/cvdP/ljVKpRFhYGDp37gxTU9MirWPbfZ7W8iFDhmiUBc/7Fp6udq8TYrnyKv1Nr479rVvsb91if7+4gidlZTIBzE3+bt26hYMHD8LR0bHQdSIiImBkZAQXFxcAgK+vL7766isolUrxFyAsLAy1a9fWevkXAORyudbRQ1NTU8n+EhXn2O9v/gIAUKfGUsTHPcu/oVdHxCsyUdFRAABYWfBBkFxSPtf0gf2tW+xv3ZJyf0v1uPMyyARQoVDg9u3b4vK9e/cQEREBBwcHVKxYEX369MG5c+ewc+dOZGdnIyoqCgDg4OAAMzMzhIeH49SpU2jfvj0qVKiA8PBwfPHFFxg8eLCY3A0cOBAhISEYMWIEJk+ejMuXL2PJkiX49ttv9XLMUuBibw0AuH77Hlyr1gOSHmlveG8/Wvp1A+q8A8hknAaGiIiohBlkAnjmzBm0b99eXM697Dp06FAEBwfjr7/+AgA0adJEbb2DBw/Cz88PcrkcmzdvRnBwMDIyMuDl5YUvvvhC7fKtra0t9u7di9GjR8Pb2xtOTk6YPn06p4DRlWYjgKwM4Nhc7fXRF1VfDjWRkzMNRkZ8IpiIiKikGGQC6OfnB0EQ8q0vqA4AmjVrhpMnTxa6n0aNGuHo0aPFjo9ej4u9NRShQUhJz4RrLzlwKDj/xnG3YGxsDF9fX+zeux+2b714W4siNIiXh4mIiF4Bh1VIL6wszOBib43obeOBdtMLbR8eHg7bCpbAye9UI4dERET0ypgAkl5ZmZupJnz2CwYcahS+QnqC6rLxoWAcPHEGMfEKpKRlFroaERERvWCQl4BJOqwszCAcnIGUtExYdwOQFg+cWlKkdd/q9KbqmzZTIByZXXpBEhERlTMcASSDkJsICie/gyAI+OGHH4q+8tE5mDhxYqH3hhIREZEKE0AySB988IHqsrBHqyK1X7hwIYyMjPjWECIioiJgAkgGK3rbeERf2IPTVx4CFdyLtE5gYCBkMhnS09NLOToiIqKyiwkgGSwXe2u42FujSkV7wHsU8OakIq9rYWGBqVOnQhAEpKRlQtY+BLL2IXxghIiICEwAqSwxtUR0XDL+/vvvIjWfPXs2jIyMYN2kTykHRkREVLYwASSD52JvrXpA5OAMuNhbo3v37hAEAR9++GHRNnDzb9Vk02lxSElXIiUtkyOBREQkaUwAqcxavXo1EhISir7CqaVwbdoN1l3nwLpbPq+gIyIikgAmgFSm2draQhAELFu2rGgrPDgCHA4Brv8JhUJRusEREREZKCaAVC6MGTMGaDu16CtEnUeFChVw//79UouJiIjIUDEBpHIjesdkRMclY9na34q8jpeXF7766itOIk1ERJLCBJDKjdxpY/r17Pbfu4VrFmm9OXPmwMjICBcuXCjdAImIiAwEE0AqvxoNwrW7T4vcvEmTJmjm3QI5OTmcO5CIiMo1E30HQFTScqeNySUIAh4+fAhPT89C1z1/7gyMjY0Br46AZ5vSDJOIiEhvOAJIklClShUIgoCNGzcWbYV7+1VzB2Ykce5AIiIqd5gAkqQMGDAAOTk5aNOmiKN74Yvh6mQP64CZnDuQiIjKDSaAJDkymQxHjhwBfMYWbYUcJXB0NhB/r3QDIyIi0hEmgCRZ0btmIzouGW/3e69oK1z4CdbW1oiNjS3dwIiIiEoZE0CSrNxpY9asXgm8OblI66SkpMDFxQXr168v3eCIiIhKERNAIgAwtQD8gvHTpj+K1Pz999+HTCZDXFxcKQdGRERU8pgAkuTlThsjHJyB3m93V00i7d6iSOs6OjrC398f2dnZnDuQiIjKDCaARHlYWZipksEn/yIlJaVI64SFhcHExATWrT4s5eiIiIhKBhNAonxYWlpCEAQcPny4aCtErFfNHZiVwbkDiYjIoPFNIESFaNu2reqy8J29wKMTha9wbC5cmxwFqnUCALW3khARERkCjgASFUH0tvGIvrAHF29HAtZuha/w8JhqNDCND4kQEZHhYQJI+eJDDS/kThnj6mANNP8IaDOlaCueWop+/fqVbnBERETFxASQ8pWS/l/SlxaH9n5tMWLECAiCoN+gDIWxGe4+jUPExcuFNt2yZQtkMhlkLT6WfCJNRESGgfcAkobcJCUlXQk8vwVc2oDTAE7/ewpr164F2k2HhdwEmz5ppN9A9SB3yhhRRXsoUjNg3fAt1T2CBTmzGv6dL+P4saNIScsU3y2sCA2ClYVZKUZNRESkjiOApMG621xY1++Gau4OwKUNmg3Or9V9UIbOoxXQdho8PKoU2OzE8WOQyWSwfvNjHQVGRESkiSOApOlQcMH1SY+hvHcEqak1YNt9HtIycxC9bTxc7K11Ep6hyZ07UGUmoqKiULFixYJXOr8WMDIB3pysGmnNsy0iIqLSxgSQ1Pj7+xepXdatfRg4cJ9qoR2nOcnLzc0NgiBA1uBd4Mrv+TfMyQKOzoZrowNAjQAAnDKGiIh0g5eA6cXTvs1GICwsTL2yZjfVHHh+wflv4HAIDhw/g5h4BWLiFaUZatniXE/Vb66NC273OJxTxhARkU4xASSVbKXGvX1fz50PVGr5ouCNz/NdfcBb7eHqYAPXnvNLKcCyRxEaBEVoEO6ePwi0nVr4CqeWok2bNnzSmoiISp1BJoBHjhzBW2+9BXd3d8hkMuzYsUOtXhAETJ8+HRUrVoSFhQU6deqEW7duqbWJi4vDoEGDYGNjAzs7O4wYMQIKhfro1MWLF9GmTRuYm5vDw8MD8+dLK3lJSctUjdolpABHZ2vUj/zwxYMK0dvGIzr0a9Xl3kaDYeLVVssWBeDILI1+liorCzPVl7mp6n4/v2Cs+vHnAtc5duwYjIyMIKsVyPkXiYio1BhkApiSkoLGjRtjxYoVWuvnz5+PpUuXYvXq1Th16hSsrKwQEBCA9PR0sc2gQYNw5coVhIWFYefOnThy5AhGjRol1iclJcHf3x+enp44e/YsFixYgODgYKxZs6bUj89QWHebC9dei1CtsotmZbvpcO21CMLBGRAOzoCLvbUqkZHJAIcaMK3ZKd+fT4UKFRAXx8uZuazMXzzY8d6Ad5GkSCt8pVuhwKFgXL50CSlpmbDtPg8AkJrOhJCIiF6fQT4E0rVrV3Tt2lVrnSAI+O677zB16lS8/fbbAICff/4Zrq6u2LFjB/r3749r165h9+7dOH36NJo3bw4AWLZsGbp164aFCxfC3d0dGzZsQGZmJtauXQszMzPUr18fERERWLx4sVqiWO49OKJ6GCGvJsMAWcF/G0RuHYdDB/bBvHMI0sM0H1xwdHREXFwc7O3tSzDYskn9KeH/5ln0CwZSnwP/Litw3Td8VOev/M1PSzNEIiKSGIMcASzIvXv3EBUVhU6dOolltra28PHxQXh4OAAgPDwcdnZ2YvIHAJ06dYKRkRFOnToltmnbti3MzF6MzgQEBODGjRuIj4/X0dHoV/i8QODeAfXCCpVwN3QxoreNhyI0SK0qN5ERDs6A5X+jWjKZDPALRju/Dhrbd3BwQGYmR6xeJvbjqaUQBEE8bwuScXwZhg0bhss37yMlLZOXhomI6LUY5AhgQaKiogAArq6uauWurq5iXVRUFFxc1C9rmpiYwMHBQa2Nl5eXxjZy67SNXGVkZCAjI0NcTkpKAgAolUoolUqN9oYmNT0TFfssBgBc/n4IfN9oodHGwvdDOFibiQlefseVW/5s+3iYmpoCmIKJEydiyZIlau3kcjks/Gcicus4cZukztvbGxb+M5EdexOZ53/Nt11CQgJaN28Ambkt5L6jkbQnWHdBSkzu+V0Wfq/LA/a3brG/pX3sucpcAqhPc+fORUhIiEb53r17YWlpqYeIim/TJ42QmZmJ6l5VNeq2bNkCU1NTHDqwr8jbyzttTPv27aFQKPDjjz+qtZnkm12sbUqR6rV6jQD0wbRp03Dp0qV82wrpiUg/OAdmZnOwfPlyVK5cWWdxSo3GtEhUqtjfuiXl/k5NTdV3CHpX5hJANzc3AEB0dLTa2xaio6PRpEkTsU1MTIzaellZWYiLixPXd3NzQ3R0tFqb3OXcNi8LCgrCuHHjxOWkpCR4eHjA398fNjY2r3dgpSj3wYGU9CxUH7RE6z179+7dQ6VKlYq8TaVSibCwMHTu3Pm/EUAVvw6dUKmKF2bOeDHtSUhICG4+jIGVuSmszE05EliA1PRM3F55EeYOXZF+uPCn0seMGSN+P23aNEyZMgUZymxxpBdAsUZf844SS3nUNr/zm0oH+1u32N8vruBJWZlLAL28vODm5ob9+/eLCV9SUhJOnTqFjz9WTVvi6+uLhIQEnD17Ft7e3gCAAwcOICcnBz4+PmKbr776CkqlUvwFCAsLQ+3atfN9cEEul0Mul2uUm5qaGvQvkZ3/nBcLWl7z9vc/u1C1atVX2vbLxy7uy8hE7eGSWr2DASvVZXm+7SJ/JlkC0jJzAJkl4BeMH0fUxYj33i3SurNmzcKsWbNeFLg0BOy9cPP2fVSq6AKZTAY3F0fVfZtapKRlwq7HwhexmBT9vE5Jy4R1t7nisiI0qFy81s7Qf7fLG/a3bkm5v6V63HkZZAKoUChw+/ZtcfnevXuIiIiAg4MDqlSpgs8//xxff/01atasCS8vL0ybNg3u7u7o2bMnAKBu3bro0qULRo4cidWrV0OpVGLMmDHo378/3N3dAQADBw5ESEgIRowYgcmTJ+Py5ctYsmQJvv32W30csm6cXKJZVq8P3lpwCkK3LiW7rzZTgMMzXyxHnhdfd0b50/bE8Igfg2Hy4ACy7h0p3sZiLgExl9Cy2V/FD8TIBI0abcCQ94bA3t4e9evVQd26dfH06VNYW1tDLpfDyMgINjY2sLKyKv72UX6TRiKissAgE8AzZ86gffv24nLuZdehQ4di/fr1mDRpElJSUjBq1CjVjfGtW2P37t0wNzcX19mwYQPGjBmDjh07wsjICL1798bSpUvFeltbW+zduxejR4+Gt7c3nJycMH369DI/BYy2/1QVoUGwrtIYSH/p6WbXRoBLgxLdvyI0CCnpmUhJV6Ka+4sE8N22NbF0+Xi1OfGo6ExrdsLWb8ehX/DvyIzYWPo7zMnC3du3EDxj2iutbm0ZLH5vamqK6tWro379+jA2NhanXapbr4HqDTTGxf9LPO95zsSRiKj4DDIB9PPzK/B1WDKZDDNnzsTMmTPzbePg4ICNGwv+j7JRo0Y4evToK8dZFgiCgApW5lrroq+dUE3uXIJy337x8jQlb/r6wMXeukT3JQW5I4JKpRKhoaEwdqmjmkPwxCIgM1nf4RWJUqnE9evXcf369QLb5U0aAaB79+6ws7ND27Zt0bRpU1SrVg1m5lao0G2uakLyV8DEkYhIxSATQNJU2OWylLRMpKRn4sHjp8CtXcAT1XyHFayCtW/QL1j1UEYp/Qf4cgLfsqVPqexHam7/+ilMTEwQm/AxGgxdqvYKv8lfBWPqlC+xM3Q3BoybDzw5DeSU3akOdu7cCQD49df8p8YBNBPHBg0aoFKlSqhWrRpatWqF5s2bw87BGRXfXf5a8TB5JKLyhAlgGZaZmYmff/4ZI0eOLN6K7Ur/IYycrAy15ZYtmpX6PqXA2c7qxc3LL106vXjuFKwt5XgrsCuwIgKo7g8AuLPhUzx49BQdRi8DZEb49cvuMEUWEhMToUh8jhxBhtTUVJyPiMD2PUcBc3sgLQ5IiUZZdPnyZVy+fBkAsGrVqnzb5U0cq1atip49e8LPzw9169aFk5OT+EfMy398FRcTRyIyREwADVzs8wT8e/oMtmz5HTj0g1j+8qhHUVSuXBmPHj0qwejyxzeAlI7U9MwXT1rfP6RWl/t2nOzsbODZdSD+HpAej+pV5gLZLxLywX1WF7wTRZRmmcwYMDEH5BXQvkVd2Nvbo3LlyrC0tIS9vT2sK9hi9Orjqie9hRwgUwEIOdizcAge3r2Jy5cvw8HBAUlJSYiJeYZffvnpdbqhxN2/fx/fffcdvvvuu0JaygCn2vjyy0S89VZ3tGjREva22m9tYOJIRIaMCaABiolXwLVaIyDhXolsb9KXX2Hy5MlwsKtQItsriuPHj6st5zf1CL0iRbRGAtixY0dMmTIFc+e+etKRLyEbUKYAyhQcPKglQXyZsRwws8Jnn56Cj48Pqnh6wsXFGY0aNYKjoyOmTp0CU7klqg17MWn4s21fIEmRimpvfQmkPsOI9h74e8c2jTk99UsAnl3H8qXXsXyp9hkDZDIZRo8ejZp16gPPbwKmloCRKSAzgiLPvbEFJXRMHomotDEBNECHDx18peTPzMwMW//Yjh4LTwEy1Wue9fHhn5OTI07JAwBOTk463X95lHcybzy7AVzepNEmd17Mlzk6OaF6rfr4954CgIDBAc3h7GgH6wrWcHN2RIUKFSCXyyEIAhQKBe7cf4jEhATceRiJPeFXAGUqale0QlJCPJ49iy3aK5SyM4C0DFy/GofrVy/n385YDshtABNzDHv/IhwcnYHUZ4CZFXzbBeCL8ZNgb28PW2vL/45fCdde/81VmJMNyIxw66eRyFAkICY+GR1GzAayMvBhQC1s/PVnJCfr/kEZQRCwfLn2+w3dHFfku56JiQkaNmyIuvXqo1nzloAyTTXqKpMhJf1Fn5dm4khE0sEE0IDExCsAAP169ShS+/YdOmHBwoXwbtpYLEtJywQWnS6V+Irq33MX1Zbv3Lmjp0jKj4p9FiOoNdQS6/wYGxtDEAQMHjwYEydORP369RGbkALXXosAAIsWjy/SE9kx8QpxnSPbVOsIgoDU1FQ8e/YMd+7cQU5ODp4/f47o6Gh8Nnf9f6OEaaoph5RpqpHDgmRnAKmxAICdf6rfnvDBoN9V38iM4eLsiEqVKsHewQG4EqVKGi3sAbMKOHnqNNxcnGBiaQdUbAbIjPDpxI8xc/Y8pKQr4WJn9SJxFHJUfxxlpePGz5/g1s2b6P7pYkARBYuEa0hLSyu0X0pLVlYWzp8/j/Pnz2PjBvUHX1wdglXfWDjg0w8GoWnTpqhYsSJMTFQf4UZGRlAoFLhw+RoQsV41QixkA6ZWGDToMvzatUXbdu3QpFEDGBkZFRgHRw+JpIEJoAHJ/c9WQ5uvNG74z++D+eWJhPXh7792qC0b8mvyyoKzZ88ibe90TN9bSEMrVyyeNRkDBw6Eq6trqcQik8lgZWUFKysreHp6qtX1f284ACAmIRUNh6sevjg4rxcSYp8gPu45cpTpuHPnDlJTUxEdHY1r167h8ePHSElJQXp6ev47FbIRExOT76Xg9979LW+EgIk5GjT6HjC3Bcys8dX7AbBzcARirqgux5rbAcZmcHVyhJ2dD1CpJQDg/rbDYmKcO+1Om3btkZKehSpdJwDJT1VT76TEAnG3Xq0DX1daHJYtW1b09tmZ+HP7Vvy5fatasaurKz777DMEBASgcePGMDY2BsARRCIpYQJYFrzCRLn6kDuCuX3bNq3lnAeweLZt24bevXsX3rDyG4BbE8DaDV988YXWJi721sX+w6C462j7+dar5QUXn4aFrnv11j08i32Gw8dOYPoPe4DsDLSvYQ4hKwORkU+RlpqCx48fIycnp5AtCUBWGqBIAxSRAIDZs89obenk8C3sHRyBDHPARI4+ff9F3ZpesLW1hZdnZdy+fRuVKlVC5SpegJ2n6us/dzeORbWBqonl7/7yEdwcbRATE4Nz587h2++W4NbNm4iKiiz0uPUlOjoaU6ZMwZQpU9TKh74/AojPUj3MY2ZV5EvPRFT2MAE0INHbxgPIc7nnpXJDT6DEEcwrl7SW63tk0tC8PNoSvW08nGwt8cMPP+Cjjz4qfAMN+gMONfHv9x/CydayxCf11qV6Nb2Aml6oU7cupu9KAABs/k39UnVOTg6Sk5Px4MEDxMTE4Pbt24iLi0NU7HM8efwYt+89xMVrt4GMZLWnnvOTlZWF2JgXU90c3X8TR/ert1m8eLHqGxNzQG6Ddi0bonLlypgzKwR4qBpR3LJ1O5o3awRHRyd06tQJ77zzDgDto2li4piTjcdbvsCT+7egUChw//59HDx4ELGxz7Bnz+5X6MGS8dO6H9WWxc+iSi1x9+hmeHl56TwmIiodTAANSH4JnqEnfgVya6rvCMqGbCW6d/XH6VPhhbf1Hae6B+4/nq62BnWOvMpoY1EYGRnB1tYWjRo1AvBi2ptcee9ZvL/hE0CZiqdPn+LRo0eIj49HbGwsnj17hqdPn2LLvnNARpJqupqsItz3l5UOZKXj8MH9GlWTv9B817KTkxMcHB2BR3GATSV8/cUQ1KtbBxcuXARSnwPmtohXZKJqzXoAgA4dOmD48OHi+mLymJMNZCoQGtwVR48dw9zv1gDpCap4XuLuXgm169TFwQfGgKmF6mEayNDQXoFLF84XfowFefIvqlWrJi5+/PHHmDFjBlxdXXnPIFEZxQTQgOReKs2v3JD+k9cmett4PHr0EM0bB4tl+/5Yh4Z1q+svKAOUkpaJmIQUxCcmA3f3AQ+PAQAKe3Rn7dq1GDx4MDKzhHJ7n1ZJJY8WFhZwcXeGp6cnfH19Nepzf6di4lPQcOgSICcLv38ZAGMhA7ExMYiLjcSuXbtgZ2eHiIgIpKenIzY2tsj7f/bsGZ49e6ZaSI3F1MkRGm0a1pynegpaJkNNz4pwcXGBpaUlPD09YWVdAbh/HjCWY+5HXfH4SSSqVKsD1OgKmMgR9t0o1KrmAXNzc7XPBW2jjn/mjjpmKnB4QT/s2LoJ69atQ0JCQpGP52WrVq16Mcl2lTaAV3tx5gEiKhuYABqQ/B4CcW01BHBpAOFw/u8+NgQu9tYImqB+DA3rVjf4xFWXBEGAdb0uwP2DRWpfqVIl3L17FzKZDKGhoQAM40EfQ1Sc5FHtnDSRA5CjXWsftYdA6tWrh27duolvXklNTUXE5et49iwWT2Li8cn8LUBaHHr7VIJMyEZychLu3r6FhISEoiWLOVmqLwC3bt3CrVvaHywJmrhHo6xz6/8m8zYxR4M6NeDh4YG6devC3MIKeHQKMLPGryFDUNm9Iu7df6hqa2YNx4qe+HLaTHw5baZ4rImJifhrZyj27N6FDb/+UoTee8nDo6ov64q48+h9VPdwA8B7BokMHRNAQ+TaCIjOM5XK9e3A9e3w9Q3DpEmTxHuM8l7yit5WtKk9StvatWv1HYLBEQQBx48fR5s2bYq8zoQJEzB37lxxmo8izb1HpcrS0hKtWqpeaRgTr8AnP90AAKxcpf1378mTJ7hw4QJiYmJw9fotxMXH4XlcAnYcOAMo0+BuawxjGaDMUiI2Jkb1BpfiykoXX323a9cutarB/dQfxoKJORrUXQwYmwHGcnTyqQt3d3e4uLjA3d0d3QO7oXfvPuj19T+AqZXq4bNsJfDkX+CR+sTuWiki0bi2J2DtBniPgnAopPjHQ0Q6wwTQgOQ+7BH5bCSadOoPPDkFZL94c8DJkyfRq1cvAIC/vz9mzV2glzjzk5GhfuP9X3/9ZRBJqS68fOnt7saxqOJigxEjRuCnn4rx2rMGAwDHmliwgP956kJp3a8IqEZvK1WqpFYWE6/Ajv/+aDuf5482QRCQk5ODp0+f4tmzZ0hOToZCoUBSUhKeRMVCkZyMx1HP8L+/TgLZGXizph0S4mIRFRWJ57mXmgvz332Mufbte1L4OqZWgLwC2nUOxBvNm6JS5co4ffI4fvmlgJFCRRRweCbGj1dg0aJ8prYiIr1jAmhA1JKlah2BSi3Rt8pT/Ln9D4136+7duxd79+5V/TVfqSUeRw3Xvh0dmjNnjtpyYGCgXuLQK2UacDcM1dyDi75O3V6Acz1cXv8pqrrZlVZkVIJKOnGUyWQwNjaGh4cHPDw8tLaJiVfgf1dVCdW2PMljZmYmnjx5gsePHyM5ORlPnz7FgwcP8PDxUygUCty+9wAXbzwAsjPhZG2CtLRUpCi032+s4b/X/x0O+weHw/7JE7AxYOkIpOT/mr7Fixdj8eLFCA8PxxtvvFG0/RGRzjABNGTyCli+ag1+37wRp0+fxldffYWwsDD1NtmZwMNj8K5XRTVVRZP3IZxeqZdwZ85Uv0exsDcOlAcpaZm4H5WAh4+eAIeCi7zeunXr0KffAFQInCeWWZqb8r6pcq40RhzNzMzg5eWV7xQteW8VufJf4piTk4Po6Gjcv38fkZGRiIyMRHJyMuLj4zH/572qp6MzklVPSmt7SlrILjD5yyv3IZzffvsNgW/15BPDRAaCCaAB0vafRIsWLVQjfgBkdXsB9w+pXreVV1Y6cGYVZLJVWLZsGUaPHg2ZTKaTmF++R23Lli062a++WXedDZxe+d+UGwUbM2YM5s2bBysrK7FMERok/ofoYmeV36pEJZo8GhkZoWLFiqhYsaJG3fgvpwEAYhNS0WD4KiArAxu+aI2EZ5F4+OABbl67jBMnTiA6Olpj3YK8++67qm/aTecTw0QGgAlgGRR94mcAwI17T9G2ax8g5pJGm08//RSffvopWrdujT179sDS0hJA6b3nc9asWWrLRXqDRRn35MkToAhPZq9evRojR47UOiLKJ3qptL32G11M5OjUvq1auSAIuH79Ojb/tkU18l/YO5/zOjwT8GiF50mfiUVmJrr5Q5WIXuCfYWWQi701XOytUdvLHajXG/ALxpoftT9ocOzYMVhZWUEmkyEiIgIp6S/uJcz7/euIiVdoJIC6GnnUlwMHDqBy5cr51k+ctQSX70bj7tM4fPjhh5K4HE7SIZPJULduXYQET4eQk4V79+4Bnu2KvoFHJ+DpZg/rOp3K7ZyWRIaO/yuVE2+/0wuCIODx48f53kTetGlTuDpUAB4eBwQBKelKpKRlIiXt9RLB58/VL38eOnTotbZn6ObNm4eOHTtqr2w4EPALxscj3kN9Lxd4VbTXbXBEJSR35FA4OKPQB8uqVq2K6PM7EfU8CcvXbVE9PVwUD48Ch4IxYMCAV5sGh4heGS8Bl2HaLu1UqlQJDx8+RHZ2Nr744gssW7ZMc8W7YaonVev/okpYjExe+TJkbEIK6teqplZWt5E3YuIV5WYKGPGyuSDA6+HPqtEObdrNAMr5yCdRfnJ/3/u+3QVjfpoIZCvR0/kGdmzbWui6f/zxB/744w8YV26B7BqBBjOvKVF5xgSwnDI2NsbSpUuxdOlS/P333+jRo4dmo/i7wJGvASMT3L37ntq7PouqxuBlEAThRYFDTfGJw7J+b5va3H5CDnB4JrSlfr6+vjhx4oROYyMyeMam+P5/6/DLL79i5YplmDxpYqGrZD8+DTw+je+/t8b0PepT1fCpYaKSxUvAEvDWW28BfsGA7zjA3E6zQU4WqlevDplMhu3btxdr2znJLz0J2ODdV47T0Ij3SOZk5/uwx/bt25n8EeXx8qVja0s5Jk2cAEVqBtB4aJG2MT1ogmpapZs7VX98EVGJYwIoEYrQICj2z8Xdu3dV0zC4NdXarlevXpDJZBg7diwEQUBMvAKy9iGQtQ9BTLzm5LFuT/9RW768/lNEbxsvvtWkKFLSMsV9vO79iCUh975I116LgLR44Mgsre1OnTqFnj176jY4orLM3gvwC8at2/fynbdQzdMzqj++zqzG09ikErlnmYhUeAlYInIvnVilZ6rm4KrzNqKvHsHef3bgvffe02i/bNkyLFu2DHXq1gMc3wZM5Fq3++DBfbVlZztLWJmbFWmqmZdfn2YorLvNVY36nfxWNSGuNq0moGXLlroNjKgMe3nKo7t37yItLQ2Wns2B2KsFr6yIQi1PZ6DRYMChRpm/vYTIEHAEUGKszM3Uvh88eDAEQcDNmze1tr9+7SpwbC5wKBhbtu9ETLxC60hgLleHCrCu3EB8h7F1t7la2587dw7WlnLVZZ48X9aWcsjM7SCrEYCTZyJe40hfQ0ayatQvv+Sv7VTAjDeoE70uCwsLRN84hYeRz9ClS5fCV7j4K3AoGMnJyaUfHFE5xwRQYnL/ChcOzlAbmatZsyYEQUBqaioaN26sdd0xIwbA1aECXKvWw40bN9Qf/sgr7hZwdA6QEgsA4nQzuU79exbe3t75B5mRCNzZC98WTSGTySCTyTBu3DjExcWJTUrrsvHNmzeB8AJeYN/6S8DIBIrQoBLbJ5GUudhbw83RBh999BHMO4cAHq0KXcfGxgahoaE6iI6o/GICSGosLCwQERGhuk+wYj5JWtIjNGzYEO+8807BGzu9Akh8hGpvBcG61Yf4dfMWrFu3Dm/4NC92XN9++y0cHR0hk8lQsaI7rP2Kfo9hUZ09exa1a9fWXlnnHcAvGHd/n8SnEYlKiUwmA6r749ajWMCxVoFtAwMDtd6+QkRFw3sASavo7RMBTFS9D7TneNWll1dx/kfx2/cGrC+R2KKiIoGo5eJyt+7H0b1bF7Rv3xEN6tWGXC4v8E0kL997qAgNQlZmGpo3zycxzfPuUhc7KyZ/RKUkceeXMDU1VY3qNxyouhf3+HwgO0Nr+19//RXbtm2DQqEo928fIippHAEkrXJfN+dsZwk41AD8gvE0NgEhISHo27cv3N3d9R2i6MiBMEyaMB4tvJvAwsICRkZGkMlkmDt3buFvF8hUYN7cOXBzc9Ookslkqqkr/kv+OPJHpBvirSqHZ0LISsf58+fzbZuamqr6nW871aBmEyAydBwBpCIzNjbG9OnTAQBKpRLbt2+Hg4MDHjx4gCdPo5CdnY2nMc/xv1VLi77Rap1VL5LPyQay0tG4khkuXLoKpD1/7XinTJmCKVOm4Pz582jSpAlS0jIRk5CCar1nAwn3gJgrwPMb+DqfafxyclTzj/GJQyL9atKkCXJycjBq1Cj873//097o6Gyg1UTArIivoSOSOCaAVCBtr5vLJZfL0a5dO5iamoplKWmZ+N81B9Ul47jbWtebMGECpk+fDiMTucZ0MTHxCtX8e9mZ2DCmGa5cOIdjx44hIiICSUlJr3QMTZs2xapVq/BxyPdA4kMgLa7QdVavXv1K+yKi0iGTyfDDDz9g4sSJ+d+re2IB0HIMYhJS4PJfEUftibRjAkilo9Fg8duC3uuZ7+iasRk6dQ7AwH69AQBZWVnYd+AQ9oeF4fctv+PhS/MPFubjjz8uVvuRI0cWqz0R6UatWrVU9+WGL9Y+VdO/y1Gtl4n41iOO4BNpxwSQStTLk70WV34jjiYmJuji3wld/DsheOYsWLefpJpuJvERoIgCUmNfJ2xRnz598Pvvv/OGciJDJjMCWk1QTSB95XfN+pPfAW9OAkwtdR4aUVnBBJDKJgt7oFJLXN6zDg2GrwKy0gFFFOYOaoIsZQaex0Zj2dIlhT8Ekqtqe+Tc3c/Ej6gMUIQGISX9v9c1+owFTmm57/j4fETHFn67B5FUlcmngKtWrSpOEJz3a/To0QAAPz8/jbqPPvpIbRsPHz5EYGAgLC0t4eLigokTJyIrK0sfh0PFlHcy66pudqpCE3PArio+Hf0xpgZNwreLFxXt51kzELcfP4Pi6m4mf0RlhJWFGVzsrVXvHLdwANpO09rO1dkBSqVSx9ERlQ1lcgTw9OnTaiM7ly9fRufOndG3b1+xbOTIkZg5c6a4bGn54lJAdnY2AgMD4ebmhhMnTiAyMhJDhgyBqakp5syZo5uDIJ3IycnBunXrEBISgoyMDNg7OOB6iiNQpTVgYs6pXYjKMPHVlkbGQLsZwOEQjTZmZmbIycnhH3hELymTCaCzs7Pa8rx581C9enW0a9dOLLO0tNQ6txsA7N27F1evXsW+ffvg6uqKJk2aYNasWZg8eTKCg4NhZsaEoKwo7J5DmUyG4cOHY/jw4QA0J4EmorIr9/df/L1uO031Hu+XuLq6IiYmRg8REhmuMnkJOK/MzEz8+uuvGD58uNpfeBs2bICTkxMaNGiAoKAgpKaminXh4eFo2LAhXF1dxbKAgAAkJSXhypUrOo2fdCvv5eOX34dMRGVT3omj09PTNepjY2Px3Xff6T4wIgNWJkcA89qxYwcSEhIwbNgwsWzgwIHw9PSEu7s7Ll68iMmTJ+PGjRvYtm0bACAqKkot+QMgLkdFReW7r4yMDGRkvHglUe68dEqlUnL3meQer9SOW1/Y37rF/tatkuxvIyMjREZGomLFimrlX3zxBfr06aPx2S9FPL+lfey5ZIIgCPoO4nUEBATAzMwMf//9d75tDhw4gI4dO+L27duoXr06Ro0ahQcPHmDPnj1im9TUVFhZWSE0NBRdu3bVup3g4GCEhGjeY7Jx40a1ewyJiEi/bt68iUmTJmmUb9++nfcDElJTUzFw4EAkJibCxsZG3+HoRZkeAXzw4AH27dsnjuzlx8fHBwDEBNDNzQ3//vuvWpvo6GgAyPe+QQAICgrCuHHjxOWkpCR4eHjA399fcieQUqlEWFgYOnfurPYmECod7G/dYn/rVmn0d7du3XD+/Hls2rRJrbzXex/BvNVoRG4dB0tzad4CwvMbr/xmqfKkTCeA69atg4uLCwIDAwtsFxERAQDiJQFfX1/Mnj0bMTExcHFRvTAoLCwMNjY2qFevXr7bkcvlkMvlGuWmpqaS/SWS8rHrA/tbt9jfulXS/f3dijUaCaCgiEbapR24+WQ4PF1tYWVuJtl7gaV8fkv1uPMqswlg7vQeQ4cOhYnJi8O4c+cONm7ciG7dusHR0REXL17EF198gbZt26JRo0YAAH9/f9SrVw/vvfce5s+fj6ioKEydOhWjR4/WmuAREVHZ49prEdBmCnD0pem9Is+h5cf/Exf5ujiSojL7FPC+ffvw8OFDcXqPXGZmZti3bx/8/f1Rp04djB8/Hr1791a7R9DY2Bg7d+6EsbExfH19MXjwYAwZMkRt3kAiIioHjM2Aap00y1NK5vWRRGVVmR0B9Pf3h7bnVzw8PHD48OFC1/f09ERoaGhphEZERAYgett4pKQr8ShmKNo18VKvPL0C0XHJLyaTJpKYMjsCSEREVBAXe2t4VbRHnSpOQItPNOoP7v1Hsvf/ETEBJCKi8s/KRaOof//+egiEyDAwASQionLNxd5a9cq4lBSNupefEiaSCiaAREQkCZaWlhrveh84cKCeoiHSLyaAREQkGcnJyRplly9f1kMkRPrFBJCIiCTj5RFAAGjYsKEeIiHSLyaAREQkKY8ePSpSGVF5xgSQiIgkpXLlyhplVapU0UMkRPrDBJCIiCTno48+0iiTtf0KKWmZeoiGSPeYABIRkeQ4ODhoFt7eo/tAiPSECSAREUlKTLwC7lVralZEnsXVB7GIiVdwJJDKvTL7LmAiIqJX4dprEZCp0FrX8qMfAJkMACAcnKHLsIh0iiOAREQkPWbW2svT4nQbB5GecASQiIgkJXrbeKSkK1G/xgKkpaq/Hm5wg0wsWjgeVuaa8wUSlSccASQiIklxsbeGV0V7/LZ1m0bdr2u/h4u9NawsmABS+cYEkIiIJKmlj6/WckEQdBwJke4xASQiIklydaigdTqYP/74Qw/REOkWE0AiIpKs8PBwjbIBAwboIRIi3WICSEREklWrVi2NsqysLD1EQqRbTACJiIhecvbsWX2HQFSqmAASEZGkhYWFaZTxMjCVd0wAiYhI0jp27KhRduvWLT1EQqQ7TACJiEjSZP+9+u1lz54903EkRLrDBJCIiCQtJl6BSV9+pVHu3KAT7kXG6yEiotLHBJCIiCTNtdcizD+upSL6AqoNXKrzeIh0gQkgERGRsan28uSniIlXICUtU7fxEJUyJoBERCRp0dvGq75xbaRZeXYNXHstgnW3uboNiqiUMQEkIiJJc7G3Vn1TM1B7gxxODE3lDxNAIiKSPEVoEC7//LnWuk7mp6EIDdJtQESljAkgERFJnpWFGep7ueB/P67TqNu3dw8szfO5R5CojGICSERE9J93+2t/A8jXX3+t40iIShcTQCIiov9YW8rRpk0bjfLp06frIRqi0sMEkIiIKI89e/ZoLZ8xY4aOIyEqPUwAiYiI8rCwsICdnZ1G+cyZM5GcnKz7gIhKARNAIiKilzx+/FhruY2NjY4jISodZTIBDA4OhkwmU/uqU6eOWJ+eno7Ro0fD0dER1tbW6N27N6Kjo9W28fDhQwQGBsLS0hIuLi6YOHEisrI41xMREQFWVlYYMED7AyGhoaE6joao5JXJBBAA6tevj8jISPHr2LFjYt0XX3yBv//+G1u2bMHhw4fx9OlT9OrVS6zPzs5GYGAgMjMzceLECfz0009Yv349b/IlIiLRt8u/11oeGBgIWdupfD0clWllNgE0MTGBm5ub+OXk5AQASExMxI8//ojFixejQ4cO8Pb2xrp163DixAmcPHkSALB3715cvXoVv/76K5o0aYKuXbti1qxZWLFiBTIz+QtNRESAW+/FQNPh2iuPztZtMEQlrMwmgLdu3YK7uzuqVauGQYMG4eHDhwCAs2fPQqlUolOnTmLbOnXqoEqVKggPDwcAhIeHo2HDhnB1dRXbBAQEICkpCVeuXNHtgRARkeGyrZJv1UefjkNMvIIjgVQmmeg7gFfh4+OD9evXo3bt2oiMjERISAjatGmDy5cvIyoqCmZmZhpPcLm6uiIqKgoAEBUVpZb85dbn1uUnIyMDGRkZ4nJSUhIAQKlUQqlUlsShlRm5xyu149YX9rdusb91y1D7+8nvnwEAqg/IQvp+zYmgf/1xBbZcM4KRtTMSd36p6/BemaH2ty5J+dhzlckEsGvXruL3jRo1go+PDzw9PfH777/DwsKi1PY7d+5chISEaJTv3bsXlpaWpbZfQxYWFqbvECSF/a1b7G/dMtT+3vxpc+yv9ymWLVumUZdxYhl+++23MvlgiKH2ty6kpqbqOwS9K5MJ4Mvs7OxQq1Yt3L59G507d0ZmZiYSEhLURgGjo6Ph5uYGAHBzc8O///6rto3cp4Rz22gTFBSEcePGictJSUnw8PCAv7+/5KYGUCqVCAsLQ+fOnWFqyndkljb2t26xv3XL0Pv7QXQCBqy8mG/9u+++i/T0dBgZlY27qgy9v3Uh9wqelJWLBFChUODOnTt477334O3tDVNTU+zfvx+9e/cGANy4cQMPHz6Er68vAMDX1xezZ89GTEwMXFxcAKj+ErKxsUG9evXy3Y9cLodcLtcoNzU1lewvkZSPXR/Y37rF/tYtQ+3vGpWdkbpnGhKTx8POxkprG3NzcwiCoOPIXo+h9rcuSPW48yobf668ZMKECTh8+DDu37+PEydO4J133oGxsTEGDBgAW1tbjBgxAuPGjcPBgwdx9uxZvP/++/D19cUbb7wBAPD390e9evXw3nvv4cKFC9izZw+mTp2K0aNHa03wiIiITExMgOYf51vv7u6uw2iIXk+ZTAAfP36MAQMGoHbt2ujXrx8cHR1x8uRJODs7AwC+/fZbdO/eHb1790bbtm3h5uaGbdu2iesbGxtj586dMDY2hq+vLwYPHowhQ4Zg5syZ+jokIiIycFYWZhBOr8TKlSu11kdGRqJ27do6joro1ZTJS8CbN28usN7c3BwrVqzAihUr8m3j6elZJm/aJSIi/fr444+xdetWHDhwQKPu5s2b6NYtEKGh/+ghMqKiK5MjgERERPq0f//+fOt27QrFtGnTdBgNUfExASQiInoFySnp+dZ9/fXXkHm1h6x9CGTtQzhZNBkcJoBERESvoELgPKBtASN99w8Bt/foLB6i4mACSERE9KqMjIG2U/OvfxwO3ApFdHwKUtIyORJIBqNMPgRCRESkb4rQIKSkZyIlXYlq/QEc0XxdHADgyb+o3n4o4O4NABAOztBdkET54AggERHRK7CyMIOLvTVc7KwAI5OCLwff/BuIuqC74IgKwQSQiIioJBgZA22+yr/++nZsGdNId/EQFYAJIBER0WuwsjCDcHCG6uvI14h9npBv2759enEOWjIITACJiIhKkIWFRYEjgYGBgZA16M8HQkivmAASERGVICsLMwhHvkZ6ev7zBOLKb1i/bq3ugiJ6CRNAIiKiUiCXy5GWlpZv/ZjRH6N333cRE6/ghNGkc0wAiYiISom5uXmB8wRu2/o7XB0qADnZOoyKiAkgERFR6TIyAdpNL7jNkVlAeiJS0pWcMJp0ghNBExERlaLcCaMVaZ+heiXH/Bue/BauzS8DVd4EwAmjqXRxBJCIiKgU5U4Y7WpvDfgFA7IC/uu9GwYcCgZysnQVHkkUE0AiIiJdajcdqORTcJsjX+Ptt9+GIAi6iYkkhwkgERGRDuSdMFpx6wj+/mdXge3/+usvGBkZQVapJSKfJQIAUtIy+cQwlQgmgERERDpmZWGG7t26IOZZfOGNn56Gu7MdZDIZrNuMfeV95iaPtt3nvfI2qPxgAkhERKQnlpaWqvsCq7Qp2gpnv1fdI3htG06dv8InhumV8SlgIiIiPcm9LAzMQEZGBpo3b47Lly8XvmL0RXR8s5m4uHjxYgwaNAguLi4aTWPiFXDttUi1IOQgJyUOFy5cgNzCEi1bvgEHuwoldDSvLiUtE9ZdZwNZGYCphVqdIjQIVhZmeoqs/GICSEREZADkcjkuXboEWcsxwOkVxVp33LhxGDduXJHaZgCYcfzFct++ffHbb79BJpMVa59FlZKWCetuc8VlbQndjh3bgcMz1Vf0GQtYOJRKTMQEkIiIyKBE75kHYB5+/+NPfDpycKnvb8uWLTAxM8emJ9VV+982Hi721vm2L0pCl19bbfUbN23GqBFDNStPLQXsqyE6fiys0zNhZW7GkcASxASQiIjIgOQmX/16v41PNwQDiY+A8z+W6j43bfgFaDYSsKmkUZc3iVOEBuW7jZycHKSmpkKhUEChUCD2WTweRsUCz28B2ZniV9C0GUiKi0VyUiK2/bG14MDi76J6Mz+gbi8AnBy7JDEBJCIiMmS2HoiOS4YsJwsudXyBZ9dLZz/nfgCqB+Cb+Qsgy85ESooCMiEbRsYmwO3TQE4WrD23wKemA3D2IpChmprG2jK4WLtZtqjg6W80RF8UE0AqOUwAiYiIDJCLvbXaiFdKWibQoD8A4N5PH+CjUSNw6tQpJCQklNxO7+zB4nl7CmxyKrbkdldU0dvGw8qcl39LEhNAIiKiMuDFE8Mqu3fvBgAIgoA7d+6gZvfxQPw9ICUaUKYCmQp9hfpqKjYDavdQTXPzkoLuSaRXwwSQiIioDJPJZKhRowaiwzcAAGITUtFg+CpAELB7ZiASnseg//RfAWUq5o9sh8z0NFy6dAk1atTA4aPHcOzIYb3G36JFC8xdtBydpu9S3Sf4koBu3fUQVfnHBJCIiKgc0Bglk8nQtGFduNi3wLvvBIrFSqUSoaGh6NatG0xNTdGkSRNcuHChRGKwsbFBUlISAMDY2BjNvJvj9M0YIOkRkJMF2Hpi7Yr56NC2NZycnMSnemXtQ1QbiIrQ2OaeSM25Den1MQEkIiKSsLNnz+LbpSswcdYSwFiOt9vUg4XcFLVq1UILH19UrFwFzYcvAUwsAGMznP3+I3h/+ou4fnGngenXq2f+07ncCtUsM2KqUhrYq0REROXIyw+PFMbY2BgTvhiLCV9of89wSlomUMFdXK5dvXKRt59732Jh8wFGbxsPAHB1CNaoGx9QSXzdHecBLDlMAImIiChfVhZmUIQGFZjAFWUbBSWNBT3ksejn3Vh0QgDAeQBLEhNAIiIiKlBhCVxJUCqV2itsKpfqfqXKSN8BEBEREW3ZskV7hUMN3QYiERwBJCIiIr0bMmSIZqFtFdz9fSJc7Kx0H1A5xwSQiIiI9C47O1uz0L4arMxN+fBHKSiTl4Dnzp2LFi1aoEKFCnBxcUHPnj1x48YNtTZ+fn6QyWRqXx999JFam4cPHyIwMBCWlpZwcXHBxIkTkZWVpctDISIikrzExETtFfbV+Aq4UlImRwAPHz6M0aNHo0WLFsjKysKUKVPg7++Pq1evwsrqxTDxyJEjMXPmTHHZ0tJS/D47OxuBgYFwc3PDiRMnEBkZiSFDhsDU1BRz5szR6fEQERFJVUpaJuzqtNdal3lqNUxNTXUckTSUyQQw9/2HudavXw8XFxecPXsWbdu2FcstLS3h5uamdRt79+7F1atXsW/fPri6uqJJkyaYNWsWJk+ejODgYJiZ8S8OIiIinYg6r7WYyV/pKZOXgF+WO3Ts4OCgVr5hwwY4OTmhQYMGCAoKQmpqqlgXHh6Ohg0bwtXVVSwLCAhAUlISrly5opvAiYiIJColLRMx8Qo8iU3QdyiSVCZHAPPKycnB559/jjfffBMNGjQQywcOHAhPT0+4u7vj4sWLmDx5Mm7cuIFt27YBAKKiotSSPwDiclRUlNZ9ZWRkICMjQ1zOfd+hUqnMf/6icir3eKV23PrC/tYt9rdusb91y1D627nnN6o4bu7VWm9au0upxajvYzcEMkEQBH0H8To+/vhj7Nq1C8eOHUPlyvlPFnngwAF07NgRt2/fRvXq1TFq1Cg8ePAAe/bsEdukpqbCysoKoaGh6Nq1q8Y2goODERISolG+ceNGtfsLiYiIqGh69uyptXzFihWoVKlSqewzNTUVAwcORGJiImxsbEplH4auTI8AjhkzBjt37sSRI0cKTP4AwMfHBwDEBNDNzQ3//vuvWpvo6GgAyPe+waCgIIwbN05cTkpKgoeHB/z9/SV3AimVSoSFhaFz5868R0MH2N+6xf7WLfa3bhlKf6emZ0Lx3zt+ten2dh9UcrEvlX3nXsGTsjKZAAqCgE8//RTbt2/HoUOH4OXlVeg6ERERAICKFSsCAHx9fTF79mzExMTAxcUFABAWFgYbGxvUq1dP6zbkcjnkcrlGuampqWQ/tKR87PrA/tYt9rdusb91S9/9bWtqiksXtD/8AQB2FaxKLT6eZ2U0ARw9ejQ2btyIP//8ExUqVBDv2bO1tYWFhQXu3LmDjRs3olu3bnB0dMTFixfxxRdfoG3btmjUqBEAwN/fH/Xq1cN7772H+fPnIyoqClOnTsXo0aO1JnlERERUsiZNmpRvXUq6EqamqhFCTgRd8spkArhq1SoAqsme81q3bh2GDRsGMzMz7Nu3D9999x1SUlLg4eGB3r17Y+rUqWJbY2Nj7Ny5Ex9//DF8fX1hZWWFoUOHqs0bSERERKUnPDw837rK/b4DZDIAgHBwho4iko4ymQAW9tyKh4cHDh8+XOh2PD09ERoaWlJhERERUYkRAMj0HUS5VS7mASQiIqKyJSEhoZAWquRPERpU6rFIUZkcASQiIqKyLXfmjVwNGzXGpYsXXtRvnwArczPe/1dKOAJIREREOnfxkvpbt5q3aPliwcKByV8pYwJIREREOnfz5g21ZTu7F3P+BbRtyeSvlPESMBEREelMSlomUtIzceTYCbVyucWLN2pVq1b4/L70epgAEhERkc5Yd5ur+ubCNbXyeT/+JX7v4eGhy5AkiZeAiYiISPdkL6UgWenit8nJyToORnqYABIREZHOKEKDEL1tPPxb1lQr963lKH7v7e2t67Akh5eAiYiISGesLFRP91pamKuVX796Wfw+MjJS12FJDkcAiYiISOeMjNRTECdnZ/H7TZs26TocyWECSERERDq3Y/s2teV3evYUvz9x4gSodDEBJCIiIp3LyclRW/7qq6/UlmPiFboMR3KYABIREZHe2djYqC3HxT3XUyTSwASQiIiI9O7lEb+1635GTLyCI4GlhE8BExERkd659lqktrxg1S9YcFx1mVg4OEMfIZVrHAEkIiIiw1DB/cX3cbf1F4cEMAEkIiIivYveNh6D+3TPUyIgett4RG8br7eYyjNeAiYiIiK9c7azgrurs1qZi721nqIp/zgCSERERDpXp04dtWVBEHDnzovLvh07+es6JElhAkhEREQ6d/78efT8b/LnqKgoxMbGYu/uULH+28UL9RSZNPASMBEREemcubk5tm/fjufPn8PR0REffPABkpOTAQCjRo1Cw4YN9Rxh+cYEkIiIiPQiJS0TTn2WA8mRkJ1bC0A1IfSsWbP0HFn5x0vAREREpBcp6ZmAIAC3d0MQBADAtGnT4OLioufIyj+OABIREZFOpaRlqv5NVwKxV4HEBwCA6tWrY8TIj/QZmmQwASQiIiKdsu42V/VNthK4GyaW37FoAYeei/jmDx3gJWAiIiLSj0cngPQE1ff21QDH2noNR0qYABIREZHupcUBD478tyADqgcAMpleQ5ISXgImIiIinUr+50v0fLs79gvZqoJKLXD3r9lwsbPSb2ASwgSQiIiIdOrn9T9i/759qgVTS6Bqe1iZm8LKwky/gUkIE0AiIiIqdSlpmaqHP9LiYXX5fy8qar8NmFrAypzJny4xASQiIqJSl5KumvoFd/YiJSUFgOqNH99//70eo5IuJoBERERUatTm/Et4ADy7BgBwdXVD8MzZ+gxN0pgAEhERUalRm/MvYp1YHm3TDO79V3DOPz3hNDBERERU+s79oL7s3lw/cRAAJoBERERU2u6EASkxL5br9QVkTEH0SfK9v2LFClStWhXm5ubw8fHBv//+q++QiIiIygVBEDCixhPg0fEXhR6tcHff91CEBkERGqS/4CRO0gngb7/9hnHjxmHGjBk4d+4cGjdujICAAMTExBS+MhERURnz24FLsO0+DwBg230eYuIVJbLdmHgFZO1DIGsfIm7z0aNHqFOnDn78X55LvzYeQLXO4px/nPdPfySdAC5evBgjR47E+++/j3r16mH16tWwtLTE2rVr9R0aERFRiXqemIqth69CyFYiIyMDAHD7SZxYry2JexUxMTGYN28e6tWrh5s3b4rlzZp5A03fB2QyzvlnACT7FHBmZibOnj2LoKAXw89GRkbo1KkTwsPD9RgZERFRydpx9Cp+O3gFfx27huyr2zFq1FIoXVpixNQkDOraCkN6tIG5ubnGejHxCrj2WgQAiN42Hi721hr1APAw6jkQcwWIvoAm9WchOztbrd2sWbMwderUUjo6ehWSTQCfPXuG7OxsuLq6qpW7urri+vXrWtfJyMgQ/2oCgKSkJACAUqmEUqksvWANUO7xSu249YX9rVvsb91if5e+gV//AQCQpUYjO+oyEgEgMQzXb4Vh2p/AtI8AG1tbIEkBmdwa/fqdxPD3h+Fp1DPI055CZu2CrKws8WckCAIuXbqENwZ8iZznd5GT8BDIyQIA5E39RowYgTlz5sDe3t6gfr6GFIu+yARBEPQdhD48ffoUlSpVwokTJ+Dr6yuWT5o0CYcPH8apU6c01gkODkZISIhG+caNG2FpaVmq8RIREb2upKQkfPHFF3j+/PkrrT9o0CBERUXhwoULePbsmdY2jo6O8PPzQ4cOHVCpUqXXCbfUpKamYuDAgUhMTISNjY2+w9ELySaAmZmZsLS0xNatW9GzZ0+xfOjQoUhISMCff/6psY62EUAPDw88e/ZMcieQUqlEWFgYOnfuDFNTU32HU+6xv3WL/a1b7O/SFxp+AxfuRGPdnggkxifg8zdN8c1vp+BlL8P12w8gpCciJ/HRK2/fraI7Yo3cYOzWEOG/zISbk+r/RGc7q5I6hBKVlJQEJycnSSeAkr0EbGZmBm9vb+zfv19MAHNycrB//36MGTNG6zpyuRxyuVyj3NTUVLIfWlI+dn1gf+sW+1u32N+l5+22DdCjTX1UsDLHVz8eQOPGjSAcl2HPr2NhamIMAIhNSEWDoUuApCdAWhyQ9hx4dELr9kxNTfHGG2+gZ8+e6NGjByo4uMKt92JkA6js5qBxr6Ch4Xkm4QQQAMaNG4ehQ4eiefPmaNmyJb777jukpKTg/fff13doREREJUomk6Gau4NamamJsXqyZmwG2Hvh8vb5cLazVCWFQ74Fnp7FvE/fgZuzPdzcKqKNbwu1W59KajoZ0h1JJ4DvvvsuYmNjMX36dERFRaFJkybYvXu3xoMhRERE5cHbresiceeXCA0NReLOL/MdCXO2s3yRGJqYA1XexPtD38t3ZM/F3prv9C1jJJ0AAsCYMWPyveRLREQkFUzipEXyCSARERFpx6Sw/JL0m0CIiIiIpIgJIBEREZHEMAEkIiIikhgmgEREREQSwwSQiIiISGKYABIRERFJDBNAIiIiIolhAkhEREQkMUwAiYiIiCSGCSARERGRxDABJCIiIpIYJoBEREREEsMEkIiIiEhimAASERERSQwTQCIiIiKJYQJIREREJDFMAImIiIgkhgkgERERkcQwASQiIiKSGCaARERERBLDBJCIiIhIYpgAEhEREUkME0AiIiIiiWECSERERCQxTACJiIiIJIYJIBEREZHEMAEkIiIikhgmgEREREQSwwSQiIiISGKYABIRERFJDBNAIiIiIolhAkhEREQkMUwAiYiIiCSGCSARERGRxJS5BPD+/fsYMWIEvLy8YGFhgerVq2PGjBnIzMxUayOTyTS+Tp48qbatLVu2oE6dOjA3N0fDhg0RGhqq68MhIiIi0jkTfQdQXNevX0dOTg6+//571KhRA5cvX8bIkSORkpKChQsXqrXdt28f6tevLy47OjqK3584cQIDBgzA3Llz0b17d2zcuBE9e/bEuXPn0KBBA50dDxEREZGulbkEsEuXLujSpYu4XK1aNdy4cQOrVq3SSAAdHR3h5uamdTtLlixBly5dMHHiRADArFmzEBYWhuXLl2P16tWldwBEREREelbmLgFrk5iYCAcHB43yHj16wMXFBa1bt8Zff/2lVhceHo5OnTqplQUEBCA8PLxUYyUiIiLStzI3Aviy27dvY9myZWqjf9bW1li0aBHefPNNGBkZ4Y8//kDPnj2xY8cO9OjRAwAQFRUFV1dXtW25uroiKioq331lZGQgIyNDXE5KSgIAKJVKKJXKkjwsg5d7vFI7bn1hf+sW+1u32N+6xf6W9rHnkgmCIOg7CAD48ssv8c033xTY5tq1a6hTp464/OTJE7Rr1w5+fn743//+V+C6Q4YMwb1793D06FEAgJmZGX766ScMGDBAbLNy5UqEhIQgOjpa6zaCg4MREhKiUb5x40ZYWloWuH8iIiIyDKmpqRg4cCASExNhY2Oj73D0wmBGAMePH49hw4YV2KZatWri90+fPkX79u3RqlUrrFmzptDt+/j4ICwsTFx2c3PTSPSio6PzvWcQAIKCgjBu3DhxOSkpCR4eHvD395fcCaRUKhEWFobOnTvD1NRU3+GUe+xv3WJ/6xb7W7fY3y+u4EmZwSSAzs7OcHZ2LlLbJ0+eoH379vD29sa6detgZFT4rYwRERGoWLGiuOzr64v9+/fj888/F8vCwsLg6+ub7zbkcjnkcrlGuampqWR/iaR87PrA/tYt9rdusb91S8r9LdXjzstgEsCievLkCfz8/ODp6YmFCxciNjZWrMsdvfvpp59gZmaGpk2bAgC2bduGtWvXql0m/uyzz9CuXTssWrQIgYGB2Lx5M86cOVOk0UQiIiKisqzMJYBhYWG4ffs2bt++jcqVK6vV5b2dcdasWXjw4AFMTExQp04d/Pbbb+jTp49Y36pVK2zcuBFTp07FlClTULNmTezYsYNzABIREVG5V+YSwGHDhhV6r+DQoUMxdOjQQrfVt29f9O3bt4QiIyIiIiobysU8gERERERUdEwAiYiIiCSGCSARERGRxDABJCIiIpIYJoBEREREEsMEkIiIiEhimAASERERSQwTQCIiIiKJYQJIREREJDFMAImIiIgkhgkgERERkcQwASQiIiKSGCaARERERBLDBJCIiIhIYpgAEhEREUkME0AiIiIiiTHRdwBlmSAIAICkpCQ9R6J7SqUSqampSEpKgqmpqb7DKffY37rF/tYt9rdusb9f/L+d+/+4FDEBfA3JyckAAA8PDz1HQkRERMWVnJwMW1tbfYehFzJByunva8rJycHTp09RoUIFyGQyfYejU0lJSfDw8MCjR49gY2Oj73DKPfa3brG/dYv9rVvsb9XIX3JyMtzd3WFkJM274TgC+BqMjIxQuXJlfYehVzY2NpL9ANEH9rdusb91i/2tW1Lvb6mO/OWSZtpLREREJGFMAImIiIgkhgkgvRK5XI4ZM2ZALpfrOxRJYH/rFvtbt9jfusX+JoAPgRARERFJDkcAiYiIiCSGCSARERGRxDABJCIiIpIYJoBEREREEsMEkET379/HiBEj4OXlBQsLC1SvXh0zZsxAZmamWruLFy+iTZs2MDc3h4eHB+bPn6+xrS1btqBOnTowNzdHw4YNERoaqlYvCAKmT5+OihUrwsLCAp06dcKtW7dK9fgM0ezZs9GqVStYWlrCzs5OaxuZTKbxtXnzZrU2hw4dQrNmzSCXy1GjRg2sX79eYzsrVqxA1apVYW5uDh8fH/z777+lcESGrSj9/fDhQwQGBsLS0hIuLi6YOHEisrKy1Nqwv19d1apVNc7nefPmqbUpic8Yyh/PTQIACET/2bVrlzBs2DBhz549wp07d4Q///xTcHFxEcaPHy+2SUxMFFxdXYVBgwYJly9fFjZt2iRYWFgI33//vdjm+PHjgrGxsTB//nzh6tWrwtSpUwVTU1Ph0qVLYpt58+YJtra2wo4dO4QLFy4IPXr0ELy8vIS0tDSdHrO+TZ8+XVi8eLEwbtw4wdbWVmsbAMK6deuEyMhI8StvP929e1ewtLQUxo0bJ1y9elVYtmyZYGxsLOzevVtss3nzZsHMzExYu3atcOXKFWHkyJGCnZ2dEB0dXdqHaFAK6++srCyhQYMGQqdOnYTz588LoaGhgpOTkxAUFCS2YX+/Hk9PT2HmzJlq57NCoRDrS+ozhrTjuUm5mABSgebPny94eXmJyytXrhTs7e2FjIwMsWzy5MlC7dq1xeV+/foJgYGBatvx8fERPvzwQ0EQBCEnJ0dwc3MTFixYINYnJCQIcrlc2LRpU2kdikFbt25dgQng9u3b81130qRJQv369dXK3n33XSEgIEBcbtmypTB69GhxOTs7W3B3dxfmzp37WnGXVfn1d2hoqGBkZCRERUWJZatWrRJsbGzEc579/Xo8PT2Fb7/9Nt/6kviMofzx3KRcvARMBUpMTISDg4O4HB4ejrZt28LMzEwsCwgIwI0bNxAfHy+26dSpk9p2AgICEB4eDgC4d+8eoqKi1NrY2trCx8dHbEPqRo8eDScnJ7Rs2RJr166FkGf6zsL6OzMzE2fPnlVrY2RkhE6dOrG/XxIeHo6GDRvC1dVVLAsICEBSUhKuXLkitmF/v5558+bB0dERTZs2xYIFC9QusZfEZwxpx3OT8jLRdwBkuG7fvo1ly5Zh4cKFYllUVBS8vLzU2uX+ZxkVFQV7e3tERUWp/Qea2yYqKkpsl3c9bW3ohZkzZ6JDhw6wtLTE3r178cknn0ChUGDs2LEAkG9/JyUlIS0tDfHx8cjOztba5vr16zo7jrIgv77MrSuoDfu7aMaOHYtmzZrBwcEBJ06cQFBQECIjI7F48WIAJfMZQ9o9e/aM5yaJOAIoAV9++aXWBwnyfr38y//kyRN06dIFffv2xciRI/UUedn0Kv1dkGnTpuHNN99E06ZNMXnyZEyaNAkLFiwoxSMoW0q6v6n4ivMzGDduHPz8/NCoUSN89NFHWLRoEZYtW4aMjAw9HwWRtHAEUALGjx+PYcOGFdimWrVq4vdPnz5F+/bt0apVK6xZs0atnZubG6Kjo9XKcpfd3NwKbJO3PresYsWKam2aNGlS9AMzUMXt7+Ly8fHBrFmzkJGRAblcnm9/29jYwMLCAsbGxjA2Ni7wZ1KWlWR/u7m5aTwRWdTzWyr9rc3r/Ax8fHyQlZWF+/fvo3bt2iXyGUPaOTk5Se7cpPwxAZQAZ2dnODs7F6ntkydP0L59e3h7e2PdunUwMlIfJPb19cVXX30FpVIJU1NTAEBYWBhq164Ne3t7sc3+/fvx+eefi+uFhYXB19cXAODl5QU3Nzfs379fTPiSkpJw6tQpfPzxx695tPpXnP5+FREREbC3txdf5O7r66sxBUbe/jYzM4O3tzf279+Pnj17AgBycnKwf/9+jBkzptTi1JWS7G9fX1/Mnj0bMTExcHFxAaDqSxsbG9SrV09sI+X+1uZ1fgYREREwMjIS+7skPmNIOymem1QAfT+FQobj8ePHQo0aNYSOHTsKjx8/VpumIVdCQoLg6uoqvPfee8Lly5eFzZs3C5aWlhpTNJiYmAgLFy4Url27JsyYMUPrNDB2dnbCn3/+KVy8eFF4++23JTkNzIMHD4Tz588LISEhgrW1tXD+/Hnh/PnzQnJysiAIgvDXX38JP/zwg3Dp0iXh1q1bwsqVKwVLS0th+vTp4jZypyWZOHGicO3aNWHFihVapyWRy+XC+vXrhatXrwqjRo0S7Ozs1J52lYLC+jt3Ghh/f38hIiJC2L17t+Ds7Kx1Ghj2d/GdOHFC+Pbbb4WIiAjhzp07wq+//io4OzsLQ4YMEduU1GcMacdzk3IxASTRunXrBABav/K6cOGC0Lp1a0EulwuVKlUS5s2bp7Gt33//XahVq5ZgZmYm1K9fX/jnn3/U6nNycoRp06YJrq6uglwuFzp27CjcuHGjVI/PEA0dOlRrfx88eFAQBNXcjE2aNBGsra0FKysroXHjxsLq1auF7Oxste0cPHhQaNKkiWBmZiZUq1ZNWLdunca+li1bJlSpUkUwMzMTWrZsKZw8eVIHR2hYCutvQRCE+/fvC127dhUsLCwEJycnYfz48YJSqVTbDvv71Zw9e1bw8fERbG1tBXNzc6Fu3brCnDlzhPT0dLV2JfEZQ/njuUmCIAgyQcgznwQRERERlXt8CpiIiIhIYpgAEhEREUkME0AiIiIiiWECSERERCQxTACJiIiIJIYJIBEREZHEMAEkIiIikhgmgEREREQSwwSQiIiISGKYABIRERFJDBNAIiIiIolhAkhEREQkMUwAiYiIiCSGCSARERGRxDABJCIiIpIYJoBEREREEsMEkIiIiEhimAASERERSQwTQCIiIiKJYQJIREREJDFMAImIiIgkhgkgERERkcQwASQiIiKSGCaARERERBLDBJCIiIhIYpgAEhEREUkME0AiIiIiiWECSERERCQxTACJiIiIJIYJIBEREZHEMAEkIiIikpj/AxuKUiFW1iJJAAAAAElFTkSuQmCC' width=640.0000000000001/>\n",
       "            </div>\n",
       "        "
      ],
      "text/plain": [
       "Canvas(toolbar=Toolbar(toolitems=[('Home', 'Reset original view', 'home', 'home'), ('Back', 'Back to previous …"
      ]
     },
     "metadata": {},
     "output_type": "display_data"
    },
    {
     "name": "stdout",
     "output_type": "stream",
     "text": [
      "Chart has been saved in: C:/Users/wq138/OneDrive - mailbox.tu-dresden.de/Diplomarbeit/sim_Ergebnisse/Klitten_EKF_sim_duration=1200_dt_step=0.5_dt_track=0.05(3).png\n"
     ]
    }
   ],
   "source": [
    "Q = Q_dwn_CTRA(dt=0.5)\n",
    "df_ksigma = run_CTRV_EKF(sim_duration = 1200, dt_step = 0.5, dt_track = 0.05)"
   ]
  },
  {
   "cell_type": "markdown",
   "id": "19e2665a-93e4-4b54-ac9a-2deb49cc9312",
   "metadata": {},
   "source": [
    "## Protection Level durch Ksigma berechnen\n",
    "\n",
    "$$\n",
    "PL_{kSigma, posH} = k_{posH} \\cdot \\sigma_H\n",
    "$$\n",
    "\n",
    "$$\n",
    "\\cancel{PL_{kSigma, posV} = k_{posV} \\cdot \\sigma_U}\n",
    "$$\n",
    "\n",
    "$$\n",
    "PL_{kSigma, \\psi} = k_{\\psi} \\cdot \\sigma_{\\psi}\n",
    "$$\n",
    "\n",
    "\n",
    "$$\n",
    "\\sigma_H = \\sqrt{\\frac{\\sigma_E^2 + \\sigma_N^2}{2}} + \\sqrt{\\left(\\frac{\\sigma_E^2 + \\sigma_N^2}{2}\\right)^2 + \\sigma_{EN}^2}\n",
    "$$\n"
   ]
  },
  {
   "cell_type": "code",
   "execution_count": null,
   "id": "1e11c1b2-2de7-4448-aba4-3f08ab76110f",
   "metadata": {
    "scrolled": true
   },
   "outputs": [],
   "source": [
    "df_ksigma.head()"
   ]
  },
  {
   "cell_type": "code",
   "execution_count": 90,
   "id": "def60145-9abb-49cc-a2e4-4d0df7cd22bc",
   "metadata": {},
   "outputs": [
    {
     "data": {
      "application/vnd.jupyter.widget-view+json": {
       "model_id": "c032d337cc684c909cd4fbe25b519237",
       "version_major": 2,
       "version_minor": 0
      },
      "image/png": "[encoded data removed]",
      "text/html": [
       "\n",
       "            <div style=\"display: inline-block;\">\n",
       "                <div class=\"jupyter-widgets widget-label\" style=\"text-align: center;\">\n",
       "                    Figure\n",
       "                </div>\n",
       "                <img src='data:image/png;base64,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' width=800.0/>\n",
       "            </div>\n",
       "        "
      ],
      "text/plain": [
       "Canvas(toolbar=Toolbar(toolitems=[('Home', 'Reset original view', 'home', 'home'), ('Back', 'Back to previous …"
      ]
     },
     "metadata": {},
     "output_type": "display_data"
    }
   ],
   "source": [
    "import matplotlib.pyplot as plt\n",
    "\n",
    "# Replace the placeholder data with your actual df_EKF_update DataFrame\n",
    "time = df_ksigma['time/s'][2:]\n",
    "PL_ksigma_posH = df_ksigma['PL_ksigma_posH'][2:]\n",
    "\n",
    "# Create the plot\n",
    "fig2 = plt.figure(figsize=(8, 5), tight_layout=True) \n",
    "plt.plot(time, PL_ksigma_posH, marker='o', linestyle='-', label='PL_ksigma_posH')\n",
    "plt.xlabel('time/s')\n",
    "plt.ylabel('PL_ksigma_posH')\n",
    "plt.title('PL_ksigma_posH vs time')\n",
    "plt.legend()\n",
    "plt.grid(True)\n",
    "plt.show()\n"
   ]
  },
  {
   "cell_type": "markdown",
   "id": "aeee39d2-81b0-4c55-a324-72451137876b",
   "metadata": {},
   "source": []
  }
 ],
 "metadata": {
  "kernelspec": {
   "display_name": "Python 3 (ipykernel)",
   "language": "python",
   "name": "python3"
  },
  "language_info": {
   "codemirror_mode": {
    "name": "ipython",
    "version": 3
   },
   "file_extension": ".py",
   "mimetype": "text/x-python",
   "name": "python",
   "nbconvert_exporter": "python",
   "pygments_lexer": "ipython3",
   "version": "3.12.2"
  }
 },
 "nbformat": 4,
 "nbformat_minor": 5
}
