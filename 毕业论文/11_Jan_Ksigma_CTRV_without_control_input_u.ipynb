{
 "cells": [
  {
   "cell_type": "markdown",
   "id": "7af71559-c77b-4b9b-9463-436acc1f89b5",
   "metadata": {},
   "source": [
    "# Ksigma CTRV without control-input u"
   ]
  },
  {
   "cell_type": "markdown",
   "id": "5ef42f78-523b-4ccd-9aa8-9216f0e3360c",
   "metadata": {},
   "source": [
    "Hier haben wir einen erweiterten Kalman-Filter (EKF) basierend auf dem CTRV-Modell [1] entwickelt und ihn in der Ksigma-Algorithmus zur Berechnung des PL (Protection Level) angewendet."
   ]
  },
  {
   "cell_type": "markdown",
   "id": "b0b53a5a-f431-4c27-8aac-f96b9f8e2641",
   "metadata": {},
   "source": [
    "## Datenvorverarbeitung"
   ]
  },
  {
   "cell_type": "code",
   "execution_count": 16,
   "id": "d7409e05-b94f-4d4e-9ef0-a91b6143e9d8",
   "metadata": {},
   "outputs": [],
   "source": [
    "%matplotlib widget \n",
    "import ast\n",
    "import numpy as np\n",
    "import matplotlib.pylab as plt\n",
    "import matplotlib.gridspec as gridspec\n",
    "import pandas as pd\n",
    "from bagpy import bagreader\n",
    "from sympy import symbols, Matrix, sin, cos, init_printing\n",
    "from numpy import array"
   ]
  },
  {
   "cell_type": "code",
   "execution_count": 2,
   "id": "c4e27859-f171-40ba-a0ee-67fee15f5370",
   "metadata": {},
   "outputs": [
    {
     "name": "stdout",
     "output_type": "stream",
     "text": [
      "[INFO]  Data folder ./Klitten/loc_results_2023-11-01-12-53-52_0 already exists. Not creating.\n",
      "[INFO]  Data folder ./Klitten/recordedData_sensors_locpc_2023-11-01-12-53-52_0 already exists. Not creating.\n"
     ]
    }
   ],
   "source": [
    "# import data from recording at Klitten FVZ\n",
    "results_file = \"./Klitten/loc_results_2023-11-01-12-53-52_0.bag\"\n",
    "sensor_file = \"./Klitten/recordedData_sensors_locpc_2023-11-01-12-53-52_0.bag\"\n",
    "\n",
    "result_reader = bagreader(results_file)\n",
    "sensor_reader = bagreader(sensor_file)\n",
    "\n",
    "\n",
    "# Thius function extracts the sensordata into CSV-files\n",
    "map_path = result_reader.message_by_topic(topic=\"/odometry/filtered/map\")\n",
    "# odom_path = result_reader.message_by_topic(topic=\"/odometry/filtered/odom\")\n",
    "# gps_odometry_path  = result_reader.message_by_topic(topic=\"/odometry/gps\")\n",
    "imu_oem = sensor_reader.message_by_topic(topic=\"/localization_pc/can0/decoded/imu\")\n",
    "# speed_oem = sensor_reader.message_by_topic(topic=\"/localization_pc/can0/decoded/speed\")\n",
    "# steeringAngle_oem = sensor_reader.message_by_topic(topic=\"/localization_pc/can0/decoded/steeringAngle\")\n",
    "# gnss_oem = sensor_reader.message_by_topic(topic=\"/localization_pc/can0/decoded/gnss\")\n",
    "# imu_anavs = sensor_reader.message_by_topic(topic=\"/localization_pc/sensor/anavs/imu\")\n",
    "# navsat_anavs = sensor_reader.message_by_topic(topic=\"/localization_pc/sensor/anavs/navsat\")\n",
    "\n",
    "\n",
    "# You can then use Pandas to read the files.\n",
    "df_map_path = pd.read_csv(map_path)  \n",
    "# df_odom_path = pd.read_csv(odom_path)  \n",
    "# df_gps_path = pd.read_csv(gps_odometry_path)\n",
    "# df_speed = pd.read_csv(speed_oem)\n",
    "df_imu = pd.read_csv(imu_oem)\n",
    "\n",
    "# 我写的\n",
    "# df_imu_anavs = pd.read_csv(imu_anavs)\n",
    "# df_navsat_anvas = pd.read_csv(navsat_anavs)"
   ]
  },
  {
   "cell_type": "markdown",
   "id": "344c72f5-6a71-4721-8513-68955fe9707e",
   "metadata": {},
   "source": [
    "Die Zeitdaten von `header.stamp.secs` sollen verschoben werden, sodass sie ab 0 Sekunden beginnen."
   ]
  },
  {
   "cell_type": "code",
   "execution_count": 3,
   "id": "d44ad4a7-faff-4eea-b567-eacb33c299cd",
   "metadata": {},
   "outputs": [],
   "source": [
    "df_map_path['header.stamp.secs'] = df_map_path['header.stamp.secs'] - df_map_path['header.stamp.secs'].iloc[0]\n",
    "df_imu['header.stamp.secs'] = df_imu['header.stamp.secs'] - df_imu['header.stamp.secs'].iloc[0]"
   ]
  },
  {
   "cell_type": "markdown",
   "id": "8eaae507-2794-4f14-af43-3ff6fab47684",
   "metadata": {},
   "source": [
    "Die Anzeigeformatierung für DataFrame einstellen"
   ]
  },
  {
   "cell_type": "code",
   "execution_count": 4,
   "id": "e7228a6e-78be-48c4-ab4a-61a4bd8d64e5",
   "metadata": {},
   "outputs": [],
   "source": [
    "pd.set_option('display.max_rows', None)\n",
    "pd.set_option('display.max_columns', None)\n",
    "# pd.set_option('display.max_colwidth', None)\n",
    "pd.set_option('display.max_colwidth', 20)"
   ]
  },
  {
   "cell_type": "markdown",
   "id": "2326b391-d32d-4b3e-9c1d-fe8d1a386ebb",
   "metadata": {},
   "source": [
    "Eine neue Spalte `secs.nsecs` zwischen `header.stamp.secs` und `header.stamp.nsecs` einfügen, sodass der Zeitstempel in Sekunden mit Dezimalstellen dargestellt wird."
   ]
  },
  {
   "cell_type": "code",
   "execution_count": 5,
   "id": "d57e885a-1ed0-482b-a91e-b3aeb8a15204",
   "metadata": {},
   "outputs": [],
   "source": [
    "# 计算新列\n",
    "df_imu['secs.nsecs'] = df_imu['header.stamp.secs'] + df_imu['header.stamp.nsecs'] * 1e-9\n",
    "df_imu['secs.nsecs'] = df_imu['secs.nsecs'].round(9)\n",
    "# 调整列的位置，将 'secs.nsecs' 放到 'header.stamp.nsecs' 后面\n",
    "columns = df_imu.columns.tolist()\n",
    "index = columns.index('header.stamp.nsecs') + 1  # 获取目标列的索引并加1\n",
    "columns.insert(index, columns.pop(columns.index('secs.nsecs')))  # 移动 secs.nsecs 列\n",
    "\n",
    "# 重新排列列顺序\n",
    "df_imu = df_imu[columns]"
   ]
  },
  {
   "cell_type": "code",
   "execution_count": 6,
   "id": "beda8c9e-5213-412d-a9b1-6f36db60c274",
   "metadata": {},
   "outputs": [],
   "source": [
    "# 计算新列\n",
    "df_map_path['secs.nsecs'] = df_map_path['header.stamp.secs'] + df_map_path['header.stamp.nsecs'] * 1e-9\n",
    "df_map_path['secs.nsecs'] = df_map_path['secs.nsecs'].round(9)\n",
    "# 调整列的位置，将 'secs.nsecs' 放到 'header.stamp.nsecs' 后面\n",
    "columns = df_map_path.columns.tolist()\n",
    "index = columns.index('header.stamp.nsecs') + 1  # 获取目标列的索引并加1\n",
    "columns.insert(index, columns.pop(columns.index('secs.nsecs')))  # 移动 secs.nsecs 列\n",
    "\n",
    "# 重新排列列顺序\n",
    "df_map_path = df_map_path[columns]"
   ]
  },
  {
   "cell_type": "markdown",
   "id": "4c0d2831-2ee0-45e5-9e8e-16d3882f539a",
   "metadata": {},
   "source": [
    "## System Design"
   ]
  },
  {
   "cell_type": "markdown",
   "id": "0a120719-07f2-4042-ba69-1585b7a45385",
   "metadata": {},
   "source": [
    "### Zustand des Modells\n",
    "Das CTRV-Modell (*Constant Turn Rate and Velocity*) ist ein gängiges Fahrzeugbewegungsmodell, das verwendet wird, um die Bewegung eines Fahrzeugs in Szenarien mit gleichmäßiger Kurvenfahrt zu beschreiben. Es wird angenommen, dass die Kurvendrehgeschwindigkeit (Winkelgeschwindigkeit \\( \\omega \\)) konstant bleibt und die Beschleunigung vernachlässigt wird.\n",
    "Der Zustandsvektor wird normalerweise definiert als:\n",
    "\n",
    "$$\n",
    "\\mathbf{x} =\n",
    "\\begin{bmatrix}\n",
    "x & y & \\theta & v & \\omega\n",
    "\\end{bmatrix}^\\mathsf{T}\n",
    "$$\n",
    "\n",
    "- $x, y$: Position des Fahrzeugs im globalen Koordinatensystem\n",
    "- $\\theta$: Orientierung (Fahrtrichtung)\n",
    "- $v$: Geschwindigkeit\n",
    "- $\\omega$: Winkelgeschwindigkeit/yaw rate\n",
    "\n",
    "## Zustandsübergangsgleichung\n",
    "\n",
    "Unter der Annahme eines diskreten Zeitintervalls (\\(\\Delta t\\)) kann der Zustandsübergang wie folgt beschrieben werden:\n",
    "\n",
    "$$\n",
    "\\mathbf{x}_{k+1} = \n",
    "\\begin{bmatrix}\n",
    "x_k + \\frac{v_k}{\\omega_k} [\\sin(\\theta_k + \\omega_k \\Delta t) - \\sin(\\theta_k)] \\\\\n",
    "y_k + \\frac{v_k}{\\omega_k} [\\cos(\\theta_k) - \\cos(\\theta_k + \\omega_k \\Delta t)] \\\\\n",
    "\\theta_k + \\omega_k \\Delta t \\\\\n",
    "v_k \\\\\n",
    "\\omega_k\n",
    "\\end{bmatrix}\n",
    "$$\n",
    "\n",
    "Falls $\\omega$ = 0, wird die Gleichung für eine gerade Bewegung vereinfacht:\n",
    "\n",
    "$$\n",
    "\\mathbf{x}_{k+1} = \n",
    "\\begin{bmatrix}\n",
    "x_k + v_k \\cos(\\theta_k) \\Delta t \\\\\n",
    "y_k + v_k \\sin(\\theta_k) \\Delta t \\\\\n",
    "\\theta_k \\\\\n",
    "v_k \\\\\n",
    "\\omega_k\n",
    "\\end{bmatrix}\n",
    "$$\n"
   ]
  },
  {
   "cell_type": "markdown",
   "id": "be763168-a725-472e-9b1a-c422eb0b7b9d",
   "metadata": {},
   "source": [
    "#### Die für die Zustansmatrix (X) erforderlichen Daten aus den Sensordaten extrahieren."
   ]
  },
  {
   "cell_type": "code",
   "execution_count": 119,
   "id": "b7ddb579-6cb0-4038-8e14-16186b125516",
   "metadata": {},
   "outputs": [],
   "source": [
    "# z, cov_z = func_z(k, dt_step)   \n",
    "\n",
    "def func_z(k, dt_step):\n",
    "    t = k * dt_step\n",
    "\n",
    "    # 从 df_map_path['secs.nsecs'] 中找到与 t 值最接近的值的 index\n",
    "    idx1                   = (df_map_path['secs.nsecs'] - t).abs().idxmin()\n",
    "    \n",
    "    # 获取该 index 对应的测量值\n",
    "    x                      = df_map_path.loc[idx1, 'pose.pose.position.x']\n",
    "    y                      = df_map_path.loc[idx1, 'pose.pose.position.y']\n",
    "    theta                  = df_map_path.loc[idx1, 'pose.pose.orientation.z']\n",
    "    v                      = df_map_path.loc[idx1, 'twist.twist.linear.x']\n",
    "\n",
    "    # 获取该 index 对应的测量值的协方差\n",
    "    cov_pose_str           = df_map_path.loc[idx1, 'pose.covariance']\n",
    "    cov_pose_parsed_matrix = ast.literal_eval(cov_pose_str)\n",
    "    cov_pose_matrix        = np.array(cov_pose_parsed_matrix).reshape(6, 6)\n",
    "    cov_pose               = cov_pose_matrix[0:3, 0:3]  # cov_x, cov_y, cov_xy und cov_theta sind drinnen \n",
    "\n",
    "    cov_v_str              = df_map_path.loc[idx1, 'twist.covariance']\n",
    "    cov_v_parsed_matrix    = ast.literal_eval(cov_v_str)\n",
    "    cov_v                  = cov_v_parsed_matrix[0]\n",
    "\n",
    "    # 从 df_imu['secs.nsecs'] 中找到与 t 值最接近的 index\n",
    "    idx2                   = (df_imu['secs.nsecs'] - t).abs().idxmin()\n",
    "\n",
    "    # 获取该 index 对应的测量值及其协方差\n",
    "    omega                  = df_imu.loc[idx2, 'angular_velocity.z']\n",
    "    cov_omega              = df_imu.loc[idx2, 'angular_velocity_covariance_8']\n",
    "\n",
    "    # 构建测量矩阵 z 及其方差矩阵 cov_z\n",
    "    z                      = Matrix([x, y, theta, v, omega])\n",
    "    cov_z                  = np.zeros((5, 5))  # 创建5x5的零矩阵\n",
    "    cov_z[:3, :3]          = cov_pose\n",
    "    cov_z[3, 3]            = cov_v\n",
    "    cov_z[4, 4]            = cov_omega\n",
    "\n",
    "    return z, cov_z\n",
    "    \n",
    "# k = 10000\n",
    "# dt_step = 0.1\n",
    "# z, cov_z = func_z(k, dt_step)   "
   ]
  },
  {
   "cell_type": "code",
   "execution_count": 120,
   "id": "161b6841-2570-4050-8359-6c36a46f6d1d",
   "metadata": {},
   "outputs": [],
   "source": [
    "# Test\n",
    "k = 10000\n",
    "dt_step = 0.1\n",
    "z, cov_z = func_z(k, dt_step)  \n",
    "# df_map_path.iloc[idx1]"
   ]
  },
  {
   "cell_type": "code",
   "execution_count": 121,
   "id": "a765bf17-f051-47de-b20d-c4c8b16cc821",
   "metadata": {},
   "outputs": [
    {
     "data": {
      "text/latex": [
       "$\\displaystyle \\left[\\begin{matrix}-719.413248181255\\\\902.60567716048\\\\-0.0460239415539503\\\\7.66078025784201\\\\0.0050614548307835\\end{matrix}\\right]$"
      ],
      "text/plain": [
       "Matrix([\n",
       "[  -719.413248181255],\n",
       "[    902.60567716048],\n",
       "[-0.0460239415539503],\n",
       "[   7.66078025784201],\n",
       "[ 0.0050614548307835]])"
      ]
     },
     "execution_count": 121,
     "metadata": {},
     "output_type": "execute_result"
    }
   ],
   "source": [
    "z"
   ]
  },
  {
   "cell_type": "code",
   "execution_count": 122,
   "id": "9c48a71f-441f-4c30-a85b-f23c677de7d7",
   "metadata": {},
   "outputs": [
    {
     "data": {
      "text/plain": [
       "array([[7.52127300e-03, 2.60595792e-03, 0.00000000e+00, 0.00000000e+00,\n",
       "        0.00000000e+00],\n",
       "       [2.60595792e-03, 3.41783141e-02, 0.00000000e+00, 0.00000000e+00,\n",
       "        0.00000000e+00],\n",
       "       [0.00000000e+00, 0.00000000e+00, 4.87015723e-07, 0.00000000e+00,\n",
       "        0.00000000e+00],\n",
       "       [0.00000000e+00, 0.00000000e+00, 0.00000000e+00, 3.72327364e-03,\n",
       "        0.00000000e+00],\n",
       "       [0.00000000e+00, 0.00000000e+00, 0.00000000e+00, 0.00000000e+00,\n",
       "        8.93000000e-04]])"
      ]
     },
     "execution_count": 122,
     "metadata": {},
     "output_type": "execute_result"
    }
   ],
   "source": [
    "cov_z"
   ]
  },
  {
   "cell_type": "markdown",
   "id": "da03e952-4a43-4caf-b17e-e865f96bb9d2",
   "metadata": {},
   "source": [
    "### Prädiktion"
   ]
  },
  {
   "cell_type": "code",
   "execution_count": 123,
   "id": "782dfa09-ed69-4a97-8ae1-129b7a9e52c4",
   "metadata": {},
   "outputs": [],
   "source": [
    "from sympy import symbols, Matrix, sin, cos, init_printing\n",
    "from numpy import array\n",
    "# x, y, theta, v, omega, time = symbols('x y theta v omega t')\n",
    "\n",
    "# Jacobian Matrix berechnen\n",
    "def F_J_evaluated(X, dt): \n",
    "    x, y, theta, v, omega, time = symbols('x y theta v omega t')\n",
    "    subs_FJ = {x:     float(X[0, 0]), \n",
    "               y:     float(X[1, 0]), \n",
    "               theta: float(X[2, 0]), \n",
    "               v:     float(X[2, 0]), \n",
    "               omega: float(X[2, 0]), \n",
    "               time:  float(dt)}\n",
    "    if subs_FJ[omega] != 0:\n",
    "        f_xu = Matrix(\n",
    "            [x + v/omega * (sin(theta + omega*time) - sin(theta)), \n",
    "             y + v/omega * (cos(theta) - cos(theta + omega*time)),  \n",
    "             theta + omega*time,\n",
    "             v,\n",
    "             omega])\n",
    "    else:\n",
    "        f_xu = Matrix(\n",
    "            [x + v * time * cos(theta),\n",
    "             y + v * time * sin(theta),\n",
    "             theta,\n",
    "             v,\n",
    "             omega])\n",
    "    F_J = f_xu.jacobian(Matrix([x, y, theta, v, omega])) \n",
    "    F_J_evaluated = array(F_J.subs(subs_FJ)).astype(float)\n",
    "    return F_J_evaluated\n",
    "\n",
    "def driving(X, dt):\n",
    "    heading_angle = X[2, 0]\n",
    "    velocity      = X[3, 0]\n",
    "    yaw_rate      = X[4, 0]\n",
    "    \n",
    "    if yaw_rate != 0:\n",
    "        radius        = velocity/yaw_rate  # R = v / ω\n",
    "        beta          = yaw_rate * dt\n",
    "        dX = np.array([\n",
    "            [radius * (sin(heading_angle + beta) - sin(heading_angle))],\n",
    "            [radius * (cos(heading_angle) - cos(heading_angle + beta))],\n",
    "            [beta],\n",
    "            [0],\n",
    "            [0]\n",
    "        ])\n",
    "    else:\n",
    "        dX = np.array([\n",
    "            [velocity * dt * cos(heading_angle)],\n",
    "            [velocity * dt * sin(heading_angle)],\n",
    "            [0],\n",
    "            [0],\n",
    "            [0]\n",
    "        ])\n",
    "\n",
    "    return X + dX\n",
    "\n",
    "def predict(X, P, dt):\n",
    "    predict_X = driving(X=X, dt=dt)\n",
    "    F = F_J_evaluated(X, dt)\n",
    "    predict_P = F @ P @ F.T  # 这里还需要构建一个噪声矩阵 Q\n",
    "    return predict_X, predict_P\n"
   ]
  },
  {
   "cell_type": "markdown",
   "id": "07577b97-c63b-44dc-ba6f-27b5b9a61913",
   "metadata": {},
   "source": [
    "#### Test"
   ]
  },
  {
   "cell_type": "code",
   "execution_count": 124,
   "id": "cf5dc7bb-43a4-4e12-b303-f96d2dc3e7c3",
   "metadata": {},
   "outputs": [],
   "source": [
    "# Test\n",
    "k = 10000\n",
    "dt_step = 0.1\n",
    "z, cov_z = func_z(k, dt_step) \n",
    "predict_X, predict_P = predict(X=z, P=cov_z, dt = dt_step)"
   ]
  },
  {
   "cell_type": "code",
   "execution_count": 125,
   "id": "f30c5641-7ed4-43b3-a280-da583b0a1947",
   "metadata": {},
   "outputs": [
    {
     "data": {
      "text/latex": [
       "$\\displaystyle \\left[\\begin{matrix}-718.647972479729\\\\902.570625345792\\\\-0.045517796070872\\\\7.66078025784201\\\\0.0050614548307835\\end{matrix}\\right]$"
      ],
      "text/plain": [
       "Matrix([\n",
       "[ -718.647972479729],\n",
       "[  902.570625345792],\n",
       "[-0.045517796070872],\n",
       "[  7.66078025784201],\n",
       "[0.0050614548307835]])"
      ]
     },
     "execution_count": 125,
     "metadata": {},
     "output_type": "execute_result"
    }
   ],
   "source": [
    "predict_X"
   ]
  },
  {
   "cell_type": "code",
   "execution_count": 126,
   "id": "b243a058-0a06-466c-92c0-704c9de2db51",
   "metadata": {},
   "outputs": [
    {
     "data": {
      "text/latex": [
       "$\\displaystyle \\left[\\begin{matrix}-719.413248181255\\\\902.60567716048\\\\-0.0460239415539503\\\\7.66078025784201\\\\0.0050614548307835\\end{matrix}\\right]$"
      ],
      "text/plain": [
       "Matrix([\n",
       "[  -719.413248181255],\n",
       "[    902.60567716048],\n",
       "[-0.0460239415539503],\n",
       "[   7.66078025784201],\n",
       "[ 0.0050614548307835]])"
      ]
     },
     "execution_count": 126,
     "metadata": {},
     "output_type": "execute_result"
    }
   ],
   "source": [
    "z"
   ]
  },
  {
   "cell_type": "code",
   "execution_count": 127,
   "id": "929a5da8-750a-4711-9c05-d8eb5fb6ffa8",
   "metadata": {},
   "outputs": [
    {
     "data": {
      "text/plain": [
       "array([[ 7.55841879e-03,  2.60416145e-03, -1.11669938e-09,\n",
       "         3.71892368e-04, -1.00842381e-08],\n",
       "       [ 2.60416145e-03,  3.41784011e-02, -2.27637396e-08,\n",
       "        -1.79857533e-05, -2.05249200e-07],\n",
       "       [-1.11669938e-09, -2.27637396e-08,  9.41701572e-06,\n",
       "         0.00000000e+00,  8.93000000e-05],\n",
       "       [ 3.71892368e-04, -1.79857533e-05,  0.00000000e+00,\n",
       "         3.72327364e-03,  0.00000000e+00],\n",
       "       [-1.00842381e-08, -2.05249200e-07,  8.93000000e-05,\n",
       "         0.00000000e+00,  8.93000000e-04]])"
      ]
     },
     "execution_count": 127,
     "metadata": {},
     "output_type": "execute_result"
    }
   ],
   "source": [
    "predict_P"
   ]
  },
  {
   "cell_type": "code",
   "execution_count": 128,
   "id": "76ea2b44-5fd8-401a-b3e2-976bc0b40995",
   "metadata": {},
   "outputs": [
    {
     "data": {
      "text/plain": [
       "array([[7.52127300e-03, 2.60595792e-03, 0.00000000e+00, 0.00000000e+00,\n",
       "        0.00000000e+00],\n",
       "       [2.60595792e-03, 3.41783141e-02, 0.00000000e+00, 0.00000000e+00,\n",
       "        0.00000000e+00],\n",
       "       [0.00000000e+00, 0.00000000e+00, 4.87015723e-07, 0.00000000e+00,\n",
       "        0.00000000e+00],\n",
       "       [0.00000000e+00, 0.00000000e+00, 0.00000000e+00, 3.72327364e-03,\n",
       "        0.00000000e+00],\n",
       "       [0.00000000e+00, 0.00000000e+00, 0.00000000e+00, 0.00000000e+00,\n",
       "        8.93000000e-04]])"
      ]
     },
     "execution_count": 128,
     "metadata": {},
     "output_type": "execute_result"
    }
   ],
   "source": [
    "cov_z"
   ]
  },
  {
   "cell_type": "markdown",
   "id": "9b90521c-6190-438b-a469-07d3ff3131c5",
   "metadata": {},
   "source": [
    "### Update"
   ]
  },
  {
   "cell_type": "markdown",
   "id": "36dddd06-de80-4c67-a929-d56f178188b7",
   "metadata": {},
   "source": [
    "1. Wenn Sensoren *v* und *ω* direkt messen können, wird empfohlen, den Messwertvektor *z* auf \n",
    "   \\\\([x, y, \\theta, v, \\omega]^T\\\\) zu erweitern und gleichzeitig die Beobachtungsmatrix *H* in eine \n",
    "   \\\\(5 \\times 5\\\\)-Einheitsmatrix zu ändern.\n",
    "\n",
    "2. Wenn die Sensoren *v* und *ω* nicht genau messen können oder die Messwerte stark verrauscht sind, \n",
    "   kann die ursprüngliche \\\\(3 \\times 5\\\\)-Beobachtungsmatrix beibehalten werden. \n",
    "   In diesem Fall werden *v* und *ω* indirekt über die Kovarianzausbreitung aktualisiert."
   ]
  },
  {
   "cell_type": "code",
   "execution_count": 131,
   "id": "b3175c97-a03b-4c88-aee7-10f348f47e14",
   "metadata": {},
   "outputs": [
    {
     "data": {
      "text/latex": [
       "$\\displaystyle \\left[\\begin{matrix}1 & 0 & 0 & 0 & 0\\\\0 & 1 & 0 & 0 & 0\\\\0 & 0 & 1 & 0 & 0\\\\0 & 0 & 0 & 1 & 0\\\\0 & 0 & 0 & 0 & 1\\end{matrix}\\right]$"
      ],
      "text/plain": [
       "Matrix([\n",
       "[1, 0, 0, 0, 0],\n",
       "[0, 1, 0, 0, 0],\n",
       "[0, 0, 1, 0, 0],\n",
       "[0, 0, 0, 1, 0],\n",
       "[0, 0, 0, 0, 1]])"
      ]
     },
     "execution_count": 131,
     "metadata": {},
     "output_type": "execute_result"
    }
   ],
   "source": [
    "# H = Matrix([[1, 0, 0, 0, 0], \n",
    "#             [0, 1, 0, 0, 0],\n",
    "#             [0, 0, 1, 0, 0]])\n",
    "\n",
    "H = Matrix([[1, 0, 0, 0, 0], \n",
    "            [0, 1, 0, 0, 0],\n",
    "            [0, 0, 1, 0, 0], \n",
    "            [0, 0, 0, 1, 0],\n",
    "            [0, 0, 0, 0, 1]])\n",
    "H"
   ]
  },
  {
   "cell_type": "code",
   "execution_count": 135,
   "id": "3d62e4b5-9f24-4004-b529-4af30f4f98f0",
   "metadata": {},
   "outputs": [
    {
     "data": {
      "text/latex": [
       "$\\displaystyle \\left[\\begin{matrix}-719.532852065376\\\\902.614110642464\\\\-0.0463798539463329\\\\7.66725556116766\\\\0.0047123889803846\\end{matrix}\\right]$"
      ],
      "text/plain": [
       "Matrix([\n",
       "[  -719.532852065376],\n",
       "[   902.614110642464],\n",
       "[-0.0463798539463329],\n",
       "[   7.66725556116766],\n",
       "[ 0.0047123889803846]])"
      ]
     },
     "execution_count": 135,
     "metadata": {},
     "output_type": "execute_result"
    }
   ],
   "source": [
    "def h_x(X):\n",
    "    \"\"\"convert prediction to measurement\"\"\"\n",
    "    h_x = H @ X\n",
    "    return h_x\n",
    "    \n",
    "# Test\n",
    "k = 10000\n",
    "dt_step = 0.1\n",
    "z, cov_z = func_z(k-1, dt_step) \n",
    "predict_X, predict_P = predict(X=z, P=cov_z, dt = dt_step)\n",
    "hx = h_x(predict_X)\n",
    "z, cov_z = func_z(k, dt_step) \n",
    "hx"
   ]
  },
  {
   "cell_type": "code",
   "execution_count": 136,
   "id": "5e456ec8-616b-4e7e-bebf-8a2f1affaa68",
   "metadata": {},
   "outputs": [
    {
     "data": {
      "text/latex": [
       "$\\displaystyle \\left[\\begin{matrix}0.119603884121034\\\\-0.00843348198452532\\\\0.00035591239238264\\\\-0.00647530332564639\\\\0.0003490658503989\\end{matrix}\\right]$"
      ],
      "text/plain": [
       "Matrix([\n",
       "[   0.119603884121034],\n",
       "[-0.00843348198452532],\n",
       "[ 0.00035591239238264],\n",
       "[-0.00647530332564639],\n",
       "[  0.0003490658503989]])"
      ]
     },
     "execution_count": 136,
     "metadata": {},
     "output_type": "execute_result"
    }
   ],
   "source": [
    "# Roger R Labbe Jr. Kalman_and_Bayesian_Filters_in_Python.\n",
    "def residual(z, hx):\n",
    "    \"\"\" compute residual (a-b) between measurements containing \n",
    "    [x, y, theta, v, omega]. theta is normalized to [-pi, pi)\"\"\"\n",
    "    y = z - hx\n",
    "    y[2] = y[2] % (2 * np.pi)    # force in range [0, 2*pi)\n",
    "    if y[2] > np.pi:             # move to [-pi, pi)\n",
    "        y[2] -= 2 * np.pi\n",
    "    return y\n",
    "y = residual(z, hx)\n",
    "y"
   ]
  },
  {
   "cell_type": "code",
   "execution_count": null,
   "id": "0d6e3642-6598-4730-9cdf-c6eac0073e65",
   "metadata": {},
   "outputs": [],
   "source": [
    "# 这个函数可以不要了，因为 cov_z 就是 R\n",
    "# Measurement Noise Matrix\n",
    "# def R_matrix(k, dt_step):\n",
    "#     z, cov_z          = func_z(k, dt_step)                    # func_z用来获取测量值和每次更新阶段时刻k所需的最新状态矩阵 X 的噪声协方差\n",
    "#     cov_x             = cov_z[0]\n",
    "#     cov_y             = cov_z[1]\n",
    "#     cov_xy            = cov_z[2]\n",
    "#     cov_theta         = cov_z[3]\n",
    "#     \n",
    "#     # Measurement Noise Matrix，在不重新定义整个 EKF 实例 的情况下，动态更新测量噪声协方差矩阵 R。直接在循环中动态修改 ekf.R 即可，而无需重新实例化扩展卡尔曼滤波器。这种方式既高效又灵活。\n",
    "#     diagonal_elements = [cov_x, cov_y, cov_theta]             # 对角元素\n",
    "#     R                 = np.diag(diagonal_elements)\n",
    "#     R[0, 1]           = cov_xy\n",
    "#     R[1, 0]           = cov_xy\n",
    "#     return R"
   ]
  },
  {
   "cell_type": "code",
   "execution_count": 137,
   "id": "4b3c6dba-78d3-44bf-9680-a20f5fcabf69",
   "metadata": {},
   "outputs": [],
   "source": [
    "def update(X, P, k, dt_step):\n",
    "    X_p      = X\n",
    "    P_p      = P\n",
    "    \n",
    "    # calculate residual y\n",
    "    z, cov_z = func_z(k, dt_step)\n",
    "    hx       = h_x(X_p)\n",
    "    y        = residual(z, hx)\n",
    "\n",
    "    # Kalman Gain Matrix\n",
    "    R        = cov_z\n",
    "    S        = H @ P_p @ H.T + R  # 残差协方差\n",
    "    K        = P_p @ H.T @ S.inv()  # 卡尔曼增益矩阵\n",
    "\n",
    "    X_update = X_p + K @ y\n",
    "    I        = np.eye(5)  # 后期这个 5 可以设置为一个名为 dim 的变量，就不用单独来到这里修改了  \n",
    "    P_update = (I - K @ H) @ P_p\n",
    "    \n",
    "    return X_update, P_update"
   ]
  },
  {
   "cell_type": "code",
   "execution_count": 153,
   "id": "99437660-287b-4b1d-b094-452a2f707eaa",
   "metadata": {},
   "outputs": [],
   "source": [
    "# Test\n",
    "k = 1000\n",
    "dt_step = 0.2\n",
    "X, P = func_z(k-1, dt_step) \n",
    "predict_X, predict_P = predict(X, P, dt=dt_step)\n",
    "X_update, P_update = update(X=predict_X, P=predict_P, k=k, dt_step=dt_step)\n",
    "z, cov_z = func_z(k, dt_step)"
   ]
  },
  {
   "cell_type": "code",
   "execution_count": 154,
   "id": "27a29d6c-b961-4370-a929-01f6bf77d5fc",
   "metadata": {},
   "outputs": [
    {
     "data": {
      "text/latex": [
       "$\\displaystyle \\left[\\begin{matrix}-267.19912263889\\\\494.298042140672\\\\0.881628503119708\\\\8.3261414012789\\\\-0.0022689280275926\\end{matrix}\\right]$"
      ],
      "text/plain": [
       "Matrix([\n",
       "[   -267.19912263889],\n",
       "[   494.298042140672],\n",
       "[  0.881628503119708],\n",
       "[    8.3261414012789],\n",
       "[-0.0022689280275926]])"
      ]
     },
     "execution_count": 154,
     "metadata": {},
     "output_type": "execute_result"
    }
   ],
   "source": [
    "X"
   ]
  },
  {
   "cell_type": "code",
   "execution_count": 155,
   "id": "6096dec7-754e-4190-85bb-42b7f6ed99e8",
   "metadata": {},
   "outputs": [
    {
     "data": {
      "text/latex": [
       "$\\displaystyle \\left[\\begin{matrix}-266.139920490868\\\\495.582984157809\\\\0.88117471751419\\\\8.3261414012789\\\\-0.0022689280275926\\end{matrix}\\right]$"
      ],
      "text/plain": [
       "Matrix([\n",
       "[  -266.139920490868],\n",
       "[   495.582984157809],\n",
       "[   0.88117471751419],\n",
       "[    8.3261414012789],\n",
       "[-0.0022689280275926]])"
      ]
     },
     "execution_count": 155,
     "metadata": {},
     "output_type": "execute_result"
    }
   ],
   "source": [
    "predict_X"
   ]
  },
  {
   "cell_type": "code",
   "execution_count": 156,
   "id": "0c2e3fd0-6ba2-4179-81ec-a0c38e2cff45",
   "metadata": {},
   "outputs": [
    {
     "data": {
      "text/latex": [
       "$\\displaystyle \\left[\\begin{matrix}-268.111067495898\\\\495.605073101805\\\\0.880910469662697\\\\8.33103682887618\\\\-0.0034906585039886\\end{matrix}\\right]$"
      ],
      "text/plain": [
       "Matrix([\n",
       "[  -268.111067495898],\n",
       "[   495.605073101805],\n",
       "[  0.880910469662697],\n",
       "[   8.33103682887618],\n",
       "[-0.0034906585039886]])"
      ]
     },
     "execution_count": 156,
     "metadata": {},
     "output_type": "execute_result"
    }
   ],
   "source": [
    "z"
   ]
  },
  {
   "cell_type": "code",
   "execution_count": 157,
   "id": "8cb1768b-cb1e-4fe5-854a-05c3435118ff",
   "metadata": {},
   "outputs": [
    {
     "data": {
      "text/latex": [
       "$\\displaystyle \\left[\\begin{matrix}-267.10016625878\\\\495.592286383149\\\\0.880929968976011\\\\8.26832166828146\\\\-0.00354719244950499\\end{matrix}\\right]$"
      ],
      "text/plain": [
       "Matrix([\n",
       "[    -267.10016625878],\n",
       "[    495.592286383149],\n",
       "[   0.880929968976011],\n",
       "[    8.26832166828146],\n",
       "[-0.00354719244950499]])"
      ]
     },
     "execution_count": 157,
     "metadata": {},
     "output_type": "execute_result"
    }
   ],
   "source": [
    "X_update"
   ]
  },
  {
   "cell_type": "code",
   "execution_count": null,
   "id": "5c77bbd1-b330-42fd-a8b7-43a2efd52acd",
   "metadata": {},
   "outputs": [],
   "source": [
    "X_p, P_p = predict(X=X_0, P=P_0, u=u_0, cov_u=cov_u0, dt=dt_step)  # 这里的 X，P 是 k 时刻的先验估计值，也就是 k+1 时刻预测值\n",
    "X_p"
   ]
  },
  {
   "cell_type": "code",
   "execution_count": null,
   "id": "471b8f92-dc46-401c-8813-41954fe8945f",
   "metadata": {},
   "outputs": [],
   "source": [
    "P_p"
   ]
  },
  {
   "cell_type": "code",
   "execution_count": null,
   "id": "749428a4-044d-4548-b74b-97056770b0ca",
   "metadata": {},
   "outputs": [],
   "source": [
    "X_update, P_update = update(X_p, P_p, k, dt_step)"
   ]
  },
  {
   "cell_type": "code",
   "execution_count": null,
   "id": "c16b4fba-b9f1-4114-8672-e57673aa8c5b",
   "metadata": {},
   "outputs": [],
   "source": [
    "X_update"
   ]
  },
  {
   "cell_type": "code",
   "execution_count": null,
   "id": "687ad209-4d8b-470b-86be-a54d588b7174",
   "metadata": {},
   "outputs": [],
   "source": [
    "P_update"
   ]
  },
  {
   "cell_type": "code",
   "execution_count": null,
   "id": "0827852c-f724-4bce-a4a0-7e55d9a240d5",
   "metadata": {},
   "outputs": [],
   "source": [
    "\"\"\"def update(X, P, k, dt_step):\n",
    "    X_p      = X\n",
    "    P_p      = P\n",
    "    # calculate residual y\n",
    "    z, cov_z = func_z(k, dt_step)\n",
    "    hx       = h_x(X_p)\n",
    "    y        = residual(z, hx)\n",
    "\n",
    "    # Kalman Gain Matrix\n",
    "    u, cov_u = func_u(k, dt_step)\n",
    "    R        = R_matrix(k, dt_step)\n",
    "    S        = H @ P_p @ H.T + R  # 残差协方差\n",
    "    K        = P_p @ H.T @ S.inv()  # 卡尔曼增益矩阵\n",
    "\n",
    "    X_update = X_p + K @ y\n",
    "    I        = np.eye(3)\n",
    "    P_update = (I - K @ H) @ P_p\n",
    "\n",
    "    # 将所有中间变量打包到字典\n",
    "    intermediate_vars = {\n",
    "        \"X_p\": X_p,\n",
    "        \"P_p\": P_p,\n",
    "        \"z\": z,\n",
    "        \"cov_z\": cov_z,\n",
    "        \"hx\": hx,\n",
    "        \"y\": y,\n",
    "        \"u\": u,\n",
    "        \"cov_u\": cov_u,\n",
    "        \"R\": R,\n",
    "        \"S\": S,\n",
    "        \"K\": K,\n",
    "        \"X_update\": X_update,\n",
    "        \"I\": I,\n",
    "        \"P_update\": P_update,\n",
    "    }\n",
    "    intermediate_series = pd.Series(intermediate_vars)\n",
    "    \n",
    "    return X_update, P_update, intermediate_series\n",
    "X_update, P_update, intermediate_series = update(X_p, P_p, k, dt_step)\"\"\" "
   ]
  },
  {
   "cell_type": "code",
   "execution_count": null,
   "id": "be9c5aba-15b0-4b07-ac93-e86ac3550719",
   "metadata": {},
   "outputs": [],
   "source": [
    "\"\"\"X_update\"\"\""
   ]
  },
  {
   "cell_type": "code",
   "execution_count": null,
   "id": "46efacca-4dc0-46bd-b89b-c7a37dc97ae4",
   "metadata": {},
   "outputs": [],
   "source": [
    "\"\"\"P_update\"\"\""
   ]
  },
  {
   "cell_type": "code",
   "execution_count": null,
   "id": "89eb7409-7675-467b-85dc-adbfd1c0add4",
   "metadata": {},
   "outputs": [],
   "source": [
    "\"\"\"for key, value in intermediate_series.items():\n",
    "    print(f\"{key}:\\n{value}\\n\")\"\"\""
   ]
  },
  {
   "cell_type": "code",
   "execution_count": null,
   "id": "445ebe96-220f-4d85-8aa9-853c4ca67451",
   "metadata": {},
   "outputs": [],
   "source": [
    "# Beispiel\n",
    "k = 400\n",
    "dt_step = 0.5\n",
    "z, cov_z = func_z(k-1, dt_step)\n",
    "X_0 = z.copy()  # 当作 k-1 时刻的最优估计值\n",
    "u_0, cov_u0 = func_u(k-1, dt_step)"
   ]
  },
  {
   "cell_type": "code",
   "execution_count": null,
   "id": "1f063f87-0edd-4202-9fa7-131ad1c8c45e",
   "metadata": {},
   "outputs": [],
   "source": [
    "X_0"
   ]
  },
  {
   "cell_type": "code",
   "execution_count": null,
   "id": "cc65cac0-7af4-49c3-8871-d517e19d606e",
   "metadata": {},
   "outputs": [],
   "source": [
    "P_0 = np.diag([.1, .1, .1])  # 当作 k-1 时刻 P 的最优估计值\n",
    "P_0"
   ]
  },
  {
   "cell_type": "code",
   "execution_count": null,
   "id": "1f3b685b-3a32-4692-926f-4a16f6c5353a",
   "metadata": {},
   "outputs": [],
   "source": [
    "X_p, P_p = predict(X=X_0, P=P_0, u=u_0, cov_u=cov_u0, dt=dt_step)  # 这里的 X，P 是 k 时刻的先验估计值，也就是 k+1 时刻预测值\n",
    "X_p"
   ]
  },
  {
   "cell_type": "code",
   "execution_count": null,
   "id": "1a42a6cd-371d-4715-bd69-7190b3e6587b",
   "metadata": {},
   "outputs": [],
   "source": [
    "P_p"
   ]
  },
  {
   "cell_type": "code",
   "execution_count": null,
   "id": "ed75e37e-29c5-468e-9c6c-e6e6460b039d",
   "metadata": {},
   "outputs": [],
   "source": [
    "z, cov_z = func_z(k, dt_step)  # 这里是 k 时刻的传感器测量值\n",
    "z"
   ]
  },
  {
   "cell_type": "markdown",
   "id": "94c631ea-7860-41d4-abb5-1dc7ece4ccbf",
   "metadata": {
    "jp-MarkdownHeadingCollapsed": true
   },
   "source": [
    "calculate measurement from system state"
   ]
  },
  {
   "cell_type": "code",
   "execution_count": null,
   "id": "b02d25d1-fba0-4019-99ef-55f3715d4e96",
   "metadata": {},
   "outputs": [],
   "source": [
    "hx = h_x(X_p)\n",
    "hx"
   ]
  },
  {
   "cell_type": "code",
   "execution_count": null,
   "id": "d179a5d0-f6c7-45d2-9c49-a0e0304e8f37",
   "metadata": {},
   "outputs": [],
   "source": [
    "y = residual(z, hx)\n",
    "y"
   ]
  },
  {
   "cell_type": "code",
   "execution_count": null,
   "id": "8d7cf0d4-0a4e-4936-98eb-f4143509cc71",
   "metadata": {},
   "outputs": [],
   "source": [
    "R = R_matrix(k, dt_step)\n",
    "R"
   ]
  },
  {
   "cell_type": "code",
   "execution_count": null,
   "id": "f0d6522f-bda2-4289-aeed-b566b25a08fd",
   "metadata": {},
   "outputs": [],
   "source": [
    "def calculate_K(P, H, R):\n",
    "    \"\"\"\n",
    "    计算卡尔曼增益矩阵 K\n",
    "    \"\"\"\n",
    "    # 计算中间结果\n",
    "    S = H @ P @ H.T + R  # 残差协方差\n",
    "    K = P @ H.T @ S.inv()  # 卡尔曼增益矩阵\n",
    "    return K\n",
    "K = calculate_K(P_p, H, R)\n",
    "K"
   ]
  },
  {
   "cell_type": "code",
   "execution_count": null,
   "id": "b6051952-b10f-4288-ae26-d68a7f43085c",
   "metadata": {},
   "outputs": [],
   "source": [
    "X_update = X_p + K @ y\n",
    "X_update"
   ]
  },
  {
   "cell_type": "code",
   "execution_count": null,
   "id": "05d04163-aac6-4789-878b-3fa085ee8087",
   "metadata": {},
   "outputs": [],
   "source": [
    "I = np.eye(3)\n",
    "I"
   ]
  },
  {
   "cell_type": "code",
   "execution_count": null,
   "id": "eca67bc1-ee3f-42ad-aad2-720fe289bad5",
   "metadata": {},
   "outputs": [],
   "source": [
    "P_update = (I - K @ H) @ P_p\n",
    "P_update"
   ]
  },
  {
   "cell_type": "markdown",
   "id": "7fe4c4c0-909c-4b39-b223-57a64c08ec20",
   "metadata": {},
   "source": [
    "## run"
   ]
  },
  {
   "cell_type": "markdown",
   "id": "eb4ecdbe-0426-4c65-a6a5-069b44f163d2",
   "metadata": {},
   "source": [
    "### code"
   ]
  },
  {
   "cell_type": "code",
   "execution_count": 163,
   "id": "17bcf2be-c501-4ac5-a438-c2a48fb804b4",
   "metadata": {
    "editable": true,
    "slideshow": {
     "slide_type": ""
    },
    "tags": []
   },
   "outputs": [],
   "source": [
    "import os\n",
    "from filterpy.stats import plot_covariance_ellipse\n",
    "def run_CTRV_EKF(dt_step      = 0.5,             # secs, dt不可以直接指定固定值，而是要根据测量数据的时间戳进行决定，或者确定一个dt，截取传感器数据中与之时刻最接近的数据\n",
    "                 dt_track     = 0.1,\n",
    "                 sim_duration = 20,              # secs\n",
    "                 ylim         = None):\n",
    "    plt.clf()                                    # 清除上一次运行所绘图像\n",
    "    z_0, cov_z0  = func_z(k=0, dt_step=dt_step)\n",
    "    X            = z_0.copy()                    # X_0\n",
    "    P            = cov_z0.copy()                 # P_0, 之后也可以给P_0写一个函数，这里先这么着吧\n",
    "    # u, cov_u     = func_u(k=0, dt_step=dt_step)  # u_0, cov_u0\n",
    "    track        = []                            # 用于记录汽车的运行轨迹\n",
    "    k            = 0                             # timestep for prediction and update\n",
    "    sim_X        = z_0.copy()\n",
    "    step         = int(dt_step / dt_track)                            \n",
    "    ellipse_step = 10 * step\n",
    "    track_step   = int(sim_duration / dt_track)\n",
    "\n",
    "    # k_met = False                                # 第一次的Kovarianz太大，可以不画椭圆\n",
    "                                                 # 但是对于不含u的CTRV而言是否需要k_met还需斟酌\n",
    "    for i in range(track_step):\n",
    "            \n",
    "        # driving(X, u, dt)\n",
    "        sim_X = driving(sim_X, dt_track)                          # simulate the driving model of the car\n",
    "        track.append(sim_X)                                       # 这里并不多余，因为要绘制汽车运行的轨迹图，当 ω ≠ 0 时，两次更新点之间的轨迹并不是一条直线，所以需要适当的增加一些轨迹点使轨迹图看起来平滑\n",
    "\n",
    "        # 判断是否需要设置 k_met 为 True\n",
    "        # if not k_met and k <= 10:\n",
    "        #     k_met = True\n",
    "        \n",
    "        if i % step == 0:\n",
    "            k         = k + 1\n",
    "            # u, cov_u  = func_u(k, dt_step)                            # func_u是用来获取在每次更新阶段时刻k所需的最新控制矩阵 u，现在还每写，等ekf框架搭建完成后再设计  \n",
    "            # cov_v     = cov_u[0]\n",
    "            # cov_omega = cov_u[1]\n",
    "            X, P = predict(X, P, dt=dt_step)  # predict\n",
    "\n",
    "            if i % ellipse_step == 0:\n",
    "            # if i % ellipse_step == 0 and k >= 10:\n",
    "                plot_covariance_ellipse(\n",
    "                    (X[0,0], X[1,0]), P[0:5, 0:5], \n",
    "                    std=1, facecolor='k', alpha=0.3)                 # 设置predict阶段的协方差椭圆的颜色为黑色，透明度为 0.3（范围是 0 到 1）\n",
    "\n",
    "            X, P = update(X=X, P=P, k=k, dt_step=dt_step)  # update\n",
    "            P = np.array(P.tolist(), dtype=float)  # from \"type: <class 'sympy.matrices.dense.MutableDenseMatrix'>\" to \"type: <class 'numpy.ndarray'>\"\n",
    "            \n",
    "            if i % ellipse_step == 0:\n",
    "            # if i % ellipse_step == 0 and k >= 10:\n",
    "                plot_covariance_ellipse(\n",
    "                    (X[0,0], X[1,0]), P[0:5, 0:5], \n",
    "                     std=1, facecolor='g', alpha=0.8)\n",
    "                \n",
    "            # print(f'P_{k}:{P}:')  # 测试完成后删除\n",
    "            \n",
    "            sim_X = X\n",
    "            track.append(sim_X)    \n",
    "        if i == track_step - 1:  # testcode, should be deleted after testing\n",
    "            print(f'Pu_{k}:{P}:')\n",
    "        \n",
    "    track = np.array(track)  # 假设 track 是您的轨迹数据\n",
    "    plt.plot(track[:, 0], track[:, 1], color='k', lw=2)\n",
    "    plt.axis('equal')\n",
    "    plt.grid(True)\n",
    "\n",
    "    # 设置动态标题\n",
    "    title_text = f\"Klitten EKF\\nsim_duration = {sim_duration}, dt_step = {dt_step}, dt_track = {dt_track}\"\n",
    "    plt.title(title_text)\n",
    "    if ylim is not None:\n",
    "        plt.ylim(*ylim)\n",
    "\n",
    "    # 动态生成文件夹路径\n",
    "    save_dir = \"C:/Users/wq138/OneDrive - mailbox.tu-dresden.de/Diplomarbeit/sim_Ergebnisse/\"\n",
    "    os.makedirs(save_dir, exist_ok=True)\n",
    "\n",
    "    # 生成基础文件名\n",
    "    base_name = f\"Klitten_EKF_sim_duration={sim_duration}_dt_step={dt_step}_dt_track={dt_track}\"\n",
    "    file_extension = \".png\"\n",
    "\n",
    "    # 初始化计数器为 1\n",
    "    counter = 1\n",
    "    save_path = os.path.join(save_dir, f\"{base_name}({counter}){file_extension}\")\n",
    "\n",
    "    # 检查文件是否已存在，如果存在递增计数器\n",
    "    while os.path.exists(save_path):\n",
    "        counter += 1\n",
    "        save_path = os.path.join(save_dir, f\"{base_name}({counter}){file_extension}\")\n",
    "\n",
    "    # 保存图片\n",
    "    plt.savefig(save_path, dpi=300, bbox_inches='tight')\n",
    "    plt.show()\n",
    "    print(f\"Chart has been saved in: {save_path}\")\n",
    "\n",
    "    return \n",
    "# 图像大小还需要调整，貌似每次都会被上一次的数据覆盖\n"
   ]
  },
  {
   "cell_type": "code",
   "execution_count": 164,
   "id": "5ab50114-2fd3-464f-9b40-e67d9463aabc",
   "metadata": {},
   "outputs": [
    {
     "name": "stdout",
     "output_type": "stream",
     "text": [
      "Pu_1000:[[ 1.25152033e-05 -4.12590337e-07  9.90208915e-09 -4.53158316e-08\n",
      "   8.87007170e-11]\n",
      " [-4.12590337e-07  2.00554047e-05 -6.65487853e-08 -7.80538770e-09\n",
      "  -2.25869902e-10]\n",
      " [ 9.90208915e-09 -6.65487853e-08  4.55966818e-10  1.07831873e-10\n",
      "   2.16207128e-12]\n",
      " [-4.53158316e-08 -7.80538770e-09  1.07831873e-10  2.78198442e-10\n",
      "   4.48647944e-13]\n",
      " [ 8.87007170e-11 -2.25869902e-10  2.16207128e-12  4.48647944e-13\n",
      "   1.14361248e-14]]:\n"
     ]
    },
    {
     "data": {
      "application/vnd.jupyter.widget-view+json": {
       "model_id": "a1b8b563c13f4c29b3d582dd9647d65b",
       "version_major": 2,
       "version_minor": 0
      },
      "image/png": "[encoded data removed]",
      "text/html": [
       "\n",
       "            <div style=\"display: inline-block;\">\n",
       "                <div class=\"jupyter-widgets widget-label\" style=\"text-align: center;\">\n",
       "                    Figure 1\n",
       "                </div>\n",
       "                <img src='data:image/png;base64,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' width=640.0/>\n",
       "            </div>\n",
       "        "
      ],
      "text/plain": [
       "Canvas(toolbar=Toolbar(toolitems=[('Home', 'Reset original view', 'home', 'home'), ('Back', 'Back to previous …"
      ]
     },
     "metadata": {},
     "output_type": "display_data"
    },
    {
     "name": "stdout",
     "output_type": "stream",
     "text": [
      "Chart has been saved in: C:/Users/wq138/OneDrive - mailbox.tu-dresden.de/Diplomarbeit/sim_Ergebnisse/Klitten_EKF_sim_duration=500_dt_step=0.5_dt_track=0.05(4).png\n"
     ]
    }
   ],
   "source": [
    "run_CTRV_EKF(sim_duration = 500, dt_step = 0.5, dt_track = 0.05)"
   ]
  },
  {
   "cell_type": "markdown",
   "id": "4396dc51-ab42-494b-a023-930ff9400046",
   "metadata": {},
   "source": [
    "### Testcode"
   ]
  },
  {
   "cell_type": "markdown",
   "id": "d2c6026b-2a4c-466b-9bf6-259e59477fd5",
   "metadata": {},
   "source": [
    "# 4. Design Measurement Noise"
   ]
  },
  {
   "cell_type": "markdown",
   "id": "4d98a5d9-468a-491b-99a7-7efc10e04719",
   "metadata": {},
   "source": [
    "# 5. Implementation"
   ]
  },
  {
   "cell_type": "code",
   "execution_count": null,
   "id": "08a8655e-c8dc-4cf2-a94c-bca741cf28bc",
   "metadata": {},
   "outputs": [],
   "source": []
  },
  {
   "cell_type": "markdown",
   "id": "e83cbf1a-1173-4b8f-a7a0-e69cf27335f7",
   "metadata": {},
   "source": [
    "If the curve above is the process model, then the dotted lines shows the linearization of that curve for the estimate $x=1.5$.\n",
    "\n",
    "We linearize systems by taking the derivative, which finds the slope of a curve:\n",
    "\n",
    "$$\\begin{aligned}\n",
    "f(x) &= x^2 -2x \\\\\n",
    "\\frac{df}{dx} &= 2x - 2\n",
    "\\end{aligned}$$\n",
    "\n",
    "and then evaluating it at $x$:\n",
    "\n",
    "$$\\begin{aligned}m &= f'(x=1.5) \\\\&= 2(1.5) - 2 \\\\&= 1\\end{aligned}$$ \n",
    "\n",
    "Linearizing systems of differential equations is similar. We linearize $f(\\mathbf x, \\mathbf u)$, and $h(\\mathbf x)$ by taking the partial derivatives of each to evaluate $\\mathbf F$ and $\\mathbf H$ at the point $\\mathbf x_t$ and $\\mathbf u_t$. We call the partial derivative of a matrix the [*Jacobian*](https://en.wikipedia.org/wiki/Jacobian_matrix_and_determinant). This gives us the the discrete state transition matrix and measurement model matrix:\n",
    "\n",
    "$$\n",
    "\\begin{aligned}\n",
    "\\mathbf F \n",
    "&= {\\frac{\\partial{f(\\mathbf x_t, \\mathbf u_t)}}{\\partial{\\mathbf x}}}\\biggr|_{{\\mathbf x_t},{\\mathbf u_t}} \\\\\n",
    "\\mathbf H &= \\frac{\\partial{h(\\bar{\\mathbf x}_t)}}{\\partial{\\bar{\\mathbf x}}}\\biggr|_{\\bar{\\mathbf x}_t} \n",
    "\\end{aligned}\n",
    "$$\n",
    "\n",
    "This leads to the following equations for the EKF. I put boxes around the differences from the linear filter:\n",
    "\n",
    "$$\\begin{array}{l|l}\n",
    "\\text{linear Kalman filter} & \\text{EKF} \\\\\n",
    "\\hline \n",
    "& \\boxed{\\mathbf F = {\\frac{\\partial{f(\\mathbf x_t, \\mathbf u_t)}}{\\partial{\\mathbf x}}}\\biggr|_{{\\mathbf x_t},{\\mathbf u_t}}} \\\\\n",
    "\\mathbf{\\bar x} = \\mathbf{Fx} + \\mathbf{Bu} & \\boxed{\\mathbf{\\bar x} = f(\\mathbf x, \\mathbf u)}  \\\\\n",
    "\\mathbf{\\bar P} = \\mathbf{FPF}^\\mathsf{T}+\\mathbf Q  & \\mathbf{\\bar P} = \\mathbf{FPF}^\\mathsf{T}+\\mathbf Q \\\\\n",
    "\\hline\n",
    "& \\boxed{\\mathbf H = \\frac{\\partial{h(\\bar{\\mathbf x}_t)}}{\\partial{\\bar{\\mathbf x}}}\\biggr|_{\\bar{\\mathbf x}_t}} \\\\\n",
    "\\textbf{y} = \\mathbf z - \\mathbf{H \\bar{x}} & \\textbf{y} = \\mathbf z - \\boxed{h(\\bar{x})}\\\\\n",
    "\\mathbf{K} = \\mathbf{\\bar{P}H}^\\mathsf{T} (\\mathbf{H\\bar{P}H}^\\mathsf{T} + \\mathbf R)^{-1} & \\mathbf{K} = \\mathbf{\\bar{P}H}^\\mathsf{T} (\\mathbf{H\\bar{P}H}^\\mathsf{T} + \\mathbf R)^{-1} \\\\\n",
    "\\mathbf x=\\mathbf{\\bar{x}} +\\mathbf{K\\textbf{y}} & \\mathbf x=\\mathbf{\\bar{x}} +\\mathbf{K\\textbf{y}} \\\\\n",
    "\\mathbf P= (\\mathbf{I}-\\mathbf{KH})\\mathbf{\\bar{P}} & \\mathbf P= (\\mathbf{I}-\\mathbf{KH})\\mathbf{\\bar{P}}\n",
    "\\end{array}$$\n",
    "\n",
    "We don't normally use $\\mathbf{Fx}$ to propagate the state for the EKF as the linearization causes inaccuracies. It is typical to compute $\\bar{\\mathbf x}$ using a suitable numerical integration technique such as Euler or Runge Kutta. Thus I wrote $\\mathbf{\\bar x} = f(\\mathbf x, \\mathbf u)$. For the same reasons we don't use $\\mathbf{H\\bar{x}}$ in the computation for the residual, opting for the more accurate $h(\\bar{\\mathbf x})$.\n",
    "\n",
    "I think the easiest way to understand the EKF is to start off with an example. Later you may want to come back and reread this section."
   ]
  },
  {
   "cell_type": "code",
   "execution_count": null,
   "id": "89e7181e-39a4-474b-9702-44fa21375bdb",
   "metadata": {},
   "outputs": [],
   "source": []
  }
 ],
 "metadata": {
  "kernelspec": {
   "display_name": "Python 3 (ipykernel)",
   "language": "python",
   "name": "python3"
  },
  "language_info": {
   "codemirror_mode": {
    "name": "ipython",
    "version": 3
   },
   "file_extension": ".py",
   "mimetype": "text/x-python",
   "name": "python",
   "nbconvert_exporter": "python",
   "pygments_lexer": "ipython3",
   "version": "3.12.2"
  }
 },
 "nbformat": 4,
 "nbformat_minor": 5
}
