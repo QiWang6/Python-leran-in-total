{
 "cells": [
  {
   "cell_type": "code",
   "execution_count": null,
   "id": "c4e27859-f171-40ba-a0ee-67fee15f5370",
   "metadata": {},
   "outputs": [],
   "source": [
    "import numpy as np\n",
    "import matplotlib.pylab as plt\n",
    "import matplotlib.gridspec as gridspec\n",
    "import pandas as pd\n",
    "from bagpy import bagreader\n",
    "\n",
    "# import data from recording at Klitten FVZ\n",
    "results_file = \"./Klitten/loc_results_2023-11-01-12-53-52_0.bag\"\n",
    "sensor_file = \"./Klitten/recordedData_sensors_locpc_2023-11-01-12-53-52_0.bag\"\n",
    "\n",
    "result_reader = bagreader(results_file)\n",
    "sensor_reader = bagreader(sensor_file)\n",
    "\n",
    "\n",
    "# Thius function extracts the sensordata into CSV-files\n",
    "\n",
    "map_path = result_reader.message_by_topic(topic=\"/odometry/filtered/map\")\n",
    "#odom_path = result_reader.message_by_topic(topic=\"/odometry/filtered/odom\")\n",
    "#gps_odometry_path  = result_reader.message_by_topic(topic=\"/odometry/gps\")\n",
    "imu_oem = sensor_reader.message_by_topic(topic=\"/localization_pc/can0/decoded/imu\")\n",
    "#speed_oem = sensor_reader.message_by_topic(topic=\"/localization_pc/can0/decoded/speed\")\n",
    "#steeringAngle_oem = sensor_reader.message_by_topic(topic=\"/localization_pc/can0/decoded/steeringAngle\")\n",
    "#gnss_oem = sensor_reader.message_by_topic(topic=\"/localization_pc/can0/decoded/gnss\")\n",
    "#imu_anavs = sensor_reader.message_by_topic(topic=\"/localization_pc/sensor/anavs/imu\")\n",
    "#navsat_anavs = sensor_reader.message_by_topic(topic=\"/localization_pc/sensor/anavs/navsat\")\n",
    "\n",
    "\n",
    "# You can then use Pandas to read the files.\n",
    "df_map_path = pd.read_csv(map_path)  \n",
    "#df_odom_path = pd.read_csv(odom_path)  \n",
    "# df_gps_path = pd.read_csv(gps_odometry_path)\n",
    "#df_speed = pd.read_csv(speed_oem)\n",
    "df_imu = pd.read_csv(imu_oem)\n",
    "\n",
    "# 我写的\n",
    "# df_imu_anavs = pd.read_csv(imu_anavs)\n",
    "# df_navsat_anvas = pd.read_csv(navsat_anavs)"
   ]
  },
  {
   "cell_type": "markdown",
   "id": "344c72f5-6a71-4721-8513-68955fe9707e",
   "metadata": {},
   "source": [
    "#### Die Zeitdaten von `header.stamp.secs` sollen verschoben werden, sodass sie ab 0 Sekunden beginnen."
   ]
  },
  {
   "cell_type": "code",
   "execution_count": null,
   "id": "d44ad4a7-faff-4eea-b567-eacb33c299cd",
   "metadata": {},
   "outputs": [],
   "source": [
    "df_map_path['header.stamp.secs'] = df_map_path['header.stamp.secs'] - df_map_path['header.stamp.secs'].iloc[0]\n",
    "df_imu['header.stamp.secs'] = df_imu['header.stamp.secs'] - df_imu['header.stamp.secs'].iloc[0]"
   ]
  },
  {
   "cell_type": "markdown",
   "id": "8eaae507-2794-4f14-af43-3ff6fab47684",
   "metadata": {},
   "source": [
    "#### Die Anzeigeformatierung für DataFrame einstellen"
   ]
  },
  {
   "cell_type": "code",
   "execution_count": null,
   "id": "e7228a6e-78be-48c4-ab4a-61a4bd8d64e5",
   "metadata": {},
   "outputs": [],
   "source": [
    "pd.set_option('display.max_rows', None)\n",
    "pd.set_option('display.max_columns', None)\n",
    "# pd.set_option('display.max_colwidth', None)\n",
    "pd.set_option('display.max_colwidth', 20)"
   ]
  },
  {
   "cell_type": "markdown",
   "id": "2326b391-d32d-4b3e-9c1d-fe8d1a386ebb",
   "metadata": {},
   "source": [
    "#### Eine neue Spalte `secs.nsecs` zwischen `header.stamp.secs` und `header.stamp.nsecs` einfügen, sodass der Zeitstempel in Sekunden mit Dezimalstellen dargestellt wird."
   ]
  },
  {
   "cell_type": "code",
   "execution_count": null,
   "id": "d57e885a-1ed0-482b-a91e-b3aeb8a15204",
   "metadata": {},
   "outputs": [],
   "source": [
    "# 计算新列\n",
    "df_imu['secs.nsecs'] = df_imu['header.stamp.secs'] + df_imu['header.stamp.nsecs'] * 1e-9\n",
    "df_imu['secs.nsecs'] = df_imu['secs.nsecs'].round(9)\n",
    "# 调整列的位置，将 'secs.nsecs' 放到 'header.stamp.nsecs' 后面\n",
    "columns = df_imu.columns.tolist()\n",
    "index = columns.index('header.stamp.nsecs') + 1  # 获取目标列的索引并加1\n",
    "columns.insert(index, columns.pop(columns.index('secs.nsecs')))  # 移动 secs.nsecs 列\n",
    "\n",
    "# 重新排列列顺序\n",
    "df_imu = df_imu[columns]"
   ]
  },
  {
   "cell_type": "code",
   "execution_count": null,
   "id": "beda8c9e-5213-412d-a9b1-6f36db60c274",
   "metadata": {},
   "outputs": [],
   "source": [
    "# 计算新列\n",
    "df_map_path['secs.nsecs'] = df_map_path['header.stamp.secs'] + df_map_path['header.stamp.nsecs'] * 1e-9\n",
    "df_map_path['secs.nsecs'] = df_map_path['secs.nsecs'].round(9)\n",
    "# 调整列的位置，将 'secs.nsecs' 放到 'header.stamp.nsecs' 后面\n",
    "columns = df_map_path.columns.tolist()\n",
    "index = columns.index('header.stamp.nsecs') + 1  # 获取目标列的索引并加1\n",
    "columns.insert(index, columns.pop(columns.index('secs.nsecs')))  # 移动 secs.nsecs 列\n",
    "\n",
    "# 重新排列列顺序\n",
    "df_map_path = df_map_path[columns]"
   ]
  },
  {
   "cell_type": "markdown",
   "id": "7335f87f-dd14-495b-9d1e-1b14ccbc4dce",
   "metadata": {},
   "source": [
    "#### Die für die control-input \\( u \\) erforderlichen Daten aus den Sensordaten extrahieren."
   ]
  },
  {
   "cell_type": "code",
   "execution_count": null,
   "id": "1ac0fa8e-7767-47d2-8775-48d6dca62c38",
   "metadata": {},
   "outputs": [],
   "source": [
    "# u, cov_u = func_u(k, dt_step)\n",
    "import ast\n",
    "# 定义函数 func_u\n",
    "def func_u(k, dt_step):\n",
    "    t = k * dt_step\n",
    "\n",
    "    # 从 df_map_path 中找到与 t 值最接近的 index\n",
    "    idx_v               = (df_map_path['secs.nsecs'] - t).abs().idxmin()\n",
    "    v                   = df_map_path.loc[idx_v, 'twist.twist.linear.x']\n",
    "    cov_v_str           = df_map_path.loc[idx_v, 'twist.covariance']\n",
    "    cov_v_parsed_matrix = ast.literal_eval(cov_v_str)\n",
    "    cov_v_matrix        = np.array(cov_v_parsed_matrix ).reshape(6, 6)\n",
    "    cov_v               = cov_v_matrix[0, 0]\n",
    "    \n",
    "    # 从 df_imu 中找到与 t 值最接近的 index\n",
    "    idx_omega = (df_imu['secs.nsecs'] - t).abs().idxmin()\n",
    "    omega     = df_imu.loc[idx_omega, 'angular_velocity.z']\n",
    "    cov_omega = df_imu.loc[idx_omega, 'angular_velocity_covariance_8']\n",
    "    \n",
    "    u = np.array([v, omega])\n",
    "    cov_u = np.array([cov_v, cov_omega])\n",
    "    return u, cov_u\n",
    "    \n",
    "k = 200\n",
    "dt_step = 0.1\n",
    "u, cov_u = func_u(k, dt_step)"
   ]
  },
  {
   "cell_type": "markdown",
   "id": "be763168-a725-472e-9b1a-c422eb0b7b9d",
   "metadata": {},
   "source": [
    "#### Die für die Zustansmatrix (X) erforderlichen Daten aus den Sensordaten extrahieren."
   ]
  },
  {
   "cell_type": "code",
   "execution_count": null,
   "id": "b7ddb579-6cb0-4038-8e14-16186b125516",
   "metadata": {},
   "outputs": [],
   "source": [
    "# z, cov_z = func_z(k, dt_step)   \n",
    "import ast\n",
    "from sympy import symbols, Matrix\n",
    "\n",
    "# 定义函数 func_z\n",
    "def func_z(k, dt_step):\n",
    "    t = k * dt_step\n",
    "\n",
    "    # 从 df_map_path 中找到与 t 值最接近的 index\n",
    "    idx                    = (df_map_path['secs.nsecs'] - t).abs().idxmin()\n",
    "    x                      = df_map_path.loc[idx, 'pose.pose.position.x']\n",
    "    y                      = df_map_path.loc[idx, 'pose.pose.position.y']\n",
    "    theta                  = df_map_path.loc[idx, 'pose.pose.orientation.z']\n",
    "    z                      = Matrix([x, y, theta])\n",
    "    \n",
    "    cov_pose_str           = df_map_path.loc[idx, 'pose.covariance']\n",
    "    cov_pose_parsed_matrix = ast.literal_eval(cov_pose_str)\n",
    "    cov_x                  = cov_pose_parsed_matrix[0]\n",
    "    cov_y                  = cov_pose_parsed_matrix[7]\n",
    "    cov_xy                 = cov_pose_parsed_matrix[1]\n",
    "    cov_theta              = cov_pose_parsed_matrix[14]\n",
    "    cov_z                  = np.array([cov_x, cov_y, cov_xy, cov_theta])\n",
    "    \n",
    "    # cov_pose_str           = df_map_path.loc[idx, 'pose.covariance']\n",
    "    # cov_pose_parsed_matrix = ast.literal_eval(cov_pose_str)\n",
    "    # cov_pose_matrix        = np.array(cov_pose_parsed_matrix).reshape(6, 6)\n",
    "    # cov_x                  = cov_pose_matrix[0, 0]\n",
    "    # cov_y                  = cov_pose_matrix[1, 1]\n",
    "    # cov_xy                 = cov_pose_matrix[1, 0]\n",
    "    # cov_theta              = cov_pose_matrix[2, 2]\n",
    "    # cov_z                  = np.array([cov_x, cov_y, cov_xy, cov_theta])\n",
    "\n",
    "    return z, cov_z\n",
    "    \n",
    "k = 10000\n",
    "dt_step = 0.1\n",
    "z, cov_z = func_z(k, dt_step)   "
   ]
  },
  {
   "cell_type": "markdown",
   "id": "4df5b091-9e99-41ad-9d7c-914c6ce47e52",
   "metadata": {},
   "source": [
    "## Determine the required measurement dataset"
   ]
  },
  {
   "cell_type": "code",
   "execution_count": null,
   "id": "034de606-8049-49da-b62d-13448db0169c",
   "metadata": {},
   "outputs": [],
   "source": [
    "def SensorData(sensor_type):\n",
    "    \"\"\"\n",
    "    Function to retrieve specific columns from the appropriate DataFrame based on input parameters..\n",
    "\n",
    "    Parameters: One of the following strings - 'x', 'y', 'heading_angle', 'speed', 'yaw_rate'.\n",
    "\n",
    "    Returns:\n",
    "        pd.Series: The corresponding column from the appropriate DataFrame.\n",
    "    \"\"\"\n",
    "    # Define the mapping between sensor types and DataFrame columns\n",
    "    column_mapping = {\n",
    "        \"x\":             (\"df_map_path\", \"pose.pose.position.x\"),\n",
    "        \"y\":             (\"df_map_path\", \"pose.pose.position.y\"),\n",
    "        \"heading_angle\": (\"df_map_path\", \"pose.pose.orientation.z\"),\n",
    "        \"speed\":         (\"df_map_path\", \"twist.twist.linear.x\"),\n",
    "        \"yaw_rate\":      (\"df_imu\",      \"angular_velocity.z\"),\n",
    "    }\n",
    "\n",
    "    # Check if the input sensor_type is valid\n",
    "    if sensor_type not in column_mapping:\n",
    "        raise ValueError(f\"Invalid sensor type: {sensor_type}. Must be one of {list(column_mapping.keys())}\")\n",
    "\n",
    "    # Get the DataFrame and column name\n",
    "    df_name, column_name = column_mapping[sensor_type]\n",
    "\n",
    "    # Retrieve the DataFrame object dynamically\n",
    "    df = globals().get(df_name)\n",
    "    if df is None:\n",
    "        raise ValueError(f\"DataFrame {df_name} is not defined in the current environment.\")\n",
    "\n",
    "    # Return the corresponding column from the appropriate DataFrame\n",
    "    return df[column_name]\n",
    "\n",
    "# Example usage:\n",
    "# result = SensorData(\"heading_angle\")\n",
    "# print(result)\n"
   ]
  },
  {
   "cell_type": "code",
   "execution_count": null,
   "id": "85ba4b0a-bd8b-4bb9-bb7e-142445b4f227",
   "metadata": {
    "scrolled": true
   },
   "outputs": [],
   "source": [
    "result = SensorData(\"heading_angle\")\n",
    "result"
   ]
  },
  {
   "cell_type": "markdown",
   "id": "db66c90c-6100-4ddf-bf99-30b9d64360d2",
   "metadata": {},
   "source": [
    "# 1. Design the State Variables\n",
    "\n",
    "$$\n",
    "\\mathbf{X} =\n",
    "\\begin{bmatrix}\n",
    "x \\\\\n",
    "y \\\\\n",
    "\\theta \\\\\n",
    "v \\\\\n",
    "\\omega\n",
    "\\end{bmatrix}\n",
    "$$\n",
    "\n",
    "- **[x, y]**: Position of the vehicle  \n",
    "- **θ\\theta**: Heading angle (\\(^\\circ\\))  \n",
    "- **v**: Speed (\\([m/s]\\))  \n",
    "- **ω**: Yaw rate (\\([rad/s]\\))"
   ]
  },
  {
   "cell_type": "markdown",
   "id": "f4017d25-c6c1-47dd-b0cf-77671a8a71dc",
   "metadata": {},
   "source": [
    "# 2. Design the System Model "
   ]
  },
  {
   "cell_type": "markdown",
   "id": "786c95b8-fecc-4d46-ab35-e36b083ad4ba",
   "metadata": {},
   "source": [
    "## 2.1 System Jacobian Matrix J"
   ]
  },
  {
   "cell_type": "code",
   "execution_count": null,
   "id": "c223184a-c00c-4105-a077-95d9589d0dae",
   "metadata": {},
   "outputs": [],
   "source": [
    "from sympy import symbols, Matrix, sin, cos, init_printing\n",
    "\n",
    "# initialize to show in the form of LaTex\n",
    "init_printing(use_latex=\"mathjax\", fontsize=\"16pt\")\n",
    "\n",
    "# define the symbles of variables\n",
    "x, y, theta, v, omega, time = symbols('x y theta v omega T')  \n",
    "\n",
    "# define the state vector\n",
    "X = Matrix([x, y, theta])  \n",
    "\n",
    "# define state transition f(x, u)\n",
    "f_xu = Matrix([\n",
    "    x + v/omega * (sin(theta + omega*time) - sin(theta)), \n",
    "    y + v/omega * (cos(theta) - cos(theta + omega*time)),  \n",
    "    theta + omega*time\n",
    "])\n",
    "\n",
    "# calculate jacobian matrix J\n",
    "J = f_xu.jacobian(X)\n",
    "\n",
    "J"
   ]
  },
  {
   "cell_type": "code",
   "execution_count": null,
   "id": "b21164e7-faa2-493f-9bd8-70f7e283dd53",
   "metadata": {},
   "outputs": [],
   "source": [
    "# reduce common expressions\n",
    "# R = symbols('R')\n",
    "# J = J.subs(v/omega, R)  # 这里暂且放一下，不对公式进行简化\n",
    "# J"
   ]
  },
  {
   "cell_type": "markdown",
   "id": "257208f7-a552-4292-9089-f037f8ebdee2",
   "metadata": {},
   "source": [
    "## 2.2 control input Noise M and Jacobian Matrix V "
   ]
  },
  {
   "cell_type": "code",
   "execution_count": null,
   "id": "03a0e1e2-6e5e-4172-8cdd-e87f8264792d",
   "metadata": {},
   "outputs": [],
   "source": [
    "u = Matrix([v, omega])\n",
    "V = f_xu.jacobian(u)\n",
    "# V = V.subs(v/omega, \"R\")\n",
    "V"
   ]
  },
  {
   "cell_type": "markdown",
   "id": "1730cc1a-6371-4bf9-9681-3ca4d93ceaa6",
   "metadata": {},
   "source": [
    "# 3. Design the Measurement Model"
   ]
  },
  {
   "cell_type": "code",
   "execution_count": null,
   "id": "3d62e4b5-9f24-4004-b529-4af30f4f98f0",
   "metadata": {},
   "outputs": [],
   "source": [
    "# Die Sensoren können direkt die Messdaten der Variablen liefern\n",
    "z = Matrix([x, y, theta])\n",
    "H = z.jacobian(X)\n",
    "H"
   ]
  },
  {
   "cell_type": "code",
   "execution_count": null,
   "id": "4d5d4e5c-1262-4be1-b818-3421c01bfb4e",
   "metadata": {},
   "outputs": [],
   "source": [
    "print(type(H))"
   ]
  },
  {
   "cell_type": "markdown",
   "id": "94c631ea-7860-41d4-abb5-1dc7ece4ccbf",
   "metadata": {
    "jp-MarkdownHeadingCollapsed": true
   },
   "source": [
    "calculate measurement from system state"
   ]
  },
  {
   "cell_type": "code",
   "execution_count": null,
   "id": "a4a12e39-6479-4cad-a5bb-de16a04a9724",
   "metadata": {},
   "outputs": [],
   "source": [
    "from numpy import array\n",
    "\n",
    "def H_x(X):\n",
    "    \"\"\"convert prediction to measurement\"\"\"\n",
    "    H_x = array([\n",
    "        [X[0, 0]],\n",
    "        [X[1, 0]],\n",
    "        [X[2, 0]]\n",
    "    ])\n",
    "    return H_x"
   ]
  },
  {
   "cell_type": "markdown",
   "id": "d2c6026b-2a4c-466b-9bf6-259e59477fd5",
   "metadata": {},
   "source": [
    "# 4. Design Measurement Noise"
   ]
  },
  {
   "cell_type": "markdown",
   "id": "4d98a5d9-468a-491b-99a7-7efc10e04719",
   "metadata": {},
   "source": [
    "# 5. Implementation"
   ]
  },
  {
   "cell_type": "code",
   "execution_count": null,
   "id": "f976a5d5-3a7a-4ea8-94b3-ff3b655fc0b1",
   "metadata": {},
   "outputs": [],
   "source": [
    "from filterpy.kalman import ExtendedKalmanFilter as EKF\n",
    "from numpy import array, sqrt\n",
    "class CTRV_EKF(EKF):\n",
    "    def __init__(self):  # dt is value for specific timestep\n",
    "        # state dimension 3, measurement dimension 3, control input dimension 2\n",
    "        EKF.__init__(self, 3, 3, 2)\n",
    "        \n",
    "        # symble definition\n",
    "        x, y, theta, v, omega, time = symbols('x y theta v omega T')  # \"T\" is symble variable for symble expression, \"time\" is the saved reference-name of \"T\"\n",
    "        # \"=\"前面的x, y 是通过 sympy.symbols('x y ...') 定义的符号变量; 这些符号变量是用来进行符号运算（如雅可比矩阵计算）的数学符号; 这些符号变量会被赋值到 self.x_x 和 self.x_y\n",
    "        # \"=\"后面是 sympy.symbols 定义的字符串 'x y'，仅仅是符号定义的文本，不涉及变量引用\n",
    "        \n",
    "        # nonlinear system model f(x, u)    \n",
    "        self.f_xu = Matrix([\n",
    "            x + v/omega * (sin(theta + omega*time) - sin(theta)), \n",
    "            y + v/omega * (cos(theta) - cos(theta + omega*time)),  \n",
    "            theta + omega*time\n",
    "        ])\n",
    "\n",
    "        # calculate jacobian matrix\n",
    "        self.F_J = self.f_xu.jacobian(Matrix([x, y, theta]))\n",
    "        self.V_J = self.f_xu.jacobian(Matrix([v, omega]))\n",
    "\n",
    "        # replace dictionary and  it's variables\n",
    "        self.subs                      = {x: 0, y: 0, theta: 0, v: 0, omega: 0, time: dt}  # 等号后面的x, y 是替换字典 self.subs 的键。\n",
    "        self.x_x, self.x_y,            = x, y  # 引用的是symble definition中的符号变量 x 和 y\n",
    "\n",
    "    \n",
    "    def predict(self, u, cov_v, cov_omega):  # cov_v, cov_omega由传感器直接提供\n",
    "        self.X         = self.driving(self.X, u, self.dt)  # self.X after \"=\"：the current state vector; self.X before \"=\"：the next state vector\n",
    "        self.cov_v     = cov_v\n",
    "        self.cov_omega = cov_omega \n",
    "        \n",
    "        # 下面这段代码将状态向量 self.x 和控制输入 u 的值绑定到符号变量中，便于后续将符号表达式替换为具体数值。\n",
    "        self.subs[self.x_x]   = self.X[0, 0]  # self.X is 2-D Matrix，这行代码将符号变量 self.x_x 绑定到 self.x[0, 0] 的具体值。\n",
    "        self.subs[self.x_y]   = self.X[1, 0]\n",
    "        self.subs[self.theta] = self.x[2, 0]        \n",
    "        self.subs[self.v]     = u[0]          # u is 1-D Array\n",
    "        self.subs[self.omega] = u[1]\n",
    "        \n",
    "        # predict the value of Jacobian Matrix\n",
    "        J = array(self.F_J.evalf(subs=self.subs)).astype(float)\n",
    "        V = array(self.V_j.evalf(subs=self.subs)).astype(float)\n",
    "        \n",
    "        # Noise covariance Matrix of control input\n",
    "        M = array([[self.cov_v, 0], \n",
    "                   [0, self.cov_omega]])\n",
    "\n",
    "        # Covariance Matrix of Prediction \n",
    "        self.P = F @ self.P @ F.T + V @ M @ V.T  # F：状态转移矩阵（雅可比矩阵), V：控制输入对状态影响的雅可比矩阵 ∂f/∂u, M：控制输入的噪声协方差矩阵\n",
    "                                                 # 在 Python 中，@ 是矩阵乘法运算符，用于执行矩阵与矩阵或矩阵与向量的乘法运算。它是在 Python 3.5 中引入的，用于增强矩阵运算的可读性，与 NumPy 的 np.dot() 功能等效，但语法更加直观。                                        \n",
    "\n",
    "    \n",
    "    def driving(self, X, u, dt):\n",
    "        heading_angle = X[2, 0]\n",
    "        velocity      = u[0]\n",
    "        yaw_rate      = u[1]\n",
    "        \n",
    "        radius        = velocity/yaw_rate  # R = v / ω\n",
    "        beta          = yaw_rate * dt\n",
    "        \n",
    "        dX = np.array([\n",
    "            [radius * (sin(heading_angle + beta) - sin(heading_angle))],\n",
    "            [radius * (cos(heading_angle) - cos(heading_angle + beta))],\n",
    "            [beta]\n",
    "        ])\n",
    "\n",
    "        return X + dX\n",
    "    "
   ]
  },
  {
   "cell_type": "code",
   "execution_count": null,
   "id": "5e456ec8-616b-4e7e-bebf-8a2f1affaa68",
   "metadata": {},
   "outputs": [],
   "source": [
    "# Roger R Labbe Jr. Kalman_and_Bayesian_Filters_in_Python.\n",
    "def residual(a, b): \n",
    "    \"\"\" compute residual (a-b) between measurements containing \n",
    "    [position, heading_angle]. heading_angle is normalized to [-pi, pi)\"\"\"\n",
    "    y = a - b\n",
    "    y[2] = y[2] % (2 * np.pi)    # force in range [0, 2 pi)\n",
    "    if y[2] > np.pi:             # move to [-pi, pi)\n",
    "        y[2] -= 2 * np.pi\n",
    "    return y"
   ]
  },
  {
   "cell_type": "code",
   "execution_count": null,
   "id": "159f35ce-b64f-439f-a660-eea896f66233",
   "metadata": {},
   "outputs": [],
   "source": [
    "from filterpy.stats import plot_covariance_ellipse\n",
    "from math import sqrt, tan, cos, sin, atan2\n",
    "import matplotlib.pyplot as plt\n",
    "\n",
    "def ekf_update(ekf, z):\n",
    "    ekf.update(z, \n",
    "               HJacobian = H,                                         # 观测模型的雅可比矩阵 H \n",
    "               Hx        = H_x,                                       # 测量函数 h(x)，直接将状态变量转换为测量值\n",
    "               residual  = residual)\n",
    "\n",
    "def run_CTRV(dt_step      = 1.0,                                      # secs, dt不可以直接指定固定值，而是要根据测量数据的时间戳进行决定，或者确定一个dt，截取传感器数据中与之时刻最接近的数据\n",
    "             dt_track     = 0.1,\n",
    "             sim_duration = 20,                                       # secs\n",
    "             ylim         = None):\n",
    "    \n",
    "    ekf          = CTRV_EKF(dt, cov_v=cov_v, cov_omega=cov_omega)\n",
    "    ekf.X        = array([[2, 6, .3]]).T                              # 这里需要与传感器测量数据链接，然后确定初始值\n",
    "    ekf.P        = np.diag([.1, .1, .1])                              # 这里和ekf.X一样需要先给定一个初始值，然后在ekf运行的怕过程中会自动更新，这个初始值是什么有待商榷\n",
    "    sim_X        = ekf.X.copy()                                       # simulated position and heading_angle\n",
    "    u            = u_0                                                # u_0也需要斟酌一下为何值\n",
    "    track        = []                                                 # 用于记录汽车的运行轨迹\n",
    "    k            = 0                                                  # timestep for prediction and update\n",
    "    step         = int(dt_step / dt_track)                            \n",
    "    ellipse_step = 2 * step\n",
    "    track_step   = int(sim_duration / dt_track)\n",
    "    \n",
    "    for i in range(track_step):     \n",
    "        sim_X = ekf.driving(sim_X, u, dt_track)                       # simulate the driving model of the car\n",
    "        track.append(sim_X)                                           # 这里并不多余，因为要绘制汽车运行的轨迹图，当 ω ≠ 0 时，两次更新点之间的轨迹并不是一条直线，所以需要适当的增加一些轨迹点使轨迹图看起来平滑\n",
    "    \n",
    "        if i % step == 0:\n",
    "            k         = k + 1\n",
    "            u, cov_u  = func_u(k, dt_step)                            # func_u是用来获取在每次更新阶段时刻k所需的最新控制矩阵 u，现在还每写，等ekf框架搭建完成后再设计  \n",
    "            cov_v     = cov_u[0]\n",
    "            cov_omega = cov_u[1]\n",
    "            ekf.predict(u, cov_v, cov_omega)                          # 函数调用需要在测量噪声矩阵的重新定义之后，因为ekf的R参数被重置了，cov_v, cov_omega用于计算M矩阵\n",
    "                                                                      # ekf.predict执行后会产生新的 P 矩阵\n",
    "            if i % ellipse_step == 0:\n",
    "                plot_covariance_ellipse(\n",
    "                    (ekf.X[0,0], ekf.X[1,0]), ekf.P[0:2, 0:2], \n",
    "                     std=6, facecolor='k', alpha=0.3)                 # 设置predict阶段的协方差椭圆的颜色为黑色，透明度为 0.3（范围是 0 到 1）\n",
    "           \n",
    "            z, cov_z          = func_z(k, dt_step)                    # func_z用来获取测量值和每次更新阶段时刻k所需的最新状态矩阵 X 的噪声协方差\n",
    "            cov_x             = cov_z[0]\n",
    "            cov_y             = cov_z[1]\n",
    "            cov_xy            = cov_z[2]\n",
    "            cov_theta         = cov_z[3]\n",
    "            \n",
    "            # Measurement Noise Matrix，在不重新定义整个 EKF 实例 的情况下，动态更新测量噪声协方差矩阵 R。直接在循环中动态修改 ekf.R 即可，而无需重新实例化扩展卡尔曼滤波器。这种方式既高效又灵活。\n",
    "            diagonal_elements = [cov_x, cov_y, cov_theta]             # 对角元素\n",
    "            ekf.R             = np.diag(diagonal_elements)\n",
    "            efk.R[0, 1]       = cov_xy\n",
    "            efk.R[1, 0]       = cov_xy\n",
    "            \n",
    "            ekf_update(ekf, z)\n",
    "            \n",
    "            if i % ellipse_step == 0:\n",
    "                plot_covariance_ellipse(\n",
    "                    (ekf.x[0,0], ekf.x[1,0]), ekf.P[0:2, 0:2],\n",
    "                    std=6, facecolor='g', alpha=0.8)                  # 设置update阶段的协方差椭圆的颜色为绿色，透明度为 0.8（范围是 0 到 1）\n",
    "\n",
    "    track = np.array(track)\n",
    "    plt.plot(track[:, 0], track[:,1], color='k', lw=2)                # LineWidth = 2\n",
    "    plt.axis('equal')\n",
    "    plt.title(\"Klitten EKF\")\n",
    "    if ylim is not None: plt.ylim(*ylim)\n",
    "    plt.show()\n",
    "    return ekf  \n",
    "    "
   ]
  },
  {
   "cell_type": "code",
   "execution_count": null,
   "id": "bacb6035-f341-4d9c-b676-48c8e1d2b944",
   "metadata": {},
   "outputs": [],
   "source": [
    "ekf = run_CTRV()"
   ]
  },
  {
   "cell_type": "code",
   "execution_count": null,
   "id": "48da171a-4350-44b8-a23d-3c7ff2e1b7d0",
   "metadata": {},
   "outputs": [],
   "source": [
    "from numpy import eye\n",
    "H = eye(3)\n",
    "Hx = Matrix([x,y,theta])"
   ]
  },
  {
   "cell_type": "code",
   "execution_count": null,
   "id": "2aa80e4a-0b3c-4924-8d21-04a4d0964fd4",
   "metadata": {},
   "outputs": [],
   "source": [
    "H"
   ]
  },
  {
   "cell_type": "code",
   "execution_count": null,
   "id": "da0748e4-b337-40ef-a53f-dbf3cbe229ef",
   "metadata": {},
   "outputs": [],
   "source": [
    "Hx"
   ]
  },
  {
   "cell_type": "code",
   "execution_count": null,
   "id": "40086bdd-91cf-4db0-b230-fec010bbe67d",
   "metadata": {},
   "outputs": [],
   "source": [
    "\n",
    "\n",
    "\n",
    "\n",
    "\n",
    "\n",
    "\n",
    "\n",
    "\n",
    "\n",
    "\n",
    "\n",
    "\n",
    "\n",
    "\n",
    "\n",
    "\n",
    "\n",
    "\n",
    "\n",
    "\n",
    "\n",
    "\n",
    "\n",
    "\n",
    "\n",
    "\n",
    "\n",
    "\n",
    "\n",
    "\n"
   ]
  }
 ],
 "metadata": {
  "kernelspec": {
   "display_name": "Python 3 (ipykernel)",
   "language": "python",
   "name": "python3"
  },
  "language_info": {
   "codemirror_mode": {
    "name": "ipython",
    "version": 3
   },
   "file_extension": ".py",
   "mimetype": "text/x-python",
   "name": "python",
   "nbconvert_exporter": "python",
   "pygments_lexer": "ipython3",
   "version": "3.12.2"
  }
 },
 "nbformat": 4,
 "nbformat_minor": 5
}
