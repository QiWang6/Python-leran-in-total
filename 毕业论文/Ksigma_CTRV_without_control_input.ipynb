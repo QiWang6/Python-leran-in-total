{
 "cells": [
  {
   "cell_type": "code",
   "execution_count": 1,
   "id": "93debd6a-7e0a-412e-a899-1f93f2850218",
   "metadata": {},
   "outputs": [],
   "source": [
    "import numpy as np\n",
    "import matplotlib.pylab as plt\n",
    "import matplotlib.gridspec as gridspec\n",
    "import pandas as pd\n",
    "\n",
    "from bagpy import bagreader"
   ]
  },
  {
   "cell_type": "code",
   "execution_count": 2,
   "id": "b90b7fbb-db98-43dc-b641-977417b34462",
   "metadata": {},
   "outputs": [
    {
     "name": "stdout",
     "output_type": "stream",
     "text": [
      "[INFO]  Data folder ./Klitten/loc_results_2023-11-01-12-53-52_0 already exists. Not creating.\n",
      "[INFO]  Data folder ./Klitten/recordedData_sensors_locpc_2023-11-01-12-53-52_0 already exists. Not creating.\n"
     ]
    }
   ],
   "source": [
    "# import data from recording at Klitten FVZ\n",
    "results_file = \"./Klitten/loc_results_2023-11-01-12-53-52_0.bag\"\n",
    "sensor_file = \"./Klitten/recordedData_sensors_locpc_2023-11-01-12-53-52_0.bag\"\n",
    "\n",
    "result_reader = bagreader(results_file)\n",
    "sensor_reader = bagreader(sensor_file)"
   ]
  },
  {
   "cell_type": "code",
   "execution_count": 3,
   "id": "bd095a53-9ffa-47c8-915f-7140a4fdbcbd",
   "metadata": {},
   "outputs": [],
   "source": [
    "# Thius function extracts the sensordata into CSV-files\n",
    "\n",
    "map_path = result_reader.message_by_topic(topic=\"/odometry/filtered/map\")\n",
    "odom_path = result_reader.message_by_topic(topic=\"/odometry/filtered/odom\")\n",
    "gps_odometry_path  = result_reader.message_by_topic(topic=\"/odometry/gps\")\n",
    "imu_oem = sensor_reader.message_by_topic(topic=\"/localization_pc/can0/decoded/imu\")\n",
    "speed_oem = sensor_reader.message_by_topic(topic=\"/localization_pc/can0/decoded/speed\")\n",
    "steeringAngle_oem = sensor_reader.message_by_topic(topic=\"/localization_pc/can0/decoded/steeringAngle\")\n",
    "gnss_oem = sensor_reader.message_by_topic(topic=\"/localization_pc/can0/decoded/gnss\")\n",
    "imu_anavs = sensor_reader.message_by_topic(topic=\"/localization_pc/sensor/anavs/imu\")\n",
    "navsat_anavs = sensor_reader.message_by_topic(topic=\"/localization_pc/sensor/anavs/navsat\")"
   ]
  },
  {
   "cell_type": "code",
   "execution_count": 4,
   "id": "5abf5342-3291-4359-9231-983a88df70d2",
   "metadata": {},
   "outputs": [],
   "source": [
    "# You can then use Pandas to read the files.\n",
    "df_map_path = pd.read_csv(map_path)  \n",
    "df_odom_path = pd.read_csv(odom_path)  \n",
    "df_gps_path = pd.read_csv(gps_odometry_path)\n",
    "df_speed = pd.read_csv(speed_oem)\n",
    "df_imu = pd.read_csv(imu_oem)\n",
    "\n",
    "# 我写的\n",
    "df_imu_anavs = pd.read_csv(imu_anavs)\n",
    "df_navsat_anvas = pd.read_csv(navsat_anavs)"
   ]
  },
  {
   "cell_type": "markdown",
   "id": "961399d6-e9e6-47a0-9d95-0d5aa2ebcf0b",
   "metadata": {},
   "source": [
    "# 1. Design the State Variables\n",
    "\n",
    "$$\n",
    "\\mathbf{X} =\n",
    "\\begin{bmatrix}\n",
    "x \\\\\n",
    "y \\\\\n",
    "\\theta \\\\\n",
    "v \\\\\n",
    "\\omega\n",
    "\\end{bmatrix}\n",
    "$$\n",
    "\n",
    "- **\\([x, y]\\)**: Position of the vehicle  \n",
    "- **\\(\\theta\\)**: Heading angle (\\(^\\circ\\))  \n",
    "- **\\(\\mathbf{v}\\)**: Speed (\\([m/s]\\))  \n",
    "- **\\(\\omega\\)**: Yaw rate (\\([rad/s]\\))  \n"
   ]
  },
  {
   "cell_type": "markdown",
   "id": "5efdfd41-1b5c-46e0-85ae-31f8b16995a3",
   "metadata": {},
   "source": [
    "# 2. Design the System Model"
   ]
  },
  {
   "cell_type": "markdown",
   "id": "f42d3a94-ae18-4190-9a48-4d19dea62d6e",
   "metadata": {},
   "source": [
    "## Jacobian Matrix checkup "
   ]
  },
  {
   "cell_type": "code",
   "execution_count": 37,
   "id": "2602d160-e639-4c54-aa61-2c3ed3f73509",
   "metadata": {},
   "outputs": [
    {
     "data": {
      "text/latex": [
       "$\\displaystyle \\left[\\begin{matrix}1 & 0 & \\frac{v \\left(- \\cos{\\left(\\theta \\right)} + \\cos{\\left(T \\omega + \\theta \\right)}\\right)}{\\omega} & \\frac{- \\sin{\\left(\\theta \\right)} + \\sin{\\left(T \\omega + \\theta \\right)}}{\\omega} & \\frac{T v \\cos{\\left(T \\omega + \\theta \\right)}}{\\omega} - \\frac{v \\left(- \\sin{\\left(\\theta \\right)} + \\sin{\\left(T \\omega + \\theta \\right)}\\right)}{\\omega^{2}}\\\\0 & 1 & \\frac{v \\left(- \\sin{\\left(\\theta \\right)} + \\sin{\\left(T \\omega + \\theta \\right)}\\right)}{\\omega} & \\frac{\\cos{\\left(\\theta \\right)} - \\cos{\\left(T \\omega + \\theta \\right)}}{\\omega} & \\frac{T v \\sin{\\left(T \\omega + \\theta \\right)}}{\\omega} - \\frac{v \\left(\\cos{\\left(\\theta \\right)} - \\cos{\\left(T \\omega + \\theta \\right)}\\right)}{\\omega^{2}}\\\\0 & 0 & 1 & 0 & T\\\\0 & 0 & 0 & 1 & 0\\\\0 & 0 & 0 & 0 & 1\\end{matrix}\\right]$"
      ],
      "text/plain": [
       "⎡      v⋅(-cos(θ) + cos(T⋅ω + θ))  -sin(θ) + sin(T⋅ω + θ)  T⋅v⋅cos(T⋅ω + θ)   v⋅(-sin(θ) + sin(T⋅ω + θ))⎤\n",
       "⎢1  0  ──────────────────────────  ──────────────────────  ──────────────── - ──────────────────────────⎥\n",
       "⎢                  ω                         ω                    ω                        2            ⎥\n",
       "⎢                                                                                         ω             ⎥\n",
       "⎢                                                                                                       ⎥\n",
       "⎢      v⋅(-sin(θ) + sin(T⋅ω + θ))  cos(θ) - cos(T⋅ω + θ)   T⋅v⋅sin(T⋅ω + θ)   v⋅(cos(θ) - cos(T⋅ω + θ)) ⎥\n",
       "⎢0  1  ──────────────────────────  ─────────────────────   ──────────────── - ───────────────────────── ⎥\n",
       "⎢                  ω                         ω                    ω                       2             ⎥\n",
       "⎢                                                                                        ω              ⎥\n",
       "⎢                                                                                                       ⎥\n",
       "⎢0  0              1                         0                                   T                      ⎥\n",
       "⎢                                                                                                       ⎥\n",
       "⎢0  0              0                         1                                   0                      ⎥\n",
       "⎢                                                                                                       ⎥\n",
       "⎣0  0              0                         0                                   1                      ⎦"
      ]
     },
     "execution_count": 37,
     "metadata": {},
     "output_type": "execute_result"
    }
   ],
   "source": [
    "from sympy import symbols, Matrix, sin, cos, init_printing\n",
    "\n",
    "# initialize to show in the form of LaTex\n",
    "init_printing(use_latex=\"mathjax\", fontsize=\"16pt\")\n",
    "\n",
    "# define the symbles of variables\n",
    "x, y, theta, v, omega, T = symbols('x y theta v omega T')  \n",
    "\n",
    "# define the state vector\n",
    "X = Matrix([x, y, theta, v, omega])  \n",
    "\n",
    "# define state transition f(x)\n",
    "f_x = Matrix([\n",
    "    x + v/omega * (sin(theta + omega*T) - sin(theta)), \n",
    "    y + v/omega * (cos(theta) - cos(theta + omega*T)),  \n",
    "    theta + omega*T,\n",
    "    v,\n",
    "    omega  \n",
    "])\n",
    "\n",
    "# calculate jacobian matrix J\n",
    "J = f_x.jacobian(X)\n",
    "\n",
    "J"
   ]
  },
  {
   "cell_type": "code",
   "execution_count": 30,
   "id": "cacc0130-196c-47d0-80c2-9e5f51d5db90",
   "metadata": {},
   "outputs": [
    {
     "data": {
      "text/latex": [
       "$\\displaystyle \\left[\\begin{matrix}1 & 0 & R \\left(- \\cos{\\left(\\theta \\right)} + \\cos{\\left(T \\omega + \\theta \\right)}\\right) & \\frac{- \\sin{\\left(\\theta \\right)} + \\sin{\\left(T \\omega + \\theta \\right)}}{\\omega} & R T \\cos{\\left(T \\omega + \\theta \\right)} - \\frac{R \\left(- \\sin{\\left(\\theta \\right)} + \\sin{\\left(T \\omega + \\theta \\right)}\\right)}{\\omega}\\\\0 & 1 & R \\left(- \\sin{\\left(\\theta \\right)} + \\sin{\\left(T \\omega + \\theta \\right)}\\right) & \\frac{\\cos{\\left(\\theta \\right)} - \\cos{\\left(T \\omega + \\theta \\right)}}{\\omega} & R T \\sin{\\left(T \\omega + \\theta \\right)} - \\frac{R \\left(\\cos{\\left(\\theta \\right)} - \\cos{\\left(T \\omega + \\theta \\right)}\\right)}{\\omega}\\\\0 & 0 & 1 & 0 & T\\\\0 & 0 & 0 & 1 & 0\\\\0 & 0 & 0 & 0 & 1\\end{matrix}\\right]$"
      ],
      "text/plain": [
       "⎡                                  -sin(θ) + sin(T⋅ω + θ)                     R⋅(-sin(θ) + sin(T⋅ω + θ))⎤\n",
       "⎢1  0  R⋅(-cos(θ) + cos(T⋅ω + θ))  ──────────────────────  R⋅T⋅cos(T⋅ω + θ) - ──────────────────────────⎥\n",
       "⎢                                            ω                                            ω             ⎥\n",
       "⎢                                                                                                       ⎥\n",
       "⎢                                  cos(θ) - cos(T⋅ω + θ)                      R⋅(cos(θ) - cos(T⋅ω + θ)) ⎥\n",
       "⎢0  1  R⋅(-sin(θ) + sin(T⋅ω + θ))  ─────────────────────   R⋅T⋅sin(T⋅ω + θ) - ───────────────────────── ⎥\n",
       "⎢                                            ω                                            ω             ⎥\n",
       "⎢                                                                                                       ⎥\n",
       "⎢0  0              1                         0                                   T                      ⎥\n",
       "⎢                                                                                                       ⎥\n",
       "⎢0  0              0                         1                                   0                      ⎥\n",
       "⎢                                                                                                       ⎥\n",
       "⎣0  0              0                         0                                   1                      ⎦"
      ]
     },
     "execution_count": 30,
     "metadata": {},
     "output_type": "execute_result"
    }
   ],
   "source": [
    "# reduce common expressions\n",
    "R = symbols('R')\n",
    "J = J.subs(v/omega, R)\n",
    "J"
   ]
  },
  {
   "cell_type": "markdown",
   "id": "c666b184-fcfd-40eb-802a-2573ec7c2808",
   "metadata": {},
   "source": [
    "# 3. Design the Measurement Model"
   ]
  },
  {
   "cell_type": "code",
   "execution_count": 34,
   "id": "737b209e-9a0b-49f7-aa89-2f02f86009b3",
   "metadata": {},
   "outputs": [
    {
     "data": {
      "text/latex": [
       "$\\displaystyle \\left[\\begin{matrix}1 & 0 & 0 & 0 & 0\\\\0 & 1 & 0 & 0 & 0\\\\0 & 0 & 1 & 0 & 0\\\\0 & 0 & 0 & 1 & 0\\\\0 & 0 & 0 & 0 & 1\\end{matrix}\\right]$"
      ],
      "text/plain": [
       "⎡1  0  0  0  0⎤\n",
       "⎢             ⎥\n",
       "⎢0  1  0  0  0⎥\n",
       "⎢             ⎥\n",
       "⎢0  0  1  0  0⎥\n",
       "⎢             ⎥\n",
       "⎢0  0  0  1  0⎥\n",
       "⎢             ⎥\n",
       "⎣0  0  0  0  1⎦"
      ]
     },
     "execution_count": 34,
     "metadata": {},
     "output_type": "execute_result"
    }
   ],
   "source": [
    "# Die Sensoren können direkt die Messdaten der Variablen liefern\n",
    "z = Matrix([x, y, theta, v, omega])\n",
    "H = z.jacobian(X)\n",
    "H"
   ]
  },
  {
   "cell_type": "markdown",
   "id": "b5adaa17-7056-495e-a9d2-ba05228f98bf",
   "metadata": {},
   "source": [
    "# 4. Design Measurement Noise"
   ]
  },
  {
   "cell_type": "markdown",
   "id": "c01eacb7-6a89-4de7-846b-ff278b8d54e1",
   "metadata": {},
   "source": [
    "# 5. Implementation "
   ]
  },
  {
   "cell_type": "code",
   "execution_count": 35,
   "id": "9be6f937-2c2c-455f-a397-f6056f81ecbf",
   "metadata": {},
   "outputs": [],
   "source": [
    "from filterpy.kalman import ExtendedKalmanFilter as EKF\n",
    "from numpy import array, sqrt\n",
    "class CTRV_EKF(EKF):\n",
    "    def __init__(self, dt, Q):  # dt is value for specific timestep\n",
    "        # state dimension 5, measurement dimension 5, control input dimension 0\n",
    "        EKF.__init__(self, 5, 5, 0)\n",
    "\n",
    "        self.dt = dt\n",
    "        self.Q = Q  # Processnoise covariance matrix\n",
    "        # symble definition\n",
    "        x, y, theta, v, omega, time = symbols('x y theta v omega T')  # \"T\" is symble variable for symble expression, \"time\" is the saved reference-name of \"T\"\n",
    "        # \"=\"前面的x, y 是通过 sympy.symbols('x y ...') 定义的符号变量; 这些符号变量是用来进行符号运算（如雅可比矩阵计算）的数学符号; 这些符号变量会被赋值到 self.x_x 和 self.x_y\n",
    "        # \"=\"后面是 sympy.symbols 定义的字符串 'x y'，仅仅是符号定义的文本，不涉及变量引用\n",
    "        \n",
    "        R = v/omega\n",
    "\n",
    "        # state vector\n",
    "        X = Matrix([x, y, theta, v, omega]) \n",
    "        \n",
    "        # nonlinear system model    \n",
    "        self.f_x = Matrix([\n",
    "            x + v/omega * (sin(theta + omega*time) - sin(theta)), \n",
    "            y + v/omega * (cos(theta) - cos(theta + omega*time)),  \n",
    "            theta + omega*time,\n",
    "            v,\n",
    "            omega\n",
    "        ])\n",
    "\n",
    "        # calculate jacobian matrix\n",
    "        self.F_J = self.f_x.jacobian(X)\n",
    "\n",
    "        # replace dictionary and  it's variables\n",
    "        self.subs                      = {x: 0, y: 0, theta: 0, v: 0, omega: 0, time: dt}  # 等号后面的x, y 是替换字典 self.subs 的键。\n",
    "        self.x_x, self.x_y,            = x, y                                             # 引用的是symble definition中的符号变量 x 和 y\n",
    "        self.v, self.omega, self.theta = v, omega, theta\n",
    "\n",
    "\n",
    "        def predict(self):\n",
    "            self.X                = self.driving(self.X, self.dt)  # self.X after \"=\"：the current state vector; self.X before \"=\"：the next state vector\n",
    "            self.subs[self.x_x]   = self.X[0, 0]\n",
    "            self.subs[self.x_y]   = self.X[1, 0]\n",
    "            self.subs[self.theta] = self.x[2, 0]\n",
    "            self.subs[self.v]     = self.x[3, 0]\n",
    "            self.subs[self.omega] = self.x[4, 0]\n",
    "\n",
    "            # predict the value of Jacobian Matrix\n",
    "            J = array(self.F_J.evalf(subs=self.subs)).astype(float)\n",
    "\n",
    "            self.P = F @ self.P @ F.T"
   ]
  },
  {
   "cell_type": "code",
   "execution_count": null,
   "id": "702bc5f3-fa13-485f-9ffe-1e52739af5ce",
   "metadata": {},
   "outputs": [],
   "source": []
  }
 ],
 "metadata": {
  "kernelspec": {
   "display_name": "Python 3 (ipykernel)",
   "language": "python",
   "name": "python3"
  },
  "language_info": {
   "codemirror_mode": {
    "name": "ipython",
    "version": 3
   },
   "file_extension": ".py",
   "mimetype": "text/x-python",
   "name": "python",
   "nbconvert_exporter": "python",
   "pygments_lexer": "ipython3",
   "version": "3.12.2"
  }
 },
 "nbformat": 4,
 "nbformat_minor": 5
}
