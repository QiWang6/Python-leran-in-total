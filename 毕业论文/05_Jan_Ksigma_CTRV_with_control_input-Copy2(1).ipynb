{
 "cells": [
  {
   "cell_type": "code",
   "execution_count": 1,
   "id": "c4e27859-f171-40ba-a0ee-67fee15f5370",
   "metadata": {},
   "outputs": [
    {
     "name": "stdout",
     "output_type": "stream",
     "text": [
      "[INFO]  Data folder ./Klitten/loc_results_2023-11-01-12-53-52_0 already exists. Not creating.\n",
      "[INFO]  Data folder ./Klitten/recordedData_sensors_locpc_2023-11-01-12-53-52_0 already exists. Not creating.\n"
     ]
    }
   ],
   "source": [
    "import numpy as np\n",
    "import matplotlib.pylab as plt\n",
    "import matplotlib.gridspec as gridspec\n",
    "import pandas as pd\n",
    "from bagpy import bagreader\n",
    "\n",
    "# import data from recording at Klitten FVZ\n",
    "results_file = \"./Klitten/loc_results_2023-11-01-12-53-52_0.bag\"\n",
    "sensor_file = \"./Klitten/recordedData_sensors_locpc_2023-11-01-12-53-52_0.bag\"\n",
    "\n",
    "result_reader = bagreader(results_file)\n",
    "sensor_reader = bagreader(sensor_file)\n",
    "\n",
    "\n",
    "# Thius function extracts the sensordata into CSV-files\n",
    "\n",
    "map_path = result_reader.message_by_topic(topic=\"/odometry/filtered/map\")\n",
    "#odom_path = result_reader.message_by_topic(topic=\"/odometry/filtered/odom\")\n",
    "#gps_odometry_path  = result_reader.message_by_topic(topic=\"/odometry/gps\")\n",
    "imu_oem = sensor_reader.message_by_topic(topic=\"/localization_pc/can0/decoded/imu\")\n",
    "#speed_oem = sensor_reader.message_by_topic(topic=\"/localization_pc/can0/decoded/speed\")\n",
    "#steeringAngle_oem = sensor_reader.message_by_topic(topic=\"/localization_pc/can0/decoded/steeringAngle\")\n",
    "#gnss_oem = sensor_reader.message_by_topic(topic=\"/localization_pc/can0/decoded/gnss\")\n",
    "#imu_anavs = sensor_reader.message_by_topic(topic=\"/localization_pc/sensor/anavs/imu\")\n",
    "#navsat_anavs = sensor_reader.message_by_topic(topic=\"/localization_pc/sensor/anavs/navsat\")\n",
    "\n",
    "\n",
    "# You can then use Pandas to read the files.\n",
    "df_map_path = pd.read_csv(map_path)  \n",
    "#df_odom_path = pd.read_csv(odom_path)  \n",
    "# df_gps_path = pd.read_csv(gps_odometry_path)\n",
    "#df_speed = pd.read_csv(speed_oem)\n",
    "df_imu = pd.read_csv(imu_oem)\n",
    "\n",
    "# 我写的\n",
    "# df_imu_anavs = pd.read_csv(imu_anavs)\n",
    "# df_navsat_anvas = pd.read_csv(navsat_anavs)"
   ]
  },
  {
   "cell_type": "markdown",
   "id": "344c72f5-6a71-4721-8513-68955fe9707e",
   "metadata": {},
   "source": [
    "#### Die Zeitdaten von `header.stamp.secs` sollen verschoben werden, sodass sie ab 0 Sekunden beginnen."
   ]
  },
  {
   "cell_type": "code",
   "execution_count": 2,
   "id": "d44ad4a7-faff-4eea-b567-eacb33c299cd",
   "metadata": {},
   "outputs": [],
   "source": [
    "df_map_path['header.stamp.secs'] = df_map_path['header.stamp.secs'] - df_map_path['header.stamp.secs'].iloc[0]\n",
    "df_imu['header.stamp.secs'] = df_imu['header.stamp.secs'] - df_imu['header.stamp.secs'].iloc[0]"
   ]
  },
  {
   "cell_type": "markdown",
   "id": "8eaae507-2794-4f14-af43-3ff6fab47684",
   "metadata": {},
   "source": [
    "#### Die Anzeigeformatierung für DataFrame einstellen"
   ]
  },
  {
   "cell_type": "code",
   "execution_count": 3,
   "id": "e7228a6e-78be-48c4-ab4a-61a4bd8d64e5",
   "metadata": {},
   "outputs": [],
   "source": [
    "pd.set_option('display.max_rows', None)\n",
    "pd.set_option('display.max_columns', None)\n",
    "# pd.set_option('display.max_colwidth', None)\n",
    "pd.set_option('display.max_colwidth', 20)"
   ]
  },
  {
   "cell_type": "markdown",
   "id": "2326b391-d32d-4b3e-9c1d-fe8d1a386ebb",
   "metadata": {},
   "source": [
    "#### Eine neue Spalte `secs.nsecs` zwischen `header.stamp.secs` und `header.stamp.nsecs` einfügen, sodass der Zeitstempel in Sekunden mit Dezimalstellen dargestellt wird."
   ]
  },
  {
   "cell_type": "code",
   "execution_count": 4,
   "id": "d57e885a-1ed0-482b-a91e-b3aeb8a15204",
   "metadata": {},
   "outputs": [],
   "source": [
    "# 计算新列\n",
    "df_imu['secs.nsecs'] = df_imu['header.stamp.secs'] + df_imu['header.stamp.nsecs'] * 1e-9\n",
    "df_imu['secs.nsecs'] = df_imu['secs.nsecs'].round(9)\n",
    "# 调整列的位置，将 'secs.nsecs' 放到 'header.stamp.nsecs' 后面\n",
    "columns = df_imu.columns.tolist()\n",
    "index = columns.index('header.stamp.nsecs') + 1  # 获取目标列的索引并加1\n",
    "columns.insert(index, columns.pop(columns.index('secs.nsecs')))  # 移动 secs.nsecs 列\n",
    "\n",
    "# 重新排列列顺序\n",
    "df_imu = df_imu[columns]"
   ]
  },
  {
   "cell_type": "code",
   "execution_count": 5,
   "id": "beda8c9e-5213-412d-a9b1-6f36db60c274",
   "metadata": {},
   "outputs": [],
   "source": [
    "# 计算新列\n",
    "df_map_path['secs.nsecs'] = df_map_path['header.stamp.secs'] + df_map_path['header.stamp.nsecs'] * 1e-9\n",
    "df_map_path['secs.nsecs'] = df_map_path['secs.nsecs'].round(9)\n",
    "# 调整列的位置，将 'secs.nsecs' 放到 'header.stamp.nsecs' 后面\n",
    "columns = df_map_path.columns.tolist()\n",
    "index = columns.index('header.stamp.nsecs') + 1  # 获取目标列的索引并加1\n",
    "columns.insert(index, columns.pop(columns.index('secs.nsecs')))  # 移动 secs.nsecs 列\n",
    "\n",
    "# 重新排列列顺序\n",
    "df_map_path = df_map_path[columns]"
   ]
  },
  {
   "cell_type": "markdown",
   "id": "7335f87f-dd14-495b-9d1e-1b14ccbc4dce",
   "metadata": {},
   "source": [
    "#### Die für die control-input \\( u \\) erforderlichen Daten aus den Sensordaten extrahieren."
   ]
  },
  {
   "cell_type": "code",
   "execution_count": 6,
   "id": "1ac0fa8e-7767-47d2-8775-48d6dca62c38",
   "metadata": {},
   "outputs": [],
   "source": [
    "# u, cov_u = func_u(k, dt_step)\n",
    "import ast\n",
    "# 定义函数 func_u\n",
    "def func_u(k, dt_step):\n",
    "    t = k * dt_step\n",
    "\n",
    "    # 从 df_map_path 中找到与 t 值最接近的 index\n",
    "    idx_v               = (df_map_path['secs.nsecs'] - t).abs().idxmin()\n",
    "    v                   = df_map_path.loc[idx_v, 'twist.twist.linear.x']\n",
    "    cov_v_str           = df_map_path.loc[idx_v, 'twist.covariance']\n",
    "    cov_v_parsed_matrix = ast.literal_eval(cov_v_str)\n",
    "    cov_v_matrix        = np.array(cov_v_parsed_matrix ).reshape(6, 6)\n",
    "    cov_v               = cov_v_matrix[0, 0]\n",
    "    \n",
    "    # 从 df_imu 中找到与 t 值最接近的 index\n",
    "    idx_omega = (df_imu['secs.nsecs'] - t).abs().idxmin()\n",
    "    omega     = df_imu.loc[idx_omega, 'angular_velocity.z']\n",
    "    cov_omega = df_imu.loc[idx_omega, 'angular_velocity_covariance_8']\n",
    "    \n",
    "    u = np.array([v, omega])\n",
    "    cov_u = np.array([cov_v, cov_omega])\n",
    "    return u, cov_u\n",
    "    \n",
    "# k = 200\n",
    "# dt_step = 0.1\n",
    "# u, cov_u = func_u(k, dt_step)"
   ]
  },
  {
   "cell_type": "markdown",
   "id": "be763168-a725-472e-9b1a-c422eb0b7b9d",
   "metadata": {},
   "source": [
    "#### Die für die Zustansmatrix (X) erforderlichen Daten aus den Sensordaten extrahieren."
   ]
  },
  {
   "cell_type": "code",
   "execution_count": 7,
   "id": "b7ddb579-6cb0-4038-8e14-16186b125516",
   "metadata": {},
   "outputs": [],
   "source": [
    "# z, cov_z = func_z(k, dt_step)   \n",
    "import ast\n",
    "from sympy import symbols, Matrix\n",
    "\n",
    "# 定义函数 func_z\n",
    "def func_z(k, dt_step):\n",
    "    t = k * dt_step\n",
    "\n",
    "    # 从 df_map_path 中找到与 t 值最接近的 index\n",
    "    idx                    = (df_map_path['secs.nsecs'] - t).abs().idxmin()\n",
    "    x                      = df_map_path.loc[idx, 'pose.pose.position.x']\n",
    "    y                      = df_map_path.loc[idx, 'pose.pose.position.y']\n",
    "    theta                  = df_map_path.loc[idx, 'pose.pose.orientation.z']\n",
    "    z                      = Matrix([x, y, theta])\n",
    "    \n",
    "    cov_pose_str           = df_map_path.loc[idx, 'pose.covariance']\n",
    "    cov_pose_parsed_matrix = ast.literal_eval(cov_pose_str)\n",
    "    cov_x                  = cov_pose_parsed_matrix[0]\n",
    "    cov_y                  = cov_pose_parsed_matrix[7]\n",
    "    cov_xy                 = cov_pose_parsed_matrix[1]\n",
    "    cov_theta              = cov_pose_parsed_matrix[14]\n",
    "    cov_z                  = np.array([cov_x, cov_y, cov_xy, cov_theta])\n",
    "    \n",
    "    # cov_pose_str           = df_map_path.loc[idx, 'pose.covariance']\n",
    "    # cov_pose_parsed_matrix = ast.literal_eval(cov_pose_str)\n",
    "    # cov_pose_matrix        = np.array(cov_pose_parsed_matrix).reshape(6, 6)\n",
    "    # cov_x                  = cov_pose_matrix[0, 0]\n",
    "    # cov_y                  = cov_pose_matrix[1, 1]\n",
    "    # cov_xy                 = cov_pose_matrix[1, 0]\n",
    "    # cov_theta              = cov_pose_matrix[2, 2]\n",
    "    # cov_z                  = np.array([cov_x, cov_y, cov_xy, cov_theta])\n",
    "\n",
    "    return z, cov_z\n",
    "    \n",
    "# k = 10000\n",
    "# dt_step = 0.1\n",
    "# z, cov_z = func_z(k, dt_step)   "
   ]
  },
  {
   "cell_type": "markdown",
   "id": "4df5b091-9e99-41ad-9d7c-914c6ce47e52",
   "metadata": {
    "jp-MarkdownHeadingCollapsed": true
   },
   "source": [
    "## Determine the required measurement dataset"
   ]
  },
  {
   "cell_type": "code",
   "execution_count": 8,
   "id": "034de606-8049-49da-b62d-13448db0169c",
   "metadata": {},
   "outputs": [],
   "source": [
    "def SensorData(sensor_type):\n",
    "    \"\"\"\n",
    "    Function to retrieve specific columns from the appropriate DataFrame based on input parameters..\n",
    "\n",
    "    Parameters: One of the following strings - 'x', 'y', 'heading_angle', 'speed', 'yaw_rate'.\n",
    "\n",
    "    Returns:\n",
    "        pd.Series: The corresponding column from the appropriate DataFrame.\n",
    "    \"\"\"\n",
    "    # Define the mapping between sensor types and DataFrame columns\n",
    "    column_mapping = {\n",
    "        \"x\":             (\"df_map_path\", \"pose.pose.position.x\"),\n",
    "        \"y\":             (\"df_map_path\", \"pose.pose.position.y\"),\n",
    "        \"heading_angle\": (\"df_map_path\", \"pose.pose.orientation.z\"),\n",
    "        \"speed\":         (\"df_map_path\", \"twist.twist.linear.x\"),\n",
    "        \"yaw_rate\":      (\"df_imu\",      \"angular_velocity.z\"),\n",
    "    }\n",
    "\n",
    "    # Check if the input sensor_type is valid\n",
    "    if sensor_type not in column_mapping:\n",
    "        raise ValueError(f\"Invalid sensor type: {sensor_type}. Must be one of {list(column_mapping.keys())}\")\n",
    "\n",
    "    # Get the DataFrame and column name\n",
    "    df_name, column_name = column_mapping[sensor_type]\n",
    "\n",
    "    # Retrieve the DataFrame object dynamically\n",
    "    df = globals().get(df_name)\n",
    "    if df is None:\n",
    "        raise ValueError(f\"DataFrame {df_name} is not defined in the current environment.\")\n",
    "\n",
    "    # Return the corresponding column from the appropriate DataFrame\n",
    "    return df[column_name]\n",
    "\n",
    "# Example usage:\n",
    "# result = SensorData(\"heading_angle\")\n",
    "# print(result)\n"
   ]
  },
  {
   "cell_type": "code",
   "execution_count": 9,
   "id": "85ba4b0a-bd8b-4bb9-bb7e-142445b4f227",
   "metadata": {
    "scrolled": true
   },
   "outputs": [],
   "source": [
    "# result = SensorData(\"heading_angle\")\n",
    "# result"
   ]
  },
  {
   "cell_type": "markdown",
   "id": "db66c90c-6100-4ddf-bf99-30b9d64360d2",
   "metadata": {},
   "source": [
    "# 1. Design the State Variables\n",
    "\n",
    "$$\n",
    "\\mathbf{X} =\n",
    "\\begin{bmatrix}\n",
    "x \\\\\n",
    "y \\\\\n",
    "\\theta \\\\\n",
    "v \\\\\n",
    "\\omega\n",
    "\\end{bmatrix}\n",
    "$$\n",
    "\n",
    "- **[x, y]**: Position of the vehicle  \n",
    "- **θ\\theta**: Heading angle (\\(^\\circ\\))  \n",
    "- **v**: Speed (\\([m/s]\\))  \n",
    "- **ω**: Yaw rate (\\([rad/s]\\))"
   ]
  },
  {
   "cell_type": "markdown",
   "id": "f4017d25-c6c1-47dd-b0cf-77671a8a71dc",
   "metadata": {},
   "source": [
    "# 2. Design the System Model "
   ]
  },
  {
   "cell_type": "markdown",
   "id": "786c95b8-fecc-4d46-ab35-e36b083ad4ba",
   "metadata": {},
   "source": [
    "## 2.1 System Jacobian Matrix J"
   ]
  },
  {
   "cell_type": "code",
   "execution_count": 10,
   "id": "c223184a-c00c-4105-a077-95d9589d0dae",
   "metadata": {},
   "outputs": [
    {
     "data": {
      "text/plain": [
       "'from sympy import symbols, Matrix, sin, cos, init_printing\\n\\n# initialize to show in the form of LaTex\\ninit_printing(use_latex=\"mathjax\", fontsize=\"16pt\")\\n\\n# define the symbles of variables\\nx, y, theta, v, omega, time = symbols(\\'x y theta v omega T\\')  \\n\\n# define the state vector\\nX = Matrix([x, y, theta])  \\n\\n# define state transition f(x, u)\\nf_xu = Matrix([\\n    x + v/omega * (sin(theta + omega*time) - sin(theta)), \\n    y + v/omega * (cos(theta) - cos(theta + omega*time)),  \\n    theta + omega*time\\n])\\n\\n# calculate jacobian matrix J\\nJ = f_xu.jacobian(X)\\n\\nJ'"
      ]
     },
     "execution_count": 10,
     "metadata": {},
     "output_type": "execute_result"
    }
   ],
   "source": [
    "\"\"\"from sympy import symbols, Matrix, sin, cos, init_printing\n",
    "\n",
    "# initialize to show in the form of LaTex\n",
    "init_printing(use_latex=\"mathjax\", fontsize=\"16pt\")\n",
    "\n",
    "# define the symbles of variables\n",
    "x, y, theta, v, omega, time = symbols('x y theta v omega T')  \n",
    "\n",
    "# define the state vector\n",
    "X = Matrix([x, y, theta])  \n",
    "\n",
    "# define state transition f(x, u)\n",
    "f_xu = Matrix([\n",
    "    x + v/omega * (sin(theta + omega*time) - sin(theta)), \n",
    "    y + v/omega * (cos(theta) - cos(theta + omega*time)),  \n",
    "    theta + omega*time\n",
    "])\n",
    "\n",
    "# calculate jacobian matrix J\n",
    "J = f_xu.jacobian(X)\n",
    "\n",
    "J\"\"\""
   ]
  },
  {
   "cell_type": "code",
   "execution_count": 11,
   "id": "b21164e7-faa2-493f-9bd8-70f7e283dd53",
   "metadata": {},
   "outputs": [],
   "source": [
    "# reduce common expressions\n",
    "# R = symbols('R')\n",
    "# J = J.subs(v/omega, R)  # 这里暂且放一下，不对公式进行简化\n",
    "# J"
   ]
  },
  {
   "cell_type": "markdown",
   "id": "257208f7-a552-4292-9089-f037f8ebdee2",
   "metadata": {},
   "source": [
    "## 2.2 control input Noise M and Jacobian Matrix V "
   ]
  },
  {
   "cell_type": "code",
   "execution_count": 12,
   "id": "03a0e1e2-6e5e-4172-8cdd-e87f8264792d",
   "metadata": {},
   "outputs": [
    {
     "data": {
      "text/plain": [
       "'u = Matrix([v, omega])\\nV = f_xu.jacobian(u)\\n# V = V.subs(v/omega, \"R\")\\nV'"
      ]
     },
     "execution_count": 12,
     "metadata": {},
     "output_type": "execute_result"
    }
   ],
   "source": [
    "\"\"\"u = Matrix([v, omega])\n",
    "V = f_xu.jacobian(u)\n",
    "# V = V.subs(v/omega, \"R\")\n",
    "V\"\"\""
   ]
  },
  {
   "cell_type": "markdown",
   "id": "1730cc1a-6371-4bf9-9681-3ca4d93ceaa6",
   "metadata": {},
   "source": [
    "# 3. Design the Measurement Model"
   ]
  },
  {
   "cell_type": "markdown",
   "id": "e9befa2b-aa4e-44aa-96ef-d7adf0d2c33d",
   "metadata": {},
   "source": [
    "# Implementation"
   ]
  },
  {
   "cell_type": "markdown",
   "id": "b4b644ff-7572-4341-9bdf-da23ab4ce868",
   "metadata": {},
   "source": [
    "## Predict"
   ]
  },
  {
   "cell_type": "code",
   "execution_count": 13,
   "id": "714dab0a-1bb3-44e9-9479-6f39c5307b1e",
   "metadata": {},
   "outputs": [
    {
     "data": {
      "text/plain": [
       "'f_xu = Matrix([\\n    x + v * time * cos(theta),\\n    x + v * time * cos(theta),\\n    theta\\n])'"
      ]
     },
     "execution_count": 13,
     "metadata": {},
     "output_type": "execute_result"
    }
   ],
   "source": [
    "\"\"\"f_xu = Matrix([\n",
    "    x + v * time * cos(theta),\n",
    "    x + v * time * cos(theta),\n",
    "    theta\n",
    "])\"\"\""
   ]
  },
  {
   "cell_type": "code",
   "execution_count": 14,
   "id": "002b942e-aa18-45a4-a68e-8eee66f5c9fc",
   "metadata": {},
   "outputs": [
    {
     "data": {
      "text/plain": [
       "\"from sympy import symbols, Matrix, sin, cos, init_printing\\nfrom numpy import array\\nx, y, theta, v, omega, time = symbols('x y theta v omega t')\\nf_xu = Matrix(\\n            [x + v/omega * (sin(theta + omega*time) - sin(theta)), \\n             y + v/omega * (cos(theta) - cos(theta + omega*time)),  \\n             theta + omega*time])\\nF_J = f_xu.jacobian(Matrix([x, y, theta]))\\nV_J = f_xu.jacobian(Matrix([v, omega]))\\n\\ndef F_J_evaluated(X, u, dt):\\n    subs = {x: float(X[0, 0]), \\n            y: float(X[1, 0]), \\n            theta: float(X[2, 0]), \\n            v: float(u[0]), \\n            omega: float(u[1]), \\n            time: float(dt)}\\n    F_J_evaluated = array(F_J.subs(subs)).astype(float)\\n    return F_J_evaluated\\n\\ndef V_J_evaluated(X, u, dt):\\n    subs = {x: float(X[0, 0]), \\n            y: float(X[1, 0]), \\n            theta: float(X[2, 0]), \\n            v: float(u[0]), \\n            omega: float(u[1]), \\n            time: float(dt)}\\n    V_J_evaluated = array(V_J.subs(subs)).astype(float)\\n    return V_J_evaluated\\n\\ndef driving(X, u, dt):\\n    heading_angle = X[2, 0]\\n    velocity      = u[0]\\n    yaw_rate      = u[1]\\n    \\n    radius        = velocity/yaw_rate  # R = v / ω\\n    beta          = yaw_rate * dt\\n    \\n    dX = np.array([\\n        [radius * (sin(heading_angle + beta) - sin(heading_angle))],\\n        [radius * (cos(heading_angle) - cos(heading_angle + beta))],\\n        [beta]\\n    ])\\n\\n    return X + dX\\n\\ndef prerdict(X, P, u, cov_u, dt):\\n    predict_X = driving(X=X, u=u, dt = dt)\\n    cov_v = cov_u[0]\\n    cov_omega = cov_u[1]\\n    \\n    F = F_J_evaluated(X, u, dt)\\n    V = V_J_evaluated(X, u, dt)\\n    M = array([[cov_v, 0], \\n               [0, cov_omega]])\\n    predict_P = F @ P @ F.T + V @ M @ V.T\\n    return predict_X, predict_P\""
      ]
     },
     "execution_count": 14,
     "metadata": {},
     "output_type": "execute_result"
    }
   ],
   "source": [
    "\"\"\"from sympy import symbols, Matrix, sin, cos, init_printing\n",
    "from numpy import array\n",
    "x, y, theta, v, omega, time = symbols('x y theta v omega t')\n",
    "f_xu = Matrix(\n",
    "            [x + v/omega * (sin(theta + omega*time) - sin(theta)), \n",
    "             y + v/omega * (cos(theta) - cos(theta + omega*time)),  \n",
    "             theta + omega*time])\n",
    "F_J = f_xu.jacobian(Matrix([x, y, theta]))\n",
    "V_J = f_xu.jacobian(Matrix([v, omega]))\n",
    "\n",
    "def F_J_evaluated(X, u, dt):\n",
    "    subs = {x: float(X[0, 0]), \n",
    "            y: float(X[1, 0]), \n",
    "            theta: float(X[2, 0]), \n",
    "            v: float(u[0]), \n",
    "            omega: float(u[1]), \n",
    "            time: float(dt)}\n",
    "    F_J_evaluated = array(F_J.subs(subs)).astype(float)\n",
    "    return F_J_evaluated\n",
    "\n",
    "def V_J_evaluated(X, u, dt):\n",
    "    subs = {x: float(X[0, 0]), \n",
    "            y: float(X[1, 0]), \n",
    "            theta: float(X[2, 0]), \n",
    "            v: float(u[0]), \n",
    "            omega: float(u[1]), \n",
    "            time: float(dt)}\n",
    "    V_J_evaluated = array(V_J.subs(subs)).astype(float)\n",
    "    return V_J_evaluated\n",
    "\n",
    "def driving(X, u, dt):\n",
    "    heading_angle = X[2, 0]\n",
    "    velocity      = u[0]\n",
    "    yaw_rate      = u[1]\n",
    "    \n",
    "    radius        = velocity/yaw_rate  # R = v / ω\n",
    "    beta          = yaw_rate * dt\n",
    "    \n",
    "    dX = np.array([\n",
    "        [radius * (sin(heading_angle + beta) - sin(heading_angle))],\n",
    "        [radius * (cos(heading_angle) - cos(heading_angle + beta))],\n",
    "        [beta]\n",
    "    ])\n",
    "\n",
    "    return X + dX\n",
    "\n",
    "def prerdict(X, P, u, cov_u, dt):\n",
    "    predict_X = driving(X=X, u=u, dt = dt)\n",
    "    cov_v = cov_u[0]\n",
    "    cov_omega = cov_u[1]\n",
    "    \n",
    "    F = F_J_evaluated(X, u, dt)\n",
    "    V = V_J_evaluated(X, u, dt)\n",
    "    M = array([[cov_v, 0], \n",
    "               [0, cov_omega]])\n",
    "    predict_P = F @ P @ F.T + V @ M @ V.T\n",
    "    return predict_X, predict_P\"\"\""
   ]
  },
  {
   "cell_type": "code",
   "execution_count": 15,
   "id": "782dfa09-ed69-4a97-8ae1-129b7a9e52c4",
   "metadata": {},
   "outputs": [],
   "source": [
    "from sympy import symbols, Matrix, sin, cos, init_printing\n",
    "from numpy import array\n",
    "# x, y, theta, v, omega, time = symbols('x y theta v omega t')\n",
    "\n",
    "\"\"\"# Define f_xu with conditional logic for omega\n",
    "if omega != 0:\n",
    "    f_xu = Matrix(\n",
    "                [x + v/omega * (sin(theta + omega*time) - sin(theta)), \n",
    "                 y + v/omega * (cos(theta) - cos(theta + omega*time)),  \n",
    "                 theta + omega*time])\n",
    "else:\n",
    "    f_xu = Matrix([\n",
    "        x + v * time * cos(theta),\n",
    "        y + v * time * sin(theta),\n",
    "        theta\n",
    "    ])\n",
    "\n",
    "F_J = f_xu.jacobian(Matrix([x, y, theta]))\n",
    "V_J = f_xu.jacobian(Matrix([v, omega]))\"\"\"\n",
    "\n",
    "def F_J_evaluated(X, u, dt):\n",
    "    x, y, theta, v, omega, time = symbols('x y theta v omega t')\n",
    "    subs_FJ = {x: float(X[0, 0]), \n",
    "            y: float(X[1, 0]), \n",
    "            theta: float(X[2, 0]), \n",
    "            v: float(u[0]), \n",
    "            omega: float(u[1]), \n",
    "            time: float(dt)}\n",
    "    if subs_FJ[omega] != 0:\n",
    "        f_xu = Matrix(\n",
    "            [x + v/omega * (sin(theta + omega*time) - sin(theta)), \n",
    "             y + v/omega * (cos(theta) - cos(theta + omega*time)),  \n",
    "             theta + omega*time])\n",
    "    else:\n",
    "        f_xu = Matrix(\n",
    "            [x + v * time * cos(theta),\n",
    "             y + v * time * sin(theta),\n",
    "             theta])\n",
    "    F_J = f_xu.jacobian(Matrix([x, y, theta])) \n",
    "    F_J_evaluated = array(F_J.subs(subs_FJ)).astype(float)\n",
    "    return F_J_evaluated\n",
    "\n",
    "def V_J_evaluated(X, u, dt):\n",
    "    x, y, theta, v, omega, time = symbols('x y theta v omega t')\n",
    "    subs_VJ = {x: float(X[0, 0]), \n",
    "            y: float(X[1, 0]), \n",
    "            theta: float(X[2, 0]), \n",
    "            v: float(u[0]), \n",
    "            omega: float(u[1]), \n",
    "            time: float(dt)}\n",
    "    if subs_VJ[omega] != 0:\n",
    "        f_xu = Matrix(\n",
    "            [x + v/omega * (sin(theta + omega*time) - sin(theta)), \n",
    "             y + v/omega * (cos(theta) - cos(theta + omega*time)),  \n",
    "             theta + omega*time])\n",
    "    else:\n",
    "        f_xu = Matrix(\n",
    "            [x + v * time * cos(theta),\n",
    "             y + v * time * sin(theta),\n",
    "             theta])\n",
    "    V_J = f_xu.jacobian(Matrix([v, omega]))\n",
    "    V_J_evaluated = array(V_J.subs(subs_VJ)).astype(float)\n",
    "    return V_J_evaluated\n",
    "\n",
    "def driving(X, u, dt):\n",
    "    heading_angle = X[2, 0]\n",
    "    velocity      = u[0]\n",
    "    yaw_rate      = u[1]\n",
    "    \n",
    "    if yaw_rate != 0:\n",
    "        radius        = velocity/yaw_rate  # R = v / ω\n",
    "        beta          = yaw_rate * dt\n",
    "        dX = np.array([\n",
    "            [radius * (sin(heading_angle + beta) - sin(heading_angle))],\n",
    "            [radius * (cos(heading_angle) - cos(heading_angle + beta))],\n",
    "            [beta]\n",
    "        ])\n",
    "    else:\n",
    "        dX = np.array([\n",
    "            [velocity * dt * cos(heading_angle)],\n",
    "            [velocity * dt * sin(heading_angle)],\n",
    "            [0]\n",
    "        ])\n",
    "\n",
    "    return X + dX\n",
    "\n",
    "def prerdict(X, P, u, cov_u, dt):\n",
    "    predict_X = driving(X=X, u=u, dt = dt)\n",
    "    cov_v = cov_u[0]\n",
    "    cov_omega = cov_u[1]\n",
    "    \n",
    "    F = F_J_evaluated(X, u, dt)\n",
    "    V = V_J_evaluated(X, u, dt)\n",
    "    M = array([[cov_v, 0], \n",
    "               [0, cov_omega]])\n",
    "    predict_P = F @ P @ F.T + V @ M @ V.T\n",
    "    return predict_X, predict_P\n"
   ]
  },
  {
   "cell_type": "markdown",
   "id": "9b90521c-6190-438b-a469-07d3ff3131c5",
   "metadata": {},
   "source": [
    "## Update"
   ]
  },
  {
   "cell_type": "markdown",
   "id": "729782ff-c903-4371-ac6f-6dd00e03c3c5",
   "metadata": {
    "jp-MarkdownHeadingCollapsed": true
   },
   "source": [
    "### code"
   ]
  },
  {
   "cell_type": "code",
   "execution_count": 16,
   "id": "b3175c97-a03b-4c88-aee7-10f348f47e14",
   "metadata": {},
   "outputs": [
    {
     "data": {
      "text/latex": [
       "$\\displaystyle \\left[\\begin{matrix}1 & 0 & 0\\\\0 & 1 & 0\\\\0 & 0 & 1\\end{matrix}\\right]$"
      ],
      "text/plain": [
       "Matrix([\n",
       "[1, 0, 0],\n",
       "[0, 1, 0],\n",
       "[0, 0, 1]])"
      ]
     },
     "execution_count": 16,
     "metadata": {},
     "output_type": "execute_result"
    }
   ],
   "source": [
    "H = Matrix([[1, 0, 0],  # 针对这个系统，H 矩阵恰好是单位矩阵\n",
    "            [0, 1, 0],\n",
    "            [0, 0, 1]])\n",
    "H"
   ]
  },
  {
   "cell_type": "code",
   "execution_count": 17,
   "id": "3d62e4b5-9f24-4004-b529-4af30f4f98f0",
   "metadata": {},
   "outputs": [],
   "source": [
    "def h_x(X):\n",
    "    \"\"\"convert prediction to measurement\"\"\"\n",
    "    h_x = H @ X\n",
    "    return h_x"
   ]
  },
  {
   "cell_type": "code",
   "execution_count": 18,
   "id": "5e456ec8-616b-4e7e-bebf-8a2f1affaa68",
   "metadata": {},
   "outputs": [],
   "source": [
    "# Roger R Labbe Jr. Kalman_and_Bayesian_Filters_in_Python.\n",
    "def residual(z, hx):\n",
    "    \"\"\" compute residual (a-b) between measurements containing \n",
    "    [x, y, theta]. theta is normalized to [-pi, pi)\"\"\"\n",
    "    y = z - hx\n",
    "    y[2] = y[2] % (2 * np.pi)    # force in range [0, 2 pi)\n",
    "    if y[2] > np.pi:             # move to [-pi, pi)\n",
    "        y[2] -= 2 * np.pi\n",
    "    return y\n",
    "# y = residual(z, hx)\n",
    "# y"
   ]
  },
  {
   "cell_type": "code",
   "execution_count": 19,
   "id": "0d6e3642-6598-4730-9cdf-c6eac0073e65",
   "metadata": {},
   "outputs": [],
   "source": [
    "# Measurement Noise Matrix\n",
    "def R_matrix(k, dt_step):\n",
    "    z, cov_z          = func_z(k, dt_step)                    # func_z用来获取测量值和每次更新阶段时刻k所需的最新状态矩阵 X 的噪声协方差\n",
    "    cov_x             = cov_z[0]\n",
    "    cov_y             = cov_z[1]\n",
    "    cov_xy            = cov_z[2]\n",
    "    cov_theta         = cov_z[3]\n",
    "    \n",
    "    # Measurement Noise Matrix，在不重新定义整个 EKF 实例 的情况下，动态更新测量噪声协方差矩阵 R。直接在循环中动态修改 ekf.R 即可，而无需重新实例化扩展卡尔曼滤波器。这种方式既高效又灵活。\n",
    "    diagonal_elements = [cov_x, cov_y, cov_theta]             # 对角元素\n",
    "    R                 = np.diag(diagonal_elements)\n",
    "    R[0, 1]           = cov_xy\n",
    "    R[1, 0]           = cov_xy\n",
    "    return R"
   ]
  },
  {
   "cell_type": "code",
   "execution_count": 20,
   "id": "4b3c6dba-78d3-44bf-9680-a20f5fcabf69",
   "metadata": {},
   "outputs": [],
   "source": [
    "def update(X, P, k, dt_step):\n",
    "    X_p      = X\n",
    "    P_p      = P\n",
    "    # calculate residual y\n",
    "    z, cov_z = func_z(k, dt_step)\n",
    "    hx       = h_x(X_p)\n",
    "    y        = residual(z, hx)\n",
    "\n",
    "    # Kalman Gain Matrix\n",
    "    u, cov_u = func_u(k, dt_step)\n",
    "    R        = R_matrix(k, dt_step)\n",
    "    S        = H @ P_p @ H.T + R  # 残差协方差\n",
    "    K        = P_p @ H.T @ S.inv()  # 卡尔曼增益矩阵\n",
    "\n",
    "    X_update = X_p + K @ y\n",
    "    I        = np.eye(3)\n",
    "    P_update = (I - K @ H) @ P_p\n",
    "    \n",
    "    return X_update, P_update"
   ]
  },
  {
   "cell_type": "markdown",
   "id": "cfb2b56a-0612-4f36-883f-4f955ca1551c",
   "metadata": {},
   "source": [
    "### Testcode"
   ]
  },
  {
   "cell_type": "code",
   "execution_count": 21,
   "id": "99437660-287b-4b1d-b094-452a2f707eaa",
   "metadata": {},
   "outputs": [],
   "source": [
    "# Beispiel\n",
    "k = 400\n",
    "dt_step = 0.5\n",
    "z, cov_z = func_z(k-1, dt_step)\n",
    "X_0 = z.copy()\n",
    "u_0, cov_u0 = func_u(k-1, dt_step)"
   ]
  },
  {
   "cell_type": "code",
   "execution_count": 22,
   "id": "aa7f5eb3-797e-4405-9b6a-472e9f57d94f",
   "metadata": {},
   "outputs": [
    {
     "data": {
      "text/plain": [
       "array([ 8.3550772 , -0.02984513])"
      ]
     },
     "execution_count": 22,
     "metadata": {},
     "output_type": "execute_result"
    }
   ],
   "source": [
    "u_0"
   ]
  },
  {
   "cell_type": "code",
   "execution_count": 23,
   "id": "4f3af54b-88f9-4170-88de-9074141ed41a",
   "metadata": {},
   "outputs": [
    {
     "data": {
      "text/plain": [
       "array([0.00300191, 0.000893  ])"
      ]
     },
     "execution_count": 23,
     "metadata": {},
     "output_type": "execute_result"
    }
   ],
   "source": [
    "cov_u0"
   ]
  },
  {
   "cell_type": "code",
   "execution_count": 24,
   "id": "1cbd1ec0-af21-4d64-a56a-51d2d27ee753",
   "metadata": {},
   "outputs": [
    {
     "data": {
      "text/latex": [
       "$\\displaystyle \\left[\\begin{matrix}-265.805892997341\\\\492.339357824411\\\\0.883227308328154\\end{matrix}\\right]$"
      ],
      "text/plain": [
       "Matrix([\n",
       "[-265.805892997341],\n",
       "[ 492.339357824411],\n",
       "[0.883227308328154]])"
      ]
     },
     "execution_count": 24,
     "metadata": {},
     "output_type": "execute_result"
    }
   ],
   "source": [
    "X_0  # 不管前面，假设这个X是k-1时刻的后验估计值"
   ]
  },
  {
   "cell_type": "code",
   "execution_count": 25,
   "id": "ba129983-d4ea-43ea-b857-300050c023b9",
   "metadata": {},
   "outputs": [
    {
     "data": {
      "text/plain": [
       "array([[0.1, 0. , 0. ],\n",
       "       [0. , 0.1, 0. ],\n",
       "       [0. , 0. , 0.1]])"
      ]
     },
     "execution_count": 25,
     "metadata": {},
     "output_type": "execute_result"
    }
   ],
   "source": [
    "P_0 = np.diag([.1, .1, .1])  # 假设这里的 P 是 k-1 时刻的后验估计值 \n",
    "P_0"
   ]
  },
  {
   "cell_type": "code",
   "execution_count": 26,
   "id": "5c77bbd1-b330-42fd-a8b7-43a2efd52acd",
   "metadata": {},
   "outputs": [
    {
     "data": {
      "text/latex": [
       "$\\displaystyle \\left[\\begin{matrix}-263.130585705979\\\\495.547820976796\\\\0.868304743223603\\end{matrix}\\right]$"
      ],
      "text/plain": [
       "Matrix([\n",
       "[-263.130585705979],\n",
       "[ 495.547820976796],\n",
       "[0.868304743223603]])"
      ]
     },
     "execution_count": 26,
     "metadata": {},
     "output_type": "execute_result"
    }
   ],
   "source": [
    "X_p, P_p = prerdict(X=X_0, P=P_0, u=u_0, cov_u=cov_u0, dt=dt_step)  # 这里的 X，P 是 k 时刻的先验估计值，也就是 k+1 时刻预测值\n",
    "X_p"
   ]
  },
  {
   "cell_type": "code",
   "execution_count": 27,
   "id": "471b8f92-dc46-401c-8813-41954fe8945f",
   "metadata": {},
   "outputs": [
    {
     "data": {
      "text/plain": [
       "array([[ 1.13030353, -0.85847287, -0.32120372],\n",
       "       [-0.85847287,  0.81657144,  0.26783025],\n",
       "       [-0.32120372,  0.26783025,  0.10022325]])"
      ]
     },
     "execution_count": 27,
     "metadata": {},
     "output_type": "execute_result"
    }
   ],
   "source": [
    "P_p"
   ]
  },
  {
   "cell_type": "code",
   "execution_count": 28,
   "id": "0827852c-f724-4bce-a4a0-7e55d9a240d5",
   "metadata": {},
   "outputs": [],
   "source": [
    "def update(X, P, k, dt_step):\n",
    "    X_p      = X\n",
    "    P_p      = P\n",
    "    # calculate residual y\n",
    "    z, cov_z = func_z(k, dt_step)\n",
    "    hx       = h_x(X_p)\n",
    "    y        = residual(z, hx)\n",
    "\n",
    "    # Kalman Gain Matrix\n",
    "    u, cov_u = func_u(k, dt_step)\n",
    "    R        = R_matrix(k, dt_step)\n",
    "    S        = H @ P_p @ H.T + R  # 残差协方差\n",
    "    K        = P_p @ H.T @ S.inv()  # 卡尔曼增益矩阵\n",
    "\n",
    "    X_update = X_p + K @ y\n",
    "    I        = np.eye(3)\n",
    "    P_update = (I - K @ H) @ P_p\n",
    "\n",
    "    # 将所有中间变量打包到字典\n",
    "    intermediate_vars = {\n",
    "        \"X_p\": X_p,\n",
    "        \"P_p\": P_p,\n",
    "        \"z\": z,\n",
    "        \"cov_z\": cov_z,\n",
    "        \"hx\": hx,\n",
    "        \"y\": y,\n",
    "        \"u\": u,\n",
    "        \"cov_u\": cov_u,\n",
    "        \"R\": R,\n",
    "        \"S\": S,\n",
    "        \"K\": K,\n",
    "        \"X_update\": X_update,\n",
    "        \"I\": I,\n",
    "        \"P_update\": P_update,\n",
    "    }\n",
    "    intermediate_series = pd.Series(intermediate_vars)\n",
    "    \n",
    "    return X_update, P_update, intermediate_series "
   ]
  },
  {
   "cell_type": "code",
   "execution_count": 29,
   "id": "f2a58d2c-d308-43d5-a88a-8ffcf749aa79",
   "metadata": {},
   "outputs": [],
   "source": [
    "X_update, P_update, intermediate_series = update(X_p, P_p, k, dt_step)"
   ]
  },
  {
   "cell_type": "code",
   "execution_count": 30,
   "id": "be9c5aba-15b0-4b07-ac93-e86ac3550719",
   "metadata": {},
   "outputs": [
    {
     "data": {
      "text/latex": [
       "$\\displaystyle \\left[\\begin{matrix}-267.994525580073\\\\495.61766014225\\\\0.880982889016838\\end{matrix}\\right]$"
      ],
      "text/plain": [
       "Matrix([\n",
       "[-267.994525580073],\n",
       "[  495.61766014225],\n",
       "[0.880982889016838]])"
      ]
     },
     "execution_count": 30,
     "metadata": {},
     "output_type": "execute_result"
    }
   ],
   "source": [
    "X_update"
   ]
  },
  {
   "cell_type": "code",
   "execution_count": 31,
   "id": "46efacca-4dc0-46bd-b89b-c7a37dc97ae4",
   "metadata": {},
   "outputs": [
    {
     "data": {
      "text/latex": [
       "$\\displaystyle \\left[\\begin{matrix}0.00238104283741357 & 0.000265014954415183 & -3.22553839419287 \\cdot 10^{-8}\\\\0.000265014954415797 & 0.00217565198146318 & 2.31337596977993 \\cdot 10^{-8}\\\\-3.22553841802567 \\cdot 10^{-8} & 2.3133760169905 \\cdot 10^{-8} & 4.70473581295277 \\cdot 10^{-7}\\end{matrix}\\right]$"
      ],
      "text/plain": [
       "Matrix([\n",
       "[ 0.00238104283741357, 0.000265014954415183, -3.22553839419287e-8],\n",
       "[0.000265014954415797,  0.00217565198146318,  2.31337596977993e-8],\n",
       "[-3.22553841802567e-8,   2.3133760169905e-8,  4.70473581295277e-7]])"
      ]
     },
     "execution_count": 31,
     "metadata": {},
     "output_type": "execute_result"
    }
   ],
   "source": [
    "P_update"
   ]
  },
  {
   "cell_type": "code",
   "execution_count": 32,
   "id": "89eb7409-7675-467b-85dc-adbfd1c0add4",
   "metadata": {},
   "outputs": [
    {
     "name": "stdout",
     "output_type": "stream",
     "text": [
      "X_p:\n",
      "Matrix([[-263.130585705979], [495.547820976796], [0.868304743223603]])\n",
      "\n",
      "P_p:\n",
      "[[ 1.13030353 -0.85847287 -0.32120372]\n",
      " [-0.85847287  0.81657144  0.26783025]\n",
      " [-0.32120372  0.26783025  0.10022325]]\n",
      "\n",
      "z:\n",
      "Matrix([[-268.111067495898], [495.605073101805], [0.880910469662697]])\n",
      "\n",
      "cov_z:\n",
      "[2.43935732e-03 2.22438477e-03 2.77468532e-04 4.70513195e-07]\n",
      "\n",
      "hx:\n",
      "Matrix([[-263.130585705979], [495.547820976796], [0.868304743223603]])\n",
      "\n",
      "y:\n",
      "Matrix([[-4.98048178991849], [0.0572521250093700], [0.0126057264390942]])\n",
      "\n",
      "u:\n",
      "[ 8.33103683e+00 -3.49065850e-03]\n",
      "\n",
      "cov_u:\n",
      "[0.00282986 0.000893  ]\n",
      "\n",
      "R:\n",
      "[[2.43935732e-03 2.77468532e-04 0.00000000e+00]\n",
      " [2.77468532e-04 2.22438477e-03 0.00000000e+00]\n",
      " [0.00000000e+00 0.00000000e+00 4.70513195e-07]]\n",
      "\n",
      "S:\n",
      "Matrix([[1.13274288594690, -0.858195404771425, -0.321203717211251], [-0.858195404771425, 0.818795826981673, 0.267830251055451], [-0.321203717211251, 0.267830251055451, 0.100223720513195]])\n",
      "\n",
      "K:\n",
      "Matrix([[0.976396249243731, -0.00265434291933708, -0.0685536230084764], [-0.00265087337181669, 0.978422235377623, 0.0491670805065993], [-1.46132173761693e-5, 1.22229159753573e-5, 0.999915808358068]])\n",
      "\n",
      "X_update:\n",
      "Matrix([[-267.994525580073], [495.617660142250], [0.880982889016838]])\n",
      "\n",
      "I:\n",
      "[[1. 0. 0.]\n",
      " [0. 1. 0.]\n",
      " [0. 0. 1.]]\n",
      "\n",
      "P_update:\n",
      "Matrix([[0.00238104283741357, 0.000265014954415183, -3.22553839419287e-8], [0.000265014954415797, 0.00217565198146318, 2.31337596977993e-8], [-3.22553841802567e-8, 2.31337601699050e-8, 4.70473581295277e-7]])\n",
      "\n"
     ]
    }
   ],
   "source": [
    "for key, value in intermediate_series.items():\n",
    "    print(f\"{key}:\\n{value}\\n\")"
   ]
  },
  {
   "cell_type": "markdown",
   "id": "4ba495a4-c198-4f9a-8af2-5c3bfd9f3fae",
   "metadata": {},
   "source": [
    "### Testcode"
   ]
  },
  {
   "cell_type": "code",
   "execution_count": 33,
   "id": "445ebe96-220f-4d85-8aa9-853c4ca67451",
   "metadata": {},
   "outputs": [],
   "source": [
    "# Beispiel\n",
    "k = 400\n",
    "dt_step = 0.5\n",
    "z, cov_z = func_z(k-1, dt_step)\n",
    "X_0 = z.copy()  # 当作 k-1 时刻的最优估计值\n",
    "u_0, cov_u0 = func_u(k-1, dt_step)"
   ]
  },
  {
   "cell_type": "code",
   "execution_count": 34,
   "id": "1f063f87-0edd-4202-9fa7-131ad1c8c45e",
   "metadata": {},
   "outputs": [
    {
     "data": {
      "text/latex": [
       "$\\displaystyle \\left[\\begin{matrix}-265.805892997341\\\\492.339357824411\\\\0.883227308328154\\end{matrix}\\right]$"
      ],
      "text/plain": [
       "Matrix([\n",
       "[-265.805892997341],\n",
       "[ 492.339357824411],\n",
       "[0.883227308328154]])"
      ]
     },
     "execution_count": 34,
     "metadata": {},
     "output_type": "execute_result"
    }
   ],
   "source": [
    "X_0"
   ]
  },
  {
   "cell_type": "code",
   "execution_count": 35,
   "id": "cc65cac0-7af4-49c3-8871-d517e19d606e",
   "metadata": {},
   "outputs": [
    {
     "data": {
      "text/plain": [
       "array([[0.1, 0. , 0. ],\n",
       "       [0. , 0.1, 0. ],\n",
       "       [0. , 0. , 0.1]])"
      ]
     },
     "execution_count": 35,
     "metadata": {},
     "output_type": "execute_result"
    }
   ],
   "source": [
    "P_0 = np.diag([.1, .1, .1])  # 当作 k-1 时刻 P 的最优估计值\n",
    "P_0"
   ]
  },
  {
   "cell_type": "code",
   "execution_count": 36,
   "id": "1f3b685b-3a32-4692-926f-4a16f6c5353a",
   "metadata": {},
   "outputs": [
    {
     "data": {
      "text/latex": [
       "$\\displaystyle \\left[\\begin{matrix}-263.130585705979\\\\495.547820976796\\\\0.868304743223603\\end{matrix}\\right]$"
      ],
      "text/plain": [
       "Matrix([\n",
       "[-263.130585705979],\n",
       "[ 495.547820976796],\n",
       "[0.868304743223603]])"
      ]
     },
     "execution_count": 36,
     "metadata": {},
     "output_type": "execute_result"
    }
   ],
   "source": [
    "X_p, P_p = prerdict(X=X_0, P=P_0, u=u_0, cov_u=cov_u0, dt=dt_step)  # 这里的 X，P 是 k 时刻的先验估计值，也就是 k+1 时刻预测值\n",
    "X_p"
   ]
  },
  {
   "cell_type": "code",
   "execution_count": 37,
   "id": "1a42a6cd-371d-4715-bd69-7190b3e6587b",
   "metadata": {},
   "outputs": [
    {
     "data": {
      "text/plain": [
       "array([[ 1.13030353, -0.85847287, -0.32120372],\n",
       "       [-0.85847287,  0.81657144,  0.26783025],\n",
       "       [-0.32120372,  0.26783025,  0.10022325]])"
      ]
     },
     "execution_count": 37,
     "metadata": {},
     "output_type": "execute_result"
    }
   ],
   "source": [
    "P_p"
   ]
  },
  {
   "cell_type": "code",
   "execution_count": 38,
   "id": "ed75e37e-29c5-468e-9c6c-e6e6460b039d",
   "metadata": {},
   "outputs": [
    {
     "data": {
      "text/latex": [
       "$\\displaystyle \\left[\\begin{matrix}-268.111067495898\\\\495.605073101805\\\\0.880910469662697\\end{matrix}\\right]$"
      ],
      "text/plain": [
       "Matrix([\n",
       "[-268.111067495898],\n",
       "[ 495.605073101805],\n",
       "[0.880910469662697]])"
      ]
     },
     "execution_count": 38,
     "metadata": {},
     "output_type": "execute_result"
    }
   ],
   "source": [
    "z, cov_z = func_z(k, dt_step)  # 这里是 k 时刻的传感器测量值\n",
    "z"
   ]
  },
  {
   "cell_type": "markdown",
   "id": "94c631ea-7860-41d4-abb5-1dc7ece4ccbf",
   "metadata": {
    "jp-MarkdownHeadingCollapsed": true
   },
   "source": [
    "calculate measurement from system state"
   ]
  },
  {
   "cell_type": "code",
   "execution_count": 39,
   "id": "b02d25d1-fba0-4019-99ef-55f3715d4e96",
   "metadata": {},
   "outputs": [
    {
     "data": {
      "text/latex": [
       "$\\displaystyle \\left[\\begin{matrix}-263.130585705979\\\\495.547820976796\\\\0.868304743223603\\end{matrix}\\right]$"
      ],
      "text/plain": [
       "Matrix([\n",
       "[-263.130585705979],\n",
       "[ 495.547820976796],\n",
       "[0.868304743223603]])"
      ]
     },
     "execution_count": 39,
     "metadata": {},
     "output_type": "execute_result"
    }
   ],
   "source": [
    "hx = h_x(X_p)\n",
    "hx"
   ]
  },
  {
   "cell_type": "code",
   "execution_count": 40,
   "id": "d179a5d0-f6c7-45d2-9c49-a0e0304e8f37",
   "metadata": {},
   "outputs": [
    {
     "data": {
      "text/latex": [
       "$\\displaystyle \\left[\\begin{matrix}-4.98048178991849\\\\0.05725212500937\\\\0.0126057264390942\\end{matrix}\\right]$"
      ],
      "text/plain": [
       "Matrix([\n",
       "[ -4.98048178991849],\n",
       "[  0.05725212500937],\n",
       "[0.0126057264390942]])"
      ]
     },
     "execution_count": 40,
     "metadata": {},
     "output_type": "execute_result"
    }
   ],
   "source": [
    "y = residual(z, hx)\n",
    "y"
   ]
  },
  {
   "cell_type": "code",
   "execution_count": 41,
   "id": "8d7cf0d4-0a4e-4936-98eb-f4143509cc71",
   "metadata": {},
   "outputs": [
    {
     "data": {
      "text/plain": [
       "array([[2.43935732e-03, 2.77468532e-04, 0.00000000e+00],\n",
       "       [2.77468532e-04, 2.22438477e-03, 0.00000000e+00],\n",
       "       [0.00000000e+00, 0.00000000e+00, 4.70513195e-07]])"
      ]
     },
     "execution_count": 41,
     "metadata": {},
     "output_type": "execute_result"
    }
   ],
   "source": [
    "R = R_matrix(k, dt_step)\n",
    "R"
   ]
  },
  {
   "cell_type": "code",
   "execution_count": 42,
   "id": "f0d6522f-bda2-4289-aeed-b566b25a08fd",
   "metadata": {},
   "outputs": [
    {
     "data": {
      "text/latex": [
       "$\\displaystyle \\left[\\begin{matrix}0.976396249243731 & -0.00265434291933708 & -0.0685536230084764\\\\-0.00265087337181669 & 0.978422235377623 & 0.0491670805065993\\\\-1.46132173761693 \\cdot 10^{-5} & 1.22229159753573 \\cdot 10^{-5} & 0.999915808358068\\end{matrix}\\right]$"
      ],
      "text/plain": [
       "Matrix([\n",
       "[   0.976396249243731, -0.00265434291933708, -0.0685536230084764],\n",
       "[-0.00265087337181669,    0.978422235377623,  0.0491670805065993],\n",
       "[-1.46132173761693e-5,  1.22229159753573e-5,   0.999915808358068]])"
      ]
     },
     "execution_count": 42,
     "metadata": {},
     "output_type": "execute_result"
    }
   ],
   "source": [
    "def calculate_K(P, H, R):\n",
    "    \"\"\"\n",
    "    计算卡尔曼增益矩阵 K\n",
    "    \"\"\"\n",
    "    # 计算中间结果\n",
    "    S = H @ P @ H.T + R  # 残差协方差\n",
    "    K = P @ H.T @ S.inv()  # 卡尔曼增益矩阵\n",
    "    return K\n",
    "K = calculate_K(P_p, H, R)\n",
    "K"
   ]
  },
  {
   "cell_type": "code",
   "execution_count": 43,
   "id": "b6051952-b10f-4288-ae26-d68a7f43085c",
   "metadata": {},
   "outputs": [
    {
     "data": {
      "text/latex": [
       "$\\displaystyle \\left[\\begin{matrix}-267.994525580073\\\\495.61766014225\\\\0.880982889016838\\end{matrix}\\right]$"
      ],
      "text/plain": [
       "Matrix([\n",
       "[-267.994525580073],\n",
       "[  495.61766014225],\n",
       "[0.880982889016838]])"
      ]
     },
     "execution_count": 43,
     "metadata": {},
     "output_type": "execute_result"
    }
   ],
   "source": [
    "X_update = X_p + K @ y\n",
    "X_update"
   ]
  },
  {
   "cell_type": "code",
   "execution_count": 44,
   "id": "05d04163-aac6-4789-878b-3fa085ee8087",
   "metadata": {},
   "outputs": [
    {
     "data": {
      "text/plain": [
       "array([[1., 0., 0.],\n",
       "       [0., 1., 0.],\n",
       "       [0., 0., 1.]])"
      ]
     },
     "execution_count": 44,
     "metadata": {},
     "output_type": "execute_result"
    }
   ],
   "source": [
    "I = np.eye(3)\n",
    "I"
   ]
  },
  {
   "cell_type": "code",
   "execution_count": 45,
   "id": "eca67bc1-ee3f-42ad-aad2-720fe289bad5",
   "metadata": {},
   "outputs": [
    {
     "data": {
      "text/latex": [
       "$\\displaystyle \\left[\\begin{matrix}0.00238104283741357 & 0.000265014954415183 & -3.22553839419287 \\cdot 10^{-8}\\\\0.000265014954415797 & 0.00217565198146318 & 2.31337596977993 \\cdot 10^{-8}\\\\-3.22553841802567 \\cdot 10^{-8} & 2.3133760169905 \\cdot 10^{-8} & 4.70473581295277 \\cdot 10^{-7}\\end{matrix}\\right]$"
      ],
      "text/plain": [
       "Matrix([\n",
       "[ 0.00238104283741357, 0.000265014954415183, -3.22553839419287e-8],\n",
       "[0.000265014954415797,  0.00217565198146318,  2.31337596977993e-8],\n",
       "[-3.22553841802567e-8,   2.3133760169905e-8,  4.70473581295277e-7]])"
      ]
     },
     "execution_count": 45,
     "metadata": {},
     "output_type": "execute_result"
    }
   ],
   "source": [
    "P_update = (I - K @ H) @ P_p\n",
    "P_update"
   ]
  },
  {
   "cell_type": "markdown",
   "id": "7fe4c4c0-909c-4b39-b223-57a64c08ec20",
   "metadata": {},
   "source": [
    "## run"
   ]
  },
  {
   "cell_type": "markdown",
   "id": "eb4ecdbe-0426-4c65-a6a5-069b44f163d2",
   "metadata": {},
   "source": [
    "### code"
   ]
  },
  {
   "cell_type": "code",
   "execution_count": 56,
   "id": "17bcf2be-c501-4ac5-a438-c2a48fb804b4",
   "metadata": {
    "editable": true,
    "slideshow": {
     "slide_type": ""
    },
    "tags": []
   },
   "outputs": [],
   "source": [
    "from filterpy.stats import plot_covariance_ellipse\n",
    "def run_CTRV_EKF(dt_step      = 0.5,  # secs, dt不可以直接指定固定值，而是要根据测量数据的时间戳进行决定，或者确定一个dt，截取传感器数据中与之时刻最接近的数据\n",
    "                 dt_track     = 0.1,\n",
    "                 sim_duration = 6,   # secs\n",
    "                 ylim         = None):\n",
    "\n",
    "    z_0, cov_z0  = func_z(k=0, dt_step=dt_step)\n",
    "    X            = z_0.copy()                    # X_0\n",
    "    P            = np.diag([.1, .1, .1])         # P_0, 之后也可以给P_0写一个函数，这里先这么着吧\n",
    "    u, cov_u     = func_u(k=0, dt_step=dt_step)  # u_0, cov_u0\n",
    "    track        = []                            # 用于记录汽车的运行轨迹\n",
    "    k            = 0                             # timestep for prediction and update\n",
    "    sim_X        = z_0.copy()\n",
    "    step         = int(dt_step / dt_track)                            \n",
    "    ellipse_step = 10 * step\n",
    "    track_step   = int(sim_duration / dt_track)\n",
    "\n",
    "    for i in range(track_step):\n",
    "        # driving(X, u, dt)\n",
    "        sim_X = driving(sim_X, u, dt_track)                       # simulate the driving model of the car\n",
    "        track.append(sim_X)                                       # 这里并不多余，因为要绘制汽车运行的轨迹图，当 ω ≠ 0 时，两次更新点之间的轨迹并不是一条直线，所以需要适当的增加一些轨迹点使轨迹图看起来平滑\n",
    "        \n",
    "        if i % step == 0:\n",
    "            k         = k + 1\n",
    "            u, cov_u  = func_u(k, dt_step)                            # func_u是用来获取在每次更新阶段时刻k所需的最新控制矩阵 u，现在还每写，等ekf框架搭建完成后再设计  \n",
    "            cov_v     = cov_u[0]\n",
    "            cov_omega = cov_u[1]\n",
    "            X, P = prerdict(X, P, u, cov_u, dt=dt_step)\n",
    "            \n",
    "            # print(f'P_{k}:{P}:')  # 测试完成后删除\n",
    "            \n",
    "            if i % ellipse_step == 0:\n",
    "                plot_covariance_ellipse(\n",
    "                    (X[0,0], X[1,0]), P[0:2, 0:2], \n",
    "                     std=0.2, facecolor='k', alpha=0.3)                 # 设置predict阶段的协方差椭圆的颜色为黑色，透明度为 0.3（范围是 0 到 1）\n",
    "    \n",
    "    track = np.array(track)\n",
    "    plt.plot(track[:, 0], track[:,1], color='k', lw=2)                # LineWidth = 2\n",
    "    plt.axis('equal')\n",
    "    plt.title(\"Klitten EKF\")\n",
    "    if ylim is not None: plt.ylim(*ylim)\n",
    "    plt.show()  \n",
    "    return \n",
    "        "
   ]
  },
  {
   "cell_type": "code",
   "execution_count": 63,
   "id": "5ab50114-2fd3-464f-9b40-e67d9463aabc",
   "metadata": {},
   "outputs": [
    {
     "data": {
      "image/png": "[encoded data removed]",
      "text/plain": [
       "<Figure size 640x480 with 1 Axes>"
      ]
     },
     "metadata": {},
     "output_type": "display_data"
    }
   ],
   "source": [
    "run_CTRV_EKF(sim_duration = 400, dt_step = 0.5, dt_track = 0.05)"
   ]
  },
  {
   "cell_type": "markdown",
   "id": "4396dc51-ab42-494b-a023-930ff9400046",
   "metadata": {},
   "source": [
    "### Testcode"
   ]
  },
  {
   "cell_type": "markdown",
   "id": "d2c6026b-2a4c-466b-9bf6-259e59477fd5",
   "metadata": {},
   "source": [
    "# 4. Design Measurement Noise"
   ]
  },
  {
   "cell_type": "markdown",
   "id": "4d98a5d9-468a-491b-99a7-7efc10e04719",
   "metadata": {},
   "source": [
    "# 5. Implementation"
   ]
  },
  {
   "cell_type": "code",
   "execution_count": null,
   "id": "08a8655e-c8dc-4cf2-a94c-bca741cf28bc",
   "metadata": {},
   "outputs": [],
   "source": []
  },
  {
   "cell_type": "markdown",
   "id": "e83cbf1a-1173-4b8f-a7a0-e69cf27335f7",
   "metadata": {},
   "source": [
    "If the curve above is the process model, then the dotted lines shows the linearization of that curve for the estimate $x=1.5$.\n",
    "\n",
    "We linearize systems by taking the derivative, which finds the slope of a curve:\n",
    "\n",
    "$$\\begin{aligned}\n",
    "f(x) &= x^2 -2x \\\\\n",
    "\\frac{df}{dx} &= 2x - 2\n",
    "\\end{aligned}$$\n",
    "\n",
    "and then evaluating it at $x$:\n",
    "\n",
    "$$\\begin{aligned}m &= f'(x=1.5) \\\\&= 2(1.5) - 2 \\\\&= 1\\end{aligned}$$ \n",
    "\n",
    "Linearizing systems of differential equations is similar. We linearize $f(\\mathbf x, \\mathbf u)$, and $h(\\mathbf x)$ by taking the partial derivatives of each to evaluate $\\mathbf F$ and $\\mathbf H$ at the point $\\mathbf x_t$ and $\\mathbf u_t$. We call the partial derivative of a matrix the [*Jacobian*](https://en.wikipedia.org/wiki/Jacobian_matrix_and_determinant). This gives us the the discrete state transition matrix and measurement model matrix:\n",
    "\n",
    "$$\n",
    "\\begin{aligned}\n",
    "\\mathbf F \n",
    "&= {\\frac{\\partial{f(\\mathbf x_t, \\mathbf u_t)}}{\\partial{\\mathbf x}}}\\biggr|_{{\\mathbf x_t},{\\mathbf u_t}} \\\\\n",
    "\\mathbf H &= \\frac{\\partial{h(\\bar{\\mathbf x}_t)}}{\\partial{\\bar{\\mathbf x}}}\\biggr|_{\\bar{\\mathbf x}_t} \n",
    "\\end{aligned}\n",
    "$$\n",
    "\n",
    "This leads to the following equations for the EKF. I put boxes around the differences from the linear filter:\n",
    "\n",
    "$$\\begin{array}{l|l}\n",
    "\\text{linear Kalman filter} & \\text{EKF} \\\\\n",
    "\\hline \n",
    "& \\boxed{\\mathbf F = {\\frac{\\partial{f(\\mathbf x_t, \\mathbf u_t)}}{\\partial{\\mathbf x}}}\\biggr|_{{\\mathbf x_t},{\\mathbf u_t}}} \\\\\n",
    "\\mathbf{\\bar x} = \\mathbf{Fx} + \\mathbf{Bu} & \\boxed{\\mathbf{\\bar x} = f(\\mathbf x, \\mathbf u)}  \\\\\n",
    "\\mathbf{\\bar P} = \\mathbf{FPF}^\\mathsf{T}+\\mathbf Q  & \\mathbf{\\bar P} = \\mathbf{FPF}^\\mathsf{T}+\\mathbf Q \\\\\n",
    "\\hline\n",
    "& \\boxed{\\mathbf H = \\frac{\\partial{h(\\bar{\\mathbf x}_t)}}{\\partial{\\bar{\\mathbf x}}}\\biggr|_{\\bar{\\mathbf x}_t}} \\\\\n",
    "\\textbf{y} = \\mathbf z - \\mathbf{H \\bar{x}} & \\textbf{y} = \\mathbf z - \\boxed{h(\\bar{x})}\\\\\n",
    "\\mathbf{K} = \\mathbf{\\bar{P}H}^\\mathsf{T} (\\mathbf{H\\bar{P}H}^\\mathsf{T} + \\mathbf R)^{-1} & \\mathbf{K} = \\mathbf{\\bar{P}H}^\\mathsf{T} (\\mathbf{H\\bar{P}H}^\\mathsf{T} + \\mathbf R)^{-1} \\\\\n",
    "\\mathbf x=\\mathbf{\\bar{x}} +\\mathbf{K\\textbf{y}} & \\mathbf x=\\mathbf{\\bar{x}} +\\mathbf{K\\textbf{y}} \\\\\n",
    "\\mathbf P= (\\mathbf{I}-\\mathbf{KH})\\mathbf{\\bar{P}} & \\mathbf P= (\\mathbf{I}-\\mathbf{KH})\\mathbf{\\bar{P}}\n",
    "\\end{array}$$\n",
    "\n",
    "We don't normally use $\\mathbf{Fx}$ to propagate the state for the EKF as the linearization causes inaccuracies. It is typical to compute $\\bar{\\mathbf x}$ using a suitable numerical integration technique such as Euler or Runge Kutta. Thus I wrote $\\mathbf{\\bar x} = f(\\mathbf x, \\mathbf u)$. For the same reasons we don't use $\\mathbf{H\\bar{x}}$ in the computation for the residual, opting for the more accurate $h(\\bar{\\mathbf x})$.\n",
    "\n",
    "I think the easiest way to understand the EKF is to start off with an example. Later you may want to come back and reread this section."
   ]
  },
  {
   "cell_type": "code",
   "execution_count": null,
   "id": "89e7181e-39a4-474b-9702-44fa21375bdb",
   "metadata": {},
   "outputs": [],
   "source": []
  }
 ],
 "metadata": {
  "kernelspec": {
   "display_name": "Python 3 (ipykernel)",
   "language": "python",
   "name": "python3"
  },
  "language_info": {
   "codemirror_mode": {
    "name": "ipython",
    "version": 3
   },
   "file_extension": ".py",
   "mimetype": "text/x-python",
   "name": "python",
   "nbconvert_exporter": "python",
   "pygments_lexer": "ipython3",
   "version": "3.12.2"
  }
 },
 "nbformat": 4,
 "nbformat_minor": 5
}
