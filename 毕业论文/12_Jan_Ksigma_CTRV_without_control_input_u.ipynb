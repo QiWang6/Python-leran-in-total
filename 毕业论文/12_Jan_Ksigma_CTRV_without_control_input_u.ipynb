{
 "cells": [
  {
   "cell_type": "markdown",
   "id": "7af71559-c77b-4b9b-9463-436acc1f89b5",
   "metadata": {},
   "source": [
    "# Ksigma CTRV without control-input u"
   ]
  },
  {
   "cell_type": "markdown",
   "id": "5ef42f78-523b-4ccd-9aa8-9216f0e3360c",
   "metadata": {},
   "source": [
    "Hier haben wir einen erweiterten Kalman-Filter (EKF) basierend auf dem CTRV-Modell [1] entwickelt und ihn in der Ksigma-Algorithmus zur Berechnung des PL (Protection Level) angewendet."
   ]
  },
  {
   "cell_type": "markdown",
   "id": "b0b53a5a-f431-4c27-8aac-f96b9f8e2641",
   "metadata": {},
   "source": [
    "## Datenvorverarbeitung"
   ]
  },
  {
   "cell_type": "code",
   "execution_count": 1,
   "id": "d7409e05-b94f-4d4e-9ef0-a91b6143e9d8",
   "metadata": {},
   "outputs": [],
   "source": [
    "%matplotlib widget\n",
    "import numpy as np\n",
    "from sympy import symbols, Matrix, sin, cos, init_printing\n",
    "import sympy as sp\n",
    "import ast\n",
    "import matplotlib.pylab as plt\n",
    "import matplotlib.gridspec as gridspec\n",
    "import pandas as pd\n",
    "from bagpy import bagreader\n",
    "from numpy import array"
   ]
  },
  {
   "cell_type": "code",
   "execution_count": 2,
   "id": "c4e27859-f171-40ba-a0ee-67fee15f5370",
   "metadata": {},
   "outputs": [
    {
     "name": "stdout",
     "output_type": "stream",
     "text": [
      "[INFO]  Data folder ./Klitten/loc_results_2023-11-01-12-53-52_0 already exists. Not creating.\n",
      "[INFO]  Data folder ./Klitten/recordedData_sensors_locpc_2023-11-01-12-53-52_0 already exists. Not creating.\n"
     ]
    }
   ],
   "source": [
    "# import data from recording at Klitten FVZ\n",
    "results_file = \"./Klitten/loc_results_2023-11-01-12-53-52_0.bag\"\n",
    "sensor_file = \"./Klitten/recordedData_sensors_locpc_2023-11-01-12-53-52_0.bag\"\n",
    "\n",
    "result_reader = bagreader(results_file)\n",
    "sensor_reader = bagreader(sensor_file)\n",
    "\n",
    "\n",
    "# Thius function extracts the sensordata into CSV-files\n",
    "map_path = result_reader.message_by_topic(topic=\"/odometry/filtered/map\")\n",
    "# odom_path = result_reader.message_by_topic(topic=\"/odometry/filtered/odom\")\n",
    "# gps_odometry_path  = result_reader.message_by_topic(topic=\"/odometry/gps\")\n",
    "imu_oem = sensor_reader.message_by_topic(topic=\"/localization_pc/can0/decoded/imu\")\n",
    "# speed_oem = sensor_reader.message_by_topic(topic=\"/localization_pc/can0/decoded/speed\")\n",
    "# steeringAngle_oem = sensor_reader.message_by_topic(topic=\"/localization_pc/can0/decoded/steeringAngle\")\n",
    "# gnss_oem = sensor_reader.message_by_topic(topic=\"/localization_pc/can0/decoded/gnss\")\n",
    "# imu_anavs = sensor_reader.message_by_topic(topic=\"/localization_pc/sensor/anavs/imu\")\n",
    "# navsat_anavs = sensor_reader.message_by_topic(topic=\"/localization_pc/sensor/anavs/navsat\")\n",
    "\n",
    "\n",
    "# You can then use Pandas to read the files.\n",
    "df_map_path = pd.read_csv(map_path)  \n",
    "# df_odom_path = pd.read_csv(odom_path)  \n",
    "# df_gps_path = pd.read_csv(gps_odometry_path)\n",
    "# df_speed = pd.read_csv(speed_oem)\n",
    "df_imu = pd.read_csv(imu_oem)\n",
    "\n",
    "# 我写的\n",
    "# df_imu_anavs = pd.read_csv(imu_anavs)\n",
    "# df_navsat_anvas = pd.read_csv(navsat_anavs)"
   ]
  },
  {
   "cell_type": "markdown",
   "id": "344c72f5-6a71-4721-8513-68955fe9707e",
   "metadata": {},
   "source": [
    "Die Zeitdaten von `header.stamp.secs` sollen verschoben werden, sodass sie ab 0 Sekunden beginnen."
   ]
  },
  {
   "cell_type": "code",
   "execution_count": 3,
   "id": "d44ad4a7-faff-4eea-b567-eacb33c299cd",
   "metadata": {},
   "outputs": [],
   "source": [
    "df_map_path['header.stamp.secs'] = df_map_path['header.stamp.secs'] - df_map_path['header.stamp.secs'].iloc[0]\n",
    "df_imu['header.stamp.secs'] = df_imu['header.stamp.secs'] - df_imu['header.stamp.secs'].iloc[0]"
   ]
  },
  {
   "cell_type": "markdown",
   "id": "8eaae507-2794-4f14-af43-3ff6fab47684",
   "metadata": {},
   "source": [
    "Die Anzeigeformatierung für DataFrame einstellen"
   ]
  },
  {
   "cell_type": "code",
   "execution_count": 4,
   "id": "e7228a6e-78be-48c4-ab4a-61a4bd8d64e5",
   "metadata": {},
   "outputs": [],
   "source": [
    "pd.set_option('display.max_rows', None)\n",
    "pd.set_option('display.max_columns', None)\n",
    "# pd.set_option('display.max_colwidth', None)\n",
    "pd.set_option('display.max_colwidth', 20)"
   ]
  },
  {
   "cell_type": "markdown",
   "id": "2326b391-d32d-4b3e-9c1d-fe8d1a386ebb",
   "metadata": {},
   "source": [
    "Eine neue Spalte `secs.nsecs` zwischen `header.stamp.secs` und `header.stamp.nsecs` einfügen, sodass der Zeitstempel in Sekunden mit Dezimalstellen dargestellt wird."
   ]
  },
  {
   "cell_type": "code",
   "execution_count": 5,
   "id": "d57e885a-1ed0-482b-a91e-b3aeb8a15204",
   "metadata": {},
   "outputs": [],
   "source": [
    "# 计算新列\n",
    "df_imu['secs.nsecs'] = df_imu['header.stamp.secs'] + df_imu['header.stamp.nsecs'] * 1e-9\n",
    "df_imu['secs.nsecs'] = df_imu['secs.nsecs'].round(9)\n",
    "# 调整列的位置，将 'secs.nsecs' 放到 'header.stamp.nsecs' 后面\n",
    "columns = df_imu.columns.tolist()\n",
    "index = columns.index('header.stamp.nsecs') + 1  # 获取目标列的索引并加1\n",
    "columns.insert(index, columns.pop(columns.index('secs.nsecs')))  # 移动 secs.nsecs 列\n",
    "\n",
    "# 重新排列列顺序\n",
    "df_imu = df_imu[columns]"
   ]
  },
  {
   "cell_type": "code",
   "execution_count": 6,
   "id": "beda8c9e-5213-412d-a9b1-6f36db60c274",
   "metadata": {},
   "outputs": [],
   "source": [
    "# 计算新列\n",
    "df_map_path['secs.nsecs'] = df_map_path['header.stamp.secs'] + df_map_path['header.stamp.nsecs'] * 1e-9\n",
    "df_map_path['secs.nsecs'] = df_map_path['secs.nsecs'].round(9)\n",
    "# 调整列的位置，将 'secs.nsecs' 放到 'header.stamp.nsecs' 后面\n",
    "columns = df_map_path.columns.tolist()\n",
    "index = columns.index('header.stamp.nsecs') + 1  # 获取目标列的索引并加1\n",
    "columns.insert(index, columns.pop(columns.index('secs.nsecs')))  # 移动 secs.nsecs 列\n",
    "\n",
    "# 重新排列列顺序\n",
    "df_map_path = df_map_path[columns]"
   ]
  },
  {
   "cell_type": "markdown",
   "id": "4c0d2831-2ee0-45e5-9e8e-16d3882f539a",
   "metadata": {},
   "source": [
    "## System Design"
   ]
  },
  {
   "cell_type": "markdown",
   "id": "0a120719-07f2-4042-ba69-1585b7a45385",
   "metadata": {},
   "source": [
    "### Zustand des Modells\n",
    "Das CTRV-Modell (*Constant Turn Rate and Velocity*) ist ein gängiges Fahrzeugbewegungsmodell, das verwendet wird, um die Bewegung eines Fahrzeugs in Szenarien mit gleichmäßiger Kurvenfahrt zu beschreiben. Es wird angenommen, dass die Kurvendrehgeschwindigkeit (Winkelgeschwindigkeit \\( \\omega \\)) konstant bleibt und die Beschleunigung vernachlässigt wird.\n",
    "Der Zustandsvektor wird normalerweise definiert als:\n",
    "\n",
    "$$\n",
    "\\mathbf{x} =\n",
    "\\begin{bmatrix}\n",
    "x & y & \\theta & v & \\omega\n",
    "\\end{bmatrix}^\\mathsf{T}\n",
    "$$\n",
    "\n",
    "- $x, y$: Position des Fahrzeugs im globalen Koordinatensystem\n",
    "- $\\theta$: Orientierung (Fahrtrichtung)\n",
    "- $v$: Geschwindigkeit\n",
    "- $\\omega$: Winkelgeschwindigkeit/yaw rate\n",
    "\n",
    "## Zustandsübergangsgleichung\n",
    "\n",
    "Unter der Annahme eines diskreten Zeitintervalls (\\(\\Delta t\\)) kann der Zustandsübergang wie folgt beschrieben werden:\n",
    "\n",
    "$$\n",
    "\\mathbf{x}_{k+1} = \n",
    "\\begin{bmatrix}\n",
    "x_k + \\frac{v_k}{\\omega_k} [\\sin(\\theta_k + \\omega_k \\Delta t) - \\sin(\\theta_k)] \\\\\n",
    "y_k + \\frac{v_k}{\\omega_k} [\\cos(\\theta_k) - \\cos(\\theta_k + \\omega_k \\Delta t)] \\\\\n",
    "\\theta_k + \\omega_k \\Delta t \\\\\n",
    "v_k \\\\\n",
    "\\omega_k\n",
    "\\end{bmatrix}\n",
    "$$\n",
    "\n",
    "Falls $\\omega$ = 0, wird die Gleichung für eine gerade Bewegung vereinfacht:\n",
    "\n",
    "$$\n",
    "\\mathbf{x}_{k+1} = \n",
    "\\begin{bmatrix}\n",
    "x_k + v_k \\cos(\\theta_k) \\Delta t \\\\\n",
    "y_k + v_k \\sin(\\theta_k) \\Delta t \\\\\n",
    "\\theta_k \\\\\n",
    "v_k \\\\\n",
    "\\omega_k\n",
    "\\end{bmatrix}\n",
    "$$\n"
   ]
  },
  {
   "cell_type": "markdown",
   "id": "be763168-a725-472e-9b1a-c422eb0b7b9d",
   "metadata": {},
   "source": [
    "#### Die für die Zustansmatrix (X) erforderlichen Daten aus den Sensordaten extrahieren."
   ]
  },
  {
   "cell_type": "code",
   "execution_count": 7,
   "id": "b7ddb579-6cb0-4038-8e14-16186b125516",
   "metadata": {},
   "outputs": [],
   "source": [
    "# z, cov_z = func_z(k, dt_step)   \n",
    "\n",
    "def func_z(k, dt_step):\n",
    "    t = k * dt_step\n",
    "\n",
    "    # 从 df_map_path['secs.nsecs'] 中找到与 t 值最接近的值的 index\n",
    "    idx1                   = (df_map_path['secs.nsecs'] - t).abs().idxmin()\n",
    "    \n",
    "    # 获取该 index 对应的测量值\n",
    "    x                      = df_map_path.loc[idx1, 'pose.pose.position.x']\n",
    "    y                      = df_map_path.loc[idx1, 'pose.pose.position.y']\n",
    "    theta                  = df_map_path.loc[idx1, 'pose.pose.orientation.z']\n",
    "    v                      = df_map_path.loc[idx1, 'twist.twist.linear.x']\n",
    "\n",
    "    # 获取该 index 对应的测量值的协方差\n",
    "    cov_pose_str           = df_map_path.loc[idx1, 'pose.covariance']\n",
    "    cov_pose_parsed_matrix = ast.literal_eval(cov_pose_str)\n",
    "    cov_pose_matrix        = np.array(cov_pose_parsed_matrix).reshape(6, 6)\n",
    "    cov_pose               = cov_pose_matrix[0:3, 0:3]  # cov_x, cov_y, cov_xy und cov_theta sind drinnen \n",
    "\n",
    "    cov_v_str              = df_map_path.loc[idx1, 'twist.covariance']\n",
    "    cov_v_parsed_matrix    = ast.literal_eval(cov_v_str)\n",
    "    cov_v                  = cov_v_parsed_matrix[0]\n",
    "\n",
    "    # 从 df_imu['secs.nsecs'] 中找到与 t 值最接近的 index\n",
    "    idx2                   = (df_imu['secs.nsecs'] - t).abs().idxmin()\n",
    "\n",
    "    # 获取该 index 对应的测量值及其协方差\n",
    "    omega                  = df_imu.loc[idx2, 'angular_velocity.z']\n",
    "    cov_omega              = df_imu.loc[idx2, 'angular_velocity_covariance_8']\n",
    "\n",
    "    # 构建测量矩阵 z 及其方差矩阵 cov_z\n",
    "    z                      = Matrix([x, y, theta, v, omega])\n",
    "    cov_z                  = np.zeros((5, 5))  # 创建5x5的零矩阵\n",
    "    cov_z[:3, :3]          = cov_pose\n",
    "    cov_z[3, 3]            = cov_v\n",
    "    cov_z[4, 4]            = cov_omega\n",
    "\n",
    "    return z, cov_z\n",
    "    \n",
    "# k = 10000\n",
    "# dt_step = 0.1\n",
    "# z, cov_z = func_z(k, dt_step)   "
   ]
  },
  {
   "cell_type": "code",
   "execution_count": 8,
   "id": "161b6841-2570-4050-8359-6c36a46f6d1d",
   "metadata": {},
   "outputs": [],
   "source": [
    "# Test\n",
    "# k = 10000\n",
    "# dt_step = 0.1\n",
    "# z, cov_z = func_z(k, dt_step)  \n",
    "# df_map_path.iloc[idx1]"
   ]
  },
  {
   "cell_type": "markdown",
   "id": "da03e952-4a43-4caf-b17e-e865f96bb9d2",
   "metadata": {},
   "source": [
    "### Prädiktion"
   ]
  },
  {
   "cell_type": "code",
   "execution_count": 9,
   "id": "174b075a-f66d-46c1-ab22-a835d87bed52",
   "metadata": {
    "scrolled": true
   },
   "outputs": [
    {
     "data": {
      "text/html": [
       "<div>\n",
       "<style scoped>\n",
       "    .dataframe tbody tr th:only-of-type {\n",
       "        vertical-align: middle;\n",
       "    }\n",
       "\n",
       "    .dataframe tbody tr th {\n",
       "        vertical-align: top;\n",
       "    }\n",
       "\n",
       "    .dataframe thead th {\n",
       "        text-align: right;\n",
       "    }\n",
       "</style>\n",
       "<table border=\"1\" class=\"dataframe\">\n",
       "  <thead>\n",
       "    <tr style=\"text-align: right;\">\n",
       "      <th></th>\n",
       "      <th>Time</th>\n",
       "      <th>header.seq</th>\n",
       "      <th>header.stamp.secs</th>\n",
       "      <th>header.stamp.nsecs</th>\n",
       "      <th>secs.nsecs</th>\n",
       "      <th>header.frame_id</th>\n",
       "      <th>child_frame_id</th>\n",
       "      <th>pose.pose.position.x</th>\n",
       "      <th>pose.pose.position.y</th>\n",
       "      <th>pose.pose.position.z</th>\n",
       "      <th>pose.pose.orientation.x</th>\n",
       "      <th>pose.pose.orientation.y</th>\n",
       "      <th>pose.pose.orientation.z</th>\n",
       "      <th>pose.pose.orientation.w</th>\n",
       "      <th>pose.covariance</th>\n",
       "      <th>twist.twist.linear.x</th>\n",
       "      <th>twist.twist.linear.y</th>\n",
       "      <th>twist.twist.linear.z</th>\n",
       "      <th>twist.twist.angular.x</th>\n",
       "      <th>twist.twist.angular.y</th>\n",
       "      <th>twist.twist.angular.z</th>\n",
       "      <th>twist.covariance</th>\n",
       "    </tr>\n",
       "  </thead>\n",
       "  <tbody>\n",
       "    <tr>\n",
       "      <th>0</th>\n",
       "      <td>1.698840e+09</td>\n",
       "      <td>0</td>\n",
       "      <td>0</td>\n",
       "      <td>546918154</td>\n",
       "      <td>0.546918</td>\n",
       "      <td>map</td>\n",
       "      <td>base_link</td>\n",
       "      <td>0.00000</td>\n",
       "      <td>0.000000</td>\n",
       "      <td>0.0</td>\n",
       "      <td>0.0</td>\n",
       "      <td>0.0</td>\n",
       "      <td>0.000000</td>\n",
       "      <td>1.0</td>\n",
       "      <td>(100.0, 0.0, 0.0...</td>\n",
       "      <td>0.00000</td>\n",
       "      <td>0.000000</td>\n",
       "      <td>0.0</td>\n",
       "      <td>0.0</td>\n",
       "      <td>0.0</td>\n",
       "      <td>0.000000</td>\n",
       "      <td>(1.0, 0.0, 0.0, ...</td>\n",
       "    </tr>\n",
       "    <tr>\n",
       "      <th>1</th>\n",
       "      <td>1.698840e+09</td>\n",
       "      <td>1</td>\n",
       "      <td>0</td>\n",
       "      <td>546918154</td>\n",
       "      <td>0.546918</td>\n",
       "      <td>map</td>\n",
       "      <td>base_link</td>\n",
       "      <td>0.00000</td>\n",
       "      <td>0.000000</td>\n",
       "      <td>0.0</td>\n",
       "      <td>0.0</td>\n",
       "      <td>0.0</td>\n",
       "      <td>0.000000</td>\n",
       "      <td>1.0</td>\n",
       "      <td>(100.0, 0.0, 0.0...</td>\n",
       "      <td>0.00000</td>\n",
       "      <td>0.000000</td>\n",
       "      <td>0.0</td>\n",
       "      <td>0.0</td>\n",
       "      <td>0.0</td>\n",
       "      <td>0.000000</td>\n",
       "      <td>(1.0, 0.0, 0.0, ...</td>\n",
       "    </tr>\n",
       "    <tr>\n",
       "      <th>2</th>\n",
       "      <td>1.698840e+09</td>\n",
       "      <td>2</td>\n",
       "      <td>0</td>\n",
       "      <td>546918154</td>\n",
       "      <td>0.546918</td>\n",
       "      <td>map</td>\n",
       "      <td>base_link</td>\n",
       "      <td>0.00000</td>\n",
       "      <td>0.000000</td>\n",
       "      <td>0.0</td>\n",
       "      <td>0.0</td>\n",
       "      <td>0.0</td>\n",
       "      <td>0.000000</td>\n",
       "      <td>1.0</td>\n",
       "      <td>(100.0, 0.0, 0.0...</td>\n",
       "      <td>0.00000</td>\n",
       "      <td>0.000000</td>\n",
       "      <td>0.0</td>\n",
       "      <td>0.0</td>\n",
       "      <td>0.0</td>\n",
       "      <td>0.000000</td>\n",
       "      <td>(1.0, 0.0, 0.0, ...</td>\n",
       "    </tr>\n",
       "    <tr>\n",
       "      <th>3</th>\n",
       "      <td>1.698840e+09</td>\n",
       "      <td>3</td>\n",
       "      <td>0</td>\n",
       "      <td>546918154</td>\n",
       "      <td>0.546918</td>\n",
       "      <td>map</td>\n",
       "      <td>base_link</td>\n",
       "      <td>0.00000</td>\n",
       "      <td>0.000000</td>\n",
       "      <td>0.0</td>\n",
       "      <td>0.0</td>\n",
       "      <td>0.0</td>\n",
       "      <td>0.000000</td>\n",
       "      <td>1.0</td>\n",
       "      <td>(100.0, 0.0, 0.0...</td>\n",
       "      <td>0.00000</td>\n",
       "      <td>0.000000</td>\n",
       "      <td>0.0</td>\n",
       "      <td>0.0</td>\n",
       "      <td>0.0</td>\n",
       "      <td>0.000000</td>\n",
       "      <td>(1.0, 0.0, 0.0, ...</td>\n",
       "    </tr>\n",
       "    <tr>\n",
       "      <th>4</th>\n",
       "      <td>1.698840e+09</td>\n",
       "      <td>4</td>\n",
       "      <td>0</td>\n",
       "      <td>587237358</td>\n",
       "      <td>0.587237</td>\n",
       "      <td>map</td>\n",
       "      <td>base_link</td>\n",
       "      <td>-0.00018</td>\n",
       "      <td>-0.000176</td>\n",
       "      <td>0.0</td>\n",
       "      <td>0.0</td>\n",
       "      <td>0.0</td>\n",
       "      <td>-0.000001</td>\n",
       "      <td>1.0</td>\n",
       "      <td>(100.03322610457...</td>\n",
       "      <td>-0.00894</td>\n",
       "      <td>-0.008754</td>\n",
       "      <td>0.0</td>\n",
       "      <td>0.0</td>\n",
       "      <td>0.0</td>\n",
       "      <td>-0.000548</td>\n",
       "      <td>(1.0020168124154...</td>\n",
       "    </tr>\n",
       "  </tbody>\n",
       "</table>\n",
       "</div>"
      ],
      "text/plain": [
       "           Time  header.seq  header.stamp.secs  header.stamp.nsecs  \\\n",
       "0  1.698840e+09           0                  0           546918154   \n",
       "1  1.698840e+09           1                  0           546918154   \n",
       "2  1.698840e+09           2                  0           546918154   \n",
       "3  1.698840e+09           3                  0           546918154   \n",
       "4  1.698840e+09           4                  0           587237358   \n",
       "\n",
       "   secs.nsecs header.frame_id child_frame_id  pose.pose.position.x  \\\n",
       "0    0.546918             map      base_link              0.00000    \n",
       "1    0.546918             map      base_link              0.00000    \n",
       "2    0.546918             map      base_link              0.00000    \n",
       "3    0.546918             map      base_link              0.00000    \n",
       "4    0.587237             map      base_link             -0.00018    \n",
       "\n",
       "   pose.pose.position.y  pose.pose.position.z  pose.pose.orientation.x  \\\n",
       "0             0.000000                   0.0                   0.0       \n",
       "1             0.000000                   0.0                   0.0       \n",
       "2             0.000000                   0.0                   0.0       \n",
       "3             0.000000                   0.0                   0.0       \n",
       "4            -0.000176                   0.0                   0.0       \n",
       "\n",
       "   pose.pose.orientation.y  pose.pose.orientation.z  pose.pose.orientation.w  \\\n",
       "0                  0.0                 0.000000                      1.0       \n",
       "1                  0.0                 0.000000                      1.0       \n",
       "2                  0.0                 0.000000                      1.0       \n",
       "3                  0.0                 0.000000                      1.0       \n",
       "4                  0.0                -0.000001                      1.0       \n",
       "\n",
       "       pose.covariance  twist.twist.linear.x  twist.twist.linear.y  \\\n",
       "0  (100.0, 0.0, 0.0...              0.00000              0.000000    \n",
       "1  (100.0, 0.0, 0.0...              0.00000              0.000000    \n",
       "2  (100.0, 0.0, 0.0...              0.00000              0.000000    \n",
       "3  (100.0, 0.0, 0.0...              0.00000              0.000000    \n",
       "4  (100.03322610457...             -0.00894             -0.008754    \n",
       "\n",
       "   twist.twist.linear.z  twist.twist.angular.x  twist.twist.angular.y  \\\n",
       "0                  0.0                   0.0                    0.0     \n",
       "1                  0.0                   0.0                    0.0     \n",
       "2                  0.0                   0.0                    0.0     \n",
       "3                  0.0                   0.0                    0.0     \n",
       "4                  0.0                   0.0                    0.0     \n",
       "\n",
       "   twist.twist.angular.z     twist.covariance  \n",
       "0             0.000000    (1.0, 0.0, 0.0, ...  \n",
       "1             0.000000    (1.0, 0.0, 0.0, ...  \n",
       "2             0.000000    (1.0, 0.0, 0.0, ...  \n",
       "3             0.000000    (1.0, 0.0, 0.0, ...  \n",
       "4            -0.000548    (1.0020168124154...  "
      ]
     },
     "execution_count": 9,
     "metadata": {},
     "output_type": "execute_result"
    }
   ],
   "source": [
    "df_map_path.head()"
   ]
  },
  {
   "cell_type": "markdown",
   "id": "cd0bea9f-2243-4775-8ba9-878675551a1e",
   "metadata": {},
   "source": [
    "### Definition von Φₛ\n",
    "\n",
    "Φₛ ist die Intensität des Sensorsrauschens pro Zeiteinheit, also die Leistungsdichtespektrum. Es spiegelt die statistischen Eigenschaften des Rauschens wider und hängt mit dem Abtastprozess des Sensors zusammen, nicht jedoch mit der Aktualisierungsrate des Filters.\n",
    "\n",
    "Formel:\n",
    "$$\n",
    "\\Phi_s = \\frac{\\sigma^2}{\\Delta t_s}\n",
    "$$\n",
    "\n",
    "Wobei:\n",
    "- **σ²**: Die Varianz der gemessenen Sensordaten.\n",
    "- **Δtₛ**: Der Abtastintervall des Sensors.\n",
    "\n",
    "Daher ist es bei der Berechnung von **Φₛ** notwendig, das Abtastintervall des Sensors **Δtₛ** zu verwenden.\n"
   ]
  },
  {
   "cell_type": "code",
   "execution_count": 10,
   "id": "123980c6-79d7-4b32-a717-feb7576fc1d1",
   "metadata": {},
   "outputs": [
    {
     "name": "stdout",
     "output_type": "stream",
     "text": [
      "Varianz_v: 65.16800351698002\n",
      "Phi_v: 6516.8003516980025\n"
     ]
    },
    {
     "data": {
      "text/plain": [
       "np.float64(6516.8003516980025)"
      ]
     },
     "execution_count": 10,
     "metadata": {},
     "output_type": "execute_result"
    }
   ],
   "source": [
    "# PSD = power spectral density\n",
    "def PSD_v():\n",
    "    Varianz_v = np.var(df_map_path[\"twist.twist.linear.x\"]*3.6)\n",
    "    f_v = 100  # Hz\n",
    "    Phi_v =  Varianz_v / (1 / f_v)\n",
    "    print(\"Varianz_v:\", Varianz_v)\n",
    "    print(\"Phi_v:\",Phi_v)    \n",
    "    return Phi_v\n",
    "\n",
    "# Der mit dieser Methode berechnete Phi_v ist zu groß.\n",
    "PSD_v() "
   ]
  },
  {
   "cell_type": "code",
   "execution_count": 11,
   "id": "6a5a95b7-ddbc-427e-b715-ddf372c697fd",
   "metadata": {},
   "outputs": [
    {
     "name": "stdout",
     "output_type": "stream",
     "text": [
      "Varianz_omega: 0.005455751571189727\n",
      "Phi_omega: 0.2727875785594863\n"
     ]
    },
    {
     "data": {
      "text/plain": [
       "np.float64(0.2727875785594863)"
      ]
     },
     "execution_count": 11,
     "metadata": {},
     "output_type": "execute_result"
    }
   ],
   "source": [
    "# PSD = power spectral density\n",
    "def PSD_omega():\n",
    "    Varianz_omega = np.var(df_imu[\"angular_velocity.z\"])\n",
    "    f_omega = 50  # Hz\n",
    "    Phi_omega =  Varianz_omega / (1 / f_omega)\n",
    "    print(\"Varianz_omega:\", Varianz_omega)\n",
    "    print(\"Phi_omega:\",Phi_omega)    \n",
    "    return Phi_omega\n",
    "\n",
    "# Der mit dieser Methode berechnete Phi_omega ist zu groß.\n",
    "PSD_omega() "
   ]
  },
  {
   "cell_type": "code",
   "execution_count": 12,
   "id": "642088d2-69a8-44a0-9c86-040882e6b63f",
   "metadata": {},
   "outputs": [],
   "source": [
    "# v = df_map_path[\"twist.twist.linear.x\"] * 3.6\n",
    "# v_max = v.abs().max()\n",
    "# v_max"
   ]
  },
  {
   "cell_type": "markdown",
   "id": "9d93f86f-1c84-411d-afde-36383859cc80",
   "metadata": {},
   "source": [
    "Prozessgeräusch Q"
   ]
  },
  {
   "cell_type": "code",
   "execution_count": 13,
   "id": "c2c0f6cb-82ef-4448-bae6-cfcaf4eee526",
   "metadata": {},
   "outputs": [],
   "source": [
    "def Q_evaluated(X, dt, Phi): \n",
    "    x, y, theta, v, omega, time = symbols('x y theta v omega T')\n",
    "    Phi_v, Phi_omega            = symbols('Phi_v Phi_omega')\n",
    "    t                           = symbols('t')\n",
    "    Zustandsmatrix              = Matrix([x, y, theta, v, omega])  # Zustandsmatrix\n",
    "    \n",
    "    subs_Q = {x:         float(X[0, 0]), \n",
    "              y:         float(X[1, 0]), \n",
    "              theta:     float(X[2, 0]), \n",
    "              v:         float(X[3, 0]), \n",
    "              omega:     float(X[4, 0]), \n",
    "              time:      float(dt),\n",
    "              Phi_v:     float(Phi[0]),\n",
    "              Phi_omega: float(Phi[1])}\n",
    "    \n",
    "    if subs_Q[omega] != 0:\n",
    "        f_xu = Matrix(\n",
    "            [x + v/omega * (sin(theta + omega*time) - sin(theta)), \n",
    "             y + v/omega * (cos(theta) - cos(theta + omega*time)),  \n",
    "             theta + omega*time,\n",
    "             v,\n",
    "             omega])\n",
    "    else:\n",
    "        f_xu = Matrix(\n",
    "            [x + v * time * cos(theta),\n",
    "             y + v * time * sin(theta),\n",
    "             theta,\n",
    "             v,\n",
    "             omega])\n",
    "        \n",
    "    F = f_xu.jacobian(Zustandsmatrix) \n",
    "    Qc  = Matrix([[0, 0, 0, 0, 0],\n",
    "                  [0, 0, 0, 0, 0],\n",
    "                  [0, 0, 0, 0, 0],\n",
    "                  [0, 0, 0, Phi_v, 0],\n",
    "                  [0, 0, 0, 0, Phi_omega]])\n",
    "    Q   = sp.integrate(F * Qc * F.T, (t, 0, time))\n",
    "    \n",
    "    Q_evaluated = np.array(Q.subs(subs_Q)).astype(float)\n",
    "    return Q_evaluated"
   ]
  },
  {
   "cell_type": "code",
   "execution_count": 14,
   "id": "7a3cdebc-ee28-4e70-ae68-15b0c7d97c58",
   "metadata": {},
   "outputs": [
    {
     "name": "stdout",
     "output_type": "stream",
     "text": [
      "Varianz_v: 65.16800351698002\n",
      "Phi_v: 6516.8003516980025\n",
      "Varianz_omega: 0.005455751571189727\n",
      "Phi_omega: 0.2727875785594863\n"
     ]
    },
    {
     "data": {
      "text/plain": [
       "array([[ 4.76837795e+00,  2.88740083e+00, -4.34564380e-05,\n",
       "         5.57445262e+01, -4.34564380e-04],\n",
       "       [ 2.88740083e+00,  1.74844612e+00,  7.18187124e-05,\n",
       "         3.37552234e+01,  7.18187124e-04],\n",
       "       [-4.34564380e-05,  7.18187124e-05,  2.72787579e-04,\n",
       "         0.00000000e+00,  2.72787579e-03],\n",
       "       [ 5.57445262e+01,  3.37552234e+01,  0.00000000e+00,\n",
       "         6.51680035e+02,  0.00000000e+00],\n",
       "       [-4.34564380e-04,  7.18187124e-04,  2.72787579e-03,\n",
       "         0.00000000e+00,  2.72787579e-02]])"
      ]
     },
     "execution_count": 14,
     "metadata": {},
     "output_type": "execute_result"
    }
   ],
   "source": [
    "# Test für Q_evaluated\n",
    "k = 1200\n",
    "dt_step = 0.1\n",
    "z, cov_z = func_z(k, dt_step)\n",
    "Phi_v = PSD_v()\n",
    "Phi_omega = PSD_omega()\n",
    "Phi = np.array([Phi_v, Phi_omega])  # Phi_v, Phi_omega\n",
    "Q_evaluated(X=z, dt=dt_step, Phi=Phi)"
   ]
  },
  {
   "cell_type": "code",
   "execution_count": 15,
   "id": "782dfa09-ed69-4a97-8ae1-129b7a9e52c4",
   "metadata": {},
   "outputs": [],
   "source": [
    "from sympy import symbols, Matrix, sin, cos, init_printing\n",
    "from numpy import array\n",
    "# x, y, theta, v, omega, time = symbols('x y theta v omega t')\n",
    "\n",
    "# Jacobian Matrix berechnen\n",
    "def F_J_evaluated(X, dt): \n",
    "    x, y, theta, v, omega, time = symbols('x y theta v omega t')\n",
    "    subs_FJ = {x:     float(X[0, 0]), \n",
    "               y:     float(X[1, 0]), \n",
    "               theta: float(X[2, 0]), \n",
    "               v:     float(X[3, 0]), \n",
    "               omega: float(X[4, 0]), \n",
    "               time:  float(dt)}\n",
    "    if subs_FJ[omega] != 0:\n",
    "        f_xu = Matrix(\n",
    "            [x + v/omega * (sin(theta + omega*time) - sin(theta)), \n",
    "             y + v/omega * (cos(theta) - cos(theta + omega*time)),  \n",
    "             theta + omega*time,\n",
    "             v,\n",
    "             omega])\n",
    "    else:\n",
    "        f_xu = Matrix(\n",
    "            [x + v * time * cos(theta),\n",
    "             y + v * time * sin(theta),\n",
    "             theta,\n",
    "             v,\n",
    "             omega])\n",
    "    F_J = f_xu.jacobian(Matrix([x, y, theta, v, omega])) \n",
    "    F_J_evaluated = array(F_J.subs(subs_FJ)).astype(float)\n",
    "    return F_J_evaluated\n",
    "\n",
    "def driving(X, dt):\n",
    "    heading_angle = X[2, 0]\n",
    "    velocity      = X[3, 0]\n",
    "    yaw_rate      = X[4, 0]\n",
    "    \n",
    "    if yaw_rate != 0:\n",
    "        radius        = velocity/yaw_rate  # R = v / ω\n",
    "        beta          = yaw_rate * dt\n",
    "        dX = np.array([\n",
    "            [radius * (sin(heading_angle + beta) - sin(heading_angle))],\n",
    "            [radius * (cos(heading_angle) - cos(heading_angle + beta))],\n",
    "            [beta],\n",
    "            [0],\n",
    "            [0]\n",
    "        ])\n",
    "    else:\n",
    "        dX = np.array([\n",
    "            [velocity * dt * cos(heading_angle)],\n",
    "            [velocity * dt * sin(heading_angle)],\n",
    "            [0],\n",
    "            [0],\n",
    "            [0]\n",
    "        ])\n",
    "\n",
    "    return X + dX\n",
    "\n",
    "def predict(X, P, dt):\n",
    "    predict_X = driving(X=X, dt=dt)\n",
    "    F = F_J_evaluated(X, dt)\n",
    "    Q = Q_evaluated(X=X, dt=dt_step, Phi=np.array([1, 1]))\n",
    "    predict_P = F @ P @ F.T  # 这里还需要构建一个噪声矩阵 Q\n",
    "    return predict_X, predict_P\n"
   ]
  },
  {
   "cell_type": "markdown",
   "id": "07577b97-c63b-44dc-ba6f-27b5b9a61913",
   "metadata": {},
   "source": [
    "#### Test"
   ]
  },
  {
   "cell_type": "code",
   "execution_count": 16,
   "id": "cf5dc7bb-43a4-4e12-b303-f96d2dc3e7c3",
   "metadata": {},
   "outputs": [
    {
     "data": {
      "text/latex": [
       "$\\displaystyle \\left[\\begin{matrix}-718.647972479729\\\\902.570625345792\\\\-0.045517796070872\\\\7.66078025784201\\\\0.0050614548307835\\end{matrix}\\right]$"
      ],
      "text/plain": [
       "Matrix([\n",
       "[ -718.647972479729],\n",
       "[  902.570625345792],\n",
       "[-0.045517796070872],\n",
       "[  7.66078025784201],\n",
       "[0.0050614548307835]])"
      ]
     },
     "execution_count": 16,
     "metadata": {},
     "output_type": "execute_result"
    }
   ],
   "source": [
    "# Test\n",
    "k = 10000\n",
    "dt_step = 0.1\n",
    "z, cov_z = func_z(k, dt_step) \n",
    "predict_X, predict_P = predict(X=z, P=cov_z, dt = dt_step)\n",
    "predict_X"
   ]
  },
  {
   "cell_type": "markdown",
   "id": "9b90521c-6190-438b-a469-07d3ff3131c5",
   "metadata": {},
   "source": [
    "### Update"
   ]
  },
  {
   "cell_type": "markdown",
   "id": "36dddd06-de80-4c67-a929-d56f178188b7",
   "metadata": {},
   "source": [
    "1. Wenn Sensoren *v* und *ω* direkt messen können, wird empfohlen, den Messwertvektor *z* auf \n",
    "   \\\\([x, y, \\theta, v, \\omega]^T\\\\) zu erweitern und gleichzeitig die Beobachtungsmatrix *H* in eine \n",
    "   \\\\(5 \\times 5\\\\)-Einheitsmatrix zu ändern.\n",
    "\n",
    "2. Wenn die Sensoren *v* und *ω* nicht genau messen können oder die Messwerte stark verrauscht sind, \n",
    "   kann die ursprüngliche \\\\(3 \\times 5\\\\)-Beobachtungsmatrix beibehalten werden. \n",
    "   In diesem Fall werden *v* und *ω* indirekt über die Kovarianzausbreitung aktualisiert."
   ]
  },
  {
   "cell_type": "code",
   "execution_count": 17,
   "id": "b3175c97-a03b-4c88-aee7-10f348f47e14",
   "metadata": {},
   "outputs": [
    {
     "data": {
      "text/latex": [
       "$\\displaystyle \\left[\\begin{matrix}1 & 0 & 0 & 0 & 0\\\\0 & 1 & 0 & 0 & 0\\\\0 & 0 & 1 & 0 & 0\\\\0 & 0 & 0 & 1 & 0\\\\0 & 0 & 0 & 0 & 1\\end{matrix}\\right]$"
      ],
      "text/plain": [
       "Matrix([\n",
       "[1, 0, 0, 0, 0],\n",
       "[0, 1, 0, 0, 0],\n",
       "[0, 0, 1, 0, 0],\n",
       "[0, 0, 0, 1, 0],\n",
       "[0, 0, 0, 0, 1]])"
      ]
     },
     "execution_count": 17,
     "metadata": {},
     "output_type": "execute_result"
    }
   ],
   "source": [
    "# H = Matrix([[1, 0, 0, 0, 0], \n",
    "#             [0, 1, 0, 0, 0],\n",
    "#             [0, 0, 1, 0, 0]])\n",
    "\n",
    "H = Matrix([[1, 0, 0, 0, 0], \n",
    "            [0, 1, 0, 0, 0],\n",
    "            [0, 0, 1, 0, 0], \n",
    "            [0, 0, 0, 1, 0],\n",
    "            [0, 0, 0, 0, 1]])\n",
    "H"
   ]
  },
  {
   "cell_type": "code",
   "execution_count": 18,
   "id": "3d62e4b5-9f24-4004-b529-4af30f4f98f0",
   "metadata": {},
   "outputs": [],
   "source": [
    "def h_x(X):\n",
    "    \"\"\"convert prediction to measurement\"\"\"\n",
    "    h_x = H @ X\n",
    "    return h_x\n",
    "    \n",
    "# Test\n",
    "# k = 10000\n",
    "# dt_step = 0.1\n",
    "# z, cov_z = func_z(k-1, dt_step) \n",
    "# predict_X, predict_P = predict(X=z, P=cov_z, dt = dt_step)\n",
    "# hx = h_x(predict_X)\n",
    "# z, cov_z = func_z(k, dt_step) \n",
    "# hx"
   ]
  },
  {
   "cell_type": "code",
   "execution_count": 19,
   "id": "5e456ec8-616b-4e7e-bebf-8a2f1affaa68",
   "metadata": {},
   "outputs": [],
   "source": [
    "# Roger R Labbe Jr. Kalman_and_Bayesian_Filters_in_Python.\n",
    "def residual(z, hx):\n",
    "    \"\"\" compute residual (a-b) between measurements containing \n",
    "    [x, y, theta, v, omega]. theta is normalized to [-pi, pi)\"\"\"\n",
    "    y = z - hx\n",
    "    y[2] = y[2] % (2 * np.pi)    # force in range [0, 2*pi)\n",
    "    if y[2] > np.pi:             # move to [-pi, pi)\n",
    "        y[2] -= 2 * np.pi\n",
    "    return y\n",
    "# y = residual(z, hx)\n",
    "# y"
   ]
  },
  {
   "cell_type": "code",
   "execution_count": 20,
   "id": "0d6e3642-6598-4730-9cdf-c6eac0073e65",
   "metadata": {},
   "outputs": [],
   "source": [
    "# 这个函数可以不要了，因为 cov_z 就是 R\n",
    "# Measurement Noise Matrix\n",
    "# def R_matrix(k, dt_step):\n",
    "#     z, cov_z          = func_z(k, dt_step)                    # func_z用来获取测量值和每次更新阶段时刻k所需的最新状态矩阵 X 的噪声协方差\n",
    "#     cov_x             = cov_z[0]\n",
    "#     cov_y             = cov_z[1]\n",
    "#     cov_xy            = cov_z[2]\n",
    "#     cov_theta         = cov_z[3]\n",
    "#     \n",
    "#     # Measurement Noise Matrix，在不重新定义整个 EKF 实例 的情况下，动态更新测量噪声协方差矩阵 R。直接在循环中动态修改 ekf.R 即可，而无需重新实例化扩展卡尔曼滤波器。这种方式既高效又灵活。\n",
    "#     diagonal_elements = [cov_x, cov_y, cov_theta]             # 对角元素\n",
    "#     R                 = np.diag(diagonal_elements)\n",
    "#     R[0, 1]           = cov_xy\n",
    "#     R[1, 0]           = cov_xy\n",
    "#     return R"
   ]
  },
  {
   "cell_type": "code",
   "execution_count": 21,
   "id": "4b3c6dba-78d3-44bf-9680-a20f5fcabf69",
   "metadata": {},
   "outputs": [],
   "source": [
    "def update(X, P, k, dt_step):\n",
    "    X_p      = X\n",
    "    P_p      = P\n",
    "    \n",
    "    # calculate residual y\n",
    "    z, cov_z = func_z(k, dt_step)\n",
    "    hx       = h_x(X_p)\n",
    "    y        = residual(z, hx)\n",
    "\n",
    "    # Kalman Gain Matrix\n",
    "    R        = cov_z\n",
    "    S        = H @ P_p @ H.T + R  # 残差协方差\n",
    "    K        = P_p @ H.T @ S.inv()  # 卡尔曼增益矩阵\n",
    "\n",
    "    X_update = X_p + K @ y\n",
    "    I        = np.eye(5)  # 后期这个 5 可以设置为一个名为 dim 的变量，就不用单独来到这里修改了  \n",
    "    P_update = (I - K @ H) @ P_p\n",
    "    \n",
    "    return X_update, P_update"
   ]
  },
  {
   "cell_type": "code",
   "execution_count": 22,
   "id": "dda15f01-fd0d-418b-8d47-ad37319752f0",
   "metadata": {},
   "outputs": [
    {
     "data": {
      "text/plain": [
       "'def update(X, P, k, dt_step):\\n    X_p      = X\\n    P_p      = P\\n    \\n    # calculate residual y\\n    z, cov_z = func_z(k, dt_step)\\n    hx       = h_x(X_p)\\n    y        = residual(z, hx)\\n\\n    # Kalman Gain Matrix\\n    R        = cov_z\\n    S        = H @ P_p @ H.T + R  # 残差协方差\\n    K        = P_p @ H.T @ S.inv()  # 卡尔曼增益矩阵\\n\\n    X_update = X_p + K @ y\\n    I        = np.eye(5)  # 后期这个 5 可以设置为一个名为 dim 的变量，就不用单独来到这里修改了  \\n    P_update = (I - K @ H) @ P_p\\n\\n    intermediate_vars = {\\n        \"X_p\": X_p,\\n        \"P_p\": P_p,\\n        \"z\": z,\\n        \"cov_z\": cov_z,\\n        \"hx\": hx,\\n        \"y\": y,\\n        \"R\": R,\\n        \"S\": S,\\n        \"K\": K,\\n        \"X_update\": X_update,\\n        \"I\": I,\\n        \"P_update\": P_update\\n    }\\n    intermediate_series = pd.Series(intermediate_vars)\\n    \\n    return X_update, P_update, intermediate_series'"
      ]
     },
     "execution_count": 22,
     "metadata": {},
     "output_type": "execute_result"
    }
   ],
   "source": [
    "\"\"\"def update(X, P, k, dt_step):\n",
    "    X_p      = X\n",
    "    P_p      = P\n",
    "    \n",
    "    # calculate residual y\n",
    "    z, cov_z = func_z(k, dt_step)\n",
    "    hx       = h_x(X_p)\n",
    "    y        = residual(z, hx)\n",
    "\n",
    "    # Kalman Gain Matrix\n",
    "    R        = cov_z\n",
    "    S        = H @ P_p @ H.T + R  # 残差协方差\n",
    "    K        = P_p @ H.T @ S.inv()  # 卡尔曼增益矩阵\n",
    "\n",
    "    X_update = X_p + K @ y\n",
    "    I        = np.eye(5)  # 后期这个 5 可以设置为一个名为 dim 的变量，就不用单独来到这里修改了  \n",
    "    P_update = (I - K @ H) @ P_p\n",
    "\n",
    "    intermediate_vars = {\n",
    "        \"X_p\": X_p,\n",
    "        \"P_p\": P_p,\n",
    "        \"z\": z,\n",
    "        \"cov_z\": cov_z,\n",
    "        \"hx\": hx,\n",
    "        \"y\": y,\n",
    "        \"R\": R,\n",
    "        \"S\": S,\n",
    "        \"K\": K,\n",
    "        \"X_update\": X_update,\n",
    "        \"I\": I,\n",
    "        \"P_update\": P_update\n",
    "    }\n",
    "    intermediate_series = pd.Series(intermediate_vars)\n",
    "    \n",
    "    return X_update, P_update, intermediate_series\"\"\""
   ]
  },
  {
   "cell_type": "code",
   "execution_count": 23,
   "id": "99437660-287b-4b1d-b094-452a2f707eaa",
   "metadata": {},
   "outputs": [],
   "source": [
    "# Test\n",
    "# k = 810\n",
    "# dt_step = 0.5\n",
    "# X, P = func_z(k-1, dt_step) \n",
    "# predict_X, predict_P = predict(X, P, dt=dt_step)\n",
    "# X_update, P_update, intermediate_series = update(X=predict_X, P=predict_P, k=k, dt_step=dt_step)\n",
    "# z, cov_z = func_z(k, dt_step)\n",
    "# intermediate_series[\"z\"]"
   ]
  },
  {
   "cell_type": "markdown",
   "id": "f535c7cd-f934-46a7-ae22-18f2e8258168",
   "metadata": {},
   "source": [
    "## run_CTRV_EKF"
   ]
  },
  {
   "cell_type": "code",
   "execution_count": 24,
   "id": "17bcf2be-c501-4ac5-a438-c2a48fb804b4",
   "metadata": {
    "editable": true,
    "slideshow": {
     "slide_type": ""
    },
    "tags": []
   },
   "outputs": [],
   "source": [
    "import os\n",
    "from filterpy.stats import plot_covariance_ellipse\n",
    "def run_CTRV_EKF(dt_step      = 0.5,             # secs, dt不可以直接指定固定值，而是要根据测量数据的时间戳进行决定，或者确定一个dt，截取传感器数据中与之时刻最接近的数据\n",
    "                 dt_track     = 0.1,\n",
    "                 sim_duration = 20,              # secs\n",
    "                 ylim         = None):\n",
    "    plt.clf()                                    # 清除上一次运行所绘图像\n",
    "    z_0, cov_z0  = func_z(k=0, dt_step=dt_step)\n",
    "    X            = z_0.copy()                    # X_0\n",
    "    P            = cov_z0.copy()                 # P_0, 之后也可以给P_0写一个函数，这里先这么着吧\n",
    "    # u, cov_u     = func_u(k=0, dt_step=dt_step)  # u_0, cov_u0\n",
    "    track        = []                            # 用于记录汽车的运行轨迹\n",
    "    k            = 0                             # timestep for prediction and update\n",
    "    sim_X        = z_0.copy()\n",
    "    step         = int(dt_step / dt_track)                            \n",
    "    ellipse_step = 10 * step\n",
    "    track_step   = int(sim_duration / dt_track)\n",
    "\n",
    "    # k_met = False                                # 第一次的Kovarianz太大，可以不画椭圆\n",
    "                                                 # 但是对于不含u的CTRV而言是否需要k_met还需斟酌\n",
    "    for i in range(track_step):\n",
    "            \n",
    "        # driving(X, u, dt)\n",
    "        sim_X = driving(sim_X, dt_track)                          # simulate the driving model of the car\n",
    "        track.append(sim_X)                                       # 这里并不多余，因为要绘制汽车运行的轨迹图，当 ω ≠ 0 时，两次更新点之间的轨迹并不是一条直线，所以需要适当的增加一些轨迹点使轨迹图看起来平滑\n",
    "\n",
    "        # 判断是否需要设置 k_met 为 True\n",
    "        # if not k_met and k <= 10:\n",
    "        #     k_met = True\n",
    "        \n",
    "        if i % step == 0:\n",
    "            k         = k + 1\n",
    "            # u, cov_u  = func_u(k, dt_step)                            # func_u是用来获取在每次更新阶段时刻k所需的最新控制矩阵 u，现在还每写，等ekf框架搭建完成后再设计  \n",
    "            # cov_v     = cov_u[0]\n",
    "            # cov_omega = cov_u[1]\n",
    "            X, P = predict(X, P, dt=dt_step)  # predict\n",
    "\n",
    "            if i % ellipse_step == 0:\n",
    "            # if i % ellipse_step == 0 and k >= 10:\n",
    "                plot_covariance_ellipse(\n",
    "                    (X[0,0], X[1,0]), P[0:5, 0:5], \n",
    "                    std=1, facecolor='k', alpha=0.3)                 # 设置predict阶段的协方差椭圆的颜色为黑色，透明度为 0.3（范围是 0 到 1）\n",
    "\n",
    "            X, P = update(X=X, P=P, k=k, dt_step=dt_step)  # update\n",
    "            P = np.array(P.tolist(), dtype=float)  # from \"type: <class 'sympy.matrices.dense.MutableDenseMatrix'>\" to \"type: <class 'numpy.ndarray'>\"\n",
    "            \n",
    "            if i % ellipse_step == 0:\n",
    "            # if i % ellipse_step == 0 and k >= 10:\n",
    "                plot_covariance_ellipse(\n",
    "                    (X[0,0], X[1,0]), P[0:5, 0:5], \n",
    "                     std=1, facecolor='g', alpha=0.8)\n",
    "                \n",
    "            # print(f'P_{k}:{P}:')  # 测试完成后删除\n",
    "            \n",
    "            sim_X = X\n",
    "            track.append(sim_X)    \n",
    "        if i == track_step - 1:  # testcode, should be deleted after testing\n",
    "            print(f'Pu_{k}:{P}:')\n",
    "        \n",
    "    track = np.array(track)  # 假设 track 是您的轨迹数据\n",
    "    plt.plot(track[:, 0], track[:, 1], color='k', lw=2)\n",
    "    plt.axis('equal')\n",
    "    plt.grid(True)\n",
    "\n",
    "    # 设置动态标题\n",
    "    title_text = f\"Klitten EKF\\nsim_duration = {sim_duration}, dt_step = {dt_step}, dt_track = {dt_track}\"\n",
    "    plt.title(title_text)\n",
    "    if ylim is not None:\n",
    "        plt.ylim(*ylim)\n",
    "\n",
    "    # 动态生成文件夹路径\n",
    "    save_dir = \"C:/Users/wq138/OneDrive - mailbox.tu-dresden.de/Diplomarbeit/sim_Ergebnisse/\"\n",
    "    os.makedirs(save_dir, exist_ok=True)\n",
    "\n",
    "    # 生成基础文件名\n",
    "    base_name = f\"Klitten_EKF_sim_duration={sim_duration}_dt_step={dt_step}_dt_track={dt_track}\"\n",
    "    file_extension = \".png\"\n",
    "\n",
    "    # 初始化计数器为 1\n",
    "    counter = 1\n",
    "    save_path = os.path.join(save_dir, f\"{base_name}({counter}){file_extension}\")\n",
    "\n",
    "    # 检查文件是否已存在，如果存在递增计数器\n",
    "    while os.path.exists(save_path):\n",
    "        counter += 1\n",
    "        save_path = os.path.join(save_dir, f\"{base_name}({counter}){file_extension}\")\n",
    "\n",
    "    # 保存图片\n",
    "    plt.savefig(save_path, dpi=300, bbox_inches='tight')\n",
    "    plt.show()\n",
    "    print(f\"Chart has been saved in: {save_path}\")\n",
    "\n",
    "    return \n",
    "# 图像大小还需要调整，貌似每次都会被上一次的数据覆盖\n"
   ]
  },
  {
   "cell_type": "code",
   "execution_count": 25,
   "id": "5ab50114-2fd3-464f-9b40-e67d9463aabc",
   "metadata": {},
   "outputs": [
    {
     "name": "stdout",
     "output_type": "stream",
     "text": [
      "Pu_1000:[[ 1.41614856e-05  4.22414424e-06 -1.37796728e-08 -4.45447164e-08\n",
      "  -5.17681351e-11]\n",
      " [ 4.22414424e-06  2.31699900e-05 -3.35977551e-08  1.82528805e-09\n",
      "  -1.37826554e-10]\n",
      " [-1.37796728e-08 -3.35977551e-08  1.06038575e-10  6.10766910e-11\n",
      "   5.67561025e-13]\n",
      " [-4.45447164e-08  1.82528805e-09  6.10766910e-11  2.13091932e-10\n",
      "   3.33797246e-13]\n",
      " [-5.17681351e-11 -1.37826554e-10  5.67561025e-13  3.33797246e-13\n",
      "   3.27699204e-15]]:\n"
     ]
    },
    {
     "data": {
      "application/vnd.jupyter.widget-view+json": {
       "model_id": "e1b26a34f7fd4dd49e7028363e90cec2",
       "version_major": 2,
       "version_minor": 0
      },
      "image/png": "[encoded data removed]",
      "text/html": [
       "\n",
       "            <div style=\"display: inline-block;\">\n",
       "                <div class=\"jupyter-widgets widget-label\" style=\"text-align: center;\">\n",
       "                    Figure\n",
       "                </div>\n",
       "                <img src='data:image/png;base64,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' width=640.0/>\n",
       "            </div>\n",
       "        "
      ],
      "text/plain": [
       "Canvas(toolbar=Toolbar(toolitems=[('Home', 'Reset original view', 'home', 'home'), ('Back', 'Back to previous …"
      ]
     },
     "metadata": {},
     "output_type": "display_data"
    },
    {
     "name": "stdout",
     "output_type": "stream",
     "text": [
      "Chart has been saved in: C:/Users/wq138/OneDrive - mailbox.tu-dresden.de/Diplomarbeit/sim_Ergebnisse/Klitten_EKF_sim_duration=500_dt_step=0.5_dt_track=0.05(8).png\n"
     ]
    }
   ],
   "source": [
    "run_CTRV_EKF(sim_duration = 500, dt_step = 0.5, dt_track = 0.05)"
   ]
  },
  {
   "cell_type": "markdown",
   "id": "4396dc51-ab42-494b-a023-930ff9400046",
   "metadata": {},
   "source": [
    "### Testcode"
   ]
  },
  {
   "cell_type": "markdown",
   "id": "d2c6026b-2a4c-466b-9bf6-259e59477fd5",
   "metadata": {},
   "source": [
    "# 4. Design Measurement Noise"
   ]
  },
  {
   "cell_type": "markdown",
   "id": "4d98a5d9-468a-491b-99a7-7efc10e04719",
   "metadata": {},
   "source": [
    "# 5. Implementation"
   ]
  },
  {
   "cell_type": "code",
   "execution_count": null,
   "id": "08a8655e-c8dc-4cf2-a94c-bca741cf28bc",
   "metadata": {},
   "outputs": [],
   "source": []
  },
  {
   "cell_type": "markdown",
   "id": "e83cbf1a-1173-4b8f-a7a0-e69cf27335f7",
   "metadata": {},
   "source": [
    "If the curve above is the process model, then the dotted lines shows the linearization of that curve for the estimate $x=1.5$.\n",
    "\n",
    "We linearize systems by taking the derivative, which finds the slope of a curve:\n",
    "\n",
    "$$\\begin{aligned}\n",
    "f(x) &= x^2 -2x \\\\\n",
    "\\frac{df}{dx} &= 2x - 2\n",
    "\\end{aligned}$$\n",
    "\n",
    "and then evaluating it at $x$:\n",
    "\n",
    "$$\\begin{aligned}m &= f'(x=1.5) \\\\&= 2(1.5) - 2 \\\\&= 1\\end{aligned}$$ \n",
    "\n",
    "Linearizing systems of differential equations is similar. We linearize $f(\\mathbf x, \\mathbf u)$, and $h(\\mathbf x)$ by taking the partial derivatives of each to evaluate $\\mathbf F$ and $\\mathbf H$ at the point $\\mathbf x_t$ and $\\mathbf u_t$. We call the partial derivative of a matrix the [*Jacobian*](https://en.wikipedia.org/wiki/Jacobian_matrix_and_determinant). This gives us the the discrete state transition matrix and measurement model matrix:\n",
    "\n",
    "$$\n",
    "\\begin{aligned}\n",
    "\\mathbf F \n",
    "&= {\\frac{\\partial{f(\\mathbf x_t, \\mathbf u_t)}}{\\partial{\\mathbf x}}}\\biggr|_{{\\mathbf x_t},{\\mathbf u_t}} \\\\\n",
    "\\mathbf H &= \\frac{\\partial{h(\\bar{\\mathbf x}_t)}}{\\partial{\\bar{\\mathbf x}}}\\biggr|_{\\bar{\\mathbf x}_t} \n",
    "\\end{aligned}\n",
    "$$\n",
    "\n",
    "This leads to the following equations for the EKF. I put boxes around the differences from the linear filter:\n",
    "\n",
    "$$\\begin{array}{l|l}\n",
    "\\text{linear Kalman filter} & \\text{EKF} \\\\\n",
    "\\hline \n",
    "& \\boxed{\\mathbf F = {\\frac{\\partial{f(\\mathbf x_t, \\mathbf u_t)}}{\\partial{\\mathbf x}}}\\biggr|_{{\\mathbf x_t},{\\mathbf u_t}}} \\\\\n",
    "\\mathbf{\\bar x} = \\mathbf{Fx} + \\mathbf{Bu} & \\boxed{\\mathbf{\\bar x} = f(\\mathbf x, \\mathbf u)}  \\\\\n",
    "\\mathbf{\\bar P} = \\mathbf{FPF}^\\mathsf{T}+\\mathbf Q  & \\mathbf{\\bar P} = \\mathbf{FPF}^\\mathsf{T}+\\mathbf Q \\\\\n",
    "\\hline\n",
    "& \\boxed{\\mathbf H = \\frac{\\partial{h(\\bar{\\mathbf x}_t)}}{\\partial{\\bar{\\mathbf x}}}\\biggr|_{\\bar{\\mathbf x}_t}} \\\\\n",
    "\\textbf{y} = \\mathbf z - \\mathbf{H \\bar{x}} & \\textbf{y} = \\mathbf z - \\boxed{h(\\bar{x})}\\\\\n",
    "\\mathbf{K} = \\mathbf{\\bar{P}H}^\\mathsf{T} (\\mathbf{H\\bar{P}H}^\\mathsf{T} + \\mathbf R)^{-1} & \\mathbf{K} = \\mathbf{\\bar{P}H}^\\mathsf{T} (\\mathbf{H\\bar{P}H}^\\mathsf{T} + \\mathbf R)^{-1} \\\\\n",
    "\\mathbf x=\\mathbf{\\bar{x}} +\\mathbf{K\\textbf{y}} & \\mathbf x=\\mathbf{\\bar{x}} +\\mathbf{K\\textbf{y}} \\\\\n",
    "\\mathbf P= (\\mathbf{I}-\\mathbf{KH})\\mathbf{\\bar{P}} & \\mathbf P= (\\mathbf{I}-\\mathbf{KH})\\mathbf{\\bar{P}}\n",
    "\\end{array}$$\n",
    "\n",
    "We don't normally use $\\mathbf{Fx}$ to propagate the state for the EKF as the linearization causes inaccuracies. It is typical to compute $\\bar{\\mathbf x}$ using a suitable numerical integration technique such as Euler or Runge Kutta. Thus I wrote $\\mathbf{\\bar x} = f(\\mathbf x, \\mathbf u)$. For the same reasons we don't use $\\mathbf{H\\bar{x}}$ in the computation for the residual, opting for the more accurate $h(\\bar{\\mathbf x})$.\n",
    "\n",
    "I think the easiest way to understand the EKF is to start off with an example. Later you may want to come back and reread this section."
   ]
  },
  {
   "cell_type": "code",
   "execution_count": null,
   "id": "89e7181e-39a4-474b-9702-44fa21375bdb",
   "metadata": {},
   "outputs": [],
   "source": []
  }
 ],
 "metadata": {
  "kernelspec": {
   "display_name": "Python 3 (ipykernel)",
   "language": "python",
   "name": "python3"
  },
  "language_info": {
   "codemirror_mode": {
    "name": "ipython",
    "version": 3
   },
   "file_extension": ".py",
   "mimetype": "text/x-python",
   "name": "python",
   "nbconvert_exporter": "python",
   "pygments_lexer": "ipython3",
   "version": "3.12.2"
  }
 },
 "nbformat": 4,
 "nbformat_minor": 5
}
